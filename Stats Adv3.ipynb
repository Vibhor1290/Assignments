{
 "cells": [
  {
   "cell_type": "markdown",
   "id": "71f0bdbc-0136-411e-8fd5-f8fb719cc4d7",
   "metadata": {},
   "source": [
    "# Statistics Advance-3"
   ]
  },
  {
   "cell_type": "markdown",
   "id": "c38697fd-b860-4372-8797-bf7c302e4de5",
   "metadata": {},
   "source": [
    "Q1: What is Estimation Statistics? Explain point estimate and interval estimate."
   ]
  },
  {
   "cell_type": "raw",
   "id": "e71e8bfa-3e99-4f4e-b341-60872428c8e4",
   "metadata": {},
   "source": [
    "Estimation statistics is a technique which involves assumptions and inferences to draw a conlcusion. For drawing conclusion, we take help of some existing data.\n",
    "\n",
    "Point Estimate: This method is used to calculate an unknown population parameter by taking help of sample data.\n",
    "\n",
    "Example: We have a population of 1,00,000 and want to calculate the mean. Instead of taking entire population, we draw a sample data and calculate the mean of that sample. After getting the mean value, we assume that the enitre population will also have the same mean value.\n",
    "\n",
    "Interval Estimate: This method is similar to the point estimate. Only difference is that after we calculate the sample mean, we set a range within which our mean value will lie. This is done because it is not always necessary that sample mean will be equal to the population mean.\n",
    "\n",
    "Hence, if our sample mean lies within the set range, it will be considered OK else not."
   ]
  },
  {
   "cell_type": "markdown",
   "id": "fe2de998-d9b2-4864-830c-77e327213682",
   "metadata": {},
   "source": [
    "Q2. Write a Python function to estimate the population mean using a sample mean and standard\n",
    "deviation."
   ]
  },
  {
   "cell_type": "code",
   "execution_count": 5,
   "id": "3533d5dc-8566-4487-a90d-f857509a48cd",
   "metadata": {},
   "outputs": [],
   "source": [
    "import math"
   ]
  },
  {
   "cell_type": "code",
   "execution_count": 6,
   "id": "eb6245cf-919a-49c8-b9ba-9406b407a4ce",
   "metadata": {},
   "outputs": [],
   "source": [
    "def pop_mean(sample_mean, std_dev, sample_size):\n",
    "    z_score = 1.96\n",
    "    margin_of_error = z_score * (std_dev / math.sqrt(sample_size))\n",
    "    lower_bound = sample_mean - margin_of_error\n",
    "    upper_bound = sample_mean + margin_of_error\n",
    "    return lower_bound, upper_bound"
   ]
  },
  {
   "cell_type": "code",
   "execution_count": 8,
   "id": "bcc5321a-7584-47b5-b623-dfc69a76383a",
   "metadata": {},
   "outputs": [],
   "source": [
    "lower_range,upper_range = pop_mean(50,20,1000)"
   ]
  },
  {
   "cell_type": "code",
   "execution_count": 9,
   "id": "b38df4ae-667b-444f-8a27-a0dcc392f314",
   "metadata": {},
   "outputs": [
    {
     "data": {
      "text/plain": [
       "(48.760387157214, 51.239612842786)"
      ]
     },
     "execution_count": 9,
     "metadata": {},
     "output_type": "execute_result"
    }
   ],
   "source": [
    "lower_range,upper_range"
   ]
  },
  {
   "cell_type": "markdown",
   "id": "85c3095d-a61c-4384-b187-936b90b01e69",
   "metadata": {},
   "source": [
    "Q3: What is Hypothesis testing? Why is it used? State the importance of Hypothesis testing."
   ]
  },
  {
   "cell_type": "raw",
   "id": "32682372-91d1-4a27-adf8-a92eb0031b6f",
   "metadata": {},
   "source": [
    "Hypothesis testing is an inferential statistics technique in which we try to check whether a problem statement is true or false.\n",
    "\n",
    "In this testing, there are 4 steps:\n",
    "\n",
    "1. Create Null Hypothesis\n",
    "\n",
    "2. Create Alternate Hypothesis\n",
    "\n",
    "3. Perform statistical analysis and calculations\n",
    "\n",
    "4. Draw conclusion"
   ]
  },
  {
   "cell_type": "raw",
   "id": "520682be-373f-4f14-a108-9777e36a56e2",
   "metadata": {},
   "source": [
    "It is used becasue it is one of the best way to analyze problem statement. Under this hypothesis, we use various techniques like P-value, Z-score,T-score,etc."
   ]
  },
  {
   "cell_type": "markdown",
   "id": "c58f657c-0a3b-4a78-896f-f1aaea1018cc",
   "metadata": {},
   "source": [
    "Q4. Create a hypothesis that states whether the average weight of male college students is greater than the average weight of female college students."
   ]
  },
  {
   "cell_type": "markdown",
   "id": "cbbfe9d1-2a8f-4d6a-bce0-74fdd1113cbe",
   "metadata": {},
   "source": [
    "Null Hypothesis: Average weight of male college students is greater than average weight of female college students\n",
    "\n",
    "Alternate Hypothesis: Average weight of male college students is not greater than average weight of female college students"
   ]
  },
  {
   "cell_type": "markdown",
   "id": "7e80c840-0dd8-4f36-a8ba-9c5f2f829b4e",
   "metadata": {},
   "source": [
    "Q5. Write a Python script to conduct a hypothesis test on the difference between two population means,\n",
    "given a sample from each population."
   ]
  },
  {
   "cell_type": "code",
   "execution_count": 13,
   "id": "603207f5-3bb4-481d-ad6e-db2ecfda3483",
   "metadata": {},
   "outputs": [],
   "source": [
    "import numpy as np\n",
    "from scipy import stats\n",
    "\n",
    "def difference(sample1, sample2, alpha):\n",
    "    t_statistic, p_value = stats.ttest_ind(sample1, sample2)\n",
    "    print(\"t-statistic:\", t_statistic)\n",
    "    print(\"p-value:\", p_value)\n",
    "    \n",
    "    if p_value < alpha:\n",
    "        print(\"Reject null hypothesis.\")\n",
    "    else:\n",
    "        print(\"Fail to reject null hypothesis.\")"
   ]
  },
  {
   "cell_type": "code",
   "execution_count": 14,
   "id": "ee925081-602a-47d1-acbf-db7d0a1c4989",
   "metadata": {},
   "outputs": [
    {
     "name": "stdout",
     "output_type": "stream",
     "text": [
      "t-statistic: 2.0\n",
      "p-value: 0.08051623795726257\n",
      "Fail to reject null hypothesis.\n"
     ]
    }
   ],
   "source": [
    "sample1 = np.array([65, 70, 75, 80, 85])\n",
    "sample2 = np.array([55, 60, 65, 70, 75])\n",
    "alpha = 0.05\n",
    "\n",
    "difference(sample1, sample2, alpha)"
   ]
  },
  {
   "cell_type": "markdown",
   "id": "2d5dc8d9-a205-4c1b-afdb-44c3e50adc39",
   "metadata": {},
   "source": [
    "Q6: What is a null and alternative hypothesis? Give some examples."
   ]
  },
  {
   "cell_type": "raw",
   "id": "4f64b97f-5660-4a97-8197-bcda2a60ea86",
   "metadata": {},
   "source": [
    "Null hypothesis is the problem statement that we are working on.\n",
    "\n",
    "Alternate hypothesis is the statement which is just opposite of the null hypothesis.\n",
    "\n",
    "Example: A person is booked for a crime. Here,\n",
    "\n",
    "Null Hypothesis: Person is a criminal\n",
    "\n",
    "Alternate Hypothesis: Person is not a criminal."
   ]
  },
  {
   "cell_type": "markdown",
   "id": "40ac2ea8-cf92-489f-a5bf-c232dee83810",
   "metadata": {},
   "source": [
    "Q7: Write down the steps involved in hypothesis testing."
   ]
  },
  {
   "cell_type": "raw",
   "id": "55fa7c61-6e07-4077-82e7-1e5e7989494f",
   "metadata": {},
   "source": [
    "In hypothesis testing, there are 4 steps:\n",
    "\n",
    "1. Create Null Hypothesis (Ho)\n",
    "\n",
    "2. Create Alternate Hypothesis (H1)\n",
    "\n",
    "3. Perform statistical analysis and calculations (Z-score,P-value,T-test,etc.)\n",
    "\n",
    "4. Draw conclusion (finally we conclude whether to accept or reject the null hypothesis)"
   ]
  },
  {
   "cell_type": "markdown",
   "id": "e2d59114-4f7a-4d2e-a34b-f93f51947012",
   "metadata": {},
   "source": [
    "Q8. Define p-value and explain its significance in hypothesis testing."
   ]
  },
  {
   "cell_type": "raw",
   "id": "3267a20d-d3c2-498a-92e2-4d5c090204ab",
   "metadata": {},
   "source": [
    "P-value measures probability of obtaining the observed results(provided null hypothesis is true). Smaller the p-value, more likely we are to reject the null hypothesis.\n",
    "\n",
    "To draw conclusion, we compare the P-value with alpha(Significance Value).\n",
    "\n",
    "If P-value > Alpha: we fail to reject the null hypothesis (or we simply accept null hypo)\n",
    "\n",
    "If P-value <= Alpha: we reject the null hypothesis."
   ]
  },
  {
   "cell_type": "markdown",
   "id": "828dfb7c-4672-498e-b92f-04d5fb53b97c",
   "metadata": {},
   "source": [
    "Q9. Generate a Student's t-distribution plot using Python's matplotlib library, with the degrees of freedom parameter set to 10."
   ]
  },
  {
   "cell_type": "code",
   "execution_count": 20,
   "id": "24c576dd-87fc-4f20-ad95-fad769a3ced1",
   "metadata": {},
   "outputs": [
    {
     "data": {
      "image/png": "[encoded data removed]",
      "text/plain": [
       "<Figure size 800x600 with 1 Axes>"
      ]
     },
     "metadata": {},
     "output_type": "display_data"
    }
   ],
   "source": [
    "import numpy as np\n",
    "import matplotlib.pyplot as plt\n",
    "from scipy.stats import t\n",
    "\n",
    "df = 10\n",
    "\n",
    "x = np.linspace(-4, 4, 1000)\n",
    "\n",
    "pdf = t.pdf(x, df)\n",
    "\n",
    "plt.figure(figsize=(8, 6))\n",
    "plt.plot(x, pdf, label=f\"Student's t-distribution (df={df})\")\n",
    "plt.title(\"Student distribution\")\n",
    "plt.xlabel('x')\n",
    "plt.ylabel('Probability Density')\n",
    "plt.show()"
   ]
  },
  {
   "cell_type": "markdown",
   "id": "c38aa035-9601-4487-8f0d-774e8666a5ba",
   "metadata": {},
   "source": [
    "Q10. Write a Python program to calculate the two-sample t-test for independent samples, given two random samples of equal size and a null hypothesis that the population means are equal."
   ]
  },
  {
   "cell_type": "code",
   "execution_count": 22,
   "id": "27c6c22a-4b62-4c19-8d1e-4e2d25f4c9f3",
   "metadata": {},
   "outputs": [
    {
     "name": "stdout",
     "output_type": "stream",
     "text": [
      "Sample 1 Mean: 0.2697562732068776\n",
      "Sample 2 Mean: 0.7958599205021446\n",
      "T-statistic: -1.677178042256141\n",
      "P-value: 0.10171620623577499\n"
     ]
    }
   ],
   "source": [
    "import numpy as np\n",
    "from scipy.stats import ttest_ind\n",
    "\n",
    "sample = 20\n",
    "sample1 = np.random.normal(loc=0, scale=1, size=sample)\n",
    "sample2 = np.random.normal(loc=0.5, scale=1, size=sample)\n",
    "\n",
    "t_statistic, p_value = ttest_ind(sample1, sample2)\n",
    "\n",
    "print(\"Sample 1 Mean:\", np.mean(sample1))\n",
    "print(\"Sample 2 Mean:\", np.mean(sample2))\n",
    "print(\"T-statistic:\", t_statistic)\n",
    "print(\"P-value:\", p_value)"
   ]
  },
  {
   "cell_type": "markdown",
   "id": "54346078-bc91-4c47-abd3-f9a028914e8d",
   "metadata": {},
   "source": [
    "Q11: What is Student’s t distribution? When to use the t-Distribution."
   ]
  },
  {
   "cell_type": "raw",
   "id": "e31daa04-df56-4f52-95ef-0f45b36ca8a2",
   "metadata": {},
   "source": [
    "It is a probability distribution similar to normal (Gaussian) distribution but has heavier tails. It is used to estimate mean of a normally distributed population whenever the sample size is typically less than 30 or when the population standard deviation is unknown.\n",
    "\n",
    "The T-distribution shape is determined by degree of freedom. With increase in dof, the t-distribution approaches the shape of standard normal distribution."
   ]
  },
  {
   "cell_type": "markdown",
   "id": "18224412-7f90-43cf-b9fa-7dd17c5d87b3",
   "metadata": {},
   "source": [
    "Q12: What is t-statistic? State the formula for t-statistic."
   ]
  },
  {
   "cell_type": "raw",
   "id": "525fe994-e342-4a30-91f3-87acdc3903e3",
   "metadata": {},
   "source": [
    "T-Test is a method used to determine whether there is a significant difference between the mean of two groups and how they are related with each other.\n",
    "\n",
    "Formula:\n",
    "    \n",
    "    t = (x̄ – μ) / (σ / √n)\n",
    "    \n",
    "    where:\n",
    "        \n",
    "        x̄ = sample mean\n",
    "        μ = population mean\n",
    "        σ = sample std deviation\n",
    "        √n = sample size"
   ]
  },
  {
   "cell_type": "markdown",
   "id": "97f0054c-1ff8-4835-b64a-41d1a7b3b5e4",
   "metadata": {},
   "source": [
    "Q13. A coffee shop owner wants to estimate the average daily revenue for their shop. They take a random sample of 50 days and find the sample mean revenue to be 500 with a standard deviation of 50. Estimate the population mean revenue with a 95% confidence interval."
   ]
  },
  {
   "cell_type": "code",
   "execution_count": 3,
   "id": "fb784936-d3ec-4e94-9113-b8d8d4643b22",
   "metadata": {},
   "outputs": [],
   "source": [
    "import numpy as np"
   ]
  },
  {
   "cell_type": "code",
   "execution_count": 11,
   "id": "294b67af-0802-42f6-9d54-998a4b77e320",
   "metadata": {},
   "outputs": [
    {
     "name": "stdout",
     "output_type": "stream",
     "text": [
      "13.85929291125633\n",
      "486.1407070887437\n",
      "513.8592929112564\n"
     ]
    }
   ],
   "source": [
    "sample_size = 50\n",
    "sample_mean = 500\n",
    "sample_std_dev = 50\n",
    "CI = 0.95\n",
    "alpha = 0.05\n",
    "\n",
    "#First, we have to find Z-value for 95% confidence level which comes out to be 1.96.\n",
    "\n",
    "#Now we calculate the margin of error (ME):\n",
    "\n",
    "Z = 1.96 \n",
    "ME = Z*(sample_std_dev/np.sqrt(sample_size))\n",
    "ME\n",
    "\n",
    "# Now, confidence interval:\n",
    "lower_range,upper_range =  500 - ME, 500 + ME\n",
    "print(ME)\n",
    "print(lower_range)\n",
    "print(upper_range)"
   ]
  },
  {
   "cell_type": "markdown",
   "id": "ced13413-a2e5-44ed-a3ba-5161b43c1735",
   "metadata": {},
   "source": [
    "Q14. A researcher hypothesizes that a new drug will decrease blood pressure by 10 mmHg. They conduct a clinical trial with 100 patients and find that the sample mean decrease in blood pressure is 8 mmHg with a standard deviation of 3 mmHg. Test the hypothesis with a significance level of 0.05"
   ]
  },
  {
   "cell_type": "code",
   "execution_count": 16,
   "id": "2fbbaebb-3a60-4d9c-8cf7-0ac803719474",
   "metadata": {},
   "outputs": [
    {
     "name": "stdout",
     "output_type": "stream",
     "text": [
      "6.666666666666667\n",
      "1.984\n"
     ]
    }
   ],
   "source": [
    "# Null Hypothesis(Ho) = New drug will decrease blood pressure by 10 mmHg\n",
    "\n",
    "# Alternate Hypothesis(H1) = New drug will not decrease blood pressure by 10 mmHg\n",
    "\n",
    "sample_size = 100\n",
    "sample_mean = 8\n",
    "hypo_mean = 10\n",
    "sample_std_dev = 3\n",
    "alpha = 0.05\n",
    "CI = 0.95\n",
    "dof = 99\n",
    "\n",
    "t = -(sample_mean - hypo_mean)/(sample_std_dev/np.sqrt(sample_size))\n",
    "\n",
    "# Using t-table, we will find critical t-value for a two-tailed test at a significance level of 0.05 with 99 degrees of freedom which come out to be:\n",
    "\n",
    "t_value = 1.984\n",
    "\n",
    "print(t)\n",
    "print(t_value)"
   ]
  },
  {
   "cell_type": "code",
   "execution_count": 17,
   "id": "9f55c3f1-a2d1-4084-8f1a-0803bf1c27a3",
   "metadata": {},
   "outputs": [
    {
     "name": "stdout",
     "output_type": "stream",
     "text": [
      "reject null hypo\n"
     ]
    }
   ],
   "source": [
    "if t > t_value:\n",
    "    print('reject null hypo')\n",
    "else:\n",
    "    print('failed to reject null hypo')"
   ]
  },
  {
   "cell_type": "markdown",
   "id": "66d6c2d4-4776-42a9-9e32-c4c42e0e3e64",
   "metadata": {},
   "source": [
    "Q15. An electronics company produces a certain type of product with a mean weight of 5 pounds and a standard deviation of 0.5 pounds. A random sample of 25 products is taken, and the sample mean weight is found to be 4.8 pounds. Test the hypothesis that the true mean weight of the products is less than 5 pounds with a significance level of 0.01."
   ]
  },
  {
   "cell_type": "code",
   "execution_count": 22,
   "id": "f29a64b0-d00c-4d5c-b7a3-bc21bb18166a",
   "metadata": {},
   "outputs": [],
   "source": [
    "pop_mean = 5\n",
    "pop_std = 0.5\n",
    "N = 25\n",
    "sample_mean = 4.8\n",
    "hypo_mean = 5\n",
    "alpha = 0.01\n",
    "dof = 24\n",
    "\n",
    "# Null hypo: True mean weight of the products is less than 5 pounds\n",
    "\n",
    "# Alternate Hypo: True mean weight of the products is not less than 5 pounds\n",
    "\n",
    "t = (sample_mean - hypo_mean)/(pop_std/np.sqrt(N))\n",
    "\n",
    "# Using t-table, we find critical t-value for a one-tailed test at a significance level of 0.01 with 24 degrees of freedom which comes out to be:\n",
    "\n",
    "t_value = -2.492"
   ]
  },
  {
   "cell_type": "code",
   "execution_count": 23,
   "id": "35c66393-3994-49be-8188-8ccd9bbd2bdc",
   "metadata": {},
   "outputs": [
    {
     "name": "stdout",
     "output_type": "stream",
     "text": [
      "Fail to reject null hypo\n"
     ]
    }
   ],
   "source": [
    "if t > t_value:\n",
    "    print('Fail to reject null hypo')\n",
    "else:\n",
    "    print('reject the null hypo')"
   ]
  },
  {
   "cell_type": "markdown",
   "id": "017d6149-1a81-47dc-b10c-d6d6740cfdff",
   "metadata": {},
   "source": [
    "Q16. Two groups of students are given different study materials to prepare for a test. The first group (n1=30) has a mean score of 80 with a standard deviation of 10, and the second group (n2 = 40) has a mean score of 75 with a standard deviation of 8. Test the hypothesis that the population means for the two groups are equal with a significance level of 0.01."
   ]
  },
  {
   "cell_type": "code",
   "execution_count": 24,
   "id": "7ff92a73-43f8-4dd7-92f3-7a5aae4a4c30",
   "metadata": {},
   "outputs": [],
   "source": [
    "sample_mean = 80\n",
    "N1 = 30\n",
    "std_dev = 10\n",
    "\n",
    "N2 = 40\n",
    "sample_mean1 = 75\n",
    "std_dev1 = 8"
   ]
  },
  {
   "cell_type": "code",
   "execution_count": 27,
   "id": "8651951a-978d-4c02-a51b-74d351142e9e",
   "metadata": {},
   "outputs": [
    {
     "name": "stdout",
     "output_type": "stream",
     "text": [
      "2.2511258444537408\n",
      "2.67\n"
     ]
    }
   ],
   "source": [
    "# Null Hypo: The population means for the two groups are equal\n",
    "\n",
    "# Alternate Hypo: The population means for the two groups are not equal\n",
    "\n",
    "t = (sample_mean - sample_mean1)/(np.sqrt(std_dev**2/N1 + std_dev1**2/N2))\n",
    "\n",
    "dof = 54.2 # approx\n",
    "\n",
    "# Using t-table, we find critical t-value for two-tailed test at a significance level of 0.01 with 54 degrees of freedom which comes out to be:\n",
    "\n",
    "t_val = 2.67\n",
    "\n",
    "print(t)\n",
    "print(t_val)"
   ]
  },
  {
   "cell_type": "code",
   "execution_count": 28,
   "id": "7a128206-f57e-412f-b126-73de76f78b34",
   "metadata": {},
   "outputs": [
    {
     "name": "stdout",
     "output_type": "stream",
     "text": [
      "Fail to reject the null hypo\n"
     ]
    }
   ],
   "source": [
    "if t < t_val:\n",
    "    print('Fail to reject the null hypo')\n",
    "else:\n",
    "    print('reject the null hypo')"
   ]
  },
  {
   "cell_type": "markdown",
   "id": "2312f646-da2c-4ab9-bf4b-664cb8c4eded",
   "metadata": {},
   "source": [
    "Q17. A marketing company wants to estimate the average number of ads watched by viewers during a TV program. They take a random sample of 50 viewers and find that the sample mean is 4 with a standard deviation of 1.5. Estimate the population mean with a 99% confidence interval."
   ]
  },
  {
   "cell_type": "code",
   "execution_count": 34,
   "id": "d4e421b6-f978-4ac5-9465-ad0a4a039aea",
   "metadata": {},
   "outputs": [
    {
     "name": "stdout",
     "output_type": "stream",
     "text": [
      "0.5464521205009639\n",
      "3.453547879499036 4.546452120500964\n"
     ]
    }
   ],
   "source": [
    "sample_size = 50\n",
    "sample_mean = 4\n",
    "sample_std_dev = 1.5\n",
    "CI = 0.99\n",
    "\n",
    "#First, we have to find Z-value for 99% confidence level which comes out to be 2.576\n",
    "\n",
    "#Now we calculate the margin of error (ME):\n",
    "\n",
    "Z = 2.576\n",
    "ME = Z*(sample_std_dev/np.sqrt(sample_size))\n",
    "ME\n",
    "\n",
    "# Now, confidence interval:\n",
    "lower_range,upper_range =  4 - ME, 4 + ME\n",
    "print(ME)\n",
    "print(lower_range,upper_range)"
   ]
  },
  {
   "cell_type": "code",
   "execution_count": null,
   "id": "57db10a6-7f22-47d1-8b04-2c1421e7433e",
   "metadata": {},
   "outputs": [],
   "source": []
  }
 ],
 "metadata": {
  "kernelspec": {
   "display_name": "Python 3 (ipykernel)",
   "language": "python",
   "name": "python3"
  },
  "language_info": {
   "codemirror_mode": {
    "name": "ipython",
    "version": 3
   },
   "file_extension": ".py",
   "mimetype": "text/x-python",
   "name": "python",
   "nbconvert_exporter": "python",
   "pygments_lexer": "ipython3",
   "version": "3.10.8"
  }
 },
 "nbformat": 4,
 "nbformat_minor": 5
}
