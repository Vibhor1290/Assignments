{
  "nbformat": 4,
  "nbformat_minor": 0,
  "metadata": {
    "colab": {
      "provenance": [],
      "gpuType": "T4",
      "authorship_tag": "ABX9TyPUTzwpl+3eKHD0Wg1N1wV0",
      "include_colab_link": true
    },
    "kernelspec": {
      "name": "python3",
      "display_name": "Python 3"
    },
    "language_info": {
      "name": "python"
    },
    "accelerator": "GPU"
  },
  "cells": [
    {
      "cell_type": "markdown",
      "metadata": {
        "id": "view-in-github",
        "colab_type": "text"
      },
      "source": [
        "<a href=\"https://colab.research.google.com/github/Vibhor1290/Assignments/blob/main/Python_Assignment.ipynb\" target=\"_parent\"><img src=\"https://colab.research.google.com/assets/colab-badge.svg\" alt=\"Open In Colab\"/></a>"
      ]
    },
    {
      "cell_type": "markdown",
      "source": [
        "Write a program to accept the percentage from user and display the grades according to following criteria:\n",
        "\n",
        "Marks > 90, grade A\n",
        "\n",
        "Marks > 80 and Marks <= 90, grade B\n",
        "\n",
        "Marks >=60 and Marks <=80, grade C\n",
        "\n",
        "Marks < 60, grade D"
      ],
      "metadata": {
        "id": "HMhSH5C7dJuI"
      }
    },
    {
      "cell_type": "code",
      "execution_count": 1,
      "metadata": {
        "colab": {
          "base_uri": "https://localhost:8080/"
        },
        "id": "Q3AO_5LQdB1f",
        "outputId": "9d499df5-5dba-48af-a594-f7de29c31700"
      },
      "outputs": [
        {
          "output_type": "stream",
          "name": "stdout",
          "text": [
            "Enter the percentage: 78\n",
            "grade is C\n"
          ]
        }
      ],
      "source": [
        "def result(x):\n",
        "    if x > 90:\n",
        "        return 'A'\n",
        "    elif x > 80 and x <= 90:\n",
        "        return 'B'\n",
        "    elif x >= 60 and x <= 80:\n",
        "        return 'C'\n",
        "    else:\n",
        "        return 'D'\n",
        "\n",
        "try:\n",
        "    x= float(input(\"Enter the percentage: \"))\n",
        "    if x< 0 or x > 100:\n",
        "        print(\"enter a valid percentage between 0 and 100.\")\n",
        "    else:\n",
        "        grade = result(x)\n",
        "        print(f\"grade is {grade}\")\n",
        "except ValueError:\n",
        "    print(\"Invalid input. Please enter a numeric value for percentage.\")"
      ]
    },
    {
      "cell_type": "markdown",
      "source": [
        "Write a program to accept the cost price of bike and dispaly the tax according to following creteria:\n",
        "\n",
        "Price > 100000, tax is 15%\n",
        "\n",
        "Price > 50000 and Price is <= 100000, tax is 10%\n",
        "\n",
        "Price is <= 50000, tax is 5%"
      ],
      "metadata": {
        "id": "nQtDLko5dUwb"
      }
    },
    {
      "cell_type": "code",
      "source": [
        "def taxation(price):\n",
        "    if price > 100000:\n",
        "        return 0.15*price\n",
        "    elif x > 50000 and x <= 100000:\n",
        "        return 0.10*price\n",
        "    else:\n",
        "        return 0.05*price\n",
        "\n",
        "try:\n",
        "    price = float(input(\"Enter the price: \"))\n",
        "    if price < 0:\n",
        "        print(\"enter a valid price\")\n",
        "    else:\n",
        "        tax_cost = taxation(price)\n",
        "        print(f\"tax is {tax_cost}\")\n",
        "except ValueError:\n",
        "    print(\"Invalid input. Please enter a numeric value.\")"
      ],
      "metadata": {
        "colab": {
          "base_uri": "https://localhost:8080/"
        },
        "id": "2wxrbXi_dQ5i",
        "outputId": "524290eb-c877-46e7-e1e9-2e4e15b3f983"
      },
      "execution_count": 2,
      "outputs": [
        {
          "output_type": "stream",
          "name": "stdout",
          "text": [
            "Enter the price: 76000\n",
            "tax is 3800.0\n"
          ]
        }
      ]
    },
    {
      "cell_type": "markdown",
      "source": [
        "Accept any three cities from the user and display the monument of that city.\n",
        "\n",
        "Delhi, Red Fort\n",
        "\n",
        "Agra, Taj Mahal\n",
        "\n",
        "Jaipur, Jal Mahal"
      ],
      "metadata": {
        "id": "aRkthCUWda5S"
      }
    },
    {
      "cell_type": "code",
      "source": [
        "def monument(city):\n",
        "    monuments = {\n",
        "        'delhi': 'Red Fort',\n",
        "        'agra': 'Taj Mahal',\n",
        "        'jaipur': 'Jal Mahal'\n",
        "    }\n",
        "\n",
        "    # Convert city input to lowercase for case-insensitive comparison\n",
        "    city_lower = city.lower()\n",
        "\n",
        "    if city_lower in monuments:\n",
        "        return monuments[city_lower]\n",
        "    else:\n",
        "        return \"Monument not found for this city.\"\n",
        "\n",
        "try:\n",
        "    city1 = input(\"Enter the first city: \")\n",
        "    city2 = input(\"Enter the second city: \")\n",
        "    city3 = input(\"Enter the third city: \")\n",
        "\n",
        "    monument1 = monument(city1)\n",
        "    monument2 = monument(city2)\n",
        "    monument3 = monument(city3)\n",
        "\n",
        "    print(f\"Monument in {city1}: {monument1}\")\n",
        "    print(f\"Monument in {city2}: {monument2}\")\n",
        "    print(f\"Monument in {city3}: {monument3}\")\n",
        "\n",
        "except Exception as e:\n",
        "    print(f\"Error: {e}\")"
      ],
      "metadata": {
        "colab": {
          "base_uri": "https://localhost:8080/"
        },
        "id": "j9lp-uJbdXRo",
        "outputId": "5e7bf7f4-433e-44a4-a51a-bf71be9feaeb"
      },
      "execution_count": 3,
      "outputs": [
        {
          "output_type": "stream",
          "name": "stdout",
          "text": [
            "Enter the first city: Agra\n",
            "Enter the second city: Delhi\n",
            "Enter the third city: jaipur\n",
            "Monument in Agra: Taj Mahal\n",
            "Monument in Delhi: Red Fort\n",
            "Monument in jaipur: Jal Mahal\n"
          ]
        }
      ]
    },
    {
      "cell_type": "markdown",
      "source": [
        "Check how many times a given number can be divided by 3 before it is less than or equal to 10."
      ],
      "metadata": {
        "id": "cqLBRFPKdjfY"
      }
    },
    {
      "cell_type": "code",
      "source": [
        "def division_by_3(number):\n",
        "    count = 0\n",
        "    while number > 10:\n",
        "        number /= 3\n",
        "        count += 1\n",
        "    return count\n",
        "\n",
        "try:\n",
        "    number = float(input(\"Enter a number: \"))\n",
        "    if number <= 0:\n",
        "        print(\"Please enter a positive number greater than zero.\")\n",
        "    else:\n",
        "        divisions = division_by_3(number)\n",
        "        print(f\"The number {number} can be divided by 3 {divisions} times before it is less than or equal to 10.\")\n",
        "except ValueError:\n",
        "    print(\"Invalid input. Please enter a numeric value.\")"
      ],
      "metadata": {
        "colab": {
          "base_uri": "https://localhost:8080/"
        },
        "id": "HriwTgGpdd17",
        "outputId": "a2a594f5-29e0-4720-94b4-9389105cd5bf"
      },
      "execution_count": 4,
      "outputs": [
        {
          "output_type": "stream",
          "name": "stdout",
          "text": [
            "Enter a number: 73\n",
            "The number 73.0 can be divided by 3 2 times before it is less than or equal to 10.\n"
          ]
        }
      ]
    },
    {
      "cell_type": "markdown",
      "source": [
        "Why and when to use while loop in python. Give a detailed example."
      ],
      "metadata": {
        "id": "MB-FYaUffBMB"
      }
    },
    {
      "cell_type": "markdown",
      "source": [
        "The while loop in Python is used when you want to execute a block of code repeatedly as long as a condition is true. It is particularly useful in situations where we may not know how many times the loop needs to iterate, unlike the for loop which is typically used for iterating over a sequence or a known range of values."
      ],
      "metadata": {
        "id": "hsKL00DSeNM-"
      }
    },
    {
      "cell_type": "markdown",
      "source": [
        "1. We use while loop when we want to repeat a block of code until a specific condition becomes false.\n",
        "2. When number of iterations is not predetermined or may vary based on user input or runtime conditions.\n",
        "3. When we have to iterate over data that can change dynamically during the loop execution."
      ],
      "metadata": {
        "id": "Mg9hj7d-edAP"
      }
    },
    {
      "cell_type": "code",
      "source": [
        "# Simple while loop example counting from 1 to 5\n",
        "\n",
        "num = 1\n",
        "while num <= 20:\n",
        "    print(num)\n",
        "    num += 1"
      ],
      "metadata": {
        "colab": {
          "base_uri": "https://localhost:8080/"
        },
        "id": "PWHQKqH6dx4m",
        "outputId": "38b985af-dc8a-4554-be37-17183b5d9baf"
      },
      "execution_count": 6,
      "outputs": [
        {
          "output_type": "stream",
          "name": "stdout",
          "text": [
            "1\n",
            "2\n",
            "3\n",
            "4\n",
            "5\n",
            "6\n",
            "7\n",
            "8\n",
            "9\n",
            "10\n",
            "11\n",
            "12\n",
            "13\n",
            "14\n",
            "15\n",
            "16\n",
            "17\n",
            "18\n",
            "19\n",
            "20\n"
          ]
        }
      ]
    },
    {
      "cell_type": "markdown",
      "source": [
        "Use nested while loop to print 3 different patterns."
      ],
      "metadata": {
        "id": "NNex-Wi0fFun"
      }
    },
    {
      "cell_type": "code",
      "source": [
        "# Square Pattern\n",
        "rows = 6\n",
        "i = 0\n",
        "while i < rows:\n",
        "    j = 0\n",
        "    while j < rows:\n",
        "        print(\"*\", end=\" \")\n",
        "        j += 1\n",
        "    print()\n",
        "    i += 1"
      ],
      "metadata": {
        "colab": {
          "base_uri": "https://localhost:8080/"
        },
        "id": "xf9UXrxDe881",
        "outputId": "127fdf05-a600-4ba5-ee55-fb1ef5c28ed0"
      },
      "execution_count": 7,
      "outputs": [
        {
          "output_type": "stream",
          "name": "stdout",
          "text": [
            "* * * * * * \n",
            "* * * * * * \n",
            "* * * * * * \n",
            "* * * * * * \n",
            "* * * * * * \n",
            "* * * * * * \n"
          ]
        }
      ]
    },
    {
      "cell_type": "code",
      "source": [
        "# Right Triangle Pattern\n",
        "rows = 7\n",
        "i = 0\n",
        "while i < rows:\n",
        "    j = 0\n",
        "    while j <= i:\n",
        "        print(\"*\", end=\" \")\n",
        "        j += 1\n",
        "    print()\n",
        "    i += 1"
      ],
      "metadata": {
        "colab": {
          "base_uri": "https://localhost:8080/"
        },
        "id": "EizPo7gyfogw",
        "outputId": "49f4763c-4549-4226-9748-e0a5b637921d"
      },
      "execution_count": 8,
      "outputs": [
        {
          "output_type": "stream",
          "name": "stdout",
          "text": [
            "* \n",
            "* * \n",
            "* * * \n",
            "* * * * \n",
            "* * * * * \n",
            "* * * * * * \n",
            "* * * * * * * \n"
          ]
        }
      ]
    },
    {
      "cell_type": "code",
      "source": [
        "# Pattern 3: Hollow Square Pattern\n",
        "rows = 8\n",
        "i = 0\n",
        "while i < rows:\n",
        "    j = 0\n",
        "    while j < rows:\n",
        "        if i == 0 or i == rows - 1 or j == 0 or j == rows - 1:\n",
        "            print(\"*\", end=\" \")\n",
        "        else:\n",
        "            print(\" \", end=\" \")\n",
        "        j += 1\n",
        "    print()\n",
        "    i += 1"
      ],
      "metadata": {
        "colab": {
          "base_uri": "https://localhost:8080/"
        },
        "id": "CfToQ3hzfx7h",
        "outputId": "3f609603-cbd6-4a4c-efe6-ff4a7ff712a5"
      },
      "execution_count": 9,
      "outputs": [
        {
          "output_type": "stream",
          "name": "stdout",
          "text": [
            "* * * * * * * * \n",
            "*             * \n",
            "*             * \n",
            "*             * \n",
            "*             * \n",
            "*             * \n",
            "*             * \n",
            "* * * * * * * * \n"
          ]
        }
      ]
    },
    {
      "cell_type": "markdown",
      "source": [
        "Reverse a while loop to print the numbers from 10 to 1"
      ],
      "metadata": {
        "id": "qvtMF1MAgF9v"
      }
    },
    {
      "cell_type": "code",
      "source": [
        "numbers = 10\n",
        "while numbers >= 1:\n",
        "    print(numbers)\n",
        "    numbers -= 1\n"
      ],
      "metadata": {
        "colab": {
          "base_uri": "https://localhost:8080/"
        },
        "id": "h_rF-69Of1k_",
        "outputId": "f6d8d10e-bc47-4fe6-f9e1-77e8911132b0"
      },
      "execution_count": 10,
      "outputs": [
        {
          "output_type": "stream",
          "name": "stdout",
          "text": [
            "10\n",
            "9\n",
            "8\n",
            "7\n",
            "6\n",
            "5\n",
            "4\n",
            "3\n",
            "2\n",
            "1\n"
          ]
        }
      ]
    },
    {
      "cell_type": "code",
      "source": [],
      "metadata": {
        "id": "XvN7jvd3gT6y"
      },
      "execution_count": null,
      "outputs": []
    }
  ]
}