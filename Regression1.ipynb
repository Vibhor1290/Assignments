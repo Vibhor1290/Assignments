{
 "cells": [
  {
   "cell_type": "markdown",
   "id": "6ac9a2bc-dc99-462d-b9cd-d49a21029877",
   "metadata": {},
   "source": [
    "Q1. Explain the difference between simple linear regression and multiple linear regression. Provide an example of each."
   ]
  },
  {
   "cell_type": "raw",
   "id": "39b245f5-dd3e-4624-8e27-c8653e955386",
   "metadata": {},
   "source": [
    "Simple linear regression is used to build the relationship between a single independent variable and a dependent variable. The model assumes a linear relationship between the two variables.\n",
    "\n",
    "Example: Calculating the BMI of a person based on his age.\n",
    "\n",
    "Multiple linear regressino builds the relationship between two or more independent variables and a dependent variable.\n",
    "\n",
    "Example: Predicting the price of a house based on number of rooms and area."
   ]
  },
  {
   "cell_type": "markdown",
   "id": "351e3c46-ef5a-4e86-889e-68c3bd37900f",
   "metadata": {},
   "source": [
    "Q2. Discuss the assumptions of linear regression. How can you check whether these assumptions hold in a given dataset?"
   ]
  },
  {
   "cell_type": "raw",
   "id": "86146d18-041a-4753-8505-422099c5ef09",
   "metadata": {},
   "source": [
    "1. The relationship between input and output feature is linear.\n",
    "\n",
    "2. The observations are independent of each other.\n",
    "\n",
    "3. Independent variables are not be highly correlated with each other."
   ]
  },
  {
   "cell_type": "raw",
   "id": "b8a62ed4-6f70-4b49-9bbb-2cfd95f7545b",
   "metadata": {},
   "source": [
    "To check these assumptions:\n",
    "    \n",
    "We can use visualization (for checking linearity),\n",
    "\n",
    "We can use heatmap (for checking correlation)"
   ]
  },
  {
   "cell_type": "markdown",
   "id": "01906635-809b-45c2-9ffd-730ccb6230ba",
   "metadata": {},
   "source": [
    "Q3. How do you interpret the slope and intercept in a linear regression model? Provide an example using a real-world scenario."
   ]
  },
  {
   "cell_type": "code",
   "execution_count": 2,
   "id": "041ccd48-05a2-4b39-8771-4b7ac95674e4",
   "metadata": {},
   "outputs": [],
   "source": [
    "import pandas as pd\n",
    "import numpy as np"
   ]
  },
  {
   "cell_type": "code",
   "execution_count": 7,
   "id": "3bcb50f5-f021-4a4a-975f-3d4edde6151d",
   "metadata": {},
   "outputs": [],
   "source": [
    "Marks = pd.DataFrame({\n",
    "    'Sub1':[23,15,34,22,52,35,21,67,25,76],\n",
    "    'Sub2':[44,76,24,87,32,76,35,21,48,36],\n",
    "    'Result':[1,0,1,1,0,1,1,1,0,1]\n",
    "})"
   ]
  },
  {
   "cell_type": "code",
   "execution_count": 8,
   "id": "23ed1003-e4a2-4bf7-a296-a2b2d4502e9c",
   "metadata": {},
   "outputs": [
    {
     "data": {
      "text/html": [
       "<div>\n",
       "<style scoped>\n",
       "    .dataframe tbody tr th:only-of-type {\n",
       "        vertical-align: middle;\n",
       "    }\n",
       "\n",
       "    .dataframe tbody tr th {\n",
       "        vertical-align: top;\n",
       "    }\n",
       "\n",
       "    .dataframe thead th {\n",
       "        text-align: right;\n",
       "    }\n",
       "</style>\n",
       "<table border=\"1\" class=\"dataframe\">\n",
       "  <thead>\n",
       "    <tr style=\"text-align: right;\">\n",
       "      <th></th>\n",
       "      <th>Sub1</th>\n",
       "      <th>Sub2</th>\n",
       "      <th>Result</th>\n",
       "    </tr>\n",
       "  </thead>\n",
       "  <tbody>\n",
       "    <tr>\n",
       "      <th>0</th>\n",
       "      <td>23</td>\n",
       "      <td>44</td>\n",
       "      <td>1</td>\n",
       "    </tr>\n",
       "    <tr>\n",
       "      <th>1</th>\n",
       "      <td>15</td>\n",
       "      <td>76</td>\n",
       "      <td>0</td>\n",
       "    </tr>\n",
       "    <tr>\n",
       "      <th>2</th>\n",
       "      <td>34</td>\n",
       "      <td>24</td>\n",
       "      <td>1</td>\n",
       "    </tr>\n",
       "    <tr>\n",
       "      <th>3</th>\n",
       "      <td>22</td>\n",
       "      <td>87</td>\n",
       "      <td>1</td>\n",
       "    </tr>\n",
       "    <tr>\n",
       "      <th>4</th>\n",
       "      <td>52</td>\n",
       "      <td>32</td>\n",
       "      <td>0</td>\n",
       "    </tr>\n",
       "    <tr>\n",
       "      <th>5</th>\n",
       "      <td>35</td>\n",
       "      <td>76</td>\n",
       "      <td>1</td>\n",
       "    </tr>\n",
       "    <tr>\n",
       "      <th>6</th>\n",
       "      <td>21</td>\n",
       "      <td>35</td>\n",
       "      <td>1</td>\n",
       "    </tr>\n",
       "    <tr>\n",
       "      <th>7</th>\n",
       "      <td>67</td>\n",
       "      <td>21</td>\n",
       "      <td>1</td>\n",
       "    </tr>\n",
       "    <tr>\n",
       "      <th>8</th>\n",
       "      <td>25</td>\n",
       "      <td>48</td>\n",
       "      <td>0</td>\n",
       "    </tr>\n",
       "    <tr>\n",
       "      <th>9</th>\n",
       "      <td>76</td>\n",
       "      <td>36</td>\n",
       "      <td>1</td>\n",
       "    </tr>\n",
       "  </tbody>\n",
       "</table>\n",
       "</div>"
      ],
      "text/plain": [
       "   Sub1  Sub2  Result\n",
       "0    23    44       1\n",
       "1    15    76       0\n",
       "2    34    24       1\n",
       "3    22    87       1\n",
       "4    52    32       0\n",
       "5    35    76       1\n",
       "6    21    35       1\n",
       "7    67    21       1\n",
       "8    25    48       0\n",
       "9    76    36       1"
      ]
     },
     "execution_count": 8,
     "metadata": {},
     "output_type": "execute_result"
    }
   ],
   "source": [
    "Marks"
   ]
  },
  {
   "cell_type": "code",
   "execution_count": 11,
   "id": "d1126503-fa6a-4f89-91d4-19eaf84608ba",
   "metadata": {},
   "outputs": [],
   "source": [
    "X = Marks.iloc[:,:-1] # independent features"
   ]
  },
  {
   "cell_type": "code",
   "execution_count": 18,
   "id": "07a3a1a6-bc1f-4b5b-8d19-bc7b49e2fd94",
   "metadata": {},
   "outputs": [],
   "source": [
    "Y = Marks['Result'] # dependent feature"
   ]
  },
  {
   "cell_type": "code",
   "execution_count": 19,
   "id": "594dafb3-52fe-4ca9-9bbb-572cafb6f1e1",
   "metadata": {},
   "outputs": [],
   "source": [
    "from sklearn.model_selection import train_test_split"
   ]
  },
  {
   "cell_type": "code",
   "execution_count": 20,
   "id": "eab9af6e-2bff-40cd-b84a-6afdd114363a",
   "metadata": {},
   "outputs": [],
   "source": [
    "x_train,x_test,y_train,y_test = train_test_split(X,Y,test_size=0.6,random_state=42)"
   ]
  },
  {
   "cell_type": "code",
   "execution_count": 21,
   "id": "ce11ea17-18cf-4af5-937e-026c189e3c18",
   "metadata": {},
   "outputs": [],
   "source": [
    "from sklearn.linear_model import LinearRegression"
   ]
  },
  {
   "cell_type": "code",
   "execution_count": 22,
   "id": "93d40408-4257-4d35-a343-ccf04dee1f98",
   "metadata": {},
   "outputs": [],
   "source": [
    "LR = LinearRegression()"
   ]
  },
  {
   "cell_type": "code",
   "execution_count": 23,
   "id": "4c527415-9d5f-4d66-819e-2c2ecebbe753",
   "metadata": {},
   "outputs": [
    {
     "data": {
      "text/html": [
       "<style>#sk-container-id-1 {color: black;background-color: white;}#sk-container-id-1 pre{padding: 0;}#sk-container-id-1 div.sk-toggleable {background-color: white;}#sk-container-id-1 label.sk-toggleable__label {cursor: pointer;display: block;width: 100%;margin-bottom: 0;padding: 0.3em;box-sizing: border-box;text-align: center;}#sk-container-id-1 label.sk-toggleable__label-arrow:before {content: \"▸\";float: left;margin-right: 0.25em;color: #696969;}#sk-container-id-1 label.sk-toggleable__label-arrow:hover:before {color: black;}#sk-container-id-1 div.sk-estimator:hover label.sk-toggleable__label-arrow:before {color: black;}#sk-container-id-1 div.sk-toggleable__content {max-height: 0;max-width: 0;overflow: hidden;text-align: left;background-color: #f0f8ff;}#sk-container-id-1 div.sk-toggleable__content pre {margin: 0.2em;color: black;border-radius: 0.25em;background-color: #f0f8ff;}#sk-container-id-1 input.sk-toggleable__control:checked~div.sk-toggleable__content {max-height: 200px;max-width: 100%;overflow: auto;}#sk-container-id-1 input.sk-toggleable__control:checked~label.sk-toggleable__label-arrow:before {content: \"▾\";}#sk-container-id-1 div.sk-estimator input.sk-toggleable__control:checked~label.sk-toggleable__label {background-color: #d4ebff;}#sk-container-id-1 div.sk-label input.sk-toggleable__control:checked~label.sk-toggleable__label {background-color: #d4ebff;}#sk-container-id-1 input.sk-hidden--visually {border: 0;clip: rect(1px 1px 1px 1px);clip: rect(1px, 1px, 1px, 1px);height: 1px;margin: -1px;overflow: hidden;padding: 0;position: absolute;width: 1px;}#sk-container-id-1 div.sk-estimator {font-family: monospace;background-color: #f0f8ff;border: 1px dotted black;border-radius: 0.25em;box-sizing: border-box;margin-bottom: 0.5em;}#sk-container-id-1 div.sk-estimator:hover {background-color: #d4ebff;}#sk-container-id-1 div.sk-parallel-item::after {content: \"\";width: 100%;border-bottom: 1px solid gray;flex-grow: 1;}#sk-container-id-1 div.sk-label:hover label.sk-toggleable__label {background-color: #d4ebff;}#sk-container-id-1 div.sk-serial::before {content: \"\";position: absolute;border-left: 1px solid gray;box-sizing: border-box;top: 0;bottom: 0;left: 50%;z-index: 0;}#sk-container-id-1 div.sk-serial {display: flex;flex-direction: column;align-items: center;background-color: white;padding-right: 0.2em;padding-left: 0.2em;position: relative;}#sk-container-id-1 div.sk-item {position: relative;z-index: 1;}#sk-container-id-1 div.sk-parallel {display: flex;align-items: stretch;justify-content: center;background-color: white;position: relative;}#sk-container-id-1 div.sk-item::before, #sk-container-id-1 div.sk-parallel-item::before {content: \"\";position: absolute;border-left: 1px solid gray;box-sizing: border-box;top: 0;bottom: 0;left: 50%;z-index: -1;}#sk-container-id-1 div.sk-parallel-item {display: flex;flex-direction: column;z-index: 1;position: relative;background-color: white;}#sk-container-id-1 div.sk-parallel-item:first-child::after {align-self: flex-end;width: 50%;}#sk-container-id-1 div.sk-parallel-item:last-child::after {align-self: flex-start;width: 50%;}#sk-container-id-1 div.sk-parallel-item:only-child::after {width: 0;}#sk-container-id-1 div.sk-dashed-wrapped {border: 1px dashed gray;margin: 0 0.4em 0.5em 0.4em;box-sizing: border-box;padding-bottom: 0.4em;background-color: white;}#sk-container-id-1 div.sk-label label {font-family: monospace;font-weight: bold;display: inline-block;line-height: 1.2em;}#sk-container-id-1 div.sk-label-container {text-align: center;}#sk-container-id-1 div.sk-container {/* jupyter's `normalize.less` sets `[hidden] { display: none; }` but bootstrap.min.css set `[hidden] { display: none !important; }` so we also need the `!important` here to be able to override the default hidden behavior on the sphinx rendered scikit-learn.org. See: https://github.com/scikit-learn/scikit-learn/issues/21755 */display: inline-block !important;position: relative;}#sk-container-id-1 div.sk-text-repr-fallback {display: none;}</style><div id=\"sk-container-id-1\" class=\"sk-top-container\"><div class=\"sk-text-repr-fallback\"><pre>LinearRegression()</pre><b>In a Jupyter environment, please rerun this cell to show the HTML representation or trust the notebook. <br />On GitHub, the HTML representation is unable to render, please try loading this page with nbviewer.org.</b></div><div class=\"sk-container\" hidden><div class=\"sk-item\"><div class=\"sk-estimator sk-toggleable\"><input class=\"sk-toggleable__control sk-hidden--visually\" id=\"sk-estimator-id-1\" type=\"checkbox\" checked><label for=\"sk-estimator-id-1\" class=\"sk-toggleable__label sk-toggleable__label-arrow\">LinearRegression</label><div class=\"sk-toggleable__content\"><pre>LinearRegression()</pre></div></div></div></div></div>"
      ],
      "text/plain": [
       "LinearRegression()"
      ]
     },
     "execution_count": 23,
     "metadata": {},
     "output_type": "execute_result"
    }
   ],
   "source": [
    "LR.fit(x_train,y_train)"
   ]
  },
  {
   "cell_type": "code",
   "execution_count": 24,
   "id": "78a4eef0-f826-40b5-9be7-6af3599b61d8",
   "metadata": {},
   "outputs": [],
   "source": [
    "Y_pred = LR.predict(x_test)"
   ]
  },
  {
   "cell_type": "code",
   "execution_count": 27,
   "id": "175cd1e2-9402-49c0-a4f3-41ad421cb65d",
   "metadata": {},
   "outputs": [
    {
     "data": {
      "text/plain": [
       "{'copy_X': True, 'fit_intercept': True, 'n_jobs': None, 'positive': False}"
      ]
     },
     "execution_count": 27,
     "metadata": {},
     "output_type": "execute_result"
    }
   ],
   "source": [
    "LR.get_params()"
   ]
  },
  {
   "cell_type": "code",
   "execution_count": 28,
   "id": "225e6eb2-ebae-4483-b0b7-34d663829123",
   "metadata": {},
   "outputs": [
    {
     "data": {
      "text/plain": [
       "array([-0.00083263,  0.00699195])"
      ]
     },
     "execution_count": 28,
     "metadata": {},
     "output_type": "execute_result"
    }
   ],
   "source": [
    "LR.coef_"
   ]
  },
  {
   "cell_type": "code",
   "execution_count": 29,
   "id": "a2a75d23-1fad-4f1f-be75-3cf2777e8436",
   "metadata": {},
   "outputs": [
    {
     "data": {
      "text/plain": [
       "0.45347740621656907"
      ]
     },
     "execution_count": 29,
     "metadata": {},
     "output_type": "execute_result"
    }
   ],
   "source": [
    "LR.intercept_"
   ]
  },
  {
   "cell_type": "markdown",
   "id": "17296b8d-d0c2-4928-bd5e-50cadb2c14c2",
   "metadata": {},
   "source": [
    "Q4. Explain the concept of gradient descent. How is it used in machine learning?"
   ]
  },
  {
   "cell_type": "raw",
   "id": "ca2b3bf8-a460-49e3-a583-893fbee82296",
   "metadata": {},
   "source": [
    "Gradient descent is an optimization algorithm used to minimize cost function in machine learning models, usually in regression and neural networks."
   ]
  },
  {
   "cell_type": "raw",
   "id": "ac6992ba-f451-4f81-8c7e-5d9abd20fdd7",
   "metadata": {},
   "source": [
    "There are various types of Gradient descent used in ML like:\n",
    "    \n",
    "    Gradient Descent\n",
    "    \n",
    "    Stochastic Gradient Descent\n",
    "    \n",
    "    Mini-batch Gradient Descent\n",
    "    \n",
    "    Gradient Descent with momentum\n",
    "    \n",
    "    AdaGrad (Adaptive Gradient)\n",
    "    \n",
    "    RMSProp\n",
    "    \n",
    "    Adam (Adaptive momentum)"
   ]
  },
  {
   "cell_type": "raw",
   "id": "15ac7e3c-4245-42d7-b28c-73a0140ace7e",
   "metadata": {},
   "source": [
    "The generalised weight updation equation used in gradient descent is:\n",
    "    \n",
    "    New Weight = Old weight  - ieta*(DL/DW)\n",
    "    \n",
    "    where: ieta is momentum and DL/DW is the loss function"
   ]
  },
  {
   "cell_type": "markdown",
   "id": "4c7335ca-0710-4d7f-9044-7faf7103e78d",
   "metadata": {},
   "source": [
    "Q5. Describe the multiple linear regression model. How does it differ from simple linear regression?"
   ]
  },
  {
   "cell_type": "raw",
   "id": "45b841f2-740d-49bf-9d46-3a609e00c883",
   "metadata": {},
   "source": [
    "Multiple linear regression model comprises of more than one independent variable/feature with a single dependent output feature.\n",
    "\n",
    "On the other hand, simple linear regression model comprises of one independent variable/feature and one dependent feature."
   ]
  },
  {
   "cell_type": "raw",
   "id": "e934674c-fb84-4de3-819e-5bba20882226",
   "metadata": {},
   "source": [
    "Lets look at a practical example of Multiple Linear Regression model."
   ]
  },
  {
   "cell_type": "code",
   "execution_count": 1,
   "id": "58c542c6-4afe-430a-af1b-41551060b0f5",
   "metadata": {},
   "outputs": [],
   "source": [
    "# We have a dataset which predicts the price of house on the basis of rooms and area."
   ]
  },
  {
   "cell_type": "code",
   "execution_count": 3,
   "id": "2d06a96d-47c4-4fde-a24b-006c58bee9b8",
   "metadata": {},
   "outputs": [],
   "source": [
    "Flats = pd.DataFrame({\n",
    "    'Rooms':[3,6,2,4,5,2,4,1,4,3],\n",
    "    'Area':[1200,450,340,500,1100,850,970,1080,700,620],\n",
    "    'Price':[2800000,3200000,34500000,2670000,1860000,2260000,4600000,4900000,7200000,3390000]\n",
    "})"
   ]
  },
  {
   "cell_type": "code",
   "execution_count": 4,
   "id": "ae416431-a31a-4522-b920-aab5e8c671b0",
   "metadata": {},
   "outputs": [
    {
     "data": {
      "text/html": [
       "<div>\n",
       "<style scoped>\n",
       "    .dataframe tbody tr th:only-of-type {\n",
       "        vertical-align: middle;\n",
       "    }\n",
       "\n",
       "    .dataframe tbody tr th {\n",
       "        vertical-align: top;\n",
       "    }\n",
       "\n",
       "    .dataframe thead th {\n",
       "        text-align: right;\n",
       "    }\n",
       "</style>\n",
       "<table border=\"1\" class=\"dataframe\">\n",
       "  <thead>\n",
       "    <tr style=\"text-align: right;\">\n",
       "      <th></th>\n",
       "      <th>Rooms</th>\n",
       "      <th>Area</th>\n",
       "      <th>Price</th>\n",
       "    </tr>\n",
       "  </thead>\n",
       "  <tbody>\n",
       "    <tr>\n",
       "      <th>0</th>\n",
       "      <td>3</td>\n",
       "      <td>1200</td>\n",
       "      <td>2800000</td>\n",
       "    </tr>\n",
       "    <tr>\n",
       "      <th>1</th>\n",
       "      <td>6</td>\n",
       "      <td>450</td>\n",
       "      <td>3200000</td>\n",
       "    </tr>\n",
       "    <tr>\n",
       "      <th>2</th>\n",
       "      <td>2</td>\n",
       "      <td>340</td>\n",
       "      <td>34500000</td>\n",
       "    </tr>\n",
       "    <tr>\n",
       "      <th>3</th>\n",
       "      <td>4</td>\n",
       "      <td>500</td>\n",
       "      <td>2670000</td>\n",
       "    </tr>\n",
       "    <tr>\n",
       "      <th>4</th>\n",
       "      <td>5</td>\n",
       "      <td>1100</td>\n",
       "      <td>1860000</td>\n",
       "    </tr>\n",
       "    <tr>\n",
       "      <th>5</th>\n",
       "      <td>2</td>\n",
       "      <td>850</td>\n",
       "      <td>2260000</td>\n",
       "    </tr>\n",
       "    <tr>\n",
       "      <th>6</th>\n",
       "      <td>4</td>\n",
       "      <td>970</td>\n",
       "      <td>4600000</td>\n",
       "    </tr>\n",
       "    <tr>\n",
       "      <th>7</th>\n",
       "      <td>1</td>\n",
       "      <td>1080</td>\n",
       "      <td>4900000</td>\n",
       "    </tr>\n",
       "    <tr>\n",
       "      <th>8</th>\n",
       "      <td>4</td>\n",
       "      <td>700</td>\n",
       "      <td>7200000</td>\n",
       "    </tr>\n",
       "    <tr>\n",
       "      <th>9</th>\n",
       "      <td>3</td>\n",
       "      <td>620</td>\n",
       "      <td>3390000</td>\n",
       "    </tr>\n",
       "  </tbody>\n",
       "</table>\n",
       "</div>"
      ],
      "text/plain": [
       "   Rooms  Area     Price\n",
       "0      3  1200   2800000\n",
       "1      6   450   3200000\n",
       "2      2   340  34500000\n",
       "3      4   500   2670000\n",
       "4      5  1100   1860000\n",
       "5      2   850   2260000\n",
       "6      4   970   4600000\n",
       "7      1  1080   4900000\n",
       "8      4   700   7200000\n",
       "9      3   620   3390000"
      ]
     },
     "execution_count": 4,
     "metadata": {},
     "output_type": "execute_result"
    }
   ],
   "source": [
    "Flats"
   ]
  },
  {
   "cell_type": "code",
   "execution_count": 5,
   "id": "a356d8fa-7b1c-4424-8225-dbaabf8dafdd",
   "metadata": {},
   "outputs": [],
   "source": [
    "# Segregate Independent and dependent features\n",
    "X = Flats.iloc[:,:-1]\n",
    "Y = Flats['Price']"
   ]
  },
  {
   "cell_type": "code",
   "execution_count": 9,
   "id": "3cb0c5d0-383b-43fd-a4bf-60ce880a24fd",
   "metadata": {},
   "outputs": [],
   "source": [
    "# Split train and test data\n",
    "from sklearn.model_selection import train_test_split\n",
    "X_train,X_test,Y_train,Y_test = train_test_split(X,Y,test_size=0.4,random_state=42)"
   ]
  },
  {
   "cell_type": "code",
   "execution_count": 11,
   "id": "2fe6890d-8896-4dfc-bd1c-290a5696914d",
   "metadata": {},
   "outputs": [],
   "source": [
    "# Model creation and prediction\n",
    "from sklearn.linear_model import LinearRegression\n",
    "Linreg = LinearRegression()"
   ]
  },
  {
   "cell_type": "code",
   "execution_count": 12,
   "id": "929ff461-b6a2-4900-88f4-16eee06022a4",
   "metadata": {},
   "outputs": [
    {
     "data": {
      "text/html": [
       "<style>#sk-container-id-1 {color: black;background-color: white;}#sk-container-id-1 pre{padding: 0;}#sk-container-id-1 div.sk-toggleable {background-color: white;}#sk-container-id-1 label.sk-toggleable__label {cursor: pointer;display: block;width: 100%;margin-bottom: 0;padding: 0.3em;box-sizing: border-box;text-align: center;}#sk-container-id-1 label.sk-toggleable__label-arrow:before {content: \"▸\";float: left;margin-right: 0.25em;color: #696969;}#sk-container-id-1 label.sk-toggleable__label-arrow:hover:before {color: black;}#sk-container-id-1 div.sk-estimator:hover label.sk-toggleable__label-arrow:before {color: black;}#sk-container-id-1 div.sk-toggleable__content {max-height: 0;max-width: 0;overflow: hidden;text-align: left;background-color: #f0f8ff;}#sk-container-id-1 div.sk-toggleable__content pre {margin: 0.2em;color: black;border-radius: 0.25em;background-color: #f0f8ff;}#sk-container-id-1 input.sk-toggleable__control:checked~div.sk-toggleable__content {max-height: 200px;max-width: 100%;overflow: auto;}#sk-container-id-1 input.sk-toggleable__control:checked~label.sk-toggleable__label-arrow:before {content: \"▾\";}#sk-container-id-1 div.sk-estimator input.sk-toggleable__control:checked~label.sk-toggleable__label {background-color: #d4ebff;}#sk-container-id-1 div.sk-label input.sk-toggleable__control:checked~label.sk-toggleable__label {background-color: #d4ebff;}#sk-container-id-1 input.sk-hidden--visually {border: 0;clip: rect(1px 1px 1px 1px);clip: rect(1px, 1px, 1px, 1px);height: 1px;margin: -1px;overflow: hidden;padding: 0;position: absolute;width: 1px;}#sk-container-id-1 div.sk-estimator {font-family: monospace;background-color: #f0f8ff;border: 1px dotted black;border-radius: 0.25em;box-sizing: border-box;margin-bottom: 0.5em;}#sk-container-id-1 div.sk-estimator:hover {background-color: #d4ebff;}#sk-container-id-1 div.sk-parallel-item::after {content: \"\";width: 100%;border-bottom: 1px solid gray;flex-grow: 1;}#sk-container-id-1 div.sk-label:hover label.sk-toggleable__label {background-color: #d4ebff;}#sk-container-id-1 div.sk-serial::before {content: \"\";position: absolute;border-left: 1px solid gray;box-sizing: border-box;top: 0;bottom: 0;left: 50%;z-index: 0;}#sk-container-id-1 div.sk-serial {display: flex;flex-direction: column;align-items: center;background-color: white;padding-right: 0.2em;padding-left: 0.2em;position: relative;}#sk-container-id-1 div.sk-item {position: relative;z-index: 1;}#sk-container-id-1 div.sk-parallel {display: flex;align-items: stretch;justify-content: center;background-color: white;position: relative;}#sk-container-id-1 div.sk-item::before, #sk-container-id-1 div.sk-parallel-item::before {content: \"\";position: absolute;border-left: 1px solid gray;box-sizing: border-box;top: 0;bottom: 0;left: 50%;z-index: -1;}#sk-container-id-1 div.sk-parallel-item {display: flex;flex-direction: column;z-index: 1;position: relative;background-color: white;}#sk-container-id-1 div.sk-parallel-item:first-child::after {align-self: flex-end;width: 50%;}#sk-container-id-1 div.sk-parallel-item:last-child::after {align-self: flex-start;width: 50%;}#sk-container-id-1 div.sk-parallel-item:only-child::after {width: 0;}#sk-container-id-1 div.sk-dashed-wrapped {border: 1px dashed gray;margin: 0 0.4em 0.5em 0.4em;box-sizing: border-box;padding-bottom: 0.4em;background-color: white;}#sk-container-id-1 div.sk-label label {font-family: monospace;font-weight: bold;display: inline-block;line-height: 1.2em;}#sk-container-id-1 div.sk-label-container {text-align: center;}#sk-container-id-1 div.sk-container {/* jupyter's `normalize.less` sets `[hidden] { display: none; }` but bootstrap.min.css set `[hidden] { display: none !important; }` so we also need the `!important` here to be able to override the default hidden behavior on the sphinx rendered scikit-learn.org. See: https://github.com/scikit-learn/scikit-learn/issues/21755 */display: inline-block !important;position: relative;}#sk-container-id-1 div.sk-text-repr-fallback {display: none;}</style><div id=\"sk-container-id-1\" class=\"sk-top-container\"><div class=\"sk-text-repr-fallback\"><pre>LinearRegression()</pre><b>In a Jupyter environment, please rerun this cell to show the HTML representation or trust the notebook. <br />On GitHub, the HTML representation is unable to render, please try loading this page with nbviewer.org.</b></div><div class=\"sk-container\" hidden><div class=\"sk-item\"><div class=\"sk-estimator sk-toggleable\"><input class=\"sk-toggleable__control sk-hidden--visually\" id=\"sk-estimator-id-1\" type=\"checkbox\" checked><label for=\"sk-estimator-id-1\" class=\"sk-toggleable__label sk-toggleable__label-arrow\">LinearRegression</label><div class=\"sk-toggleable__content\"><pre>LinearRegression()</pre></div></div></div></div></div>"
      ],
      "text/plain": [
       "LinearRegression()"
      ]
     },
     "execution_count": 12,
     "metadata": {},
     "output_type": "execute_result"
    }
   ],
   "source": [
    "Linreg.fit(X_train,Y_train)"
   ]
  },
  {
   "cell_type": "code",
   "execution_count": 13,
   "id": "1dadcfdf-b5b7-45b2-9f4e-4bdac0e267d0",
   "metadata": {},
   "outputs": [],
   "source": [
    "y_pred = Linreg.predict(X_test)"
   ]
  },
  {
   "cell_type": "code",
   "execution_count": 14,
   "id": "72ae291d-bd3d-465e-9073-3718b3143645",
   "metadata": {},
   "outputs": [],
   "source": [
    "from sklearn.metrics import mean_absolute_error,mean_squared_error,r2_score"
   ]
  },
  {
   "cell_type": "code",
   "execution_count": 15,
   "id": "a4f12260-f02c-4e21-a1e1-f6c370091d01",
   "metadata": {},
   "outputs": [
    {
     "data": {
      "text/plain": [
       "3932311.1326464796"
      ]
     },
     "execution_count": 15,
     "metadata": {},
     "output_type": "execute_result"
    }
   ],
   "source": [
    "mean_absolute_error(Y_test,y_pred)"
   ]
  },
  {
   "cell_type": "code",
   "execution_count": 16,
   "id": "75754e9f-9441-4126-a5a1-27e34a38f763",
   "metadata": {},
   "outputs": [
    {
     "data": {
      "text/plain": [
       "23039131984704.85"
      ]
     },
     "execution_count": 16,
     "metadata": {},
     "output_type": "execute_result"
    }
   ],
   "source": [
    "mean_squared_error(Y_test,y_pred)"
   ]
  },
  {
   "cell_type": "markdown",
   "id": "515c3e9d-2298-47d4-bfdb-9c132f9ff36b",
   "metadata": {},
   "source": [
    "Q6. Explain the concept of multicollinearity in multiple linear regression. How can you detect and address this issue?"
   ]
  },
  {
   "cell_type": "raw",
   "id": "82b33a37-2e24-4369-9662-40bcb11e6cc1",
   "metadata": {},
   "source": [
    "Multicollinearity in multiple linear regression is a situation when 2 or more independent features in a dataset are highly correlated. Due to this, these features provide redundant information and makes it difficult to analyse the effect of each feature individually.\n",
    "\n",
    "To detect this issue, we use Correlation Matrix. This ranges from (-1,+1). More the value towards +1, higher is the correlation b/w the features and vice-versa. "
   ]
  },
  {
   "cell_type": "raw",
   "id": "a5fee503-56df-4716-9221-ff97e290bc2b",
   "metadata": {},
   "source": [
    "To avoid this kind of problem, we can use following methods:\n",
    "    \n",
    "1. Removing all those features that are highly correlated with each other.\n",
    "\n",
    "2. Use of PCA (Principal Component Analysis)\n",
    "\n",
    "3. Ridge Regression (As we know that this type of regularization is very effective for feature selection)"
   ]
  },
  {
   "cell_type": "markdown",
   "id": "390dc03f-943f-4653-969a-080d92bdea34",
   "metadata": {},
   "source": [
    "Q7. Describe the polynomial regression model. How is it different from linear regression?"
   ]
  },
  {
   "cell_type": "raw",
   "id": "4d9f96fb-9842-4f01-b0f2-4a921fbc6839",
   "metadata": {},
   "source": [
    "Polynomial regression is a type of regression where the relationship between the independent and dependent variable is represented by a nth degree polynomial.\n",
    "\n",
    "While in simple linear regression, a straight line(linear plot) is used between the independent and dependent variable."
   ]
  },
  {
   "cell_type": "raw",
   "id": "1a408c34-4505-41d3-82de-f541a6b8ece5",
   "metadata": {},
   "source": [
    "Polynomial regression is designed to handle complex relationships b/w the features.\n",
    "\n",
    "If we have non-linear data and we use Linear regression, it will fail. But if we use polynomial regression, it will be able to represent the relationship more effectively."
   ]
  },
  {
   "cell_type": "markdown",
   "id": "631d1a3d-4169-4976-86e1-ab43d5629919",
   "metadata": {},
   "source": [
    "Q8. What are the advantages and disadvantages of polynomial regression compared to linear regression? In what situations would you prefer to use polynomial regression?"
   ]
  },
  {
   "cell_type": "raw",
   "id": "9997cd5c-c156-48f7-baa2-53eeab3b7358",
   "metadata": {},
   "source": [
    "Advantages:\n",
    "    \n",
    "    1. Able to handle and represent complex relationship between features.\n",
    "    \n",
    "    2. More flexible to use.\n",
    "    \n",
    "Disadvantages:\n",
    "    \n",
    "    1. greater chances of overfitting\n",
    "    \n",
    "    2. Require more computational power\n",
    "    \n",
    "    3. Multiple coefficients need to be calculated which increases with the degree of polynomial"
   ]
  },
  {
   "cell_type": "code",
   "execution_count": null,
   "id": "d27f1d3e-c837-4fe1-b7a2-ca39a96b55eb",
   "metadata": {},
   "outputs": [],
   "source": []
  }
 ],
 "metadata": {
  "kernelspec": {
   "display_name": "Python 3 (ipykernel)",
   "language": "python",
   "name": "python3"
  },
  "language_info": {
   "codemirror_mode": {
    "name": "ipython",
    "version": 3
   },
   "file_extension": ".py",
   "mimetype": "text/x-python",
   "name": "python",
   "nbconvert_exporter": "python",
   "pygments_lexer": "ipython3",
   "version": "3.10.8"
  }
 },
 "nbformat": 4,
 "nbformat_minor": 5
}
