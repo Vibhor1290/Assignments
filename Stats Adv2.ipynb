{
 "cells": [
  {
   "cell_type": "markdown",
   "id": "afae5180-17b9-4443-915e-5dfbde46df2f",
   "metadata": {},
   "source": [
    "# Statistics Advance-2"
   ]
  },
  {
   "cell_type": "markdown",
   "id": "86909ef4-b20c-4ede-90a4-e39925b6d8e9",
   "metadata": {},
   "source": [
    "Q1: What are the Probability Mass Function (PMF) and Probability Density Function (PDF)? Explain with\n",
    "an example."
   ]
  },
  {
   "cell_type": "raw",
   "id": "61078465-9d03-48b0-844d-38cc542b6d2e",
   "metadata": {},
   "source": [
    "These functions are used to describe discrete and continuous probability distributions in order to determine probability of an observation being exactly equal to a target value (discrete) or within a range around our target value (continuous)."
   ]
  },
  {
   "cell_type": "raw",
   "id": "f529b323-0330-41c4-9d00-07deea47fca1",
   "metadata": {},
   "source": [
    "PMF works for discrete data and PDF works for continuous data.\n",
    "\n",
    "Example of PMF: Rolling a die and getting the outcome. Here, we calculate the probability the of each outcome which comes out to be 1/6.\n",
    "\n",
    "Example of PDF: Height of students in a population, showing the likelihood of different heights occurring in the population, with peak representing the most common height."
   ]
  },
  {
   "cell_type": "markdown",
   "id": "0c9a1eb2-203a-410d-8e8c-1e87b8ddde1c",
   "metadata": {},
   "source": [
    "Q2: What is Cumulative Density Function (CDF)? Explain with an example. Why CDF is used?"
   ]
  },
  {
   "cell_type": "raw",
   "id": "b7f119d7-0f06-4448-8674-5bd06552b517",
   "metadata": {},
   "source": [
    "This function is derived from Probability Density Function and it gives the probability of finding the random variable at a value less than or equal to a given threshold."
   ]
  },
  {
   "cell_type": "raw",
   "id": "7fa479b2-c6e4-4adf-9c2f-1ea1ef20f14f",
   "metadata": {},
   "source": [
    "Example:\n",
    "    \n",
    "Let's say we have a fair die. A random variable 'X' represents outcome of rolling the die. The CDF will give probability of getting a number less than or equal to a certain value.\n",
    "\n",
    "P(X <=1) = 1/6\n",
    "P(X <=2) = 2/6\n",
    "P(X <=3) = 3/6\n",
    "P(X <=4) = 4/6\n",
    "P(X <=5) = 5/6\n",
    "P(X <=6) = 6/6"
   ]
  },
  {
   "cell_type": "raw",
   "id": "ce75ec46-d582-40cb-a413-0a0cef432001",
   "metadata": {},
   "source": [
    "CDF is used because:\n",
    "    \n",
    "    Helps in understanding probability distribution of a random variable by showing how likely certain values are about to occur.\n",
    "    \n",
    "    Provides a convenient way to compare different distributions and understand their properties in order to come to a conclusion."
   ]
  },
  {
   "cell_type": "markdown",
   "id": "a87807d9-fc98-4d08-89d2-be933b136670",
   "metadata": {},
   "source": [
    "Q3: What are some examples of situations where the normal distribution might be used as a model?\n",
    "Explain how the parameters of the normal distribution relate to the shape of the distribution."
   ]
  },
  {
   "cell_type": "raw",
   "id": "04ddc98f-0f78-496d-b943-056f3e2db833",
   "metadata": {},
   "source": [
    "The normal distribution is the most widely used probability distributions due to its versatility and applicability in real-world situations.\n",
    "\n",
    "Example: Calculating test scores, height measurement, IQ calculating, etc."
   ]
  },
  {
   "cell_type": "raw",
   "id": "c40cf342-96f7-4911-9120-fa14a0e3014a",
   "metadata": {},
   "source": [
    "The parameters of normal distribution mean and the standard deviation. Mean shows the central portion of the distribution and deviation shows the spread of data.\n",
    "\n",
    "We can customize these 2 parameters to adjust or fit our data according to real world problems."
   ]
  },
  {
   "cell_type": "markdown",
   "id": "c89cd9ef-e26e-47cd-ac74-ebbb37c2ef95",
   "metadata": {},
   "source": [
    "Q4: Explain the importance of Normal Distribution. Give a few real-life examples of Normal\n",
    "Distribution."
   ]
  },
  {
   "cell_type": "raw",
   "id": "ae94f656-a725-4ab9-a61b-fdbc2b84b4e9",
   "metadata": {},
   "source": [
    "Normal distribution, also known as Gaussian distribution is a type of distribution in which mean=0 and std dev=1. In this distribution, we get a bell shaped curve (symmetric curve). It is most widely used distribution because of its nature and simplicity.\n",
    "\n",
    "It also follows the 68-95-99.7 rule according to which:\n",
    "\n",
    "68% of the data lies within first standard deviation\n",
    "95% of the data lies within second standard deviation\n",
    "99.7% of the data lies within second standard deviation"
   ]
  },
  {
   "cell_type": "code",
   "execution_count": null,
   "id": "17088751-1718-437d-9ac3-e8f769832c85",
   "metadata": {},
   "outputs": [],
   "source": [
    "Real Life examples: Height of students, blood pressure, measuring shoe size, etc."
   ]
  },
  {
   "cell_type": "markdown",
   "id": "2c7ad9d1-6c3b-401e-a066-87c6c197e0be",
   "metadata": {},
   "source": [
    "Q5: What is Bernoulli Distribution? Give an Example. What is the difference between Bernoulli\n",
    "Distribution and Binomial Distribution?"
   ]
  },
  {
   "cell_type": "raw",
   "id": "de478525-6ec3-4d12-bfb0-f5a038a46994",
   "metadata": {},
   "source": [
    "In bernoulli distribution, we deal with discrete data and use PMF (Probability Mass Function). Each outcome has equal probability of occurring"
   ]
  },
  {
   "cell_type": "raw",
   "id": "2bdc1656-724a-4b52-b60f-7a87414f54de",
   "metadata": {},
   "source": [
    "Example: Tossing a coin, exam result(Pass/Fail), etc."
   ]
  },
  {
   "cell_type": "raw",
   "id": "631e6bd1-ca9c-47d8-b908-8d813c9db38b",
   "metadata": {},
   "source": [
    "Difference b/w Bernoulli and Binomial\n",
    "\n",
    "Bernoulli distribution represents a single trial with only two possible outcomes: success or failure (p=1 for success and q=0 for failure).\n",
    "\n",
    "Binomial distribution describe number of successes (or failures) for N number of independent trials."
   ]
  },
  {
   "cell_type": "markdown",
   "id": "1747dd7d-61e0-4bfc-be10-d0a7b997ccaf",
   "metadata": {},
   "source": [
    "Q6. Consider a dataset with a mean of 50 and a standard deviation of 10. If we assume that the dataset\n",
    "is normally distributed, what is the probability that a randomly selected observation will be greater\n",
    "than 60? Use the appropriate formula and show your calculations."
   ]
  },
  {
   "cell_type": "code",
   "execution_count": 8,
   "id": "3892e641-30e8-4de7-b70f-bab80aba93ff",
   "metadata": {},
   "outputs": [],
   "source": [
    "mean = 50\n",
    "std_dev = 10\n",
    "x = 60"
   ]
  },
  {
   "cell_type": "code",
   "execution_count": 9,
   "id": "407091cd-ea42-45d1-be04-ac5f40e244ae",
   "metadata": {},
   "outputs": [],
   "source": [
    "Z_score = (x - mean)/std_dev"
   ]
  },
  {
   "cell_type": "code",
   "execution_count": 10,
   "id": "eb83dc17-26ee-44d1-a79e-9239c6f4af43",
   "metadata": {},
   "outputs": [
    {
     "data": {
      "text/plain": [
       "1.0"
      ]
     },
     "execution_count": 10,
     "metadata": {},
     "output_type": "execute_result"
    }
   ],
   "source": [
    "Z_score"
   ]
  },
  {
   "cell_type": "raw",
   "id": "22a3d085-c592-4f7f-916f-4b47ad2718f3",
   "metadata": {},
   "source": [
    "Now, we will look for this score in positive Z table and find out the corresponding result."
   ]
  },
  {
   "cell_type": "markdown",
   "id": "682cd09b-a7ae-4639-9800-c256713aedfc",
   "metadata": {},
   "source": [
    "CONCLUSION: From the table we get Z value as 0.84 which gives us the probability of around 84%"
   ]
  },
  {
   "cell_type": "markdown",
   "id": "aee9f27e-99e7-4088-be03-f5b433cc0f52",
   "metadata": {},
   "source": [
    "Q7: Explain uniform Distribution with an example."
   ]
  },
  {
   "cell_type": "raw",
   "id": "ad297f5a-4fdc-44be-8157-528fc7f88494",
   "metadata": {},
   "source": [
    "Uniform distribution is a type of distribution that works for both discrete and continuous data. Also, this can create both PDF and PMF."
   ]
  },
  {
   "cell_type": "code",
   "execution_count": 1,
   "id": "1869067f-6798-45ff-931f-3438e1dc0c12",
   "metadata": {},
   "outputs": [],
   "source": [
    "import numpy as np"
   ]
  },
  {
   "cell_type": "code",
   "execution_count": 2,
   "id": "28e5909a-e3d2-4891-9d5f-22834738f4dd",
   "metadata": {},
   "outputs": [],
   "source": [
    "uniform = np.random.uniform(23,78,1000)"
   ]
  },
  {
   "cell_type": "code",
   "execution_count": 3,
   "id": "c0f68b1d-31b7-4d42-bbfb-fe70299338b4",
   "metadata": {},
   "outputs": [
    {
     "data": {
      "text/plain": [
       "49.90534378455298"
      ]
     },
     "execution_count": 3,
     "metadata": {},
     "output_type": "execute_result"
    }
   ],
   "source": [
    "uniform.mean()"
   ]
  },
  {
   "cell_type": "code",
   "execution_count": 4,
   "id": "682dcdfb-2c7b-4f0d-88dc-8d07cfefb52a",
   "metadata": {},
   "outputs": [
    {
     "data": {
      "text/plain": [
       "15.470680722911068"
      ]
     },
     "execution_count": 4,
     "metadata": {},
     "output_type": "execute_result"
    }
   ],
   "source": [
    "uniform.std()"
   ]
  },
  {
   "cell_type": "code",
   "execution_count": 5,
   "id": "f281c316-b458-4d48-b3dc-bf35f6c91757",
   "metadata": {},
   "outputs": [],
   "source": [
    "import matplotlib.pyplot as plt"
   ]
  },
  {
   "cell_type": "code",
   "execution_count": 7,
   "id": "492fed65-094c-45fa-bee1-48c18da4db0d",
   "metadata": {},
   "outputs": [
    {
     "data": {
      "image/png": "[encoded data removed]",
      "text/plain": [
       "<Figure size 600x600 with 1 Axes>"
      ]
     },
     "metadata": {},
     "output_type": "display_data"
    }
   ],
   "source": [
    "plt.figure(figsize=(6,6))\n",
    "plt.plot(uniform)\n",
    "plt.show()"
   ]
  },
  {
   "cell_type": "raw",
   "id": "f5f75d9d-b110-418c-a9ab-72501fb40cf9",
   "metadata": {},
   "source": [
    "Example: When we roll a die, the probability of landing getting any number (1 to 6) follows a uniform distribution. Here, the probability of each outcome is same, i.e 1/6"
   ]
  },
  {
   "cell_type": "markdown",
   "id": "551ace64-a00e-461c-a8f1-8aa35cb663ef",
   "metadata": {},
   "source": [
    "Q8: What is the z score? State the importance of the z score."
   ]
  },
  {
   "cell_type": "raw",
   "id": "d0260f76-e7e4-4694-a6a9-d1d6c2da4a51",
   "metadata": {},
   "source": [
    "Z score is a statistical concept used to find out how much deviation is there between a data point and the mean value.\n",
    "\n",
    "The formula for calculating a z-score is: z = (x – μ)/ σ\n",
    "\n",
    "Importance of Z-Score:\n",
    "\n",
    "1. Transform raw data into a standardized scale which makes calculation easier\n",
    "\n",
    "2. Used for handling outlier problems\n",
    "\n",
    "3. Indicates how far data point is away from mean providing a measure of the data point’s relative position within the distribution"
   ]
  },
  {
   "cell_type": "markdown",
   "id": "dac6e4bb-cb06-439a-b59c-d6b91fbe562c",
   "metadata": {},
   "source": [
    "Q9: What is Central Limit Theorem? State the significance of the Central Limit Theorem."
   ]
  },
  {
   "cell_type": "raw",
   "id": "bd1dfb04-b85f-4a0f-8b28-d3c122420c37",
   "metadata": {},
   "source": [
    "Whenever we take N number of samples from a population and calculate the sample means and plot them, we always get a normal/gaussian distribution.\n",
    "\n",
    "It does not matter which type of distribution we are using(bernoulli/binomial/poission/uniform/normal), we will always get normal/gaussian distribution out of the sample mean."
   ]
  },
  {
   "cell_type": "markdown",
   "id": "31a9f9d4-5b58-4d5f-bd85-ee223bd37da3",
   "metadata": {},
   "source": [
    "Q10: State the assumptions of the Central Limit Theorem."
   ]
  },
  {
   "cell_type": "raw",
   "id": "7bc42d63-8244-4697-9a3a-ad19b34e4586",
   "metadata": {},
   "source": [
    "Assumptions:\n",
    "    \n",
    "1. Samples are pulled out at random from the population.\n",
    "\n",
    "2. All the samples are independent of each other.\n",
    "\n",
    "3. Sample size should not be more than 10% of the total population when sampling is done without replacement."
   ]
  },
  {
   "cell_type": "code",
   "execution_count": null,
   "id": "6e875856-7c68-4a6d-8a73-794d80a8330d",
   "metadata": {},
   "outputs": [],
   "source": []
  }
 ],
 "metadata": {
  "kernelspec": {
   "display_name": "Python 3 (ipykernel)",
   "language": "python",
   "name": "python3"
  },
  "language_info": {
   "codemirror_mode": {
    "name": "ipython",
    "version": 3
   },
   "file_extension": ".py",
   "mimetype": "text/x-python",
   "name": "python",
   "nbconvert_exporter": "python",
   "pygments_lexer": "ipython3",
   "version": "3.10.8"
  }
 },
 "nbformat": 4,
 "nbformat_minor": 5
}
