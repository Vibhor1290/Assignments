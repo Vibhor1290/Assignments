{
 "cells": [
  {
   "cell_type": "markdown",
   "id": "3e53f381-e944-48d4-93f7-0b36d8e27450",
   "metadata": {},
   "source": [
    "# Statistics Advance-6"
   ]
  },
  {
   "cell_type": "markdown",
   "id": "eeeef06d-667c-4c15-a71e-eb3f4cf7126c",
   "metadata": {},
   "source": [
    "Q1. Explain the assumptions required to use ANOVA and provide examples of violations that could impact the validity of the results."
   ]
  },
  {
   "cell_type": "raw",
   "id": "ff569843-2e8b-492a-bc8c-f36ea8cbf43d",
   "metadata": {},
   "source": [
    "Assumptions:\n",
    "    \n",
    "1. Sample mean follows normal distribution.\n",
    "\n",
    "2. All the samples are drawn at random and independent of each other.\n",
    "\n",
    "3. There are no outliers.\n",
    "\n",
    "4. Variance of all the samples are equal."
   ]
  },
  {
   "cell_type": "raw",
   "id": "258bd57b-3826-4708-a6b6-b2fb2f22248b",
   "metadata": {},
   "source": [
    "Violations:\n",
    "    \n",
    "    1. If the samples are not drawn at random, we might encounter bias effect which directly reduce the accuracy\n",
    "    \n",
    "    2. If the samples are not normally distributed, it can lead to incorrect p-values and confidence intervals"
   ]
  },
  {
   "cell_type": "markdown",
   "id": "60153c41-d787-4ca9-98c9-bdc3e54685d6",
   "metadata": {},
   "source": [
    "Q2. What are the three types of ANOVA, and in what situations would each be used?"
   ]
  },
  {
   "cell_type": "raw",
   "id": "b2b58d0e-6809-48d4-9908-ab4e1df9e474",
   "metadata": {},
   "source": [
    "There are 3 types of ANOVA:\n",
    "    \n",
    "    A. One Way ANOVA (One factor with atleast 2 levels, provided that the levels are independent)\n",
    "    \n",
    "    B. Repeated Measures ANOVA (One factor with atleast 2 levels, provided that the levels are dependent)\n",
    "    \n",
    "    C. Factorial ANOVA (More than one factor with atleast 2 levels for each factor, provided that the levels can be either independent or dependent)"
   ]
  },
  {
   "cell_type": "markdown",
   "id": "12b644cc-87a8-4013-a1f7-924fedb7b70a",
   "metadata": {},
   "source": [
    "Q3. What is the partitioning of variance in ANOVA, and why is it important to understand this concept?"
   ]
  },
  {
   "cell_type": "raw",
   "id": "6396eb4f-8c68-4278-9ebc-0c3e4c14aeb7",
   "metadata": {},
   "source": [
    "It is the breaking down of total observed variance into different components on the basis of various sources or factors. The main aim behind this concept is to understand the contributions of different factors that affects the overall variability in the dependent variable.\n",
    "\n",
    "ANOVA is very essential for accurately evaluating the significance of factors, quantifying their contributions to variability, model fitting, and improving overall performance of statistical models."
   ]
  },
  {
   "cell_type": "markdown",
   "id": "52359c00-83ab-4313-8bad-c0e6082c876c",
   "metadata": {},
   "source": [
    "Q4. How would you calculate the total sum of squares (SST), explained sum of squares (SSE), and residual sum of squares (SSR) in a one-way ANOVA using Python?"
   ]
  },
  {
   "cell_type": "code",
   "execution_count": 3,
   "id": "4b4ffdde-eb4c-41d9-814c-16eabaf08128",
   "metadata": {},
   "outputs": [
    {
     "name": "stdout",
     "output_type": "stream",
     "text": [
      "Total Sum of Squares: 97.6\n",
      "Explained Sum of Squares: Group_A    14.8\n",
      "Group_B    10.0\n",
      "Group_C    10.0\n",
      "dtype: float64\n",
      "Residual Sum of Squares: Group_A    82.8\n",
      "Group_B    87.6\n",
      "Group_C    87.6\n",
      "dtype: float64\n"
     ]
    }
   ],
   "source": [
    "# Creating a dataset\n",
    "\n",
    "import pandas as pd\n",
    "import numpy as np\n",
    "\n",
    "data = {\n",
    "    'Group_A': [10, 12, 15, 11, 13],\n",
    "    'Group_B': [8, 9, 11, 10, 12],\n",
    "    'Group_C': [13, 14, 16, 15, 17]\n",
    "}\n",
    "\n",
    "marks = pd.DataFrame(data)\n",
    "\n",
    "grand_mean = marks.values.mean()\n",
    "\n",
    "sst = np.sum((marks.values - grand_mean) ** 2)\n",
    "\n",
    "group_means = marks.mean()\n",
    "squared_group_means = np.square(group_means - grand_mean)\n",
    "sse = np.sum(marks.apply(lambda col: np.square(col - col.mean())))\n",
    "\n",
    "ssr = sst - sse\n",
    "\n",
    "print(\"Total Sum of Squares:\", sst)\n",
    "print(\"Explained Sum of Squares:\", sse)\n",
    "print(\"Residual Sum of Squares:\", ssr)"
   ]
  },
  {
   "cell_type": "markdown",
   "id": "7ce4d276-d4b4-4cf3-8b43-850aaad570e6",
   "metadata": {},
   "source": [
    "Q5. In a two-way ANOVA, how would you calculate the main effects and interaction effects using Python?"
   ]
  },
  {
   "cell_type": "code",
   "execution_count": 17,
   "id": "67cb2e9d-673b-4066-a229-968333e68a9a",
   "metadata": {},
   "outputs": [
    {
     "name": "stdout",
     "output_type": "stream",
     "text": [
      "NaN values in the dataset:\n",
      "A    0\n",
      "B    0\n",
      "Y    0\n",
      "dtype: int64\n",
      "\n",
      "Infinite values in the dataset:\n",
      "A    0\n",
      "B    0\n",
      "Y    0\n",
      "dtype: int64\n"
     ]
    }
   ],
   "source": [
    "import pandas as pd\n",
    "import numpy as np\n",
    "\n",
    "# Create the dataset\n",
    "data = {\n",
    "    'A': [1, 1, 2, 2, 3, 3],\n",
    "    'B': [1, 2, 1, 2, 1, 2],\n",
    "    'Y': [10, 12, 15, 13, 14, 16]\n",
    "}\n",
    "\n",
    "df = pd.DataFrame(data)\n",
    "\n",
    "# Check for NaNs\n",
    "print(\"NaN values in the dataset:\")\n",
    "print(df.isna().sum())\n",
    "\n",
    "# Check for infinite values\n",
    "print(\"\\nInfinite values in the dataset:\")\n",
    "print(np.isinf(df).sum())"
   ]
  },
  {
   "cell_type": "code",
   "execution_count": 21,
   "id": "45358408-f0a6-44db-935c-876104a03f22",
   "metadata": {},
   "outputs": [],
   "source": [
    "import warnings\n",
    "warnings.filterwarnings('ignore')"
   ]
  },
  {
   "cell_type": "code",
   "execution_count": 22,
   "id": "31303bc7-eba8-4545-8007-fa0833c1ea53",
   "metadata": {},
   "outputs": [
    {
     "name": "stdout",
     "output_type": "stream",
     "text": [
      "Checking for NaN values in the dataset:\n",
      "A    0\n",
      "B    0\n",
      "Y    0\n",
      "dtype: int64\n",
      "\n",
      "Checking for infinite values in the dataset:\n",
      "A    0\n",
      "B    0\n",
      "Y    0\n",
      "dtype: int64\n",
      "\n",
      "DataFrame:\n",
      "   A  B   Y\n",
      "0  1  1  10\n",
      "1  1  2  12\n",
      "2  2  1  15\n",
      "3  2  2  13\n",
      "4  3  1  14\n",
      "5  3  2  16\n",
      "\n",
      "Data types:\n",
      "A    int64\n",
      "B    int64\n",
      "Y    int64\n",
      "dtype: object\n",
      "\n",
      "Unique values in each column:\n",
      "A: [1 2 3]\n",
      "B: [1 2]\n",
      "Y: [10 12 15 13 14 16]\n",
      "\n",
      "Data types after conversion to 'category':\n",
      "A    category\n",
      "B    category\n",
      "Y       int64\n",
      "dtype: object\n",
      "An error occurred: array must not contain infs or NaNs\n"
     ]
    }
   ],
   "source": [
    "import pandas as pd\n",
    "import numpy as np\n",
    "import statsmodels.api as sm\n",
    "from statsmodels.formula.api import ols\n",
    "\n",
    "# Create the dataset\n",
    "data = {\n",
    "    'A': [1, 1, 2, 2, 3, 3],\n",
    "    'B': [1, 2, 1, 2, 1, 2],\n",
    "    'Y': [10, 12, 15, 13, 14, 16]\n",
    "}\n",
    "\n",
    "df = pd.DataFrame(data)\n",
    "\n",
    "# Check for NaNs and Infs\n",
    "print(\"Checking for NaN values in the dataset:\")\n",
    "print(df.isna().sum())\n",
    "\n",
    "print(\"\\nChecking for infinite values in the dataset:\")\n",
    "print(np.isinf(df).sum())\n",
    "\n",
    "# Display the dataframe\n",
    "print(\"\\nDataFrame:\")\n",
    "print(df)\n",
    "\n",
    "# Check data types\n",
    "print(\"\\nData types:\")\n",
    "print(df.dtypes)\n",
    "\n",
    "# Check unique values\n",
    "print(\"\\nUnique values in each column:\")\n",
    "for column in df.columns:\n",
    "    print(f\"{column}: {df[column].unique()}\")\n",
    "\n",
    "# Convert A and B to categorical variables\n",
    "df['A'] = df['A'].astype('category')\n",
    "df['B'] = df['B'].astype('category')\n",
    "\n",
    "# Verify data types after conversion\n",
    "print(\"\\nData types after conversion to 'category':\")\n",
    "print(df.dtypes)\n",
    "\n",
    "# Fit the ANOVA model\n",
    "try:\n",
    "    model = ols('Y ~ C(A) + C(B) + C(A):C(B)', data=df).fit()\n",
    "    # Get ANOVA table\n",
    "    anova_table = sm.stats.anova_lm(model, typ=2)\n",
    "    print(\"\\nANOVA Table:\")\n",
    "    print(anova_table)\n",
    "except Exception as e:\n",
    "    print(f\"An error occurred: {e}\")\n"
   ]
  },
  {
   "cell_type": "markdown",
   "id": "6b01a130-87f4-4a04-9c0a-74dfe33014a1",
   "metadata": {},
   "source": [
    "Q6. Suppose you conducted a one-way ANOVA and obtained an F-statistic of 5.23 and a p-value of 0.02. What can you conclude about the differences between the groups, and how would you interpret these results?"
   ]
  },
  {
   "cell_type": "raw",
   "id": "d1ff6d0b-1396-4616-a273-8f90007d7fae",
   "metadata": {},
   "source": [
    "The F-statistic of 5.23 indicates ratio of variance between the group means to the variance within the groups. A higher F-value denotes a greater degree of difference between the group means and variability within the groups.\n",
    "\n",
    "On the other hand, a p-value of 0.02 indicates probability of obtaining F-value as high as 5.23 under the null hypothesis condition.\n",
    "\n",
    "As the p-value (0.02) is less than default significance level of 0.05, we will reject the null hypothesis in this case."
   ]
  },
  {
   "cell_type": "markdown",
   "id": "7813a5ee-4713-445d-8d8e-d4cc4ff6ce16",
   "metadata": {},
   "source": [
    "Q7. In a repeated measures ANOVA, how would you handle missing data, and what are the potential consequences of using different methods to handle missing data?"
   ]
  },
  {
   "cell_type": "raw",
   "id": "9a3e9ff6-0dcf-4299-9b8e-b61ff9d6349a",
   "metadata": {},
   "source": [
    "There are various methomd of handling missing data in ANOVA like list-wise deletion, mean substitution, multiple imputation, etc.\n",
    "\n",
    "1. List wise deletion:\n",
    "    In this, we simply delete the data along the list. It is easy to implement but there is one major problem which is reduction in data size.\n",
    "    \n",
    "2. Mean Substitution:\n",
    "    In this method, we replace the missing fields with mean value. If we have outlier in our dataset, we can go with replacing with median.\n",
    "    One problem with this method is that it can distort the relation between variables.\n",
    "    \n",
    "3. Multiple Imputation:\n",
    "    Replace missing data with possible values that represent the uncertainty about the right value to impute."
   ]
  },
  {
   "cell_type": "markdown",
   "id": "5d5ff49f-1abb-4d6b-92a5-52560f366a1b",
   "metadata": {},
   "source": [
    "Q9. A researcher wants to compare the mean weight loss of three diets: A, B, and C. They collect data from 50 participants who were randomly assigned to one of the diets. Conduct a one-way ANOVA using Python to determine if there are any significant differences between the mean weight loss of the three diets. Report the F-statistic and p-value, and interpret the results."
   ]
  },
  {
   "cell_type": "code",
   "execution_count": 28,
   "id": "9915aed3-9f19-4b26-8b3f-3e9d830c7a70",
   "metadata": {},
   "outputs": [],
   "source": [
    "# Null hypo: there are significant differences between the mean weight loss of the three diets\n",
    "\n",
    "# Alt hypo: there are no significant differences between the mean weight loss of the three diets"
   ]
  },
  {
   "cell_type": "code",
   "execution_count": 25,
   "id": "a45baebb-d4db-46c9-af94-fc41df2b3b9f",
   "metadata": {},
   "outputs": [
    {
     "name": "stdout",
     "output_type": "stream",
     "text": [
      "   diets  weight_loss\n",
      "0  Diet1     1.566440\n",
      "1  Diet2     3.149265\n",
      "2  Diet1    -0.078278\n",
      "3  Diet2     4.395472\n",
      "4  Diet2     4.787484\n",
      "             sum_sq    df         F   PR(>F)\n",
      "C(diets)   3.445806   2.0  1.016375  0.36972\n",
      "Residual  79.671787  47.0       NaN      NaN\n"
     ]
    }
   ],
   "source": [
    "# Generating Data\n",
    "\n",
    "import pandas as pd\n",
    "import numpy as np\n",
    "\n",
    "np.random.seed(0)\n",
    "\n",
    "n = 50\n",
    "diets = ['Diet1', 'Diet2', 'Diet3']\n",
    "data = {\n",
    "    'diets': np.random.choice(diets, n),\n",
    "    'weight_loss': np.random.normal(loc=0, scale=1, size=n) + np.random.choice([1, 2, 3], n)\n",
    "}\n",
    "\n",
    "df = pd.DataFrame(data)\n",
    "\n",
    "print(df.head())\n",
    "\n",
    "# Perform One Way ANOVA\n",
    "\n",
    "import statsmodels.api as sm\n",
    "from statsmodels.formula.api import ols\n",
    "\n",
    "# Fit the ANOVA model\n",
    "model = ols('weight_loss ~ C(diets)', data=df).fit()\n",
    "\n",
    "# Get the ANOVA table\n",
    "anova_table = sm.stats.anova_lm(model, typ=2)\n",
    "\n",
    "# Print the ANOVA table\n",
    "print(anova_table)"
   ]
  },
  {
   "cell_type": "code",
   "execution_count": 26,
   "id": "42572279-0ecc-46b3-97db-db26a55d7b66",
   "metadata": {},
   "outputs": [],
   "source": [
    "# From the above code, we conclude that:\n",
    "    \n",
    "F = 1.016\n",
    "p_value = 0.369"
   ]
  },
  {
   "cell_type": "code",
   "execution_count": 27,
   "id": "b3a4a70d-d0c1-41fe-990c-82415dea3f85",
   "metadata": {},
   "outputs": [
    {
     "name": "stdout",
     "output_type": "stream",
     "text": [
      "reject null hypo\n"
     ]
    }
   ],
   "source": [
    "if p_value < F:\n",
    "    print('reject null hypo')\n",
    "else:\n",
    "    print('failed to reject null hypo')"
   ]
  },
  {
   "cell_type": "markdown",
   "id": "005d51a9-8abc-40b5-b310-ebf4a9cae4ab",
   "metadata": {},
   "source": [
    "Q10. A company wants to know if there are any significant differences in the average time it takes to complete a task using three different software programs: Program A, Program B, and Program C. They\n",
    "randomly assign 30 employees to one of the programs and record the time it takes each employee to complete the task. Conduct a two-way ANOVA using Python to determine if there are any main effects or\n",
    "interaction effects between the software programs and employee experience level (novice V/s experienced). Report the F-statistics and p-values, and interpret the results."
   ]
  },
  {
   "cell_type": "code",
   "execution_count": 30,
   "id": "ead333af-2fac-42d6-81af-c67d6256dbc8",
   "metadata": {
    "tags": []
   },
   "outputs": [
    {
     "name": "stdout",
     "output_type": "stream",
     "text": [
      "\n",
      "ANOVA Table:\n",
      "                             sum_sq    df         F    PR(>F)\n",
      "C(program)                 8.498844   2.0  1.262868  0.300972\n",
      "C(experience)              0.480110   1.0  0.142682  0.708949\n",
      "C(program):C(experience)   3.045226   2.0  0.452499  0.641352\n",
      "Residual                  80.757538  24.0       NaN       NaN\n"
     ]
    }
   ],
   "source": [
    "import pandas as pd\n",
    "import numpy as np\n",
    "\n",
    "np.random.seed(42)\n",
    "\n",
    "n = 30\n",
    "programs = ['A', 'B', 'C']\n",
    "experience_levels = ['novice', 'experienced']\n",
    "\n",
    "data = {\n",
    "    'program': np.random.choice(programs, n),\n",
    "    'experience': np.random.choice(experience_levels, n),\n",
    "    'completion_time': np.random.normal(loc=10, scale=2, size=n) + np.random.choice([1, 2, 3], n)\n",
    "}\n",
    "\n",
    "df = pd.DataFrame(data)\n",
    "\n",
    "# Perform two-way ANOVA\n",
    "\n",
    "import statsmodels.api as sm\n",
    "from statsmodels.formula.api import ols\n",
    "\n",
    "# Fit the two-way ANOVA model\n",
    "model = ols('completion_time ~ C(program) + C(experience) + C(program):C(experience)', data=df).fit()\n",
    "\n",
    "# Get the ANOVA table\n",
    "anova_table = sm.stats.anova_lm(model, typ=2)\n",
    "\n",
    "# Print the ANOVA table\n",
    "print(\"\\nANOVA Table:\")\n",
    "print(anova_table)"
   ]
  },
  {
   "cell_type": "raw",
   "id": "0a203e5f-7fa8-4280-9ac5-975fdb35285f",
   "metadata": {},
   "source": [
    "If we look at the output, we observe that for all three cases, the F-value is greater than p-value.\n",
    "\n",
    "CONCLUSIONS: The mean task completion times differs significantly between the different software programs.\n",
    "\n",
    "             The mean task completion times differs significantly between novice and experienced employees.\n",
    "             \n",
    "             The effect of software program on task completion time does not depends on whether employee is novice or experienced."
   ]
  },
  {
   "cell_type": "markdown",
   "id": "f6b683bb-2349-4ff4-a1ba-03f548f9448e",
   "metadata": {},
   "source": [
    "Q12. A researcher wants to know if there are any significant differences in the average daily sales of three retail stores: Store A, Store B, and Store C. They randomly select 30 days and record the sales for each store on those days. Conduct a repeated measures ANOVA using Python to determine if there are any significant differences in sales between the three stores. If the results are significant, follow up with a post-hoc test to determine which store(s) differ significantly from each other."
   ]
  },
  {
   "cell_type": "code",
   "execution_count": 32,
   "id": "27bce7f8-919b-42ab-bd9a-2387b73dd75f",
   "metadata": {},
   "outputs": [
    {
     "name": "stdout",
     "output_type": "stream",
     "text": [
      "Sample Data:\n",
      "   day store       sales\n",
      "0    1     A  114.967142\n",
      "1    2     A  108.617357\n",
      "2    3     A  126.476885\n",
      "3    4     A  125.230299\n",
      "4    5     A  117.658466\n",
      "\n",
      "Repeated Measures ANOVA Results:\n",
      "               Anova\n",
      "===================================\n",
      "      F Value Num DF  Den DF Pr > F\n",
      "-----------------------------------\n",
      "store  1.0637 2.0000 58.0000 0.3518\n",
      "===================================\n",
      "\n",
      "\n",
      "Post-Hoc Test Results (Tukey's HSD):\n",
      "Multiple Comparison of Means - Tukey HSD, FWER=0.05 \n",
      "====================================================\n",
      "group1 group2 meandiff p-adj   lower   upper  reject\n",
      "----------------------------------------------------\n",
      "     A      B   0.0032    1.0 -7.7758  7.7822  False\n",
      "     A      C   4.0103 0.4393 -3.7687 11.7893  False\n",
      "     B      C   4.0071 0.4398 -3.7719 11.7861  False\n",
      "----------------------------------------------------\n"
     ]
    }
   ],
   "source": [
    "np.random.seed(42)\n",
    "n_days = 30\n",
    "stores = ['A', 'B', 'C']\n",
    "sales_data = {\n",
    "    'day': np.tile(np.arange(1, n_days + 1), len(stores)),\n",
    "    'store': np.repeat(stores, n_days),\n",
    "    'sales': np.random.normal(loc=100, scale=10, size=n_days * len(stores)) + np.random.choice([0, 10, 20], n_days * len(stores))\n",
    "}\n",
    "\n",
    "df = pd.DataFrame(sales_data)\n",
    "\n",
    "print(\"Sample Data:\")\n",
    "print(df.head())\n",
    "\n",
    "import statsmodels.api as sm\n",
    "from statsmodels.formula.api import ols\n",
    "from statsmodels.stats.anova import AnovaRM\n",
    "\n",
    "rm_anova = AnovaRM(df, 'sales', 'day', within=['store'])\n",
    "rm_anova_results = rm_anova.fit()\n",
    "\n",
    "print(\"\\nRepeated Measures ANOVA Results:\")\n",
    "print(rm_anova_results)\n",
    "\n",
    "from statsmodels.stats.multicomp import pairwise_tukeyhsd\n",
    "\n",
    "posthoc = pairwise_tukeyhsd(df['sales'], df['store'], alpha=0.05)\n",
    "\n",
    "print(\"\\nPost-Hoc Test Results (Tukey's HSD):\")\n",
    "print(posthoc)"
   ]
  },
  {
   "cell_type": "code",
   "execution_count": null,
   "id": "c4959b42-07cd-4591-be90-0a844f198b3b",
   "metadata": {},
   "outputs": [],
   "source": []
  }
 ],
 "metadata": {
  "kernelspec": {
   "display_name": "Python 3 (ipykernel)",
   "language": "python",
   "name": "python3"
  },
  "language_info": {
   "codemirror_mode": {
    "name": "ipython",
    "version": 3
   },
   "file_extension": ".py",
   "mimetype": "text/x-python",
   "name": "python",
   "nbconvert_exporter": "python",
   "pygments_lexer": "ipython3",
   "version": "3.10.8"
  }
 },
 "nbformat": 4,
 "nbformat_minor": 5
}
