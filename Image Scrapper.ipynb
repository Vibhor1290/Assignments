{
 "cells": [
  {
   "cell_type": "markdown",
   "id": "c5d5680d-8e8a-4d1c-a64d-847deb6a30e3",
   "metadata": {},
   "source": [
    "Go to this given URL: https://www.youtube.com/@PW-Foundation/videos"
   ]
  },
  {
   "cell_type": "markdown",
   "id": "2abf2b35-e1ec-4f51-8d40-4c898f359aec",
   "metadata": {},
   "source": [
    "# Q1. Write a python program to extract the video URL of the first five videos."
   ]
  },
  {
   "cell_type": "code",
   "execution_count": 12,
   "id": "6b9d34ea-8541-4953-84a5-fe4c779ab0e4",
   "metadata": {},
   "outputs": [
    {
     "name": "stdout",
     "output_type": "stream",
     "text": [
      "Video 1: https://www.youtube.com/watch?v=kqtD5dpn9C8\n",
      "Video 2: https://www.youtube.com/watch?v=ERCMXc8x7mc\n",
      "Video 3: https://www.youtube.com/watch?v=_uQrJ0TkZlc\n",
      "Video 4: https://www.youtube.com/watch?v=nLRL_NcnK-4\n",
      "Video 5: https://www.youtube.com/watch?v=m67-bOpOoPU\n"
     ]
    }
   ],
   "source": [
    "from youtubesearchpython import VideosSearch\n",
    "\n",
    "def extract_URL(query):\n",
    "    videos_search = VideosSearch(query, limit=5)\n",
    "    results = videos_search.result()\n",
    "    \n",
    "    # Extract the video URLs from the results\n",
    "    video_urls = [video['link'] for video in results['result']]\n",
    "    \n",
    "    return video_urls\n",
    "\n",
    "# Example usage\n",
    "store = []\n",
    "query = \"Python programming\"\n",
    "video_urls = extract_URL(query)\n",
    "for index, url in enumerate(video_urls, start=1):\n",
    "    print(f\"Video {index}: {url}\")\n",
    "    store.append(url)"
   ]
  },
  {
   "cell_type": "code",
   "execution_count": 14,
   "id": "1f71d823-11a1-4116-b758-c962c4228389",
   "metadata": {},
   "outputs": [],
   "source": [
    "import pandas as pd"
   ]
  },
  {
   "cell_type": "code",
   "execution_count": 16,
   "id": "2cc9b3e9-cf25-42a6-b953-f2b5a6fb2f4d",
   "metadata": {},
   "outputs": [],
   "source": [
    "Store = pd.DataFrame(store)"
   ]
  },
  {
   "cell_type": "code",
   "execution_count": 18,
   "id": "1d770a37-fe5c-4b2c-9b87-897286f83bf0",
   "metadata": {},
   "outputs": [],
   "source": [
    "Store.to_csv('URL_List.csv')"
   ]
  },
  {
   "cell_type": "markdown",
   "id": "3c3ff861-9636-44a1-bb89-93a88bd8917d",
   "metadata": {},
   "source": [
    "# Q2. Write a python program to extract the URL of the video thumbnails of the first five videos."
   ]
  },
  {
   "cell_type": "code",
   "execution_count": 27,
   "id": "d9f68577-6240-4dd4-8d3b-651b6d0cf100",
   "metadata": {},
   "outputs": [
    {
     "name": "stdout",
     "output_type": "stream",
     "text": [
      "Thumbnail 1: https://i.ytimg.com/vi/_uQrJ0TkZlc/hq720.jpg?sqp=-oaymwEcCOgCEMoBSFXyq4qpAw4IARUAAIhCGAFwAcABBg==&rs=AOn4CLCQfkbApoaN-_QBOuiyHzWJOiziEA\n",
      "Thumbnail 2: https://i.ytimg.com/vi/UrsmFxEIp5k/hq720.jpg?sqp=-oaymwEcCOgCEMoBSFXyq4qpAw4IARUAAIhCGAFwAcABBg==&rs=AOn4CLAJMEKj43YZAZHZkCUujvGBDmwJUA\n",
      "Thumbnail 3: https://i.ytimg.com/vi/HeW-D6KpDwY/hq720.jpg?sqp=-oaymwEcCOgCEMoBSFXyq4qpAw4IARUAAIhCGAFwAcABBg==&rs=AOn4CLAbVkzMODv1-4rQdJx5TmPQzLknpg\n",
      "Thumbnail 4: https://i.ytimg.com/vi/vLqTf2b6GZw/hq720.jpg?sqp=-oaymwEcCOgCEMoBSFXyq4qpAw4IARUAAIhCGAFwAcABBg==&rs=AOn4CLBOuj9JeHvgIakD4BnhgHJyYw8aCw\n",
      "Thumbnail 5: https://i.ytimg.com/vi/kqtD5dpn9C8/hq720.jpg?sqp=-oaymwEcCOgCEMoBSFXyq4qpAw4IARUAAIhCGAFwAcABBg==&rs=AOn4CLD1iLVjsmE_gK2uZS887LgyThzx4Q\n"
     ]
    }
   ],
   "source": [
    "from youtubesearchpython import VideosSearch\n",
    "\n",
    "def first_five_thumbnails(query):\n",
    "    # Search for videos using the given query\n",
    "    videos_search = VideosSearch(query, limit=5)\n",
    "    results = videos_search.result()\n",
    "    \n",
    "    # Extract the thumbnail URLs from the results\n",
    "    thumbnail_urls = [video['thumbnails'][0]['url'] for video in results['result']]\n",
    "    \n",
    "    return thumbnail_urls\n",
    "\n",
    "# Example usage\n",
    "thumbnail = []\n",
    "query = \"Python programming\"\n",
    "thumbnail_urls = first_five_thumbnails(query)\n",
    "for index, url in enumerate(thumbnail_urls, start=1):\n",
    "    print(f\"Thumbnail {index}: {url}\")\n",
    "    thumbnail.append(url)"
   ]
  },
  {
   "cell_type": "code",
   "execution_count": 22,
   "id": "a6900154-41ce-45e5-9d28-ee34383844ce",
   "metadata": {},
   "outputs": [],
   "source": [
    "Thumb = pd.DataFrame(thumbnail)"
   ]
  },
  {
   "cell_type": "code",
   "execution_count": 23,
   "id": "b1066831-67f8-4a76-81e4-1a8a4418d595",
   "metadata": {},
   "outputs": [],
   "source": [
    "Thumb.to_csv('Thumbnail.csv')"
   ]
  },
  {
   "cell_type": "markdown",
   "id": "d1c8a04f-335c-4877-bce4-448d2b96e451",
   "metadata": {},
   "source": [
    "# Q3. Write a python program to extract the title of the first five videos."
   ]
  },
  {
   "cell_type": "code",
   "execution_count": 28,
   "id": "51db687a-9e51-4b8e-b67c-a60841702488",
   "metadata": {},
   "outputs": [
    {
     "name": "stdout",
     "output_type": "stream",
     "text": [
      "Video 1: Python Tutorial - Python Full Course for Beginners\n",
      "Video 2: Python for Beginners - Learn Python in 1 Hour\n",
      "Video 3: Harvard CS50’s Introduction to Programming with Python – Full University Course\n",
      "Video 4: Python Tutorial For Beginners in Hindi | Complete Python Course 🔥\n",
      "Video 5: Intermediate Python Programming Course\n"
     ]
    }
   ],
   "source": [
    "from youtubesearchpython import VideosSearch\n",
    "\n",
    "def first_five_titles(query):\n",
    "    # Search for videos using the given query\n",
    "    videos_search = VideosSearch(query, limit=5)\n",
    "    results = videos_search.result()\n",
    "    \n",
    "    # Extract the video titles from the results\n",
    "    video_titles = [video['title'] for video in results['result']]\n",
    "    \n",
    "    return video_titles\n",
    "\n",
    "# Example usage\n",
    "Titles = []\n",
    "query = \"Python programming\"\n",
    "video_titles = first_five_titles(query)\n",
    "for index, title in enumerate(video_titles, start=1):\n",
    "    print(f\"Video {index}: {title}\")\n",
    "    Titles.append(title)"
   ]
  },
  {
   "cell_type": "code",
   "execution_count": 25,
   "id": "815ce13b-d57f-49b8-962b-0b75ecac9d57",
   "metadata": {},
   "outputs": [],
   "source": [
    "Title = pd.DataFrame(Titles)"
   ]
  },
  {
   "cell_type": "code",
   "execution_count": 26,
   "id": "ec267fb6-dedd-4b39-9df1-d52f68d84c44",
   "metadata": {},
   "outputs": [],
   "source": [
    "Title.to_csv('Title.csv')"
   ]
  },
  {
   "cell_type": "markdown",
   "id": "35f26369-7676-4dc8-b7e1-78b089385ce1",
   "metadata": {},
   "source": [
    "# Q4. Write a python program to extract the number of views of the first five videos."
   ]
  },
  {
   "cell_type": "code",
   "execution_count": 29,
   "id": "b73b8064-7688-4896-9578-3c7047d35681",
   "metadata": {},
   "outputs": [
    {
     "name": "stdout",
     "output_type": "stream",
     "text": [
      "Video 1 views: 816,752 views\n",
      "Video 2 views: 17,503,159 views\n",
      "Video 3 views: 3,066,610 views\n",
      "Video 4 views: 39,597,291 views\n",
      "Video 5 views: 294,350 views\n"
     ]
    }
   ],
   "source": [
    "from youtubesearchpython import VideosSearch\n",
    "\n",
    "def first_five_views(query):\n",
    "    # Search for videos using the given query\n",
    "    videos_search = VideosSearch(query, limit=5)\n",
    "    results = videos_search.result()\n",
    "    \n",
    "    # Extract the number of views from the results\n",
    "    video_views = [video['viewCount']['text'] for video in results['result']]\n",
    "    \n",
    "    return video_views\n",
    "\n",
    "# Example usage\n",
    "Views = []\n",
    "query = \"Python programming\"\n",
    "video_views = first_five_views(query)\n",
    "for index, views in enumerate(video_views, start=1):\n",
    "    print(f\"Video {index} views: {views}\")\n",
    "    Views.append(views)"
   ]
  },
  {
   "cell_type": "code",
   "execution_count": 30,
   "id": "e56d775a-a999-4437-b11d-8352002f330b",
   "metadata": {},
   "outputs": [],
   "source": [
    "View_count = pd.DataFrame(Views)"
   ]
  },
  {
   "cell_type": "code",
   "execution_count": 31,
   "id": "8d8d4f84-b90b-4e02-9dd3-d2ba816c800f",
   "metadata": {},
   "outputs": [],
   "source": [
    "View_count.to_csv('Viewers.csv')"
   ]
  },
  {
   "cell_type": "markdown",
   "id": "43f32324-4453-4be8-b842-68c5f3d9db09",
   "metadata": {},
   "source": [
    "# Q5. Write a python program to extract the time of posting of video for the first five videos."
   ]
  },
  {
   "cell_type": "code",
   "execution_count": 33,
   "id": "c26cb860-cd19-4390-82f4-c8b4556469f6",
   "metadata": {},
   "outputs": [
    {
     "name": "stdout",
     "output_type": "stream",
     "text": [
      "Video 1 posted: 5 years ago\n",
      "Video 2 posted: 3 years ago\n",
      "Video 3 posted: 1 year ago\n",
      "Video 4 posted: 2 weeks ago\n",
      "Video 5 posted: 1 year ago\n"
     ]
    }
   ],
   "source": [
    "from youtubesearchpython import VideosSearch\n",
    "\n",
    "def first_five_posting_time(query):\n",
    "    # Search for videos using the given query\n",
    "    videos_search = VideosSearch(query, limit=5)\n",
    "    results = videos_search.result()\n",
    "    \n",
    "    # Extract the posting times from the results\n",
    "    posting_time = [video['publishedTime'] for video in results['result']]\n",
    "    \n",
    "    return posting_time\n",
    "\n",
    "# Example usage\n",
    "Post = []\n",
    "query = \"Python programming\"\n",
    "video_posting_time = first_five_posting_time(query)\n",
    "for index, posting_time in enumerate(video_posting_time, start=1):\n",
    "    print(f\"Video {index} posted: {posting_time}\")\n",
    "    Post.append(posting_time)"
   ]
  },
  {
   "cell_type": "code",
   "execution_count": 34,
   "id": "967bd6dd-d04f-4562-b6f9-c3904f73b0ae",
   "metadata": {},
   "outputs": [],
   "source": [
    "Posted_time = pd.DataFrame(Post)"
   ]
  },
  {
   "cell_type": "code",
   "execution_count": 35,
   "id": "e0d78fb6-f816-42fd-a451-eac3c54bc231",
   "metadata": {},
   "outputs": [],
   "source": [
    "Posted_time.to_csv('post_time.csv')"
   ]
  },
  {
   "cell_type": "code",
   "execution_count": null,
   "id": "c3b70941-1b8d-41d5-a1e4-8a7a3e2bb7fa",
   "metadata": {},
   "outputs": [],
   "source": []
  }
 ],
 "metadata": {
  "kernelspec": {
   "display_name": "Python 3 (ipykernel)",
   "language": "python",
   "name": "python3"
  },
  "language_info": {
   "codemirror_mode": {
    "name": "ipython",
    "version": 3
   },
   "file_extension": ".py",
   "mimetype": "text/x-python",
   "name": "python",
   "nbconvert_exporter": "python",
   "pygments_lexer": "ipython3",
   "version": "3.10.8"
  }
 },
 "nbformat": 4,
 "nbformat_minor": 5
}
