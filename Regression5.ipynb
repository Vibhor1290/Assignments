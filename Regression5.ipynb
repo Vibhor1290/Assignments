{
 "cells": [
  {
   "cell_type": "markdown",
   "id": "1c73f5d9-2f0e-4920-90e7-f41b601ce050",
   "metadata": {},
   "source": [
    "Q1. What is Elastic Net Regression and how does it differ from other regression techniques?"
   ]
  },
  {
   "cell_type": "raw",
   "id": "9231d146-dff6-4e15-837f-630e0407e486",
   "metadata": {},
   "source": [
    "Elastic Net Regression is a combined technique of both Lasso and Ridge regularization. It is used especially when we are handling datasets having highly correlated features or when the number of features is greater than the number of observations.\n",
    "\n",
    "Elastic Net combines both penalties thus providing a good balance between Ridge and Lasso. It handles correlated features better than Lasso and can perform feature selection as well.\n",
    "\n",
    "The combination of both the penalties in Elastic Net allows it to adjust the degree of sparsity and the extent of coefficient reduction.\n",
    "\n",
    "Elastic Net can handle multicollinearity better than Lasso."
   ]
  },
  {
   "cell_type": "markdown",
   "id": "8dc461af-54b0-4712-96d1-77793c247052",
   "metadata": {},
   "source": [
    "Q2. How do you choose the optimal values of the regularization parameters for Elastic Net Regression?"
   ]
  },
  {
   "cell_type": "raw",
   "id": "0da6686a-3f16-4cbf-9772-fc416aa8fb43",
   "metadata": {},
   "source": [
    "Here, alpha is a combined parameter of L1 and L2.\n",
    "\n",
    "If alpha = 0, it will become ridge regression.\n",
    "\n",
    "If alpha = 1, it will become lasso regression.\n",
    "\n",
    "if 0 < alpha < 1, it will be a mix of L1 and L2.\n",
    "\n",
    "Grid Search with CV:\n",
    "\n",
    "The most common method to choose hyperparameters is to perform a grid search with cross-validation which involves defining a range for both alpha and lambda, training models for each combination of these values, and evaluating their performance using cross-validation."
   ]
  },
  {
   "cell_type": "markdown",
   "id": "4e1fcd57-6a6e-4a59-bafc-19863c3b4483",
   "metadata": {},
   "source": [
    "Q3. What are the advantages and disadvantages of Elastic Net Regression?"
   ]
  },
  {
   "cell_type": "raw",
   "id": "238cad7e-50cf-4062-92fd-b6716c698c9c",
   "metadata": {},
   "source": [
    "Advantages:\n",
    "\n",
    "1. Elastic Net Regression can handle multicollinearity very effectively.\n",
    "\n",
    "2. It can reduce overfitting problem easily.\n",
    "\n",
    "3. Elastic net can easily balance the bias-variance trade-off by finding a middle ground between underfitting and overfitting.\n",
    "\n",
    "Disadvantages:\n",
    "    \n",
    "1. Tuning of hyperparameters in Elastic Net Regression can be time-consuming and computationally expensive.\n",
    "    \n",
    "2. Elastic Net may not work perfectly for high-dimensional data(where number of features is much higher than number of observations.)\n",
    "    \n",
    "3. Elastic net is more complex and ambiguous because it involves a combination of two penalties and two hyperparameters."
   ]
  },
  {
   "cell_type": "markdown",
   "id": "fd73db58-c484-4bc6-a1d4-374958d05eae",
   "metadata": {},
   "source": [
    "Q4. What are some common use cases for Elastic Net Regression?"
   ]
  },
  {
   "cell_type": "raw",
   "id": "e4cad1aa-648d-421e-84fb-c32c4ce1786a",
   "metadata": {},
   "source": [
    "1. Disease Diagnosis\n",
    "\n",
    "2. Portfolio optimisation\n",
    "\n",
    "3. Fraud Detection\n",
    "\n",
    "4. Stocks Prediction"
   ]
  },
  {
   "cell_type": "markdown",
   "id": "d95be9e6-b77f-4f26-a790-714cd3563f9e",
   "metadata": {},
   "source": [
    "Q5. How do you interpret the coefficients in Elastic Net Regression?"
   ]
  },
  {
   "cell_type": "raw",
   "id": "50ec17b4-dc1a-49bb-8341-eb9af3959d59",
   "metadata": {},
   "source": [
    "In Elastic Net Regression, the coefficients simply denotes the strength and nature of relation between independent and dependent feature. Since Elastic Net is a combination of both Lasso and Ridge regularization, the interpretation of coefficients considers both feature selection of Lasso and the coefficient reduction effect of Ridge.\n",
    "\n",
    "Magnitude: This shows the strength of the relationship between independent and dependent feature. Higher coefficients denotes a stronger influence and smaller coefficients denotes a weaker impact.\n",
    "\n",
    "Sign of the Coefficient: The sign of coefficient indicates relationship nature. A positive coefficient indicates direct relation between independent and dependent feature.\n",
    "\n",
    "While, a negative coefficient indicates an inverse relation between independent and dependent feature.\n",
    "\n",
    "Feature Selection: Elastic Net combines Lasso and Ridge regularization which means that some coefficients will be drawn towards zero while some will be completely marked as zero. "
   ]
  },
  {
   "cell_type": "markdown",
   "id": "39963e80-777d-47bc-8e68-d7a8d5e0afd2",
   "metadata": {},
   "source": [
    "Q6. How do you handle missing values when using Elastic Net Regression?"
   ]
  },
  {
   "cell_type": "raw",
   "id": "30c37cb3-0b76-49d4-8af3-f4fc6dd46b0f",
   "metadata": {},
   "source": [
    "1. Remove Missing Data:\n",
    "\n",
    "This involves removing rows with missing values. We can consider this method if the missing data is small and randomly distributed across the dataset. But, if too much data is removed, it can lead to data loss and biased results.\n",
    "\n",
    "2. Imputation:\n",
    "\n",
    "Imputation comprises of replacing the missing values with estimated values like mean, median or mode. More advanced techniques includes K-nearest neighbors (KNN) imputation or predictive mean matching can also be used.\n",
    "\n",
    "3. Some implementations of the Elastic Net Regression allow us to specify a strategy for handling missing values like Imputer class which allows us to preprocess the raw data and then apply Elastic Net Regression on the imputed dataset. (Imputer is an automation technique that handles missing value on its own)"
   ]
  },
  {
   "cell_type": "markdown",
   "id": "5e31aa00-f576-4ec0-9cd6-c87d47a5b2fd",
   "metadata": {},
   "source": [
    "Q7. How do you use Elastic Net Regression for feature selection?"
   ]
  },
  {
   "cell_type": "raw",
   "id": "1fe6cffd-028b-4588-8661-9966486d4229",
   "metadata": {},
   "source": [
    "Elastic Net Regression is a very powerful tool for feature selection because of its ability to handle multicollinearity and perform automatic feature selection by reducing coefficients towards zero.\n",
    "\n",
    "Step1: Data Preprocessing\n",
    "\n",
    "Cleaning of data like handling missing values, outliers, and encoding categorical features(if necessary). Splitting the data into training and testing dataset to evaluate the model's performance.\n",
    "\n",
    "Step2: Feature Standardization\n",
    "\n",
    "Scaling down the features to a certain range so that calculation becomes easier and faster.\n",
    "\n",
    "Step3: Choosing best parameters for Elastic Net Regression\n",
    "\n",
    "Training of Elastic Net model using the training data and specifying other hyperparameters such as lambda or alpha.\n",
    "\n",
    "Step4: Feature Selection\n",
    "\n",
    "Once the Elastic Net model is trained, we have to observe the coefficients assigned to each feature. Also, we can set a threshold value. Ex: All the features whose coefficients are less than 0.4 will be ignored by the model.\n",
    "\n",
    "Step5: Evaluating Model Performance\n",
    "\n",
    "Use the test dataset or cross-validation to evaluate performance of Elastic Net model with the selected features."
   ]
  },
  {
   "cell_type": "markdown",
   "id": "08827f0c-dc4c-46ed-a57e-025bc710c596",
   "metadata": {},
   "source": [
    "Q8. How do you pickle and unpickle a trained Elastic Net Regression model in Python?"
   ]
  },
  {
   "cell_type": "code",
   "execution_count": 3,
   "id": "c62ac7e7-0165-4361-9156-f48fe9acda39",
   "metadata": {},
   "outputs": [],
   "source": [
    "from sklearn.linear_model import ElasticNet\n",
    "from sklearn.datasets import make_regression\n",
    "import pickle\n",
    "\n",
    "X, y = make_regression(n_samples=100, n_features=10, noise=0.1)\n",
    "\n",
    "elastic_net = ElasticNet(alpha=0.1, l1_ratio=0.5)\n",
    "elastic_net.fit(X, y)\n",
    "\n",
    "with open('E_Net.pkl', 'wb') as file:\n",
    "    pickle.dump(elastic_net, file)"
   ]
  },
  {
   "cell_type": "code",
   "execution_count": 6,
   "id": "59c95a12-7953-4d9d-95dd-f77199cc95a2",
   "metadata": {},
   "outputs": [],
   "source": [
    "with open('E_Net.pkl', 'rb') as q:\n",
    "    loaded_model = pickle.load(q)"
   ]
  },
  {
   "cell_type": "code",
   "execution_count": 7,
   "id": "78b11095-0f0f-4056-8ac7-90ca9c9eb1d8",
   "metadata": {},
   "outputs": [
    {
     "data": {
      "text/html": [
       "<style>#sk-container-id-1 {color: black;background-color: white;}#sk-container-id-1 pre{padding: 0;}#sk-container-id-1 div.sk-toggleable {background-color: white;}#sk-container-id-1 label.sk-toggleable__label {cursor: pointer;display: block;width: 100%;margin-bottom: 0;padding: 0.3em;box-sizing: border-box;text-align: center;}#sk-container-id-1 label.sk-toggleable__label-arrow:before {content: \"▸\";float: left;margin-right: 0.25em;color: #696969;}#sk-container-id-1 label.sk-toggleable__label-arrow:hover:before {color: black;}#sk-container-id-1 div.sk-estimator:hover label.sk-toggleable__label-arrow:before {color: black;}#sk-container-id-1 div.sk-toggleable__content {max-height: 0;max-width: 0;overflow: hidden;text-align: left;background-color: #f0f8ff;}#sk-container-id-1 div.sk-toggleable__content pre {margin: 0.2em;color: black;border-radius: 0.25em;background-color: #f0f8ff;}#sk-container-id-1 input.sk-toggleable__control:checked~div.sk-toggleable__content {max-height: 200px;max-width: 100%;overflow: auto;}#sk-container-id-1 input.sk-toggleable__control:checked~label.sk-toggleable__label-arrow:before {content: \"▾\";}#sk-container-id-1 div.sk-estimator input.sk-toggleable__control:checked~label.sk-toggleable__label {background-color: #d4ebff;}#sk-container-id-1 div.sk-label input.sk-toggleable__control:checked~label.sk-toggleable__label {background-color: #d4ebff;}#sk-container-id-1 input.sk-hidden--visually {border: 0;clip: rect(1px 1px 1px 1px);clip: rect(1px, 1px, 1px, 1px);height: 1px;margin: -1px;overflow: hidden;padding: 0;position: absolute;width: 1px;}#sk-container-id-1 div.sk-estimator {font-family: monospace;background-color: #f0f8ff;border: 1px dotted black;border-radius: 0.25em;box-sizing: border-box;margin-bottom: 0.5em;}#sk-container-id-1 div.sk-estimator:hover {background-color: #d4ebff;}#sk-container-id-1 div.sk-parallel-item::after {content: \"\";width: 100%;border-bottom: 1px solid gray;flex-grow: 1;}#sk-container-id-1 div.sk-label:hover label.sk-toggleable__label {background-color: #d4ebff;}#sk-container-id-1 div.sk-serial::before {content: \"\";position: absolute;border-left: 1px solid gray;box-sizing: border-box;top: 0;bottom: 0;left: 50%;z-index: 0;}#sk-container-id-1 div.sk-serial {display: flex;flex-direction: column;align-items: center;background-color: white;padding-right: 0.2em;padding-left: 0.2em;position: relative;}#sk-container-id-1 div.sk-item {position: relative;z-index: 1;}#sk-container-id-1 div.sk-parallel {display: flex;align-items: stretch;justify-content: center;background-color: white;position: relative;}#sk-container-id-1 div.sk-item::before, #sk-container-id-1 div.sk-parallel-item::before {content: \"\";position: absolute;border-left: 1px solid gray;box-sizing: border-box;top: 0;bottom: 0;left: 50%;z-index: -1;}#sk-container-id-1 div.sk-parallel-item {display: flex;flex-direction: column;z-index: 1;position: relative;background-color: white;}#sk-container-id-1 div.sk-parallel-item:first-child::after {align-self: flex-end;width: 50%;}#sk-container-id-1 div.sk-parallel-item:last-child::after {align-self: flex-start;width: 50%;}#sk-container-id-1 div.sk-parallel-item:only-child::after {width: 0;}#sk-container-id-1 div.sk-dashed-wrapped {border: 1px dashed gray;margin: 0 0.4em 0.5em 0.4em;box-sizing: border-box;padding-bottom: 0.4em;background-color: white;}#sk-container-id-1 div.sk-label label {font-family: monospace;font-weight: bold;display: inline-block;line-height: 1.2em;}#sk-container-id-1 div.sk-label-container {text-align: center;}#sk-container-id-1 div.sk-container {/* jupyter's `normalize.less` sets `[hidden] { display: none; }` but bootstrap.min.css set `[hidden] { display: none !important; }` so we also need the `!important` here to be able to override the default hidden behavior on the sphinx rendered scikit-learn.org. See: https://github.com/scikit-learn/scikit-learn/issues/21755 */display: inline-block !important;position: relative;}#sk-container-id-1 div.sk-text-repr-fallback {display: none;}</style><div id=\"sk-container-id-1\" class=\"sk-top-container\"><div class=\"sk-text-repr-fallback\"><pre>ElasticNet(alpha=0.1)</pre><b>In a Jupyter environment, please rerun this cell to show the HTML representation or trust the notebook. <br />On GitHub, the HTML representation is unable to render, please try loading this page with nbviewer.org.</b></div><div class=\"sk-container\" hidden><div class=\"sk-item\"><div class=\"sk-estimator sk-toggleable\"><input class=\"sk-toggleable__control sk-hidden--visually\" id=\"sk-estimator-id-1\" type=\"checkbox\" checked><label for=\"sk-estimator-id-1\" class=\"sk-toggleable__label sk-toggleable__label-arrow\">ElasticNet</label><div class=\"sk-toggleable__content\"><pre>ElasticNet(alpha=0.1)</pre></div></div></div></div></div>"
      ],
      "text/plain": [
       "ElasticNet(alpha=0.1)"
      ]
     },
     "execution_count": 7,
     "metadata": {},
     "output_type": "execute_result"
    }
   ],
   "source": [
    "loaded_model"
   ]
  },
  {
   "cell_type": "markdown",
   "id": "114c9a8d-233b-4a02-90dd-a2b62008fe01",
   "metadata": {},
   "source": [
    "Q9. What is the purpose of pickling a model in machine learning?"
   ]
  },
  {
   "cell_type": "raw",
   "id": "c92b67ef-328c-4d42-8d02-699136cd18cb",
   "metadata": {},
   "source": [
    "The main purpose of pickling a model is to save it for future reference. Just like we save a normal file for furture purposes.\n",
    "\n",
    "Suppose, we have created a ML model and we want to use that model repeatedly, so instead of writing the same code again and again we will simply call out the pickle file of that model and then train any data with that model.\n",
    "\n",
    "Also, we can use this pickle file for sharing, uploading to github or even when deploying a model in AWS, flask or any other platform."
   ]
  },
  {
   "cell_type": "code",
   "execution_count": null,
   "id": "27898d22-7bbe-4e82-a990-bc3e178ca560",
   "metadata": {},
   "outputs": [],
   "source": []
  }
 ],
 "metadata": {
  "kernelspec": {
   "display_name": "Python 3 (ipykernel)",
   "language": "python",
   "name": "python3"
  },
  "language_info": {
   "codemirror_mode": {
    "name": "ipython",
    "version": 3
   },
   "file_extension": ".py",
   "mimetype": "text/x-python",
   "name": "python",
   "nbconvert_exporter": "python",
   "pygments_lexer": "ipython3",
   "version": "3.10.8"
  }
 },
 "nbformat": 4,
 "nbformat_minor": 5
}
