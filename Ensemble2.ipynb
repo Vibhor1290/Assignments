{
 "cells": [
  {
   "cell_type": "markdown",
   "id": "f6e11e65-11f1-44e7-bfc5-ed62e38ef399",
   "metadata": {},
   "source": [
    "Q1. How does bagging reduce overfitting in decision trees?"
   ]
  },
  {
   "cell_type": "raw",
   "id": "86d91a2d-778b-42aa-af71-61929c412935",
   "metadata": {},
   "source": [
    "1. By training multiple decision tree models on different subsets of data, the errors made by individual trees are less likely to be correlated. Aggregating these uncorrelated errors results in a model with lower variance.\n",
    "\n",
    "2. The averaging process smooths out the predictions, making the final model less sensitive to the peculiarities further reducing chances of overfitting within the training data.\n",
    "\n",
    "3. As each tree is trained on a slightly different subset, they all are less likely to overfit to the same noise. The ensemble model is thus better at capturing the underlying signal rather than the noise."
   ]
  },
  {
   "cell_type": "markdown",
   "id": "21bda3ce-8370-4403-99f4-c3c822a91ce0",
   "metadata": {},
   "source": [
    "Q2. What are the advantages and disadvantages of using different types of base learners in bagging?"
   ]
  },
  {
   "cell_type": "raw",
   "id": "d18c73de-dc37-46cf-800e-ca3ce7574caa",
   "metadata": {},
   "source": [
    "Advantages:\n",
    "    \n",
    "    1. Different base learners have different strengths and weaknesses hence aggregating all of them can leverage the strengths of each type, resulting in a more robust and accurate model.\n",
    "    2. Different base learners are likely to make different errors. This reduces the likelihood of correlated errors, which can enhance the overall performance of the ensemble model.\n",
    "    3. Ensembles with different types of base learners can adapt to various types of data and problems more effectively than ensembles with homogeneous base learners.\n",
    "    \n",
    "Disadvantages:\n",
    "   \n",
    "    1. Using a huge number of base learners can be more complex in terms of implementation, maintenance, and tuning.\n",
    "    \n",
    "    2. If the base learners are not managed carefully, it can increase the risk of overfitting, especially when the ensemble model is too large or if individual base learners are overcomplex."
   ]
  },
  {
   "cell_type": "markdown",
   "id": "56a1ddfe-2db3-4157-9360-b65360eadad3",
   "metadata": {},
   "source": [
    "Q3. How does the choice of base learner affect the bias-variance tradeoff in bagging?"
   ]
  },
  {
   "cell_type": "raw",
   "id": "f56f7d8e-7a38-4e96-985d-94fd4855a1d8",
   "metadata": {},
   "source": [
    "Bagging is particularly effective with decision tree having high-variance and low-bias. Because of low bias, the model can capture complex relationships within the data. On the other side, high variance model are very sensitive to the data pattern and helps in prediciting high accuracy.\n",
    "\n",
    "Similarly, if the model has high bias, it moght not capture complex relation within the dataset features. Also, due to low variance the model might not be sensitive and robust with the data."
   ]
  },
  {
   "cell_type": "markdown",
   "id": "eba12de8-4833-45c6-ba88-cd0a8c1bd723",
   "metadata": {},
   "source": [
    "Q4. Can bagging be used for both classification and regression tasks? How does it differ in each case?"
   ]
  },
  {
   "cell_type": "raw",
   "id": "4cb713f0-0c2f-4b97-9a1d-bc1db99f3e5e",
   "metadata": {},
   "source": [
    "Yes, we can use bagging technique for both classification and regression problems. As we have already discussed the steps of bagging model in previous assignment.\n",
    "\n",
    "The only difference b/w classification and regression method is how do we calculate the final output from the model.\n",
    "\n",
    "Lets say we have 10 models present in base learner chain that are dealing with a regression problem. Now, we will get 10 different outputs from base learner.\n",
    "\n",
    "To find out a single output, we will simply perform the average of all the 10 outputs and get the desired result.\n",
    "\n",
    "\n",
    "In the same way, for classification problem we will again get 10 outputs from the base learner chain. In this method, we will perform voting classification technique that observes the frequency of each category/class and the category having the maximum frequency will the selected as output for the model."
   ]
  },
  {
   "cell_type": "markdown",
   "id": "d3ae088c-52d1-48b8-bb52-fda3e76c3baf",
   "metadata": {},
   "source": [
    "Q5. What is the role of ensemble size in bagging? How many models should be included in the ensemble?"
   ]
  },
  {
   "cell_type": "raw",
   "id": "54910c78-9bd4-4271-916e-8d452c1cf6e9",
   "metadata": {},
   "source": [
    "The ensemble size simply means the number of base models we are going to use in ensemble model. Ensemble size plays a vital role in deciding the performance of bagged model.\n",
    "\n",
    "There are certain parameters that we have to consider while choosing number of base learner for ensemble model: \n",
    "\n",
    "1. The number of models is determined empirically by experimenting with different sizes and evaluating performance on a validation set ans then choosing the best one.\n",
    "\n",
    "2. There is a stage under which the model starts to lose its accuracy when we try to add more and more base lesrner in our model. Hence, we have to identify this point to avoid accuracy loss.\n",
    "\n",
    "3. However, we can add more models to our ensemble upto a certain range but using more models results in higher computational costs for training and prediction. So, we have to select such an ensemble that provides a complete balance between accuracy and computational expenses."
   ]
  },
  {
   "cell_type": "markdown",
   "id": "ba19370f-846c-41d9-95d8-9c12708471c2",
   "metadata": {},
   "source": [
    "Q6. Can you provide an example of a real-world application of bagging in machine learning?"
   ]
  },
  {
   "cell_type": "raw",
   "id": "0027ae17-771e-40de-8b14-aef99f658365",
   "metadata": {},
   "source": [
    "In the field of finance, we have banks and credit card companies that assess the creditworthiness of applicants to decide whether to approve/reject loan applications or extend credit."
   ]
  },
  {
   "cell_type": "raw",
   "id": "d58df6d0-7475-4664-b43d-fd29a6633d8d",
   "metadata": {},
   "source": [
    "Step1: We will collect the data (like credit history, repayment schedule, defaulting loans, location, etc.)\n",
    "\n",
    "Step2: Once we get the raw data, we will perform EDA (handling missing value, duplicated value, etc.)\n",
    "\n",
    "Step3: Then, we will apply bagging technique with appropriate value of paramters used within the model.\n",
    "\n",
    "Step4: Once the model is trained with train dataset, we will then start making predictions.\n",
    "\n",
    "Step5: We will apply various performance metrics based on whether output data is categorical or continuous.\n",
    "\n",
    "Step5: We can also perform hyperparameter tuning in our model to enhance its accuracy."
   ]
  },
  {
   "cell_type": "code",
   "execution_count": null,
   "id": "efbfb174-56fe-4736-988d-ae23389ad095",
   "metadata": {},
   "outputs": [],
   "source": []
  }
 ],
 "metadata": {
  "kernelspec": {
   "display_name": "Python 3 (ipykernel)",
   "language": "python",
   "name": "python3"
  },
  "language_info": {
   "codemirror_mode": {
    "name": "ipython",
    "version": 3
   },
   "file_extension": ".py",
   "mimetype": "text/x-python",
   "name": "python",
   "nbconvert_exporter": "python",
   "pygments_lexer": "ipython3",
   "version": "3.10.8"
  }
 },
 "nbformat": 4,
 "nbformat_minor": 5
}
