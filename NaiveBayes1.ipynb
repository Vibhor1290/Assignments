{
 "cells": [
  {
   "cell_type": "markdown",
   "id": "2a3f1138-e988-4077-8601-bffa187d2a73",
   "metadata": {},
   "source": [
    "Q1. What is Bayes' theorem?"
   ]
  },
  {
   "cell_type": "raw",
   "id": "0ecdc35a-0888-4cd3-8d7f-804826a45530",
   "metadata": {},
   "source": [
    "Bayes theorem is a statistical approach to find out the probability of occurence of an event provided that another event has already occurred prior to it."
   ]
  },
  {
   "cell_type": "raw",
   "id": "db4ac977-a4bc-4b8b-bb75-b85f5fa8d57d",
   "metadata": {},
   "source": [
    "Ex: We have 5 red and 3 blue balls in a bag. Now, the probability of event A(drawing a red ball) is 5/8\n",
    "\n",
    "Now, we have to again calculate the probability of event B(drawing a blue ball) provided that event A has already occurred, which will be 3/7."
   ]
  },
  {
   "cell_type": "markdown",
   "id": "878e16e7-e6e7-424f-b430-09b658ad2228",
   "metadata": {},
   "source": [
    "Q2. What is the formula for Bayes' theorem?"
   ]
  },
  {
   "cell_type": "raw",
   "id": "b21f95ec-e1a0-437b-bcf9-758d30f37ae7",
   "metadata": {},
   "source": [
    "Bayes Theorem:\n",
    "    \n",
    "    P(A|B) = [P(B|A)*P(A)]/P(B)\n",
    "    \n",
    "    where: P(A|B) is the prob of event A provided that event B has already occurred\n",
    "           P(B|A) is the prob of event B provided that event A has already occurred\n",
    "           P(A) is the individual prob of event A\n",
    "           P(B) is the individual prob of event B"
   ]
  },
  {
   "cell_type": "markdown",
   "id": "718e73ce-04bd-4675-a525-baf4ba4b671f",
   "metadata": {},
   "source": [
    "Q3. How is Bayes' theorem used in practice?"
   ]
  },
  {
   "cell_type": "raw",
   "id": "c7707a06-622d-4b3f-bd09-8af4d1811757",
   "metadata": {},
   "source": [
    "1. Bayes theorem can be used to calculate the probability that the patient actually has the disease or not, considering the test accuracy and the prevalence of the disease in the population.\n",
    "\n",
    "2.Used in spam detection to classify email messages as spam or not.\n",
    "\n",
    "3. Investors also use Bayes theorem to predict the financial market crash based on new economic indicators or events.\n",
    " \n",
    "4. Forensic science also make use of Bayes theorem to predict whether a suspect is guilty or not based on DNA evidence, fingerprints, and other forensic data."
   ]
  },
  {
   "cell_type": "markdown",
   "id": "4ff91e6b-c38b-4ae6-b6e6-c27430c5b5f6",
   "metadata": {},
   "source": [
    "Q4. What is the relationship between Bayes' theorem and conditional probability?"
   ]
  },
  {
   "cell_type": "raw",
   "id": "30769f55-fc47-4e49-92d7-f6f2b89da937",
   "metadata": {},
   "source": [
    "Conditional probability is defined as finding the probability of event A occurring given that event B has occurred.\n",
    "\n",
    "While Bayes theorem allows for the reversal of conditional probabilities. It relates the probability of A given B to the probability of B given A.\n",
    "\n",
    "BAYES THEOREM FORMULA:\n",
    "\n",
    "P(A|B) = [P(B|A)*P(A)]/P(B)"
   ]
  },
  {
   "cell_type": "markdown",
   "id": "875bde19-9d5e-4264-be61-41e4ff72ec5f",
   "metadata": {},
   "source": [
    "Q5. How do you choose which type of Naive Bayes classifier to use for any given problem?"
   ]
  },
  {
   "cell_type": "raw",
   "id": "09587f2d-a825-4655-942b-078e5bfdc833",
   "metadata": {},
   "source": [
    "To find out which type of NB Classifier we have use, we simply look at the nature of the dataset.\n",
    "\n",
    "If the dataset features follows gaussian distribution, we go with GaussianNB,\n",
    "\n",
    "If the dataset features follows bernoulli distribution, we go with BernoulliNB, and\n",
    "\n",
    "If the dataset features are in text format, we go with MultinomialNB."
   ]
  },
  {
   "cell_type": "markdown",
   "id": "f95be899-eadb-4f8d-afd2-b3f2a094bc27",
   "metadata": {},
   "source": [
    "You have a dataset with two features, X1 and X2, and two possible classes, A and B. You want to use Naive Bayes to classify a new instance with features X1 = 3 and X2 = 4. The following table shows the frequency of each feature value for each class:"
   ]
  },
  {
   "cell_type": "markdown",
   "id": "7be54300-604c-4cae-a9d3-2debcf7ac713",
   "metadata": {},
   "source": [
    "Class X1=1 X1=2 X1=3 X2=1 X2=2 X2=3 X2=4\n",
    "A 3 3 4 4 3 3 3\n",
    "B 2 2 1 2 2 2 3"
   ]
  },
  {
   "cell_type": "markdown",
   "id": "c69d2c00-0d8f-4169-b368-0d12fa060181",
   "metadata": {},
   "source": [
    "Assuming equal prior probabilities for each class, which class would Naive Bayes predict the new instance to belong to?"
   ]
  },
  {
   "cell_type": "code",
   "execution_count": 4,
   "id": "d7fd7534-fe7d-4e54-b883-0ee94892bff5",
   "metadata": {},
   "outputs": [],
   "source": [
    "dataset = {\n",
    "    'Class': ['A', 'B'],\n",
    "    'X1': {\n",
    "        1: {'A': 3, 'B': 2},\n",
    "        2: {'A': 3, 'B': 2},\n",
    "        3: {'A': 4, 'B': 1}\n",
    "    },\n",
    "    'X2': {\n",
    "        1: {'A': 4, 'B': 2},\n",
    "        2: {'A': 3, 'B': 2},\n",
    "        3: {'A': 3, 'B': 2},\n",
    "        4: {'A': 3, 'B': 3}\n",
    "    }\n",
    "}"
   ]
  },
  {
   "cell_type": "code",
   "execution_count": 5,
   "id": "054e21d8-d608-41b2-a2bf-ba095a352b3a",
   "metadata": {},
   "outputs": [
    {
     "data": {
      "text/plain": [
       "{'Class': ['A', 'B'],\n",
       " 'X1': {1: {'A': 3, 'B': 2}, 2: {'A': 3, 'B': 2}, 3: {'A': 4, 'B': 1}},\n",
       " 'X2': {1: {'A': 4, 'B': 2},\n",
       "  2: {'A': 3, 'B': 2},\n",
       "  3: {'A': 3, 'B': 2},\n",
       "  4: {'A': 3, 'B': 3}}}"
      ]
     },
     "execution_count": 5,
     "metadata": {},
     "output_type": "execute_result"
    }
   ],
   "source": [
    "dataset"
   ]
  },
  {
   "cell_type": "code",
   "execution_count": 7,
   "id": "0a8da5c5-8553-4c72-a8b6-4048f0fa601b",
   "metadata": {},
   "outputs": [
    {
     "name": "stdout",
     "output_type": "stream",
     "text": [
      "P(A|X1=3, X2=4) = 0.046153846153846156\n",
      "P(B|X1=3, X2=4) = 0.03333333333333333\n",
      "Predicted class for X1=3 and X2=4: A\n"
     ]
    }
   ],
   "source": [
    "# Calculate the prior probabilities (assuming they are equal)\n",
    "Prob_A = 0.5\n",
    "Prob_B = 0.5\n",
    "\n",
    "def calculate(feature, value, class_label):\n",
    "    count = dataset[feature][value][class_label]\n",
    "    total = sum(dataset[feature][v][class_label] for v in dataset[feature])\n",
    "    return count / total\n",
    "\n",
    "# Likelihoods for X1 = 3 and X2 = 4\n",
    "P_X1_3_given_A = calculate('X1', 3, 'A')\n",
    "P_X2_4_given_A = calculate('X2', 4, 'A')\n",
    "P_X1_3_given_B = calculate('X1', 3, 'B')\n",
    "P_X2_4_given_B = calculate('X2', 4, 'B')\n",
    "\n",
    "# Calculate the joint likelihoods\n",
    "P_X1_3_and_X2_4_given_A = P_X1_3_given_A * P_X2_4_given_A\n",
    "P_X1_3_and_X2_4_given_B = P_X1_3_given_B * P_X2_4_given_B\n",
    "\n",
    "# Calculate the unnormalized posteriors\n",
    "P_A_given_X1_3_X2_4 = P_X1_3_and_X2_4_given_A * Prob_A\n",
    "P_B_given_X1_3_X2_4 = P_X1_3_and_X2_4_given_B * Prob_B\n",
    "\n",
    "# Predict the class\n",
    "if P_A_given_X1_3_X2_4 > P_B_given_X1_3_X2_4:\n",
    "    predicted_class = 'A'\n",
    "else:\n",
    "    predicted_class = 'B'\n",
    "\n",
    "# Print the results\n",
    "print(f\"P(A|X1=3, X2=4) = {P_A_given_X1_3_X2_4}\")\n",
    "print(f\"P(B|X1=3, X2=4) = {P_B_given_X1_3_X2_4}\")\n",
    "print(f\"Predicted class for X1=3 and X2=4: {predicted_class}\")"
   ]
  },
  {
   "cell_type": "code",
   "execution_count": null,
   "id": "813af46c-8ab4-4d03-99c0-7e1485d6aee5",
   "metadata": {},
   "outputs": [],
   "source": []
  }
 ],
 "metadata": {
  "kernelspec": {
   "display_name": "Python 3 (ipykernel)",
   "language": "python",
   "name": "python3"
  },
  "language_info": {
   "codemirror_mode": {
    "name": "ipython",
    "version": 3
   },
   "file_extension": ".py",
   "mimetype": "text/x-python",
   "name": "python",
   "nbconvert_exporter": "python",
   "pygments_lexer": "ipython3",
   "version": "3.10.8"
  }
 },
 "nbformat": 4,
 "nbformat_minor": 5
}
