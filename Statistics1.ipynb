{
 "cells": [
  {
   "cell_type": "markdown",
   "id": "ab10b14b-b1de-491e-bac7-c6507e04ffa3",
   "metadata": {},
   "source": [
    "# Statistics"
   ]
  },
  {
   "cell_type": "markdown",
   "id": "25268998-72d9-4454-bc62-6d8374ae0000",
   "metadata": {},
   "source": [
    "Q1. What are the three measures of central tendency?"
   ]
  },
  {
   "cell_type": "raw",
   "id": "601f0c6d-8abe-479a-8e13-1be5ef404196",
   "metadata": {},
   "source": [
    "MEAN, MEDIAN, MODE"
   ]
  },
  {
   "cell_type": "markdown",
   "id": "179121d0-b6a6-4f6d-941d-1db8e1765d70",
   "metadata": {},
   "source": [
    "Q2. What is the difference between the mean, median, and mode? How are they used to measure the\n",
    "central tendency of a dataset?"
   ]
  },
  {
   "cell_type": "raw",
   "id": "6330c378-09d8-4eb4-8445-12b16b780e29",
   "metadata": {},
   "source": [
    "MEAN (Used to find the average value within a large dataset)\n",
    "\n",
    "MEDIAN (used to find out the outliers)\n",
    "\n",
    "MODE (used to find the frequently occurring data)"
   ]
  },
  {
   "cell_type": "markdown",
   "id": "5ec7d028-332e-46cd-972a-ea0a3b4a5779",
   "metadata": {},
   "source": [
    "Q3. Measure the three measures of central tendency for the given height data:"
   ]
  },
  {
   "cell_type": "code",
   "execution_count": 1,
   "id": "a428c3dc-894e-42ce-bb01-893bd8efeb77",
   "metadata": {},
   "outputs": [],
   "source": [
    "height = [178,177,176,177,178.2,178,175,179,180,175,178.9,176.2,177,172.5,178,176.5]"
   ]
  },
  {
   "cell_type": "code",
   "execution_count": 2,
   "id": "22401756-fe68-47e5-8a61-32df9e9062bf",
   "metadata": {},
   "outputs": [],
   "source": [
    "import pandas as pd"
   ]
  },
  {
   "cell_type": "code",
   "execution_count": 3,
   "id": "00fda305-45d1-4fe3-9dde-2e14007eb1d3",
   "metadata": {},
   "outputs": [],
   "source": [
    "school = pd.DataFrame(height,columns=['height'])"
   ]
  },
  {
   "cell_type": "code",
   "execution_count": 6,
   "id": "90a9e6bf-67f7-47d9-95e4-8cd2fb66a5ec",
   "metadata": {},
   "outputs": [
    {
     "data": {
      "text/plain": [
       "height    177.01875\n",
       "dtype: float64"
      ]
     },
     "execution_count": 6,
     "metadata": {},
     "output_type": "execute_result"
    }
   ],
   "source": [
    "school.mean()"
   ]
  },
  {
   "cell_type": "code",
   "execution_count": 7,
   "id": "a18e1979-1123-4ddf-97f7-9871083fe69f",
   "metadata": {},
   "outputs": [
    {
     "data": {
      "text/plain": [
       "height    177.0\n",
       "dtype: float64"
      ]
     },
     "execution_count": 7,
     "metadata": {},
     "output_type": "execute_result"
    }
   ],
   "source": [
    "school.median()"
   ]
  },
  {
   "cell_type": "code",
   "execution_count": 9,
   "id": "01d2f7db-1eab-4682-9e61-8be471e7b42e",
   "metadata": {},
   "outputs": [
    {
     "data": {
      "text/html": [
       "<div>\n",
       "<style scoped>\n",
       "    .dataframe tbody tr th:only-of-type {\n",
       "        vertical-align: middle;\n",
       "    }\n",
       "\n",
       "    .dataframe tbody tr th {\n",
       "        vertical-align: top;\n",
       "    }\n",
       "\n",
       "    .dataframe thead th {\n",
       "        text-align: right;\n",
       "    }\n",
       "</style>\n",
       "<table border=\"1\" class=\"dataframe\">\n",
       "  <thead>\n",
       "    <tr style=\"text-align: right;\">\n",
       "      <th></th>\n",
       "      <th>height</th>\n",
       "    </tr>\n",
       "  </thead>\n",
       "  <tbody>\n",
       "    <tr>\n",
       "      <th>0</th>\n",
       "      <td>177.0</td>\n",
       "    </tr>\n",
       "    <tr>\n",
       "      <th>1</th>\n",
       "      <td>178.0</td>\n",
       "    </tr>\n",
       "  </tbody>\n",
       "</table>\n",
       "</div>"
      ],
      "text/plain": [
       "   height\n",
       "0   177.0\n",
       "1   178.0"
      ]
     },
     "execution_count": 9,
     "metadata": {},
     "output_type": "execute_result"
    }
   ],
   "source": [
    "school.mode()"
   ]
  },
  {
   "cell_type": "code",
   "execution_count": 12,
   "id": "7a9d3926-2f70-4ec9-aef4-c861c4005601",
   "metadata": {},
   "outputs": [
    {
     "data": {
      "text/plain": [
       "height    1.847239\n",
       "dtype: float64"
      ]
     },
     "execution_count": 12,
     "metadata": {},
     "output_type": "execute_result"
    }
   ],
   "source": [
    "school.std()"
   ]
  },
  {
   "cell_type": "code",
   "execution_count": 15,
   "id": "6c64375a-d704-4b28-8d69-867eeb425a55",
   "metadata": {},
   "outputs": [
    {
     "data": {
      "text/plain": [
       "height    3.412292\n",
       "dtype: float64"
      ]
     },
     "execution_count": 15,
     "metadata": {},
     "output_type": "execute_result"
    }
   ],
   "source": [
    "school.var()"
   ]
  },
  {
   "cell_type": "code",
   "execution_count": 13,
   "id": "04b27850-3aa7-4aab-880d-b82cad30167f",
   "metadata": {},
   "outputs": [],
   "source": [
    "RANGE =  school.max() - school.min()"
   ]
  },
  {
   "cell_type": "code",
   "execution_count": 14,
   "id": "b635b938-f0d7-439f-8d74-9ba9fb7a8426",
   "metadata": {},
   "outputs": [
    {
     "data": {
      "text/plain": [
       "height    7.5\n",
       "dtype: float64"
      ]
     },
     "execution_count": 14,
     "metadata": {},
     "output_type": "execute_result"
    }
   ],
   "source": [
    "RANGE"
   ]
  },
  {
   "cell_type": "markdown",
   "id": "52d8081c-77e7-4f0e-b8f5-05ddfa2b3a46",
   "metadata": {},
   "source": [
    "Q5. How are measures of dispersion such as range, variance, and standard deviation used to describe\n",
    "the spread of a dataset? Provide an example."
   ]
  },
  {
   "cell_type": "raw",
   "id": "5d58e749-afc4-4dbe-b4ee-7c53366e28a9",
   "metadata": {},
   "source": [
    "Range: Measure of difference b/w minimum and maximum value of the data.\n",
    "\n",
    "Variance: Shows the spreadness of the data from the mean value\n",
    "\n",
    "Standard Deviation: Tells us how far a specific value is away from the actual mean"
   ]
  },
  {
   "cell_type": "raw",
   "id": "e58d3856-e3ca-45e2-bad2-06f2c7b4d9db",
   "metadata": {},
   "source": [
    "All these measures have been performed in the previous question..."
   ]
  },
  {
   "cell_type": "markdown",
   "id": "d7cbc9ba-f7cb-43df-a298-402f2259991a",
   "metadata": {},
   "source": [
    "Q6. What is a Venn diagram?"
   ]
  },
  {
   "cell_type": "raw",
   "id": "14e12fa4-fe59-450b-9e00-10c15fcd4e81",
   "metadata": {},
   "source": [
    "It is a way of data representation using circles where each circle denotes a specific category and the common area between these circle represent that data which holds categories of those circles."
   ]
  },
  {
   "cell_type": "markdown",
   "id": "797c6f4c-a809-4044-9d9f-7ab8af12d278",
   "metadata": {},
   "source": [
    "Q7. For the two given sets A = (2,3,4,5,6,7) & B = (0,2,6,8,10). Find:\n",
    "\n",
    "(i) A intersection B\n",
    "\n",
    "(ii) A ⋃ B"
   ]
  },
  {
   "cell_type": "code",
   "execution_count": 16,
   "id": "ec7417d6-982b-4967-82cc-92796671c071",
   "metadata": {},
   "outputs": [],
   "source": [
    "A = (2,3,4,5,6,7)\n",
    "B = (0,2,6,8,10)"
   ]
  },
  {
   "cell_type": "raw",
   "id": "b8721271-3e47-42f4-abc2-e64030149d4a",
   "metadata": {},
   "source": [
    "A intersection B : This shows only common elements between A and B (2,6)\n",
    "\n",
    "A ⋃ B : Shows all the elements present in both A and B including the common (2,3,4,5,6,7,0,8,10)"
   ]
  },
  {
   "cell_type": "markdown",
   "id": "64e7753d-21a4-405e-b12a-a91c7f2c0348",
   "metadata": {},
   "source": [
    "Q8. What do you understand about skewness in data?"
   ]
  },
  {
   "cell_type": "raw",
   "id": "5cb4c0d1-d3d0-4dea-ac75-2912680141f6",
   "metadata": {},
   "source": [
    "Skewness simply tells us symmetry of distribution. In simple words, it shows the portion of entire data distributed along the mean. If the data is distributed equally on either sides of the mean,  it is called uniform distribution or Gaussian distribution. We get a bell-shaped curve in this case."
   ]
  },
  {
   "cell_type": "raw",
   "id": "8f5324b4-84f8-4832-8d8c-402becc9ee3a",
   "metadata": {},
   "source": [
    "Left skewed: If majority of the data lies on the left side of the distribution. Also called negative skew.\n",
    "\n",
    "Right skewed: If majority of the data lies on the right side of the distribution. Also called positive skew."
   ]
  },
  {
   "cell_type": "markdown",
   "id": "2f95231f-fa09-4625-aef8-7f1cf6c00171",
   "metadata": {},
   "source": [
    "If the data is right skewed: Median < Mean"
   ]
  },
  {
   "cell_type": "markdown",
   "id": "ed6b9f83-4c5f-4eb0-b089-6fdfb582d50d",
   "metadata": {},
   "source": [
    "Q10. Explain the difference between covariance and correlation. How are these measures used in\n",
    "statistical analysis?"
   ]
  },
  {
   "cell_type": "raw",
   "id": "25bd4c04-d597-45d1-8b15-850a022f9b1f",
   "metadata": {},
   "source": [
    "Co-relation finds out the relation b/w 2 features. The value for co-relation ranges from -1 to +1.\n",
    "\n",
    "More the value towards +1, more the features are co-related with each other and vice-versa.\n",
    "\n",
    "Ex: There are 2 features X and Y. So, co-relation will be: Cor(X,Y)"
   ]
  },
  {
   "cell_type": "raw",
   "id": "c8754663-4f42-479a-a6ac-13f608c7affe",
   "metadata": {},
   "source": [
    "Co-Variance is nothing but the co-relation of a feature with itself only.\n",
    "\n",
    "Lets say X is a feature so co-variance will be: Cov(X)"
   ]
  },
  {
   "cell_type": "raw",
   "id": "216bab92-6c95-43fa-ac0a-ea5ea83170a8",
   "metadata": {},
   "source": [
    "Relation b/w Co-relation and Co-variance:\n",
    "    \n",
    "    Cov(X) = Cor(X,X)"
   ]
  },
  {
   "cell_type": "markdown",
   "id": "029a6219-0177-41d5-ad02-8994a0fda027",
   "metadata": {},
   "source": [
    "Q11. What is the formula for calculating the sample mean? Provide an example calculation for a\n",
    "dataset."
   ]
  },
  {
   "cell_type": "code",
   "execution_count": 2,
   "id": "661ac869-f900-42c4-8f43-a5da3255d749",
   "metadata": {},
   "outputs": [],
   "source": [
    "import numpy as np\n",
    "import pandas as pd"
   ]
  },
  {
   "cell_type": "code",
   "execution_count": 9,
   "id": "b9c22d05-de79-4076-9cc8-cd7f8ad14074",
   "metadata": {},
   "outputs": [],
   "source": [
    "population = np.random.randint(12,67,50)"
   ]
  },
  {
   "cell_type": "code",
   "execution_count": 11,
   "id": "d91b01b0-1889-45c8-bf42-93c0beca107a",
   "metadata": {},
   "outputs": [
    {
     "data": {
      "text/plain": [
       "array([38, 41, 63, 66, 45, 54, 49, 37, 28, 58, 30, 47, 35, 19, 49, 57, 43,\n",
       "       46, 29, 25, 17, 48, 14, 38, 22, 48, 57, 49, 24, 31, 25, 30, 19, 25,\n",
       "       15, 63, 32, 22, 42, 17, 42, 47, 43, 58, 59, 63, 66, 56, 51, 57])"
      ]
     },
     "execution_count": 11,
     "metadata": {},
     "output_type": "execute_result"
    }
   ],
   "source": [
    "population"
   ]
  },
  {
   "cell_type": "code",
   "execution_count": 12,
   "id": "e399b6d1-83e4-438a-98c8-59a5e9a38fd4",
   "metadata": {},
   "outputs": [],
   "source": [
    "sample = np.random.randint(12,67,10)"
   ]
  },
  {
   "cell_type": "code",
   "execution_count": 13,
   "id": "9be03dda-7385-449a-88ce-3c937f47a1ab",
   "metadata": {},
   "outputs": [
    {
     "data": {
      "text/plain": [
       "array([50, 35, 19, 37, 66, 39, 64, 17, 16, 27])"
      ]
     },
     "execution_count": 13,
     "metadata": {},
     "output_type": "execute_result"
    }
   ],
   "source": [
    "sample"
   ]
  },
  {
   "cell_type": "code",
   "execution_count": 16,
   "id": "0d8f0d90-19be-4c60-882b-eb87ae564c19",
   "metadata": {},
   "outputs": [
    {
     "data": {
      "text/plain": [
       "40.78"
      ]
     },
     "execution_count": 16,
     "metadata": {},
     "output_type": "execute_result"
    }
   ],
   "source": [
    "np.mean(population)"
   ]
  },
  {
   "cell_type": "code",
   "execution_count": 17,
   "id": "83f25cc8-1f66-44f9-984f-e9903ded66c8",
   "metadata": {},
   "outputs": [
    {
     "data": {
      "text/plain": [
       "37.0"
      ]
     },
     "execution_count": 17,
     "metadata": {},
     "output_type": "execute_result"
    }
   ],
   "source": [
    "np.mean(sample)"
   ]
  },
  {
   "cell_type": "markdown",
   "id": "aaf47329-c689-44dc-bdfb-3ad5a3979a6c",
   "metadata": {},
   "source": [
    "If we look at the mean of both population and sample, we observe a slight difference."
   ]
  },
  {
   "cell_type": "markdown",
   "id": "4d087d62-c630-4fa0-8c80-1399c85b47e3",
   "metadata": {},
   "source": [
    "This type of calculation comes under inferential statistics in which we analyze the sample and then predict the unknown population parameter "
   ]
  },
  {
   "cell_type": "markdown",
   "id": "d03099ec-a04a-4369-b363-602c692d0bb0",
   "metadata": {},
   "source": [
    "Q12. For a normal distribution data what is the relationship between its measure of central tendency?"
   ]
  },
  {
   "cell_type": "raw",
   "id": "08715865-c480-40f7-acb5-30840543f6c3",
   "metadata": {},
   "source": [
    "For a normal distribution data, we achieve a bell shaped symmetric curve. Hence, Mean = Median = Mode"
   ]
  },
  {
   "cell_type": "markdown",
   "id": "c0b99aa1-2517-40d5-99ec-5fb4f7a1da50",
   "metadata": {},
   "source": [
    "Q14. How do outliers affect measures of central tendency and dispersion? Provide an example."
   ]
  },
  {
   "cell_type": "raw",
   "id": "acfc0ec0-6702-4354-ae74-ebd2f3e1d9bb",
   "metadata": {},
   "source": [
    "Outliers are those data points which are very far away from the normal data points and affects the central tendency..."
   ]
  },
  {
   "cell_type": "code",
   "execution_count": 29,
   "id": "e126115a-e1ef-419f-9db2-90320cbcefea",
   "metadata": {},
   "outputs": [],
   "source": [
    "# Lets say we have a dataset mentioned below:\n",
    "S1 = [1,3,4,6,7,3,5,1,4]"
   ]
  },
  {
   "cell_type": "raw",
   "id": "4a3a6a39-58ac-435d-8578-8bb2d5c16264",
   "metadata": {},
   "source": [
    "If we look carefully, all data points are close to each other and there is no such irregular datapoint in this dataset. "
   ]
  },
  {
   "cell_type": "raw",
   "id": "0d6f296a-be44-4e97-a6fe-b361d732f74a",
   "metadata": {},
   "source": [
    "In case we visualize this data using box plot, we will not see any outlier. Lets calculate the central tendency of this dataset...."
   ]
  },
  {
   "cell_type": "code",
   "execution_count": 22,
   "id": "086532ac-782d-4d07-8dfc-875ded22390c",
   "metadata": {},
   "outputs": [
    {
     "data": {
      "text/plain": [
       "3.7777777777777777"
      ]
     },
     "execution_count": 22,
     "metadata": {},
     "output_type": "execute_result"
    }
   ],
   "source": [
    "np.mean(S1)"
   ]
  },
  {
   "cell_type": "code",
   "execution_count": 23,
   "id": "dae93f07-3a47-4fa3-90a2-04e1605fe9d9",
   "metadata": {},
   "outputs": [
    {
     "data": {
      "text/plain": [
       "4.0"
      ]
     },
     "execution_count": 23,
     "metadata": {},
     "output_type": "execute_result"
    }
   ],
   "source": [
    "np.median(S1)"
   ]
  },
  {
   "cell_type": "raw",
   "id": "47c992c5-53b9-47fd-8da6-e895138abe6d",
   "metadata": {},
   "source": [
    "Now, we will add one huge value to this data, lets say 121."
   ]
  },
  {
   "cell_type": "code",
   "execution_count": 30,
   "id": "1e603817-29af-4e82-9b96-7e7a1b7bf738",
   "metadata": {},
   "outputs": [],
   "source": [
    "S1_new = [1,3,4,6,7,3,5,1,4,121]"
   ]
  },
  {
   "cell_type": "raw",
   "id": "821fe15f-18e7-40f3-93d9-0aaa266039be",
   "metadata": {},
   "source": [
    "Now, again calculate the central tendency of this new dataset...."
   ]
  },
  {
   "cell_type": "code",
   "execution_count": 31,
   "id": "96593438-3f5c-4240-a4df-7803c7390687",
   "metadata": {},
   "outputs": [
    {
     "data": {
      "text/plain": [
       "15.5"
      ]
     },
     "execution_count": 31,
     "metadata": {},
     "output_type": "execute_result"
    }
   ],
   "source": [
    "np.mean(S1_new)"
   ]
  },
  {
   "cell_type": "code",
   "execution_count": 32,
   "id": "0dd422a7-e700-4546-8489-db5868bb13a4",
   "metadata": {},
   "outputs": [
    {
     "data": {
      "text/plain": [
       "4.0"
      ]
     },
     "execution_count": 32,
     "metadata": {},
     "output_type": "execute_result"
    }
   ],
   "source": [
    "np.median(S1_new)"
   ]
  },
  {
   "cell_type": "raw",
   "id": "3a92ff78-6a57-4487-9645-308f8587e7da",
   "metadata": {},
   "source": [
    "Now, if we observe there is no change in median but there has been a considerable change in mean. This is just because of an outlier value which has shifted the mean by a huge margin."
   ]
  },
  {
   "cell_type": "markdown",
   "id": "0ee31194-ff36-4aa0-8570-cc330fdbf19a",
   "metadata": {},
   "source": [
    "CONCLUSION: Whenever we have outliers present in our dataset, we must use median."
   ]
  },
  {
   "cell_type": "code",
   "execution_count": null,
   "id": "f2410087-6302-4007-b205-7e20694ec428",
   "metadata": {},
   "outputs": [],
   "source": []
  }
 ],
 "metadata": {
  "kernelspec": {
   "display_name": "Python 3 (ipykernel)",
   "language": "python",
   "name": "python3"
  },
  "language_info": {
   "codemirror_mode": {
    "name": "ipython",
    "version": 3
   },
   "file_extension": ".py",
   "mimetype": "text/x-python",
   "name": "python",
   "nbconvert_exporter": "python",
   "pygments_lexer": "ipython3",
   "version": "3.10.8"
  }
 },
 "nbformat": 4,
 "nbformat_minor": 5
}
