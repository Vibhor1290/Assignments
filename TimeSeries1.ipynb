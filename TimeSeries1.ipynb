{
 "cells": [
  {
   "cell_type": "markdown",
   "id": "53650c1a-d4fe-4a63-aadc-f5ac6fcc0023",
   "metadata": {},
   "source": [
    "Q1. What is a time series, and what are some common applications of time series analysis?"
   ]
  },
  {
   "cell_type": "raw",
   "id": "6f1cb19d-5542-4d81-846e-023e0a66b13b",
   "metadata": {},
   "source": [
    "Time Series is a type of dataset in which the features of dataset are time dependent.\n",
    "\n",
    "Example: We have a data which shows the sales of a person on daily basis. So, here the number of sales is a feature which is time dependent."
   ]
  },
  {
   "cell_type": "raw",
   "id": "fac15e2b-1b17-43e2-9bf1-8fac26d028da",
   "metadata": {},
   "source": [
    "Applications:\n",
    "    \n",
    "    Most financial and business decisions are taken on the basis of future changes and demands forecasts in the financial domain.\n",
    "    \n",
    "    To observe transitory events such as supernovae to understand the mechanism of the changing of the universe with time.\n",
    "    \n",
    "    Prediction of weather"
   ]
  },
  {
   "cell_type": "markdown",
   "id": "e674b14c-983c-44ce-80ef-5bc7c6fa762f",
   "metadata": {},
   "source": [
    "Q2. What are some common time series patterns, and how can they be identified and interpreted?"
   ]
  },
  {
   "cell_type": "raw",
   "id": "30d39598-cd7e-426c-a88f-9fcf85d8f527",
   "metadata": {},
   "source": [
    "1. Trend: \n",
    "    \n",
    "    It simply tells us the pattern of data distribution. There are 3 types of trend: Upward, Downward and Flat.\n",
    "    \n",
    "    Upward: When the value increases with time.\n",
    "    \n",
    "    Downward: When the value decreases with time.\n",
    "    \n",
    "    Flat: When the value remains constant with time.\n",
    "    \n",
    "2. Season: \n",
    "    \n",
    "    This is simply a freqently occuring distribution within the graph. This can occur on daily, weekly, monthly or yearly basis.\n",
    "    \n",
    "3. Cycle:\n",
    "    \n",
    "    This is a pattern which remains for a long time interval like for 2 years, 5 years or more.\n",
    "    \n",
    "4. Noise:\n",
    "    \n",
    "    This is nothing but the fluctuations within the graph. This is also known as randomness and white noise."
   ]
  },
  {
   "cell_type": "markdown",
   "id": "f4c0f3b6-19f2-4e6b-98a4-9a3e3b99eddd",
   "metadata": {},
   "source": [
    "Q3. How can time series data be preprocessed before applying analysis techniques?"
   ]
  },
  {
   "cell_type": "raw",
   "id": "34bc453f-3a6f-4ed7-b48e-62683040351b",
   "metadata": {},
   "source": [
    "Preprocessing is very crucial to ensure that the data is clean and suitable for analysis. Some common methods are:\n",
    "\n",
    "HANDLING MISSING VALUES:\n",
    "\n",
    "Filling missing values using either linear, spline, or polynomial interpolation.\n",
    "\n",
    "Replacing the missing values using either the last available value or the next available value.\n",
    "\n",
    "Replace missing values with the mean or median of the series.\n",
    "\n",
    "Also, we can remove rows/columns with missing values if the amount of missing data is small.\n",
    "\n",
    "SMOOTHENING OF DATA:\n",
    "\n",
    "Data can be smoothen using moving average technique in which we evaluate the average of data points within a fixed-size window in order to smooth out short-term fluctuations. Here, we can use simple moving average, cumulative moving average or exponentially moving average.\n",
    "\n",
    "DATA NORMALIZATION:\n",
    "\n",
    "We can perform Min-Max scaling to fit the data within a fixed range, usually 0 to 1.\n",
    "\n",
    "Z-score Normalization: We can also standardizing the data to have a mean of 0 and a standard deviation of 1.\n",
    "\n",
    "OUTLIER DETECTION AND REMOVAL\n",
    "\n",
    "To handle outliers, we can use z-scores or other statistical methods like boxplots or scatter plots to detect outliers."
   ]
  },
  {
   "cell_type": "markdown",
   "id": "a8f5457d-7947-4477-8858-06d296d3c147",
   "metadata": {},
   "source": [
    "Q4. How can time series forecasting be used in business decision-making, and what are some common challenges and limitations?"
   ]
  },
  {
   "cell_type": "raw",
   "id": "bb3ea327-a3e6-4583-ab34-9bb2dc945aea",
   "metadata": {},
   "source": [
    "Time series forecasting is a powerful tool for business decision-making as it allows companies to make informed predictions about future events based on historical data. Some common applications are:\n",
    "\n",
    "1. Predict future demand for products or services.\n",
    "\n",
    "2. Forecast revenue, expenses, and cash flow.\n",
    "\n",
    "3. Identify sales trends and seasonal patterns and then making marketing campaigns and promotions accordingly.\n",
    "\n",
    "4. Predict staffing needs to ensure optimal workforce levels."
   ]
  },
  {
   "cell_type": "raw",
   "id": "7bc504e3-ed90-44d3-b172-4768b77ea7d1",
   "metadata": {},
   "source": [
    "Along with a wide range of applications, there are certain challenges and limitations as well.\n",
    "\n",
    "1. Forecasting is only as good as the data they are based on. In simple meaning, an incomplete, inaccurate or inconsistent data might give us unreliable predictions.\n",
    "\n",
    "2. Economic conditions, market trends, and consumer behavior can change with respect to time thus making historical data less relevant for future predictions.\n",
    "\n",
    "3. Time series forecasting often assumes that the past patterns will continue into the future, which is not always true in real world scenarios.\n",
    "\n",
    "4. Selecting an appropriate model might be a very big challenge because each and every model has its assumptions, strengths, and weaknesses. Hence, selecting a wrong model can lead to poor forecasts."
   ]
  },
  {
   "cell_type": "markdown",
   "id": "755b464f-6358-4063-98ff-8e1f2bdd8275",
   "metadata": {},
   "source": [
    "Q5. What is ARIMA modelling, and how can it be used to forecast time series data?"
   ]
  },
  {
   "cell_type": "raw",
   "id": "1ad0dd03-2ce2-4c0b-babe-858d8fc61f3b",
   "metadata": {},
   "source": [
    "ARIMA (AutoRegressive Integrated Moving Average) is a popular statistical method for time series forecasting. It comprises of 3 key components:\n",
    "\n",
    "1. AutoRegression (AR): This component uses a relation between an observation and a number of lagged observations (previous time points) to model the data. The order of AR term is represented by p.\n",
    "\n",
    "2. Integrated (I): This component involves differencing the data to make it stationary i.e. parameters like mean and variance are constant over time. The order of differencing is shown by d.\n",
    "\n",
    "3. Moving Average (MA): This component models a relation between an observation and a residual error from a moving average model applied to lagged observations. The order of the MA term is denoted by q."
   ]
  },
  {
   "cell_type": "raw",
   "id": "def8ad8c-5d10-457b-b670-8eda93fae15c",
   "metadata": {},
   "source": [
    "Initially, we identifiy the values of p, d and q using ACF(AutoCorrelation Function) and PACF(Partial Autocorrelation Function).\n",
    "\n",
    "Then, we evaluate the parameters of the ARIMA model that involves using maximum likelihood estimation or other optimization methods.\n",
    "\n",
    "Later we diagnose the model by checking the residuals (errors). The residuals should be normally distributed and show no autocorrelation. Atlast, we use the fitted ARIMA model to forecast future values."
   ]
  },
  {
   "cell_type": "markdown",
   "id": "bbb2b6d1-4c62-4e79-bd71-d9cfde9306ee",
   "metadata": {},
   "source": [
    "Q6. How do Autocorrelation Function (ACF) and Partial Autocorrelation Function (PACF) plots help in identifying the order of ARIMA models?"
   ]
  },
  {
   "cell_type": "raw",
   "id": "cacfa11f-5d20-4e03-8b2e-a65a62e77f08",
   "metadata": {},
   "source": [
    "ACF measures the correlation between time series observations at different lags. By doing this, we see how the data points in the time series are related to each other across different time lags.\n",
    "\n",
    "PACF measures the correlation between the time series observations at different lags, but after controlling for the correlations at all shorter lags. It provides a clearer picture about the direct effect of past values on future values, removing the influence of intermediate lags.\n",
    "\n",
    "1. At first, we make sure the time series is stationary. If not, we apply differencing until the series becomes stationary.\n",
    "\n",
    "2. The, we plot ACF and PACF of the differenced time series and observe the PACF plot. The lag at which PACF cuts off (becomes insignificant) indicates corresponding value of p.\n",
    "\n",
    "3. Now, we look at the ACF plot and the lag at which ACF cuts off (becomes insignificant) indicates the value of q.\n",
    "\n",
    "4. If neither ACF nor PACF cut off clearly, we try different combinations of p and q and use model selection criteria like AIC or BIC to choose the best model."
   ]
  },
  {
   "cell_type": "code",
   "execution_count": 2,
   "id": "7fbd4e3e-31a8-4c86-a395-ffaca361c393",
   "metadata": {},
   "outputs": [
    {
     "data": {
      "image/png": "[encoded data removed]",
      "text/plain": [
       "<Figure size 800x600 with 2 Axes>"
      ]
     },
     "metadata": {},
     "output_type": "display_data"
    }
   ],
   "source": [
    "import numpy as np\n",
    "import pandas as pd\n",
    "import matplotlib.pyplot as plt\n",
    "from statsmodels.graphics.tsaplots import plot_acf, plot_pacf\n",
    "\n",
    "np.random.seed(50)\n",
    "data = pd.Series(np.random.randn(150).cumsum())\n",
    "\n",
    "differenced_data = data.diff().dropna()\n",
    "fig, ax = plt.subplots(2, 1, figsize=(8, 6))\n",
    "\n",
    "plot_acf(differenced_data, lags=20, ax=ax[0])\n",
    "ax[0].set_title('ACF Plot')\n",
    "\n",
    "plot_pacf(differenced_data, lags=20, ax=ax[1])\n",
    "ax[1].set_title('PACF Plot')\n",
    "\n",
    "plt.show()"
   ]
  },
  {
   "cell_type": "markdown",
   "id": "0877ea9a-4b5e-4f8e-b1b6-9d42d32bfc38",
   "metadata": {},
   "source": [
    "Q7. What are the assumptions of ARIMA models, and how can they be tested for in practice?"
   ]
  },
  {
   "cell_type": "raw",
   "id": "ad669a0d-541f-4130-94e7-7806ab36ad34",
   "metadata": {},
   "source": [
    "Assumptions:\n",
    "    \n",
    "    1. Time series data is stationary.\n",
    "    \n",
    "    2. The relation between the past values and current value is linear.\n",
    "    \n",
    "    3. The residuals(errors) of the model are normally distributed.\n",
    "    \n",
    "    4. The residuals have constant variance over time."
   ]
  },
  {
   "cell_type": "raw",
   "id": "15a782bf-6096-4e0f-8197-b3dac5838d36",
   "metadata": {},
   "source": [
    "For checking whether data is stationary or not, we plot the time series and look for trends, seasonality, or other non-stationary behaviors. We can also use AD Fuller test.\n",
    "\n",
    "For checking linearity, we plot ACF and PACF to see if the decay patterns fit a linear ARIMA model. If not, we can use logarithms or differencing to make it linear.\n",
    "    \n",
    "For checking normality, we plot the quantiles of residuals against the quantiles of a normal distribution."
   ]
  },
  {
   "cell_type": "markdown",
   "id": "acf7afe4-d99c-4c9a-84f2-536e5e90b285",
   "metadata": {},
   "source": [
    "Q8. Suppose you have monthly sales data for a retail store for the past three years. Which type of time series model would you recommend for forecasting future sales, and why?"
   ]
  },
  {
   "cell_type": "raw",
   "id": "dc7e6aa9-effb-4067-b198-4eb323a556f9",
   "metadata": {},
   "source": [
    "When forecasting future sales using monthly data for retail store over past 3 years, we need to consider several factors like seasonality, trend, and any cyclical patterns. On the basis of these factors, a good recommendation is to use SARIMA model."
   ]
  },
  {
   "cell_type": "raw",
   "id": "ba4a76c0-0679-4fa6-a442-773ef7623872",
   "metadata": {},
   "source": [
    "There are various reason for choosing this model like:\n",
    "    \n",
    "    1. SARIMA can handle both non-stationary and stationary data through differencing.\n",
    "    \n",
    "    2. Sales data might show autocorrelation where the past sales affects future sales. SARIMA models can account for this by including autoregressive (AR) and moving average (MA) components.\n",
    "    \n",
    "    3. Retail sales exhibit strong seasonal patterns, especially whenever there are fluctuations due to holidays, back-to-school periods, or other seasonal events. Here, SARIMA easily incorporates seasonality into its framework, making it a robust choice for this type of data."
   ]
  },
  {
   "cell_type": "markdown",
   "id": "2d0fb632-9c7e-4a44-82ef-0b1240b35921",
   "metadata": {},
   "source": [
    "Q9. What are some of the limitations of time series analysis? Provide an example of a scenario where the limitations of time series analysis may be particularly relevant."
   ]
  },
  {
   "cell_type": "raw",
   "id": "df67c134-006f-4e68-8188-1fddd7ee9bbd",
   "metadata": {},
   "source": [
    "Limitations:\n",
    "    \n",
    "    1. Assumption of Stationarity: Usually, it is assumed that time series data is stationary. But in real world scenarios, it is mot always true.\n",
    "    \n",
    "    2. Outliers: Time series models can be highly sensitive to outliers, which can affect forecasts and analysis.\n",
    "    \n",
    "    3. Time series models often encounter sudden structural changes in the data like uneven shifts in trends or seasonality patterns which might occur due to economic shifts, policy changes, or other external factors.\n",
    "    \n",
    "    4. Dataset Quantity: Accurate time series modeling requires a large historical dataset. Limited or incomplete data can lead to poor model performance and unreliable forecasts."
   ]
  },
  {
   "cell_type": "raw",
   "id": "62ccebda-9ed8-46d2-ae53-27239cf22a5b",
   "metadata": {},
   "source": [
    "EXAMPLE: Lets take an example of a retail store that captures monthly sales data and has been doing this from past 2 years.\n",
    "\n",
    "1. Due to pandemic, there has been a sharp decline in store sales as maost the people switched to online shopping.\n",
    "\n",
    "2. The sales data might become non-stationarity due to the pandemic. A standard time series models might not handle these changes properly without appropriate transformations or differencing.\n",
    "\n",
    "3. Factors like government lockdown policies, supply chain disruptions, and changes in consumer confidence significantly impact the sales. Due to this, the time series models not considering these external factors might miss critical influences on future sales."
   ]
  },
  {
   "cell_type": "markdown",
   "id": "5306bba2-0f5e-43fa-b35a-f816bae4b926",
   "metadata": {},
   "source": [
    "Q10. Explain the difference between a stationary and non-stationary time series. How does the stationarity of a time series affect the choice of forecasting model?"
   ]
  },
  {
   "cell_type": "raw",
   "id": "9b194beb-1497-42cf-9a4a-920407e09224",
   "metadata": {},
   "source": [
    "Stationary time series is a data series in which the dataset features are not changing with respect to time(constant).\n",
    "\n",
    "Non-Stationary time series is a data series in which the dataset features are changing with respect to time."
   ]
  },
  {
   "cell_type": "raw",
   "id": "3c03e651-dd1e-4022-a2c2-0d9b78e5ae43",
   "metadata": {},
   "source": [
    "MODEL ASSUMPTIONS:\n",
    "\n",
    "Usually when we have a stationary time series, we use ARMA (AutoRegression Moving Average) in which we evaluate the value of p and q. But in case of non-stationary data, we use ARIMA(AutoRegression Integrated Moving Average) in which we evaluate p,d and q.\n",
    "\n",
    "SIMPLICITY:\n",
    "\n",
    "Stationary models are simpler and easier to interpret because their parameters remain constant with respect to time. Models such as Autoregressive (AR), Moving Average (MA), and their combinations (ARMA) are suitable for stationary data.\n",
    "\n",
    "FORECASTING:\n",
    "\n",
    "Performing forecast from non-stationary data without proper transformation could result in inaccurate predictions. Ensuring stationarity or using models that inherently handle non-stationarity can improve forecasting accuracy.\n",
    "\n",
    "Non-stationary data often exhibit trends and seasonality. Hence, models like SARIMA can handle these components by including seasonal differencing and other terms to account for periodic patterns."
   ]
  },
  {
   "cell_type": "code",
   "execution_count": null,
   "id": "d80b6c3f-c57f-49a0-b218-7c356528aa3c",
   "metadata": {},
   "outputs": [],
   "source": []
  }
 ],
 "metadata": {
  "kernelspec": {
   "display_name": "Python 3 (ipykernel)",
   "language": "python",
   "name": "python3"
  },
  "language_info": {
   "codemirror_mode": {
    "name": "ipython",
    "version": 3
   },
   "file_extension": ".py",
   "mimetype": "text/x-python",
   "name": "python",
   "nbconvert_exporter": "python",
   "pygments_lexer": "ipython3",
   "version": "3.10.8"
  }
 },
 "nbformat": 4,
 "nbformat_minor": 5
}
