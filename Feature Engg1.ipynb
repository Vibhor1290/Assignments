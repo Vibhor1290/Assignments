{
 "cells": [
  {
   "cell_type": "markdown",
   "id": "0541ba6c-3161-403f-ac33-3d00beb04edf",
   "metadata": {},
   "source": [
    "Q1. What is Min-Max scaling, and how is it used in data preprocessing? Provide an example to illustrate its application."
   ]
  },
  {
   "cell_type": "raw",
   "id": "ce7be431-4b1d-4f13-aac0-6e991f94d8b0",
   "metadata": {},
   "source": [
    "Min-Max scaling(normalization) is a data preprocessing technique used to rescale dataset features within a fixed range usually [0, 1].\n",
    "This technique is useful when the data spans different ranges and we want to bring all features into single scale without affecting differences in the ranges of values."
   ]
  },
  {
   "cell_type": "code",
   "execution_count": 13,
   "id": "860b9ef5-db49-4e5c-9c9f-49a44416a443",
   "metadata": {},
   "outputs": [
    {
     "name": "stdout",
     "output_type": "stream",
     "text": [
      "Original data:\n",
      " [[ 7]\n",
      " [ 2]\n",
      " [11]\n",
      " [13]\n",
      " [16]]\n",
      "Scaled data:\n",
      " [[0.35714286]\n",
      " [0.        ]\n",
      " [0.64285714]\n",
      " [0.78571429]\n",
      " [1.        ]]\n"
     ]
    }
   ],
   "source": [
    "import numpy as np\n",
    "from sklearn.preprocessing import MinMaxScaler\n",
    "\n",
    "data = np.array([[7], [2], [11], [13], [16]])\n",
    "\n",
    "MMS = MinMaxScaler()\n",
    "\n",
    "# Fit and transform the data\n",
    "scaled_data = MMS.fit_transform(data)\n",
    "\n",
    "# Display original and scaled data\n",
    "print(\"Original data:\\n\", data)\n",
    "print(\"Scaled data:\\n\", scaled_data)"
   ]
  },
  {
   "cell_type": "markdown",
   "id": "ebc5dab2-94a0-4ba8-996b-73ed921045be",
   "metadata": {},
   "source": [
    "Q2. What is Unit Vector technique in feature scaling and how does it differ from Min-Max scaling? Provide an example to illustrate its application."
   ]
  },
  {
   "cell_type": "raw",
   "id": "831a6038-ad9c-422d-ad66-e0faee50b905",
   "metadata": {},
   "source": [
    "This technique involves scaling each data point so that resulting vector has a unity length or magnitude. It ensures that each data point maintains its direction but is rescaled to have a length of 1."
   ]
  },
  {
   "cell_type": "code",
   "execution_count": 14,
   "id": "2b96d178-4b4c-47d0-a40a-613a342b0465",
   "metadata": {},
   "outputs": [
    {
     "name": "stdout",
     "output_type": "stream",
     "text": [
      "Original data:\n",
      " [[ 6  3]\n",
      " [ 9 14]\n",
      " [14 10]\n",
      " [34 18]\n",
      " [ 7 32]]\n",
      "Normalized data:\n",
      " [[0.89442719 0.4472136 ]\n",
      " [0.54075759 0.84117848]\n",
      " [0.81373347 0.58123819]\n",
      " [0.88378792 0.46788772]\n",
      " [0.21369688 0.97690002]]\n"
     ]
    }
   ],
   "source": [
    "import numpy as np\n",
    "from sklearn.preprocessing import normalize\n",
    "\n",
    "record = np.array([[6, 3], [9, 14], [14, 10], [34, 18], [7, 32]])\n",
    "\n",
    "normalized_data = normalize(record, norm='l2')\n",
    "\n",
    "print(\"Original data:\\n\", record)\n",
    "print(\"Normalized data:\\n\", normalized_data)"
   ]
  },
  {
   "cell_type": "markdown",
   "id": "a63d6ece-c288-4983-9831-3d45a0e4bf8c",
   "metadata": {},
   "source": [
    "Q3. What is PCA (Principle Component Analysis), and how is it used in dimensionality reduction? Provide an example to illustrate its application."
   ]
  },
  {
   "cell_type": "raw",
   "id": "a85d14c9-a3bb-41e7-b45b-fed95d7260d0",
   "metadata": {},
   "source": [
    "PCA is a statistical technique used for dimensionality reduction. It transforms the original features into new set of features, which are ordered in such a way that first few retain most of the variation present in the original dataset.\n",
    "Or in simple words, it creates a best fit line that holds the characeteristics of multiple features."
   ]
  },
  {
   "cell_type": "code",
   "execution_count": 15,
   "id": "74cd2840-8253-41d8-bcbd-f7eb83eafbb8",
   "metadata": {},
   "outputs": [
    {
     "name": "stdout",
     "output_type": "stream",
     "text": [
      "Original data:\n",
      " [[2.7 1.4]\n",
      " [6.5 5.7]\n",
      " [2.3 6.9]\n",
      " [7.9 7.2]\n",
      " [3.2 1.8]\n",
      " [2.3 2.7]\n",
      " [2.  1.6]]\n",
      "Principal components:\n",
      " [[-1.10472361 -0.36477543]\n",
      " [ 1.38920942 -0.33117011]\n",
      " [ 0.3822344   1.38116445]\n",
      " [ 2.28327739 -0.34353865]\n",
      " [-0.82530003 -0.40907917]\n",
      " [-0.85214479  0.14678525]\n",
      " [-1.27255278 -0.07938634]]\n"
     ]
    },
    {
     "data": {
      "image/png": "[encoded data removed]",
      "text/plain": [
       "<Figure size 640x480 with 1 Axes>"
      ]
     },
     "metadata": {},
     "output_type": "display_data"
    }
   ],
   "source": [
    "import numpy as np\n",
    "import matplotlib.pyplot as plt\n",
    "from sklearn.decomposition import PCA\n",
    "from sklearn.preprocessing import StandardScaler\n",
    "\n",
    "sheet = np.array([\n",
    "    [2.7, 1.4],\n",
    "    [6.5, 5.7],\n",
    "    [2.3, 6.9],\n",
    "    [7.9, 7.2],\n",
    "    [3.2, 1.8],\n",
    "    [2.3, 2.7],\n",
    "    [2.0, 1.6],\n",
    "])\n",
    "\n",
    "Scale = StandardScaler()\n",
    "standard = Scale.fit_transform(sheet)\n",
    "\n",
    "pca_model = PCA(n_components=2)\n",
    "p_components = pca_model.fit_transform(standard)\n",
    "\n",
    "print(\"Original data:\\n\", sheet)\n",
    "print(\"Principal components:\\n\", p_components)\n",
    "\n",
    "plt.scatter(standard[:, 0], standard[:, 1], label='Original Data')\n",
    "plt.scatter(p_components[:, 0], np.zeros_like(p_components[:, 0]), label='Principal Component 1', color='red')\n",
    "plt.xlabel('Feature 1 (standardized)')\n",
    "plt.ylabel('Feature 2 (standardized)')\n",
    "plt.legend()\n",
    "plt.title('PCA Transformation')\n",
    "plt.show()"
   ]
  },
  {
   "cell_type": "markdown",
   "id": "1712af65-d030-4aed-970b-0a375f579f3b",
   "metadata": {},
   "source": [
    "Q4. What is the relationship between PCA and Feature Extraction, and how can PCA be used for Feature Extraction? Provide an example to illustrate this concept."
   ]
  },
  {
   "cell_type": "raw",
   "id": "db9963a5-c286-4734-aed3-8acfceda370e",
   "metadata": {},
   "source": [
    "PCA is a very useful technique for feature extraction in which existing raw data is transformed into a set of features that better represents the underlying structure of the data. This is particularly useful for reducing the complexity of the dataset and at the same time, all the essential features are retained for better accuracy."
   ]
  },
  {
   "cell_type": "code",
   "execution_count": 16,
   "id": "739dfa11-1b38-46d1-999d-9cb3cad54abd",
   "metadata": {},
   "outputs": [
    {
     "name": "stdout",
     "output_type": "stream",
     "text": [
      "Original data:\n",
      " [[2.1 5.4 7.5 3. ]\n",
      " [5.5 3.7 7.3 7.4]\n",
      " [7.2 2.5 1.2 5.1]\n",
      " [1.6 6.2 1.6 2.9]\n",
      " [5.1 3.2 9.5 1.4]\n",
      " [6.3 2.4 6.8 5.2]\n",
      " [2.2 6.6 1.5 2.5]]\n",
      "Principal components:\n",
      " [[ 1.0670611   0.93660264]\n",
      " [-1.5428739  -0.33311051]\n",
      " [-1.47217502 -1.37153631]\n",
      " [ 2.00698242 -0.62279607]\n",
      " [-0.42161452  1.85372355]\n",
      " [-1.72031239  0.14115556]\n",
      " [ 2.08293231 -0.60403886]]\n",
      "Explained variance ratio: [0.61393563 0.25279474]\n"
     ]
    }
   ],
   "source": [
    "import numpy as np\n",
    "from sklearn.decomposition import PCA\n",
    "from sklearn.preprocessing import StandardScaler\n",
    "\n",
    "# Original data\n",
    "data = np.array([\n",
    "    [2.1, 5.4, 7.5, 3.0],\n",
    "    [5.5, 3.7, 7.3, 7.4],\n",
    "    [7.2, 2.5, 1.2, 5.1],\n",
    "    [1.6, 6.2, 1.6, 2.9],\n",
    "    [5.1, 3.2, 9.5, 1.4],\n",
    "    [6.3, 2.4, 6.8, 5.2],\n",
    "    [2.2, 6.6, 1.5, 2.5],\n",
    "])\n",
    "\n",
    "scaling = StandardScaler()\n",
    "standardized_data = scaling.fit_transform(data)\n",
    "\n",
    "pca = PCA(n_components=2)\n",
    "principal_components = pca.fit_transform(standardized_data)\n",
    "\n",
    "print(\"Original data:\\n\", data)\n",
    "print(\"Principal components:\\n\", principal_components)\n",
    "\n",
    "explained_variance = pca.explained_variance_ratio_\n",
    "print(\"Explained variance ratio:\", explained_variance)"
   ]
  },
  {
   "cell_type": "markdown",
   "id": "c70ed75b-fe7c-4d2c-9b3d-f94d833119c8",
   "metadata": {},
   "source": [
    "Q5. You are working on a project to build a recommendation system for a food delivery service. The dataset contains features such as price, rating, and delivery time. Explain how you would use Min-Max scaling to preprocess the data."
   ]
  },
  {
   "cell_type": "raw",
   "id": "b4484133-aa0e-472c-84d5-cec143bab2b7",
   "metadata": {},
   "source": [
    "First, we will create a dataset having all these features like price, rating and delivery time. Price, rating and time will all be continuous values."
   ]
  },
  {
   "cell_type": "code",
   "execution_count": 17,
   "id": "b3301513-6c8f-4208-8abf-686fa8db09cd",
   "metadata": {},
   "outputs": [],
   "source": [
    "price = np.random.randint(30,400,20,int)\n",
    "rating = np.random.randint(1,6,20,int)\n",
    "delivery_time = np.random.randint(20,90,20,int)"
   ]
  },
  {
   "cell_type": "code",
   "execution_count": 18,
   "id": "00248b30-187b-41f1-a6c4-31d30c7d36d7",
   "metadata": {},
   "outputs": [],
   "source": [
    "A1 = pd.DataFrame(price,columns=['Price'])\n",
    "A2 = pd.DataFrame(rating,columns=['Rating'])\n",
    "A3 = pd.DataFrame(delivery_time,columns=['Time'])"
   ]
  },
  {
   "cell_type": "code",
   "execution_count": 19,
   "id": "0a51ad1e-6142-4acb-ab5d-ff6c073d1944",
   "metadata": {},
   "outputs": [],
   "source": [
    "food = pd.concat([A1,A2],axis=1)"
   ]
  },
  {
   "cell_type": "code",
   "execution_count": 20,
   "id": "f17661ec-a0e0-41df-9e8c-39b6eefe0cbd",
   "metadata": {},
   "outputs": [],
   "source": [
    "restaurant = pd.concat([food,A3],axis=1)"
   ]
  },
  {
   "cell_type": "code",
   "execution_count": 21,
   "id": "73a5c430-a79a-4abb-8ebc-af263be894c6",
   "metadata": {},
   "outputs": [
    {
     "data": {
      "text/html": [
       "<div>\n",
       "<style scoped>\n",
       "    .dataframe tbody tr th:only-of-type {\n",
       "        vertical-align: middle;\n",
       "    }\n",
       "\n",
       "    .dataframe tbody tr th {\n",
       "        vertical-align: top;\n",
       "    }\n",
       "\n",
       "    .dataframe thead th {\n",
       "        text-align: right;\n",
       "    }\n",
       "</style>\n",
       "<table border=\"1\" class=\"dataframe\">\n",
       "  <thead>\n",
       "    <tr style=\"text-align: right;\">\n",
       "      <th></th>\n",
       "      <th>Price</th>\n",
       "      <th>Rating</th>\n",
       "      <th>Time</th>\n",
       "    </tr>\n",
       "  </thead>\n",
       "  <tbody>\n",
       "    <tr>\n",
       "      <th>0</th>\n",
       "      <td>168</td>\n",
       "      <td>3</td>\n",
       "      <td>31</td>\n",
       "    </tr>\n",
       "    <tr>\n",
       "      <th>1</th>\n",
       "      <td>37</td>\n",
       "      <td>3</td>\n",
       "      <td>49</td>\n",
       "    </tr>\n",
       "    <tr>\n",
       "      <th>2</th>\n",
       "      <td>397</td>\n",
       "      <td>2</td>\n",
       "      <td>27</td>\n",
       "    </tr>\n",
       "    <tr>\n",
       "      <th>3</th>\n",
       "      <td>305</td>\n",
       "      <td>3</td>\n",
       "      <td>36</td>\n",
       "    </tr>\n",
       "    <tr>\n",
       "      <th>4</th>\n",
       "      <td>102</td>\n",
       "      <td>3</td>\n",
       "      <td>50</td>\n",
       "    </tr>\n",
       "  </tbody>\n",
       "</table>\n",
       "</div>"
      ],
      "text/plain": [
       "   Price  Rating  Time\n",
       "0    168       3    31\n",
       "1     37       3    49\n",
       "2    397       2    27\n",
       "3    305       3    36\n",
       "4    102       3    50"
      ]
     },
     "execution_count": 21,
     "metadata": {},
     "output_type": "execute_result"
    }
   ],
   "source": [
    "restaurant.head()"
   ]
  },
  {
   "cell_type": "code",
   "execution_count": 22,
   "id": "77a710c9-da4d-49da-8c76-5110b7957dc4",
   "metadata": {},
   "outputs": [],
   "source": [
    "restaurant.to_excel('business.xlsx')"
   ]
  },
  {
   "cell_type": "markdown",
   "id": "64f9f45f-87dd-4683-ad5a-b43024a641fa",
   "metadata": {},
   "source": [
    "We have the dataset. We will now implement Min-Max scaling"
   ]
  },
  {
   "cell_type": "code",
   "execution_count": 23,
   "id": "a5d45934-5df0-43d4-9ba2-fdfe89744fa2",
   "metadata": {},
   "outputs": [
    {
     "name": "stdout",
     "output_type": "stream",
     "text": [
      "   Unnamed: 0     Price  Rating      Time\n",
      "0           0  0.369146    0.50  0.070175\n",
      "1           1  0.008264    0.50  0.385965\n",
      "2           2  1.000000    0.25  0.000000\n",
      "3           3  0.746556    0.50  0.157895\n",
      "4           4  0.187328    0.50  0.403509\n"
     ]
    }
   ],
   "source": [
    "import pandas as pd\n",
    "from sklearn.preprocessing import MinMaxScaler\n",
    "\n",
    "data = pd.read_excel('business.xlsx')\n",
    "\n",
    "features = ['Price', 'Rating', 'Time']\n",
    "\n",
    "scaler = MinMaxScaler()\n",
    "\n",
    "data[features] = scaler.fit_transform(data[features])\n",
    "\n",
    "print(data.head())"
   ]
  },
  {
   "cell_type": "markdown",
   "id": "d8e4f43d-69ae-4ba1-a794-2a764c042e39",
   "metadata": {},
   "source": [
    "Q6. You are working on a project to build a model to predict stock prices. The dataset contains many features, such as company financial data and market trends. Explain how you would use PCA to reduce the dimensionality of the dataset."
   ]
  },
  {
   "cell_type": "code",
   "execution_count": 41,
   "id": "c894a12d-a89b-4f42-a6a6-63f143afb2f4",
   "metadata": {},
   "outputs": [],
   "source": [
    "import pandas as pd\n",
    "import numpy as np\n",
    "\n",
    "np.random.seed(42)\n",
    "num_samples = 50\n",
    "\n",
    "data = {\n",
    "    'price': np.random.uniform(10, 100, num_samples),\n",
    "    'revenue': np.random.uniform(1000000, 100000000, num_samples),\n",
    "    'profit': np.random.uniform(10000, 10000000, num_samples),\n",
    "    'market_cap': np.random.uniform(100000000, 10000000000, num_samples),\n",
    "    'dividends': np.random.uniform(0, 5, num_samples),\n",
    "    'pe_ratio': np.random.uniform(5, 50, num_samples),\n",
    "    'volume': np.random.uniform(10000, 10000000, num_samples),\n",
    "    'volatility': np.random.uniform(0.5, 10, num_samples)\n",
    "}\n",
    "\n",
    "df = pd.DataFrame(data)\n",
    "df.to_csv('stock_prices_data.csv', index=False)"
   ]
  },
  {
   "cell_type": "code",
   "execution_count": 43,
   "id": "0f0a7786-5739-4c8a-ac20-c1fc55364d49",
   "metadata": {},
   "outputs": [
    {
     "name": "stdout",
     "output_type": "stream",
     "text": [
      "[array([[-2.38294088],\n",
      "       [ 0.97973685],\n",
      "       [ 1.47023373],\n",
      "       [-0.29938416],\n",
      "       [-0.153554  ],\n",
      "       [ 1.86175249],\n",
      "       [ 1.47468   ],\n",
      "       [-0.34156121],\n",
      "       [ 1.44842751],\n",
      "       [-1.11635099],\n",
      "       [ 0.21199327],\n",
      "       [-0.8664705 ],\n",
      "       [-1.23128536],\n",
      "       [ 1.68455062],\n",
      "       [ 1.42393457],\n",
      "       [ 1.18127784],\n",
      "       [ 0.85697863],\n",
      "       [-0.71062111],\n",
      "       [ 0.53030669],\n",
      "       [-1.00931811],\n",
      "       [ 0.7023145 ],\n",
      "       [ 2.44199447],\n",
      "       [ 1.76746171],\n",
      "       [ 0.41408055],\n",
      "       [ 1.12014821],\n",
      "       [ 1.54098085],\n",
      "       [-0.38540858],\n",
      "       [ 1.6976217 ],\n",
      "       [-1.79140211],\n",
      "       [ 0.71305617],\n",
      "       [ 0.36506499],\n",
      "       [ 0.54018268],\n",
      "       [-2.17159484],\n",
      "       [-2.09761737],\n",
      "       [ 0.65511119],\n",
      "       [-2.33092907],\n",
      "       [ 0.71856602],\n",
      "       [ 1.68560839],\n",
      "       [-0.868741  ],\n",
      "       [ 0.77523951],\n",
      "       [-0.42844243],\n",
      "       [-2.16338624],\n",
      "       [-1.24784158],\n",
      "       [-0.59446146],\n",
      "       [ 0.35178268],\n",
      "       [-0.87926281],\n",
      "       [ 0.3580082 ],\n",
      "       [-2.40102377],\n",
      "       [-1.88117888],\n",
      "       [-1.61831759]])]\n"
     ]
    }
   ],
   "source": [
    "from sklearn.preprocessing import StandardScaler\n",
    "from sklearn.decomposition import PCA\n",
    "import matplotlib.pyplot as plt\n",
    "\n",
    "data = pd.read_csv('stock_prices_data.csv')\n",
    "\n",
    "features = data.drop(columns=['price'])\n",
    "target = data['price']\n",
    "\n",
    "scaler = StandardScaler()\n",
    "features_standardized = scaler.fit_transform(features)\n",
    "\n",
    "pca = PCA()\n",
    "features_pca = pca.fit_transform(features_standardized)\n",
    "\n",
    "n_components = np.argmax(explained_variance.cumsum() >= 0.95) + 1\n",
    "\n",
    "pca = PCA(n_components=n_components)\n",
    "features_reduced = pca.fit_transform(features_standardized)\n",
    "\n",
    "print([features_reduced])"
   ]
  },
  {
   "cell_type": "markdown",
   "id": "bd0b52a6-370c-4cfc-a775-0f2bbc241304",
   "metadata": {},
   "source": [
    "Q7. For a dataset containing the following values: [1, 5, 10, 15, 20], perform Min-Max scaling to transform the values to a range of -1 to 1."
   ]
  },
  {
   "cell_type": "code",
   "execution_count": 44,
   "id": "b7551ab5-47e1-4210-8020-c5fcf43636b9",
   "metadata": {},
   "outputs": [
    {
     "name": "stdout",
     "output_type": "stream",
     "text": [
      "Original data:\n",
      " [[ 1]\n",
      " [ 5]\n",
      " [10]\n",
      " [15]\n",
      " [20]]\n",
      "Scaled data:\n",
      " [[0.        ]\n",
      " [0.21052632]\n",
      " [0.47368421]\n",
      " [0.73684211]\n",
      " [1.        ]]\n"
     ]
    }
   ],
   "source": [
    "import numpy as np\n",
    "from sklearn.preprocessing import MinMaxScaler\n",
    "\n",
    "sample = np.array([[1], [5], [10], [15], [20]])\n",
    "\n",
    "Scaler_model = MinMaxScaler()\n",
    "\n",
    "scaled_data = MMS.fit_transform(sample)\n",
    "\n",
    "print(\"Original data:\\n\", sample)\n",
    "print(\"Scaled data:\\n\", scaled_data)"
   ]
  },
  {
   "cell_type": "markdown",
   "id": "b340efa1-4cbd-49fb-851d-5865763228b3",
   "metadata": {},
   "source": [
    "Q8. For a dataset containing the following features: [height, weight, age, gender, blood pressure], perform Feature Extraction using PCA. How many principal components would you choose to retain, and why?"
   ]
  },
  {
   "cell_type": "code",
   "execution_count": 48,
   "id": "d8bb39c0-6b95-4004-99f4-374b603ba241",
   "metadata": {},
   "outputs": [],
   "source": [
    "Patients = pd.DataFrame({\n",
    "    'Height':[170,165,164,186,153,185,173,187],\n",
    "    'Weight':[67,75,61,64,54,88,46,64],\n",
    "    'Age':[23,34,14,71,26,35,29,54],\n",
    "    'Gender':[1,0,1,0,0,1,1,0],\n",
    "    'BP':[85,90,115,125,76,95,112,136]\n",
    "})"
   ]
  },
  {
   "cell_type": "code",
   "execution_count": 49,
   "id": "5aa97d10-83f3-4b4b-a43b-1fe0562f31c0",
   "metadata": {},
   "outputs": [
    {
     "data": {
      "text/html": [
       "<div>\n",
       "<style scoped>\n",
       "    .dataframe tbody tr th:only-of-type {\n",
       "        vertical-align: middle;\n",
       "    }\n",
       "\n",
       "    .dataframe tbody tr th {\n",
       "        vertical-align: top;\n",
       "    }\n",
       "\n",
       "    .dataframe thead th {\n",
       "        text-align: right;\n",
       "    }\n",
       "</style>\n",
       "<table border=\"1\" class=\"dataframe\">\n",
       "  <thead>\n",
       "    <tr style=\"text-align: right;\">\n",
       "      <th></th>\n",
       "      <th>Height</th>\n",
       "      <th>Weight</th>\n",
       "      <th>Age</th>\n",
       "      <th>Gender</th>\n",
       "      <th>BP</th>\n",
       "    </tr>\n",
       "  </thead>\n",
       "  <tbody>\n",
       "    <tr>\n",
       "      <th>0</th>\n",
       "      <td>170</td>\n",
       "      <td>67</td>\n",
       "      <td>23</td>\n",
       "      <td>1</td>\n",
       "      <td>85</td>\n",
       "    </tr>\n",
       "    <tr>\n",
       "      <th>1</th>\n",
       "      <td>165</td>\n",
       "      <td>75</td>\n",
       "      <td>34</td>\n",
       "      <td>0</td>\n",
       "      <td>90</td>\n",
       "    </tr>\n",
       "    <tr>\n",
       "      <th>2</th>\n",
       "      <td>164</td>\n",
       "      <td>61</td>\n",
       "      <td>14</td>\n",
       "      <td>1</td>\n",
       "      <td>115</td>\n",
       "    </tr>\n",
       "    <tr>\n",
       "      <th>3</th>\n",
       "      <td>186</td>\n",
       "      <td>64</td>\n",
       "      <td>71</td>\n",
       "      <td>0</td>\n",
       "      <td>125</td>\n",
       "    </tr>\n",
       "    <tr>\n",
       "      <th>4</th>\n",
       "      <td>153</td>\n",
       "      <td>54</td>\n",
       "      <td>26</td>\n",
       "      <td>0</td>\n",
       "      <td>76</td>\n",
       "    </tr>\n",
       "    <tr>\n",
       "      <th>5</th>\n",
       "      <td>185</td>\n",
       "      <td>88</td>\n",
       "      <td>35</td>\n",
       "      <td>1</td>\n",
       "      <td>95</td>\n",
       "    </tr>\n",
       "    <tr>\n",
       "      <th>6</th>\n",
       "      <td>173</td>\n",
       "      <td>46</td>\n",
       "      <td>29</td>\n",
       "      <td>1</td>\n",
       "      <td>112</td>\n",
       "    </tr>\n",
       "    <tr>\n",
       "      <th>7</th>\n",
       "      <td>187</td>\n",
       "      <td>64</td>\n",
       "      <td>54</td>\n",
       "      <td>0</td>\n",
       "      <td>136</td>\n",
       "    </tr>\n",
       "  </tbody>\n",
       "</table>\n",
       "</div>"
      ],
      "text/plain": [
       "   Height  Weight  Age  Gender   BP\n",
       "0     170      67   23       1   85\n",
       "1     165      75   34       0   90\n",
       "2     164      61   14       1  115\n",
       "3     186      64   71       0  125\n",
       "4     153      54   26       0   76\n",
       "5     185      88   35       1   95\n",
       "6     173      46   29       1  112\n",
       "7     187      64   54       0  136"
      ]
     },
     "execution_count": 49,
     "metadata": {},
     "output_type": "execute_result"
    }
   ],
   "source": [
    "Patients"
   ]
  },
  {
   "cell_type": "code",
   "execution_count": 50,
   "id": "cefd0b42-8242-4012-8d28-ac03ec2f3dda",
   "metadata": {},
   "outputs": [
    {
     "name": "stdout",
     "output_type": "stream",
     "text": [
      "Number of principal components to retain: 3\n"
     ]
    }
   ],
   "source": [
    "import pandas as pd\n",
    "from sklearn.preprocessing import StandardScaler\n",
    "from sklearn.decomposition import PCA\n",
    "\n",
    "scaler = StandardScaler()\n",
    "data_standardized = scaler.fit_transform(Patients)\n",
    "\n",
    "pca = PCA()\n",
    "principal_components = pca.fit_transform(data_standardized)\n",
    "\n",
    "explained_variance = pca.explained_variance_ratio_\n",
    "cumulative_variance = explained_variance.cumsum()\n",
    "\n",
    "n_components = len(cumulative_variance[cumulative_variance < 0.95]) + 1\n",
    "\n",
    "print(f\"Number of principal components to retain: {n_components}\")"
   ]
  },
  {
   "cell_type": "code",
   "execution_count": null,
   "id": "2c67b27d-ace4-415c-aeeb-26a1484d048d",
   "metadata": {},
   "outputs": [],
   "source": []
  }
 ],
 "metadata": {
  "kernelspec": {
   "display_name": "Python 3 (ipykernel)",
   "language": "python",
   "name": "python3"
  },
  "language_info": {
   "codemirror_mode": {
    "name": "ipython",
    "version": 3
   },
   "file_extension": ".py",
   "mimetype": "text/x-python",
   "name": "python",
   "nbconvert_exporter": "python",
   "pygments_lexer": "ipython3",
   "version": "3.10.8"
  }
 },
 "nbformat": 4,
 "nbformat_minor": 5
}
