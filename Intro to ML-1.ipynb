{
 "cells": [
  {
   "cell_type": "markdown",
   "id": "65a1b399-faf0-409b-b0d4-250dd78048e6",
   "metadata": {},
   "source": [
    "# Introduction to ML-1"
   ]
  },
  {
   "cell_type": "markdown",
   "id": "01b8b3b5-c2e0-4776-bdfb-6b414deccf51",
   "metadata": {},
   "source": [
    "Q1- Explain the following with an example:\n",
    "1. Artificial Intelligence\n",
    "2. Machine Learning\n",
    "3. Deep Learning"
   ]
  },
  {
   "cell_type": "raw",
   "id": "aa658fc0-9570-4953-bec2-234d51168fe3",
   "metadata": {},
   "source": [
    "Artificial Intelligence(AI) is the concept of creating smart intelligent machines. Example: Chatbots, self-driven cars, unmanned aircrafts, etc.\n",
    "\n",
    "Machine Learning is a subset of AI that allows machines to learn and adapt changes on its own without human intervention. If an AI machine makes a mistake, it will keep a record of it and try not to make that mistake again in future scenarios.\n",
    "\n",
    "Deep Learning is a subset of machine learning that uses huge amount of data and complex algorithm for model training. It uses artificial neural networks that are inspired from human brain."
   ]
  },
  {
   "cell_type": "markdown",
   "id": "338fd104-6e62-413c-b5ca-aa75409ae3d9",
   "metadata": {},
   "source": [
    "Q2- What is supervised learning? List some examples of supervised learning."
   ]
  },
  {
   "cell_type": "raw",
   "id": "eaed7464-ea12-47f3-a318-8d47c14a8576",
   "metadata": {},
   "source": [
    "As the name suggests, supervised learning is like when we teach/train the machine using specific data. Here we have both input and output data with us and using this data, we are training the model.\n",
    "\n",
    "Ex: We are creating a model that will give the sales report as output. For the model to run perfectly, we will give ceratin input and output data to our model so that it can analyse the pattern of existing data and make predictions accurately and precisely.\n",
    "\n",
    "Further examples: Fraud detection, spam filtering in email, object detection, etc."
   ]
  },
  {
   "cell_type": "markdown",
   "id": "64db2c77-81cd-4e7a-8552-e58fe5dd1d82",
   "metadata": {},
   "source": [
    "Q3- What is unsupervised learning? List some examples of unsupervised learning."
   ]
  },
  {
   "cell_type": "raw",
   "id": "118fac2a-a94a-495e-8365-f8f7f5546c04",
   "metadata": {},
   "source": [
    "As the name suggests, there is no mentor present physically to train the model. Once we give the input data to the model, it will automatically analyse the pattern and learn from mistakes in its own and keep on increasing the accuracy.\n",
    "\n",
    "Example: Fraud detection, image analysis, NLP, etc."
   ]
  },
  {
   "cell_type": "markdown",
   "id": "c59219ad-70ed-4a6d-b9ad-8a95ba6f822a",
   "metadata": {},
   "source": [
    "Q4- What is the difference between AI, ML, DL, and DS?"
   ]
  },
  {
   "cell_type": "raw",
   "id": "cfe22b58-f575-4359-b8b8-a599ef73cd13",
   "metadata": {},
   "source": [
    "AI (Artificial Intelligence) is a technology that allows machines to carry out tasks in a very smart way or human-like intelligence.\n",
    "\n",
    "Machine Learning is a subset of AI that focuses on creation of algorithms and models that computers uses to perform tasks without human involvement.\n",
    "\n",
    "Deep Learning is a subset of machine learning inspired by the structure and function of the human brain(artificial neural networks). Deep learning algorithms focuses on solving complex problem statements attempt by using multiple processing layers having multiple linear and non-linear transformations."
   ]
  },
  {
   "cell_type": "markdown",
   "id": "2b5a34b5-1424-44bb-8b71-8f6b33ba909b",
   "metadata": {},
   "source": [
    "Q5- What are the main differences between supervised, unsupervised, and semi-supervised learning?"
   ]
  },
  {
   "cell_type": "raw",
   "id": "72bc2e87-fcad-4f72-834a-dcd2183dd8f8",
   "metadata": {},
   "source": [
    "Supervised learning involves human presence for model training. We have the input and output and then we train the model.\n",
    "\n",
    "Unsupervised learning does not involve human intervention. We don't know the output in this case and we group the input data into different clusters.\n",
    "\n",
    "Semi-Supervised learning comprises of training the model using supervised learning and then implementation using un-supervised learning."
   ]
  },
  {
   "cell_type": "markdown",
   "id": "e03729e8-3ebe-4298-bc0f-f5d8e76a257c",
   "metadata": {},
   "source": [
    "Q6- What is train, test and validation split? Explain the importance of each term."
   ]
  },
  {
   "cell_type": "raw",
   "id": "0490522e-dcd0-4a4b-95de-06a56a93e872",
   "metadata": {},
   "source": [
    "Whenever we train a ML model, we use 3 types of dataset:\n",
    "    \n",
    "Train dataset (This dataset is used to train the model)\n",
    "\n",
    "Test dataset (This dataset is used to test the accuracy of the model)\n",
    "\n",
    "Validation Dataset (This dataset is used to make some additional changes/modifications in the model to improve its existing performance)"
   ]
  },
  {
   "cell_type": "markdown",
   "id": "9e548479-945d-4b74-b4b9-0be1a40dd374",
   "metadata": {},
   "source": [
    "Q7- How can unsupervised learning be used in anomaly detection?"
   ]
  },
  {
   "cell_type": "raw",
   "id": "19968bcb-7f04-488d-9ac8-a80a66e09f93",
   "metadata": {},
   "source": [
    "Unsupervised learning in anomaly detection starts with training a model with a dataset having both normal and anomalous samples and our main aim is to identify those samples that are unusual or do not follow the regular/expected pattern. In unsupervised anomaly detection, there is no pre-existing information that indicates which instances are considered normal.\n",
    "This model is very useful for identifying outliers in the dataset and take appropriate action or measures to avoid accuracy reduction."
   ]
  },
  {
   "cell_type": "markdown",
   "id": "4556ac53-4d94-4a54-bfce-a0497ee4b276",
   "metadata": {},
   "source": [
    "Q8- List down some commonly used supervised learning and unsupervised learning algorithms."
   ]
  },
  {
   "cell_type": "raw",
   "id": "1174e99b-defa-4aaa-9260-e7ccbd04ae51",
   "metadata": {},
   "source": [
    "Supervised Learning Algorithms:\n",
    "    \n",
    "1. Linear Regression\n",
    "\n",
    "2. Logistic Regression\n",
    "\n",
    "3. Decision Tree\n",
    "\n",
    "4. Random Forest\n",
    "\n",
    "5. SVM (Support Vector Machine)\n",
    "\n",
    "6. KNN (K-Nearest Neighbour)\n",
    "\n",
    "Unsupervised Learning Alogrithm:\n",
    "\n",
    "1. K-Means Clustering\n",
    "\n",
    "2. Hierarchial Clustering\n",
    "\n",
    "3. Principal Component Analysis"
   ]
  },
  {
   "cell_type": "code",
   "execution_count": null,
   "id": "8199342c-ddcc-4e5c-ba4b-436dee4e79b9",
   "metadata": {},
   "outputs": [],
   "source": []
  }
 ],
 "metadata": {
  "kernelspec": {
   "display_name": "Python 3 (ipykernel)",
   "language": "python",
   "name": "python3"
  },
  "language_info": {
   "codemirror_mode": {
    "name": "ipython",
    "version": 3
   },
   "file_extension": ".py",
   "mimetype": "text/x-python",
   "name": "python",
   "nbconvert_exporter": "python",
   "pygments_lexer": "ipython3",
   "version": "3.10.8"
  }
 },
 "nbformat": 4,
 "nbformat_minor": 5
}
