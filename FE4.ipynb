{
 "cells": [
  {
   "cell_type": "markdown",
   "id": "44803fea-5cc0-47f4-9883-31601464c770",
   "metadata": {},
   "source": [
    "Q1. What is data encoding? How is it useful in data science?"
   ]
  },
  {
   "cell_type": "raw",
   "id": "3b76946e-b1d6-4465-9341-e0a1c5b333e8",
   "metadata": {},
   "source": [
    "Data encoding is a simple method to convert categorical data into numerical data. It is very important in data science because whenever we create a model, we know that model works on algorithm which understands only numeric values. If we try to give categorical data to model as input, it will simply not understand and will give us error. So, to avoid this challenge, we use the concept of Data encoding."
   ]
  },
  {
   "cell_type": "markdown",
   "id": "d566b5ce-5f19-407c-b1cc-c0fb73274a3a",
   "metadata": {},
   "source": [
    "Q2. What is nominal encoding? Provide an example of how you would use it in a real-world scenario."
   ]
  },
  {
   "cell_type": "raw",
   "id": "10a86246-5f7b-40b9-93a0-e230c663c851",
   "metadata": {},
   "source": [
    "Nominal encoding is also known as OneHotEncoder. In nominal encoding, each category in a categorical variable is represented in binary format, where each binary digit represents whether the observation belongs to that category or not."
   ]
  },
  {
   "cell_type": "code",
   "execution_count": 8,
   "id": "4a108fe1-1444-4a75-8640-a76f34807aaa",
   "metadata": {},
   "outputs": [
    {
     "name": "stdout",
     "output_type": "stream",
     "text": [
      "   Customer ID  Gender_Male  Payment Method_Debit Card  Payment Method_PayPal\n",
      "0            1          1.0                        0.0                    0.0\n",
      "1            2          0.0                        1.0                    0.0\n",
      "2            3          1.0                        0.0                    1.0\n",
      "3            4          0.0                        0.0                    0.0\n",
      "4            5          1.0                        0.0                    1.0\n"
     ]
    }
   ],
   "source": [
    "import warnings\n",
    "warnings.filterwarnings('ignore')\n",
    "import pandas as pd\n",
    "from sklearn.preprocessing import OneHotEncoder\n",
    "\n",
    "data = {\n",
    "    'Customer ID': [1, 2, 3, 4, 5],\n",
    "    'Gender': ['Male', 'Female', 'Male', 'Female', 'Male'],\n",
    "    'Payment Method': ['Credit Card', 'Debit Card', 'PayPal', 'Credit Card', 'PayPal']\n",
    "}\n",
    "df = pd.DataFrame(data)\n",
    "\n",
    "categorical_cols = ['Gender', 'Payment Method']\n",
    "X_categorical = df[categorical_cols]\n",
    "\n",
    "encoder = OneHotEncoder(sparse=False, drop='first')\n",
    "X_encoded = encoder.fit_transform(X_categorical)\n",
    "\n",
    "encoded_df = pd.DataFrame(X_encoded, columns=encoder.get_feature_names_out(categorical_cols))\n",
    "\n",
    "final_df = pd.concat([df.drop(columns=categorical_cols), encoded_df], axis=1)\n",
    "print(final_df)"
   ]
  },
  {
   "cell_type": "markdown",
   "id": "d40a0739-5568-4597-adbe-bdde13027bb5",
   "metadata": {},
   "source": [
    "Q3. In what situations is nominal encoding preferred over one-hot encoding? Provide a practical example."
   ]
  },
  {
   "cell_type": "raw",
   "id": "fabd5704-8ff2-4cea-8a16-d04d8bd41a36",
   "metadata": {},
   "source": [
    "1. Whenever we have a large number of unique categories under categorical data, we use Nominal encoding.\n",
    "\n",
    "2. Algorithm supportability: There are various ML algorithms like decision trees, random forests, gradient boosting which can handle nominal encoding more efficiently as compared to one hot encoding."
   ]
  },
  {
   "cell_type": "code",
   "execution_count": 12,
   "id": "e55f6d3e-af65-41d7-bfa7-1073b27c21fb",
   "metadata": {},
   "outputs": [
    {
     "name": "stdout",
     "output_type": "stream",
     "text": [
      "   Customer ID    Education Level  Education Level Encoded\n",
      "0            1        High School                        0\n",
      "1            2  Bachelor's Degree                        1\n",
      "2            3    Master's Degree                        2\n",
      "3            4              Ph.D.                        3\n",
      "4            5  Bachelor's Degree                        1\n"
     ]
    }
   ],
   "source": [
    "import pandas as pd\n",
    "\n",
    "data = {\n",
    "    'Customer ID': [1, 2, 3, 4, 5],\n",
    "    'Education Level': ['High School', 'Bachelor\\'s Degree', 'Master\\'s Degree', 'Ph.D.', 'Bachelor\\'s Degree']\n",
    "}\n",
    "df = pd.DataFrame(data)\n",
    "\n",
    "# Nominal encoding (integer encoding) for Education Level\n",
    "education_mapping = {\n",
    "    'High School': 0,\n",
    "    'Bachelor\\'s Degree': 1,\n",
    "    'Master\\'s Degree': 2,\n",
    "    'Ph.D.': 3\n",
    "}\n",
    "df['Education Level Encoded'] = df['Education Level'].map(education_mapping)\n",
    "\n",
    "print(df[['Customer ID', 'Education Level', 'Education Level Encoded']])"
   ]
  },
  {
   "cell_type": "markdown",
   "id": "55d65310-5aea-4699-803c-8735e33f2848",
   "metadata": {},
   "source": [
    "Q4. Suppose you have a dataset containing categorical data with 5 unique values. Which encoding technique would you use to transform this data into a format suitable for machine learning algorithms? Explain why you made this choice."
   ]
  },
  {
   "cell_type": "code",
   "execution_count": 35,
   "id": "36299417-5eb6-4b1b-8a23-2a388844ab0a",
   "metadata": {},
   "outputs": [],
   "source": [
    "city = pd.DataFrame({'code':[102,403,532,642,293],\n",
    "              'location':['goa','mumbai','pune','delhi','kolkata']})"
   ]
  },
  {
   "cell_type": "code",
   "execution_count": 36,
   "id": "838a2b28-0bdc-4a94-9d02-52bf46a43fe6",
   "metadata": {},
   "outputs": [
    {
     "data": {
      "text/html": [
       "<div>\n",
       "<style scoped>\n",
       "    .dataframe tbody tr th:only-of-type {\n",
       "        vertical-align: middle;\n",
       "    }\n",
       "\n",
       "    .dataframe tbody tr th {\n",
       "        vertical-align: top;\n",
       "    }\n",
       "\n",
       "    .dataframe thead th {\n",
       "        text-align: right;\n",
       "    }\n",
       "</style>\n",
       "<table border=\"1\" class=\"dataframe\">\n",
       "  <thead>\n",
       "    <tr style=\"text-align: right;\">\n",
       "      <th></th>\n",
       "      <th>code</th>\n",
       "      <th>location</th>\n",
       "    </tr>\n",
       "  </thead>\n",
       "  <tbody>\n",
       "    <tr>\n",
       "      <th>0</th>\n",
       "      <td>102</td>\n",
       "      <td>goa</td>\n",
       "    </tr>\n",
       "    <tr>\n",
       "      <th>1</th>\n",
       "      <td>403</td>\n",
       "      <td>mumbai</td>\n",
       "    </tr>\n",
       "    <tr>\n",
       "      <th>2</th>\n",
       "      <td>532</td>\n",
       "      <td>pune</td>\n",
       "    </tr>\n",
       "    <tr>\n",
       "      <th>3</th>\n",
       "      <td>642</td>\n",
       "      <td>delhi</td>\n",
       "    </tr>\n",
       "    <tr>\n",
       "      <th>4</th>\n",
       "      <td>293</td>\n",
       "      <td>kolkata</td>\n",
       "    </tr>\n",
       "  </tbody>\n",
       "</table>\n",
       "</div>"
      ],
      "text/plain": [
       "   code location\n",
       "0   102      goa\n",
       "1   403   mumbai\n",
       "2   532     pune\n",
       "3   642    delhi\n",
       "4   293  kolkata"
      ]
     },
     "execution_count": 36,
     "metadata": {},
     "output_type": "execute_result"
    }
   ],
   "source": [
    "city"
   ]
  },
  {
   "cell_type": "code",
   "execution_count": 37,
   "id": "46480978-21a1-4926-872e-6ffb21e2e7c1",
   "metadata": {},
   "outputs": [],
   "source": [
    "updated = OHE.fit_transform(city[['location']])"
   ]
  },
  {
   "cell_type": "code",
   "execution_count": 38,
   "id": "b50f65c3-1b5c-4d0b-877a-05dcb7b0a1ae",
   "metadata": {},
   "outputs": [
    {
     "data": {
      "text/plain": [
       "<5x5 sparse matrix of type '<class 'numpy.float64'>'\n",
       "\twith 5 stored elements in Compressed Sparse Row format>"
      ]
     },
     "execution_count": 38,
     "metadata": {},
     "output_type": "execute_result"
    }
   ],
   "source": [
    "updated"
   ]
  },
  {
   "cell_type": "code",
   "execution_count": 39,
   "id": "49f9f35e-e8da-4657-9a79-79fe0cbb458f",
   "metadata": {},
   "outputs": [],
   "source": [
    "new = pd.DataFrame(updated.toarray(),columns=['delhi','goa','kolkata','mumbai','pune'])"
   ]
  },
  {
   "cell_type": "code",
   "execution_count": 40,
   "id": "957a92b9-9847-4f82-b454-cf2a8d339fc6",
   "metadata": {},
   "outputs": [],
   "source": [
    "final_coding = pd.concat([city,new],axis=1)"
   ]
  },
  {
   "cell_type": "code",
   "execution_count": 41,
   "id": "4943839a-70a7-4843-bc58-e6d1f256798f",
   "metadata": {},
   "outputs": [
    {
     "data": {
      "text/html": [
       "<div>\n",
       "<style scoped>\n",
       "    .dataframe tbody tr th:only-of-type {\n",
       "        vertical-align: middle;\n",
       "    }\n",
       "\n",
       "    .dataframe tbody tr th {\n",
       "        vertical-align: top;\n",
       "    }\n",
       "\n",
       "    .dataframe thead th {\n",
       "        text-align: right;\n",
       "    }\n",
       "</style>\n",
       "<table border=\"1\" class=\"dataframe\">\n",
       "  <thead>\n",
       "    <tr style=\"text-align: right;\">\n",
       "      <th></th>\n",
       "      <th>code</th>\n",
       "      <th>location</th>\n",
       "      <th>delhi</th>\n",
       "      <th>goa</th>\n",
       "      <th>kolkata</th>\n",
       "      <th>mumbai</th>\n",
       "      <th>pune</th>\n",
       "    </tr>\n",
       "  </thead>\n",
       "  <tbody>\n",
       "    <tr>\n",
       "      <th>0</th>\n",
       "      <td>102</td>\n",
       "      <td>goa</td>\n",
       "      <td>0.0</td>\n",
       "      <td>1.0</td>\n",
       "      <td>0.0</td>\n",
       "      <td>0.0</td>\n",
       "      <td>0.0</td>\n",
       "    </tr>\n",
       "    <tr>\n",
       "      <th>1</th>\n",
       "      <td>403</td>\n",
       "      <td>mumbai</td>\n",
       "      <td>0.0</td>\n",
       "      <td>0.0</td>\n",
       "      <td>0.0</td>\n",
       "      <td>1.0</td>\n",
       "      <td>0.0</td>\n",
       "    </tr>\n",
       "    <tr>\n",
       "      <th>2</th>\n",
       "      <td>532</td>\n",
       "      <td>pune</td>\n",
       "      <td>0.0</td>\n",
       "      <td>0.0</td>\n",
       "      <td>0.0</td>\n",
       "      <td>0.0</td>\n",
       "      <td>1.0</td>\n",
       "    </tr>\n",
       "    <tr>\n",
       "      <th>3</th>\n",
       "      <td>642</td>\n",
       "      <td>delhi</td>\n",
       "      <td>1.0</td>\n",
       "      <td>0.0</td>\n",
       "      <td>0.0</td>\n",
       "      <td>0.0</td>\n",
       "      <td>0.0</td>\n",
       "    </tr>\n",
       "    <tr>\n",
       "      <th>4</th>\n",
       "      <td>293</td>\n",
       "      <td>kolkata</td>\n",
       "      <td>0.0</td>\n",
       "      <td>0.0</td>\n",
       "      <td>1.0</td>\n",
       "      <td>0.0</td>\n",
       "      <td>0.0</td>\n",
       "    </tr>\n",
       "  </tbody>\n",
       "</table>\n",
       "</div>"
      ],
      "text/plain": [
       "   code location  delhi  goa  kolkata  mumbai  pune\n",
       "0   102      goa    0.0  1.0      0.0     0.0   0.0\n",
       "1   403   mumbai    0.0  0.0      0.0     1.0   0.0\n",
       "2   532     pune    0.0  0.0      0.0     0.0   1.0\n",
       "3   642    delhi    1.0  0.0      0.0     0.0   0.0\n",
       "4   293  kolkata    0.0  0.0      1.0     0.0   0.0"
      ]
     },
     "execution_count": 41,
     "metadata": {},
     "output_type": "execute_result"
    }
   ],
   "source": [
    "final_coding"
   ]
  },
  {
   "cell_type": "markdown",
   "id": "ef53d9a0-67b1-48f6-91fb-1b93439247cb",
   "metadata": {},
   "source": [
    "Q5. In a machine learning project, you have a dataset with 1000 rows and 5 columns. Two of the columns are categorical, and the remaining three columns are numerical. If you were to use nominal encoding to transform the categorical data, how many new columns would be created? Show your calculations."
   ]
  },
  {
   "cell_type": "code",
   "execution_count": 46,
   "id": "28710b4d-1e51-4f6d-9308-170af997cb3c",
   "metadata": {},
   "outputs": [
    {
     "name": "stdout",
     "output_type": "stream",
     "text": [
      "Original Dataset:\n",
      "  CategoryA CategoryB  Numerical1  Numerical2  Numerical3\n",
      "0         A         X          10           5         100\n",
      "1         B         Y          20           8         150\n",
      "2         C         X          15           7         120\n",
      "3         A         Z          30           9         200\n",
      "4         B         Z          25           6         180\n",
      "\n",
      "DataFrame after nominal encoding:\n",
      "   Numerical1  Numerical2  Numerical3  CategoryA_A  CategoryA_B  CategoryA_C  \\\n",
      "0          10           5         100            1            0            0   \n",
      "1          20           8         150            0            1            0   \n",
      "2          15           7         120            0            0            1   \n",
      "3          30           9         200            1            0            0   \n",
      "4          25           6         180            0            1            0   \n",
      "\n",
      "   CategoryB_X  CategoryB_Y  CategoryB_Z  \n",
      "0            1            0            0  \n",
      "1            0            1            0  \n",
      "2            1            0            0  \n",
      "3            0            0            1  \n",
      "4            0            0            1  \n",
      "\n",
      "Number of new columns created after encoding: 4\n"
     ]
    }
   ],
   "source": [
    "import pandas as pd\n",
    "\n",
    "sheet = {\n",
    "    'CategoryA': ['A', 'B', 'C', 'A', 'B'],\n",
    "    'CategoryB': ['X', 'Y', 'X', 'Z', 'Z'],\n",
    "    'Numerical1': [10, 20, 15, 30, 25],\n",
    "    'Numerical2': [5, 8, 7, 9, 6],\n",
    "    'Numerical3': [100, 150, 120, 200, 180]\n",
    "}\n",
    "\n",
    "dataset = pd.DataFrame(sheet)\n",
    "\n",
    "encoded_data = pd.get_dummies(dataset, columns=['CategoryA', 'CategoryB'])\n",
    "\n",
    "print(\"Original Dataset:\")\n",
    "print(dataset)\n",
    "\n",
    "print(\"\\nDataFrame after nominal encoding:\")\n",
    "print(encoded_data)\n",
    "\n",
    "print(\"\\nNumber of new columns created after encoding:\", encoded_data.shape[1] - df.shape[1])"
   ]
  },
  {
   "cell_type": "markdown",
   "id": "535e737b-50fe-48b4-b863-dab675550085",
   "metadata": {},
   "source": [
    "Q6. You are working with a dataset containing information about different types of animals, including their species, habitat, and diet. Which encoding technique would you use to transform the categorical data into a format suitable for machine learning algorithms? Justify your answer."
   ]
  },
  {
   "cell_type": "raw",
   "id": "8a3babb8-9e60-4494-83cc-caed200ba561",
   "metadata": {},
   "source": [
    "Label encoding is suitable when we have ordinal categorical variables.\n",
    "Example: If my dataset includes variable like \"diet\" with categories such as herbivore, omnivore, and carnivore, then I will assign numeric labels like 0, 1, and 2 using label encoding.\n",
    "\n",
    "One-hot encoding is also appropriate for nominal categorical variables, where there is no such hierarchy among the categories.\n",
    "Example: If my dataset has categorical variable like \"habitat\" with categories like land,water, and forest then, one-hot encoding will create separate binary columns for each category, representing the presence or absence of that category for each animal."
   ]
  },
  {
   "cell_type": "markdown",
   "id": "fb15f271-4197-4eff-b86e-240190738fef",
   "metadata": {},
   "source": [
    "Q7.You are working on a project that involves predicting customer churn for a telecommunications company. You have a dataset with 5 features, including the customer's gender, age, contract type, monthly charges, and tenure. Which encoding technique(s) would you use to transform the categorical data into numerical data? Provide a step-by-step explanation of how you would implement the encoding."
   ]
  },
  {
   "cell_type": "markdown",
   "id": "3f36d5d8-1c6d-4733-ad10-7b665f77b67f",
   "metadata": {},
   "source": [
    "___Step1: Identify Categorical Features in the data___"
   ]
  },
  {
   "cell_type": "raw",
   "id": "d417ce22-963b-4b39-aaca-85676e92e5b1",
   "metadata": {},
   "source": [
    "Gender: Binary categorical feature (Male/Female)\n",
    "\n",
    "Contract Type: This will be a multi-categorical feature (Monthly, yearly, weekly)"
   ]
  },
  {
   "cell_type": "markdown",
   "id": "de25e1e0-0879-4e69-b8ff-1b2cc63806d7",
   "metadata": {},
   "source": [
    "___Step2: Selecting Encoding Techniques___"
   ]
  },
  {
   "cell_type": "raw",
   "id": "beb8f6dd-2024-4b20-b2d3-1aa2ed7ad03c",
   "metadata": {},
   "source": [
    "Gender: For this feature, we will use label encoding where Male will be denoted as 0 and Female as 1.\n",
    "\n",
    "Contract Type: This feature has multiple categories so we will use one-hot encoding."
   ]
  },
  {
   "cell_type": "markdown",
   "id": "bb7e2d4b-7557-4f94-8848-80dd47cd1f76",
   "metadata": {},
   "source": [
    "___Step3: Implementation of Encoding Techniques___"
   ]
  },
  {
   "cell_type": "raw",
   "id": "da936565-d353-4895-928c-313cc2111e61",
   "metadata": {},
   "source": [
    "For gender, we will use LabelEncoder\n",
    "\n",
    "For contract type, we will use OneHotEncoder"
   ]
  },
  {
   "cell_type": "markdown",
   "id": "b76bc3d7-1526-430d-ad04-3101400158e5",
   "metadata": {},
   "source": [
    "After encoding, we will finally check the dataset to ensure proper encoding has been carried out. "
   ]
  },
  {
   "cell_type": "code",
   "execution_count": null,
   "id": "e9d685be-64f4-49dc-9f5e-c40a9b161f4d",
   "metadata": {},
   "outputs": [],
   "source": []
  }
 ],
 "metadata": {
  "kernelspec": {
   "display_name": "Python 3 (ipykernel)",
   "language": "python",
   "name": "python3"
  },
  "language_info": {
   "codemirror_mode": {
    "name": "ipython",
    "version": 3
   },
   "file_extension": ".py",
   "mimetype": "text/x-python",
   "name": "python",
   "nbconvert_exporter": "python",
   "pygments_lexer": "ipython3",
   "version": "3.10.8"
  }
 },
 "nbformat": 4,
 "nbformat_minor": 5
}
