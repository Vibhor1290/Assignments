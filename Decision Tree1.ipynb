{
 "cells": [
  {
   "cell_type": "markdown",
   "id": "d40e2252-9d7b-46e1-87ee-7d02ed0def09",
   "metadata": {},
   "source": [
    "Q1. Describe the decision tree classifier algorithm and how it works to make predictions."
   ]
  },
  {
   "cell_type": "code",
   "execution_count": 1,
   "id": "927d1712-6bda-424a-8050-acf7756032d8",
   "metadata": {},
   "outputs": [],
   "source": [
    "# Lets see the coding for Decision Tree Classifier"
   ]
  },
  {
   "cell_type": "code",
   "execution_count": 2,
   "id": "b06ddef5-670a-47eb-bbbe-54ba49c6feee",
   "metadata": {},
   "outputs": [],
   "source": [
    "from sklearn.datasets import make_classification"
   ]
  },
  {
   "cell_type": "code",
   "execution_count": 7,
   "id": "43e47ae3-72cb-452e-8e9f-d8d392abada4",
   "metadata": {},
   "outputs": [],
   "source": [
    "X,Y = make_classification(n_samples=1000,n_features=5,n_informative=3,n_repeated=1,n_redundant=1)"
   ]
  },
  {
   "cell_type": "code",
   "execution_count": 20,
   "id": "bcba71e1-16b6-4ec7-acb0-c8a73e5b824b",
   "metadata": {},
   "outputs": [],
   "source": [
    "# Splitting the data into train and test "
   ]
  },
  {
   "cell_type": "code",
   "execution_count": 10,
   "id": "804b01b0-9059-41c8-9484-506a84ee8164",
   "metadata": {},
   "outputs": [],
   "source": [
    "from sklearn.model_selection import train_test_split\n",
    "x_train,x_test,y_train,y_test = train_test_split(X,Y,test_size=0.4,random_state=40)"
   ]
  },
  {
   "cell_type": "code",
   "execution_count": null,
   "id": "117bca9c-2492-4dc1-ac81-80307ebc76fa",
   "metadata": {},
   "outputs": [],
   "source": [
    "# Creating Decision tree model"
   ]
  },
  {
   "cell_type": "code",
   "execution_count": 11,
   "id": "83047799-83f5-419d-ac00-0334fe7615c9",
   "metadata": {},
   "outputs": [],
   "source": [
    "from sklearn.tree import DecisionTreeClassifier"
   ]
  },
  {
   "cell_type": "code",
   "execution_count": 12,
   "id": "3f2b7f68-9903-4e09-aab3-24fc1a27f6f2",
   "metadata": {},
   "outputs": [],
   "source": [
    "DTC = DecisionTreeClassifier()"
   ]
  },
  {
   "cell_type": "code",
   "execution_count": 21,
   "id": "dcb49ef8-edb3-4c2e-ab60-c2d45ff7c08d",
   "metadata": {},
   "outputs": [],
   "source": [
    "# Performing data training and prediction through the model"
   ]
  },
  {
   "cell_type": "code",
   "execution_count": 13,
   "id": "716c86ae-123f-4bd0-9d4d-06e0d657bde8",
   "metadata": {},
   "outputs": [
    {
     "data": {
      "text/html": [
       "<style>#sk-container-id-1 {color: black;background-color: white;}#sk-container-id-1 pre{padding: 0;}#sk-container-id-1 div.sk-toggleable {background-color: white;}#sk-container-id-1 label.sk-toggleable__label {cursor: pointer;display: block;width: 100%;margin-bottom: 0;padding: 0.3em;box-sizing: border-box;text-align: center;}#sk-container-id-1 label.sk-toggleable__label-arrow:before {content: \"▸\";float: left;margin-right: 0.25em;color: #696969;}#sk-container-id-1 label.sk-toggleable__label-arrow:hover:before {color: black;}#sk-container-id-1 div.sk-estimator:hover label.sk-toggleable__label-arrow:before {color: black;}#sk-container-id-1 div.sk-toggleable__content {max-height: 0;max-width: 0;overflow: hidden;text-align: left;background-color: #f0f8ff;}#sk-container-id-1 div.sk-toggleable__content pre {margin: 0.2em;color: black;border-radius: 0.25em;background-color: #f0f8ff;}#sk-container-id-1 input.sk-toggleable__control:checked~div.sk-toggleable__content {max-height: 200px;max-width: 100%;overflow: auto;}#sk-container-id-1 input.sk-toggleable__control:checked~label.sk-toggleable__label-arrow:before {content: \"▾\";}#sk-container-id-1 div.sk-estimator input.sk-toggleable__control:checked~label.sk-toggleable__label {background-color: #d4ebff;}#sk-container-id-1 div.sk-label input.sk-toggleable__control:checked~label.sk-toggleable__label {background-color: #d4ebff;}#sk-container-id-1 input.sk-hidden--visually {border: 0;clip: rect(1px 1px 1px 1px);clip: rect(1px, 1px, 1px, 1px);height: 1px;margin: -1px;overflow: hidden;padding: 0;position: absolute;width: 1px;}#sk-container-id-1 div.sk-estimator {font-family: monospace;background-color: #f0f8ff;border: 1px dotted black;border-radius: 0.25em;box-sizing: border-box;margin-bottom: 0.5em;}#sk-container-id-1 div.sk-estimator:hover {background-color: #d4ebff;}#sk-container-id-1 div.sk-parallel-item::after {content: \"\";width: 100%;border-bottom: 1px solid gray;flex-grow: 1;}#sk-container-id-1 div.sk-label:hover label.sk-toggleable__label {background-color: #d4ebff;}#sk-container-id-1 div.sk-serial::before {content: \"\";position: absolute;border-left: 1px solid gray;box-sizing: border-box;top: 0;bottom: 0;left: 50%;z-index: 0;}#sk-container-id-1 div.sk-serial {display: flex;flex-direction: column;align-items: center;background-color: white;padding-right: 0.2em;padding-left: 0.2em;position: relative;}#sk-container-id-1 div.sk-item {position: relative;z-index: 1;}#sk-container-id-1 div.sk-parallel {display: flex;align-items: stretch;justify-content: center;background-color: white;position: relative;}#sk-container-id-1 div.sk-item::before, #sk-container-id-1 div.sk-parallel-item::before {content: \"\";position: absolute;border-left: 1px solid gray;box-sizing: border-box;top: 0;bottom: 0;left: 50%;z-index: -1;}#sk-container-id-1 div.sk-parallel-item {display: flex;flex-direction: column;z-index: 1;position: relative;background-color: white;}#sk-container-id-1 div.sk-parallel-item:first-child::after {align-self: flex-end;width: 50%;}#sk-container-id-1 div.sk-parallel-item:last-child::after {align-self: flex-start;width: 50%;}#sk-container-id-1 div.sk-parallel-item:only-child::after {width: 0;}#sk-container-id-1 div.sk-dashed-wrapped {border: 1px dashed gray;margin: 0 0.4em 0.5em 0.4em;box-sizing: border-box;padding-bottom: 0.4em;background-color: white;}#sk-container-id-1 div.sk-label label {font-family: monospace;font-weight: bold;display: inline-block;line-height: 1.2em;}#sk-container-id-1 div.sk-label-container {text-align: center;}#sk-container-id-1 div.sk-container {/* jupyter's `normalize.less` sets `[hidden] { display: none; }` but bootstrap.min.css set `[hidden] { display: none !important; }` so we also need the `!important` here to be able to override the default hidden behavior on the sphinx rendered scikit-learn.org. See: https://github.com/scikit-learn/scikit-learn/issues/21755 */display: inline-block !important;position: relative;}#sk-container-id-1 div.sk-text-repr-fallback {display: none;}</style><div id=\"sk-container-id-1\" class=\"sk-top-container\"><div class=\"sk-text-repr-fallback\"><pre>DecisionTreeClassifier()</pre><b>In a Jupyter environment, please rerun this cell to show the HTML representation or trust the notebook. <br />On GitHub, the HTML representation is unable to render, please try loading this page with nbviewer.org.</b></div><div class=\"sk-container\" hidden><div class=\"sk-item\"><div class=\"sk-estimator sk-toggleable\"><input class=\"sk-toggleable__control sk-hidden--visually\" id=\"sk-estimator-id-1\" type=\"checkbox\" checked><label for=\"sk-estimator-id-1\" class=\"sk-toggleable__label sk-toggleable__label-arrow\">DecisionTreeClassifier</label><div class=\"sk-toggleable__content\"><pre>DecisionTreeClassifier()</pre></div></div></div></div></div>"
      ],
      "text/plain": [
       "DecisionTreeClassifier()"
      ]
     },
     "execution_count": 13,
     "metadata": {},
     "output_type": "execute_result"
    }
   ],
   "source": [
    "DTC.fit(x_train,y_train)"
   ]
  },
  {
   "cell_type": "code",
   "execution_count": 14,
   "id": "b308b7b8-8da4-44da-bbd1-8e916eab44e3",
   "metadata": {},
   "outputs": [],
   "source": [
    "y_pred = DTC.predict(x_test)"
   ]
  },
  {
   "cell_type": "code",
   "execution_count": 22,
   "id": "52761d76-b10b-4588-870e-86e4200d031a",
   "metadata": {},
   "outputs": [],
   "source": [
    "# Finally, checking the performance parameters"
   ]
  },
  {
   "cell_type": "code",
   "execution_count": 15,
   "id": "a5a5d4cc-a51e-4dbe-a476-a0bda4388038",
   "metadata": {},
   "outputs": [],
   "source": [
    "from sklearn.metrics import classification_report,confusion_matrix,accuracy_score"
   ]
  },
  {
   "cell_type": "code",
   "execution_count": 16,
   "id": "2a094ae0-73fb-4b0e-bd17-013b62a0f3b9",
   "metadata": {},
   "outputs": [
    {
     "data": {
      "text/plain": [
       "'              precision    recall  f1-score   support\\n\\n           0       0.93      0.89      0.91       209\\n           1       0.88      0.92      0.90       191\\n\\n    accuracy                           0.91       400\\n   macro avg       0.90      0.91      0.90       400\\nweighted avg       0.91      0.91      0.91       400\\n'"
      ]
     },
     "execution_count": 16,
     "metadata": {},
     "output_type": "execute_result"
    }
   ],
   "source": [
    "classification_report(y_test,y_pred)"
   ]
  },
  {
   "cell_type": "code",
   "execution_count": 17,
   "id": "41bce678-7e1b-4eaf-9950-1eaed0885d09",
   "metadata": {},
   "outputs": [
    {
     "data": {
      "text/plain": [
       "array([[186,  23],\n",
       "       [ 15, 176]])"
      ]
     },
     "execution_count": 17,
     "metadata": {},
     "output_type": "execute_result"
    }
   ],
   "source": [
    "confusion_matrix(y_test,y_pred)"
   ]
  },
  {
   "cell_type": "code",
   "execution_count": 18,
   "id": "b70657d2-8460-4fe0-8074-d0ad77dc5889",
   "metadata": {},
   "outputs": [],
   "source": [
    "# from confusion matrix:\n",
    "    \n",
    "TP = 176\n",
    "TN = 186\n",
    "FP = 23\n",
    "FN = 15"
   ]
  },
  {
   "cell_type": "code",
   "execution_count": 19,
   "id": "9696e5c1-ef19-4005-af17-4c2f04c6551f",
   "metadata": {},
   "outputs": [
    {
     "data": {
      "text/plain": [
       "0.905"
      ]
     },
     "execution_count": 19,
     "metadata": {},
     "output_type": "execute_result"
    }
   ],
   "source": [
    "accuracy_score(y_test,y_pred)"
   ]
  },
  {
   "cell_type": "markdown",
   "id": "75e13f0c-d79c-4cfe-91b5-1c6b58d51502",
   "metadata": {},
   "source": [
    "Q2. Provide a step-by-step explanation of the mathematical intuition behind decision tree classification."
   ]
  },
  {
   "cell_type": "raw",
   "id": "dbee8596-ee45-4e1c-aa89-b88d327df824",
   "metadata": {},
   "source": [
    "Step1: The algorithm uses splitting criteria such as Gini impurity or entropy to measure the impurity or uncertainty of a node in the tree.\n",
    "\n",
    "Step2: Choosing the best feature and split point to maximize the purity of child nodes (minimize impurity). For each feature, we calculate different split points and calculate the impurity measure (Gini or entropy) for the resulting child nodes.\n",
    "\n",
    "Step3: At each node, we choose that feature and split point which maximize the information gain (or minimize impurity) among all possible splits. The tree structure is represented as a hierarchy of nodes, where each node corresponds to a feature and a split point.\n",
    "\n",
    "Step4: Finally, we traverse the tree from the root node down to a leaf node by following the splitting criteria (feature comparisons and threshold checks)."
   ]
  },
  {
   "cell_type": "markdown",
   "id": "dc7087c3-f6ad-41d9-a5c0-a18f42e396f0",
   "metadata": {},
   "source": [
    "Q3. Explain how a decision tree classifier can be used to solve a binary classification problem."
   ]
  },
  {
   "cell_type": "raw",
   "id": "fdc73192-90bc-454e-9546-c64144253b44",
   "metadata": {},
   "source": [
    "NOTE: This has been discussed in this first question which shows step by step approach. "
   ]
  },
  {
   "cell_type": "markdown",
   "id": "5c72b1b3-88ca-4c11-88c6-44e30399fb1f",
   "metadata": {},
   "source": [
    "Q4. Discuss the geometric intuition behind decision tree classification and how it can be used to make predictions."
   ]
  },
  {
   "cell_type": "raw",
   "id": "4c0758f6-23d1-4136-be1c-9453427cbabb",
   "metadata": {},
   "source": [
    "1. Geometric Representation:\n",
    "\n",
    "Lets supppose we have a multi-dimensional feature space where each dimension represents a feature.\n",
    "\n",
    "Decision Boundaries: Decision tree splits will create boundaries that will divide the feature space into different regions corresponding to different class labels.\n",
    "\n",
    "2. Recursive Partitioning:\n",
    "\n",
    "At each node of decision tree, the algorithm will choose that feature and split point which perfectly isolates the instances of different classes.\n",
    "\n",
    "3. Geometric Intuition:\n",
    "\n",
    "Lets assume that we have a decision tree with the following splits:\n",
    "\n",
    "Split 1: Feature A at threshold 5 (left region: Class 0, right region: Class 1)\n",
    "Split 2: Feature B at threshold 10 (bottom region: Class 0, top region: Class 1)\n",
    "\n",
    "Split 1 (Feature A): The decision boundary is a vertical line(x=5) which divides the space into 2 regions based on Feature A value. Instances with Feature A < 5 belong to Class 0, and those with Feature A >= 5 belong to Class 1.\n",
    "\n",
    "Split 2 (Feature B): Similarly, we will have a vertical line y=10. All the instances with Feature B < 10 will belong to Class 0, and those with Feature B >= 10 will belong to Class 1.\n",
    "\n",
    "4. Making Predictions:\n",
    "\n",
    "To classify a new instance, we will initiate at the root node of decision tree and traverse in downward direction based on the feature values of the instance.\n",
    "\n",
    "At each node, we will compare the feature value with the split threshold to determine which branch to follow.\n",
    "\n",
    "Once a leaf node is reached, the majority class of training instances in that leaf node is assigned as the predicted class label for the new instance."
   ]
  },
  {
   "cell_type": "markdown",
   "id": "f665821c-82e0-4789-bd03-2397d64f835e",
   "metadata": {},
   "source": [
    "Q5. Define the confusion matrix and describe how it can be used to evaluate the performance of a classification model."
   ]
  },
  {
   "cell_type": "raw",
   "id": "88b27cfc-d5b0-4b36-9bcc-a8918b3f4880",
   "metadata": {},
   "source": [
    "A confusion matrix is a tabular representation of the performance of a classification model that shows 4 values:\n",
    "\n",
    "True Positive (TP)\n",
    "True Negative (TN)\n",
    "False Positive (FP)\n",
    "False Negative (FN)\n",
    "\n",
    "We examine these values to understand how our model is going to perform. Some of them are listed below:\n",
    "\n",
    "ACCURACY:\n",
    "\n",
    "If TP + TN is high, the accuracy will be high (there will be more correct predictions)\n",
    "\n",
    "If FP + FN is high, the accuracy will decrease (there will be more incorrect predictions)\n",
    "\n",
    "PREDICTION:\n",
    "\n",
    "If we oberve high TN value but Low TP value, it means our model is good at predicting negatives but struggles with positives. Similarly, if we have high TP but low TN, meaning model is good at predicting positive but struggles with negative.\n",
    "\n",
    "OVERFITTING AND UNDERFITTING\n",
    "\n",
    "If both TP and TN are high, it leads to overfitting.\n",
    "On the other hand, if both TP and TN are low, it leads to underfitting."
   ]
  },
  {
   "cell_type": "markdown",
   "id": "cdd510ca-29db-478a-abfb-219a36f11090",
   "metadata": {},
   "source": [
    "Q6. Provide an example of a confusion matrix and explain how precision, recall, and F1 score can be calculated from it."
   ]
  },
  {
   "cell_type": "raw",
   "id": "1cf3198d-0b6b-469e-9ba1-075076903464",
   "metadata": {},
   "source": [
    "To find out precision, recall, and F1 score from confusion matrix, we will use the confusion matrix that we genereted in the first quesiton of this assignment  "
   ]
  },
  {
   "cell_type": "code",
   "execution_count": 23,
   "id": "3a85501e-5efd-43a4-a171-b04197ebd4a4",
   "metadata": {},
   "outputs": [
    {
     "data": {
      "text/plain": [
       "array([[186,  23],\n",
       "       [ 15, 176]])"
      ]
     },
     "execution_count": 23,
     "metadata": {},
     "output_type": "execute_result"
    }
   ],
   "source": [
    "confusion_matrix(y_test,y_pred)"
   ]
  },
  {
   "cell_type": "code",
   "execution_count": 24,
   "id": "38f96ccb-064d-4873-9269-3b8d3e16795b",
   "metadata": {},
   "outputs": [
    {
     "data": {
      "text/plain": [
       "(176, 186, 23, 15)"
      ]
     },
     "execution_count": 24,
     "metadata": {},
     "output_type": "execute_result"
    }
   ],
   "source": [
    "TP,TN,FP,FN"
   ]
  },
  {
   "cell_type": "code",
   "execution_count": 25,
   "id": "a2c4e542-10c5-4b23-8ae5-35b95566e6a1",
   "metadata": {},
   "outputs": [],
   "source": [
    "Precision = TP/(TP+FP)"
   ]
  },
  {
   "cell_type": "code",
   "execution_count": 26,
   "id": "0533dadc-d580-4909-9b11-199f04a40aa1",
   "metadata": {},
   "outputs": [],
   "source": [
    "Recall = TP/(TP+FN)"
   ]
  },
  {
   "cell_type": "code",
   "execution_count": 27,
   "id": "d427df8c-6c81-40c4-9e2f-6af02838ee00",
   "metadata": {},
   "outputs": [],
   "source": [
    "F1_score = (2*Precision*Recall)/(Precision+Recall)"
   ]
  },
  {
   "cell_type": "code",
   "execution_count": 28,
   "id": "0926aac4-15de-4dd0-b3b4-10bfc8332c63",
   "metadata": {},
   "outputs": [
    {
     "name": "stdout",
     "output_type": "stream",
     "text": [
      "0.8844221105527639\n",
      "0.9214659685863874\n",
      "0.9025641025641026\n"
     ]
    }
   ],
   "source": [
    "print(Precision)\n",
    "print(Recall)\n",
    "print(F1_score)"
   ]
  },
  {
   "cell_type": "markdown",
   "id": "58117e61-a0b6-4d18-814e-36c9285b9475",
   "metadata": {},
   "source": [
    "Q7. Discuss the importance of choosing an appropriate evaluation metric for a classification problem and explain how this can be done."
   ]
  },
  {
   "cell_type": "raw",
   "id": "515eb53d-e442-49d1-a329-c4501fdda1bf",
   "metadata": {},
   "source": [
    "1. Choosing an appropriate evaluation metric allows us to prioritize reducing the types of errors that are more costly or impactful.\n",
    "\n",
    "2. The agenda of problem statement and domain knowledge play a vital role in selecting the right evaluation metric. Example: In medical diagnostics, recall is often more critical as missing a positive diagnosis (false negative) can have adverse effects.\n",
    "\n",
    "3. The choice of evaluation metric should align with the business goals or objectives of the classification task.\n",
    "\n",
    "Choosing of evaluation matric can performed using below methods:\n",
    "\n",
    "1. We need a have a deep knowledge of problem domain, business requirements and expectations. Also, identification of key performance indicators (KPIs) matters a lot.\n",
    "\n",
    "2. Observe the class distribution carefully within the dataset to confirm whether data is balanced or imbalanced. On the basis of that, we will proceed with using appropriate techniques for further model analysis.\n",
    "\n",
    "3. Leverage domain knowledge and expertise to guide the selection of evaluation metrics.\n",
    "\n",
    "4. Make sure to keep monitoring the model performance(on regular basis) using chosen evaluation metric and iterate on model improvements, feature engineering, hyperparameter tuning, or algorithm selection to optimize performance based on the selected metric."
   ]
  },
  {
   "cell_type": "markdown",
   "id": "fe6459bd-165e-4da4-8c30-49f4eacf4570",
   "metadata": {},
   "source": [
    "Q8. Provide an example of a classification problem where precision is the most important metric, and explain why."
   ]
  },
  {
   "cell_type": "raw",
   "id": "6dd77722-0402-46ea-bc76-e3ffa0b2e951",
   "metadata": {},
   "source": [
    "Problem Description:\n",
    "In email spam detection system, our goal is to classify incoming emails as either spam or not spam. This is a binary classification problem where:\n",
    "Positive class: Spam emails\n",
    "Negative class: Non-spam emails\n",
    "\n",
    "Importance of Precision:\n",
    "\n",
    "In this scenario, precision is most important metric as it measures the proportion of emails being classified as spam that are actually spam.\n",
    "\n",
    "FALSE POSITIVE:\n",
    "Let say, if a normal email is incorrectly classified as spam, it may go in the spam folder causing the user to miss important emails.\n",
    "\n",
    "FALSE NEGATIVE:\n",
    "Similarly, we have to reduce false negative as well. Lets say, if a spam email is incorrectly classified as non-spam, it will appear in the inbox. Due to which the user might open that spam mail and get phished by hackers."
   ]
  },
  {
   "cell_type": "raw",
   "id": "38beabc5-f3d9-4200-86c6-47927c54b473",
   "metadata": {},
   "source": [
    "CONCLUSION: Precision is prioritized because the cost of false positives (important emails being marked as spam) is higher than cost of false negatives (spam emails appearing in the inbox)"
   ]
  },
  {
   "cell_type": "markdown",
   "id": "1f12af12-7b72-454e-88b1-89baf850058c",
   "metadata": {},
   "source": [
    "Q9. Provide an example of a classification problem where recall is the most important metric, and explain why."
   ]
  },
  {
   "cell_type": "raw",
   "id": "31d6b2c8-bfba-43c4-aae3-4d185746cc39",
   "metadata": {},
   "source": [
    "Lets see an example of a hospital that diagnoses whether a person has cancer or not."
   ]
  },
  {
   "cell_type": "raw",
   "id": "005193f6-3ebc-401b-9426-c737ab17a75e",
   "metadata": {},
   "source": [
    "FALSE POSITIVE:\n",
    "A person goes for a test and gets diagnosed with cancer. But in actual, the person was perfectly fit. Due to the diagnostic results, he had to eat medicines which might have adverse effects on his body.\n",
    "\n",
    "FALSE NEGATIVE:\n",
    "Secondly a person goes for a test and diagnosed as fit. But in actual, he was having cancer. Due to the diagnostic results, he ignored everything but got admitted after some time.\n",
    "\n",
    "Here, recall is more important because a model with high recall ensures that most patients with cancer are correctly diagnosed thus minimizing the risk of untreated cancer. This approach prioritizes patient safety and potential for effective treatment and better outcomes."
   ]
  },
  {
   "cell_type": "code",
   "execution_count": null,
   "id": "8dea1691-b94f-4d08-9936-5dc4ad676634",
   "metadata": {},
   "outputs": [],
   "source": []
  }
 ],
 "metadata": {
  "kernelspec": {
   "display_name": "Python 3 (ipykernel)",
   "language": "python",
   "name": "python3"
  },
  "language_info": {
   "codemirror_mode": {
    "name": "ipython",
    "version": 3
   },
   "file_extension": ".py",
   "mimetype": "text/x-python",
   "name": "python",
   "nbconvert_exporter": "python",
   "pygments_lexer": "ipython3",
   "version": "3.10.8"
  }
 },
 "nbformat": 4,
 "nbformat_minor": 5
}
