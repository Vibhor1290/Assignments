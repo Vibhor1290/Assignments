{
 "cells": [
  {
   "cell_type": "markdown",
   "id": "c4c9c386-8d26-4f03-9716-e5916343c89a",
   "metadata": {},
   "source": [
    "Q1. What is the relationship between polynomial functions and kernel functions in machine learning algorithms?"
   ]
  },
  {
   "cell_type": "raw",
   "id": "60e08f0e-b929-4c72-8f68-fd4f78db7b9e",
   "metadata": {},
   "source": [
    "A kernel function is a mathematical function used to transform input data into a higher-dimensional space without explicitly computing the coordinates of the data in that space. By doing this, it becomes easy to distingush between the classes(whenever we have non linear data) \n",
    "\n",
    "On the other hand, polynomial kernel is a specific type of kernel function only that represents the similarity of data points in a feature space over polynomials of the original variables thus allowing us to capture non-linear relationships.\n",
    "\n",
    "Some of the advanatages of using Polynomial function are:\n",
    "\n",
    "1. Used for non linear data\n",
    "2. Require less computational power\n",
    "3. Offer flexibility while training the model with complex relationships within the data."
   ]
  },
  {
   "cell_type": "markdown",
   "id": "58bb881c-b0b8-47a6-9bbc-95dd7d02e322",
   "metadata": {},
   "source": [
    "Q2. How can we implement an SVM with a polynomial kernel in Python using Scikit-learn?"
   ]
  },
  {
   "cell_type": "raw",
   "id": "e441f10f-a841-4cb3-bf9d-82abba01162d",
   "metadata": {},
   "source": [
    "It is very easy to implement SVM with polynomial kernel:"
   ]
  },
  {
   "cell_type": "code",
   "execution_count": 2,
   "id": "e3f2e16e-6fa5-4683-b51d-e0af5fd95f60",
   "metadata": {},
   "outputs": [],
   "source": [
    "from sklearn.svm import SVC"
   ]
  },
  {
   "cell_type": "code",
   "execution_count": 3,
   "id": "faf56980-bbcf-4c55-b299-c0535f4dff9e",
   "metadata": {},
   "outputs": [],
   "source": [
    "Model = SVC(kernel='polynomial')"
   ]
  },
  {
   "cell_type": "markdown",
   "id": "67c81072-0e40-4b03-a0a9-929be5999c48",
   "metadata": {},
   "source": [
    "Q3. How does increasing the value of epsilon affect the number of support vectors in SVR?"
   ]
  },
  {
   "cell_type": "raw",
   "id": "15276953-2078-4ece-9a4b-c7c47612352d",
   "metadata": {},
   "source": [
    "Support Vector Regression is an extension of Support Vector Machines (SVM) designed for handling regression problems. One of main parameters in SVR is epsilon, which defines a margin of tolerance where no penalty is alloted to errors.\n",
    "\n",
    "Only those data points are considered as support vectors that exceeds the value of epsilon. Hence, increasing epsilon usually leads to a decrease in the number of support vectors."
   ]
  },
  {
   "cell_type": "raw",
   "id": "c8f42da6-cc55-472e-b0c1-d884d8307857",
   "metadata": {},
   "source": [
    "Hence, increasing the value of epsilon in SVR reduces the number of support vectors by allowing more data points to lie within the epsilon-tube, thus making the model simple. \n",
    "However, due to this we encounter a reduction in the model's accuracy, as the fit becomes less precise."
   ]
  },
  {
   "cell_type": "markdown",
   "id": "95d1cff4-781c-404a-a172-9d8103def59f",
   "metadata": {},
   "source": [
    "Q4. How does the choice of kernel function, C parameter, epsilon parameter, and gamma parameter affect the performance of Support Vector Regression (SVR)? Can you explain how each parameter works and provide examples of when you might want to increase or decrease its value?"
   ]
  },
  {
   "cell_type": "raw",
   "id": "9bc9aefa-d06a-418f-863a-e03e0ccc71e9",
   "metadata": {},
   "source": [
    "1. Kernel function:\n",
    "    This parameter determines the feature space in which the input data is mapped to perform the regression. Some of the common kernel functions include linear,polynomial,sigmoid and rbf.\n",
    "    \n",
    "    Linear is used when there is a linear relationship b/w the data\n",
    "    Polynomial is used when the relation b/w the data is complex\n",
    "    Rbf is used for dealing with non-linear relationships by mapping data to an infinite-dimensional space. It is very effective for most of the datasets but computationally expensive.\n",
    "    \n",
    "2. C:\n",
    "    This parameter controls the trade-off between achieving a low error on the training data and minimizing the norm of the coefficients.\n",
    "    \n",
    "    When we want to reduce bias and our model can tolerate higher variance, we increse the value of C.\n",
    "    When we want to reduce variance and our model can tolerate higher bias, we decrese the value of C.\n",
    "    \n",
    "3. Epsilon:\n",
    "   This parameter defines the margin of tolerance where no penalty is alloted to errors.\n",
    "   \n",
    "   When we want a simple model and can tolerate less precision, we increase the value of epsilom.\n",
    "   When we want higher precision and can handle increased complexity, we reduce the value of epsilon."
   ]
  },
  {
   "cell_type": "markdown",
   "id": "5c6130e8-db43-4303-980c-873717199ae8",
   "metadata": {},
   "source": [
    "Q5. Assignment:\n",
    "Import the necessary libraries and load the dataset\n",
    "\n",
    "Split the dataset into training and testing set\n",
    "\n",
    "Preprocess the data using any technique of your choice (e.g. scaling, normalization)\n",
    "\n",
    "Create an instance of the SVC classifier and train it on the training data\n",
    "\n",
    "Use the trained classifier to predict the labels of the testing data\n",
    "\n",
    "Evaluate the performance of classifier using any metric of your choice (e.g. accuracy,precision, recall, F1-score)\n",
    "\n",
    "Tune the hyperparameters of the SVC classifier using GridSearchCV or RandomiMedSearchCV to improve its performance.\n",
    "\n",
    "Train the tuned classifier on the entire dataset\n",
    "\n",
    "Save the trained classifier to a file for future use."
   ]
  },
  {
   "cell_type": "code",
   "execution_count": 40,
   "id": "e047827d-d0e7-404b-9ba6-58563b46b549",
   "metadata": {},
   "outputs": [],
   "source": [
    "import numpy as np\n",
    "import pandas as pd\n",
    "from sklearn import datasets\n",
    "from sklearn.model_selection import train_test_split\n",
    "from sklearn.preprocessing import StandardScaler\n",
    "from sklearn.svm import SVC\n",
    "from sklearn.metrics import accuracy_score, precision_score, recall_score, f1_score\n",
    "from sklearn.model_selection import GridSearchCV\n",
    "\n",
    "iris = datasets.load_iris()\n",
    "X = iris.data\n",
    "y = iris.target"
   ]
  },
  {
   "cell_type": "code",
   "execution_count": 41,
   "id": "4e4d2336-6c1d-4786-a98c-2e741e94a981",
   "metadata": {},
   "outputs": [],
   "source": [
    "# Split dataset into training and testing sets\n",
    "X_train, X_test, y_train, y_test = train_test_split(X, y, test_size=0.3, random_state=35)"
   ]
  },
  {
   "cell_type": "code",
   "execution_count": 42,
   "id": "78550d7f-62e4-4cbc-bc32-6b157517ba65",
   "metadata": {},
   "outputs": [],
   "source": [
    "# Standardize the features\n",
    "scaler = StandardScaler()\n",
    "X_train = scaler.fit_transform(X_train)\n",
    "X_test = scaler.transform(X_test)"
   ]
  },
  {
   "cell_type": "code",
   "execution_count": 43,
   "id": "7c1a067d-6e2f-4e3d-bee0-02054bd101a2",
   "metadata": {},
   "outputs": [
    {
     "data": {
      "text/html": [
       "<style>#sk-container-id-6 {color: black;background-color: white;}#sk-container-id-6 pre{padding: 0;}#sk-container-id-6 div.sk-toggleable {background-color: white;}#sk-container-id-6 label.sk-toggleable__label {cursor: pointer;display: block;width: 100%;margin-bottom: 0;padding: 0.3em;box-sizing: border-box;text-align: center;}#sk-container-id-6 label.sk-toggleable__label-arrow:before {content: \"▸\";float: left;margin-right: 0.25em;color: #696969;}#sk-container-id-6 label.sk-toggleable__label-arrow:hover:before {color: black;}#sk-container-id-6 div.sk-estimator:hover label.sk-toggleable__label-arrow:before {color: black;}#sk-container-id-6 div.sk-toggleable__content {max-height: 0;max-width: 0;overflow: hidden;text-align: left;background-color: #f0f8ff;}#sk-container-id-6 div.sk-toggleable__content pre {margin: 0.2em;color: black;border-radius: 0.25em;background-color: #f0f8ff;}#sk-container-id-6 input.sk-toggleable__control:checked~div.sk-toggleable__content {max-height: 200px;max-width: 100%;overflow: auto;}#sk-container-id-6 input.sk-toggleable__control:checked~label.sk-toggleable__label-arrow:before {content: \"▾\";}#sk-container-id-6 div.sk-estimator input.sk-toggleable__control:checked~label.sk-toggleable__label {background-color: #d4ebff;}#sk-container-id-6 div.sk-label input.sk-toggleable__control:checked~label.sk-toggleable__label {background-color: #d4ebff;}#sk-container-id-6 input.sk-hidden--visually {border: 0;clip: rect(1px 1px 1px 1px);clip: rect(1px, 1px, 1px, 1px);height: 1px;margin: -1px;overflow: hidden;padding: 0;position: absolute;width: 1px;}#sk-container-id-6 div.sk-estimator {font-family: monospace;background-color: #f0f8ff;border: 1px dotted black;border-radius: 0.25em;box-sizing: border-box;margin-bottom: 0.5em;}#sk-container-id-6 div.sk-estimator:hover {background-color: #d4ebff;}#sk-container-id-6 div.sk-parallel-item::after {content: \"\";width: 100%;border-bottom: 1px solid gray;flex-grow: 1;}#sk-container-id-6 div.sk-label:hover label.sk-toggleable__label {background-color: #d4ebff;}#sk-container-id-6 div.sk-serial::before {content: \"\";position: absolute;border-left: 1px solid gray;box-sizing: border-box;top: 0;bottom: 0;left: 50%;z-index: 0;}#sk-container-id-6 div.sk-serial {display: flex;flex-direction: column;align-items: center;background-color: white;padding-right: 0.2em;padding-left: 0.2em;position: relative;}#sk-container-id-6 div.sk-item {position: relative;z-index: 1;}#sk-container-id-6 div.sk-parallel {display: flex;align-items: stretch;justify-content: center;background-color: white;position: relative;}#sk-container-id-6 div.sk-item::before, #sk-container-id-6 div.sk-parallel-item::before {content: \"\";position: absolute;border-left: 1px solid gray;box-sizing: border-box;top: 0;bottom: 0;left: 50%;z-index: -1;}#sk-container-id-6 div.sk-parallel-item {display: flex;flex-direction: column;z-index: 1;position: relative;background-color: white;}#sk-container-id-6 div.sk-parallel-item:first-child::after {align-self: flex-end;width: 50%;}#sk-container-id-6 div.sk-parallel-item:last-child::after {align-self: flex-start;width: 50%;}#sk-container-id-6 div.sk-parallel-item:only-child::after {width: 0;}#sk-container-id-6 div.sk-dashed-wrapped {border: 1px dashed gray;margin: 0 0.4em 0.5em 0.4em;box-sizing: border-box;padding-bottom: 0.4em;background-color: white;}#sk-container-id-6 div.sk-label label {font-family: monospace;font-weight: bold;display: inline-block;line-height: 1.2em;}#sk-container-id-6 div.sk-label-container {text-align: center;}#sk-container-id-6 div.sk-container {/* jupyter's `normalize.less` sets `[hidden] { display: none; }` but bootstrap.min.css set `[hidden] { display: none !important; }` so we also need the `!important` here to be able to override the default hidden behavior on the sphinx rendered scikit-learn.org. See: https://github.com/scikit-learn/scikit-learn/issues/21755 */display: inline-block !important;position: relative;}#sk-container-id-6 div.sk-text-repr-fallback {display: none;}</style><div id=\"sk-container-id-6\" class=\"sk-top-container\"><div class=\"sk-text-repr-fallback\"><pre>SVC()</pre><b>In a Jupyter environment, please rerun this cell to show the HTML representation or trust the notebook. <br />On GitHub, the HTML representation is unable to render, please try loading this page with nbviewer.org.</b></div><div class=\"sk-container\" hidden><div class=\"sk-item\"><div class=\"sk-estimator sk-toggleable\"><input class=\"sk-toggleable__control sk-hidden--visually\" id=\"sk-estimator-id-10\" type=\"checkbox\" checked><label for=\"sk-estimator-id-10\" class=\"sk-toggleable__label sk-toggleable__label-arrow\">SVC</label><div class=\"sk-toggleable__content\"><pre>SVC()</pre></div></div></div></div></div>"
      ],
      "text/plain": [
       "SVC()"
      ]
     },
     "execution_count": 43,
     "metadata": {},
     "output_type": "execute_result"
    }
   ],
   "source": [
    "SVC_model = SVC()\n",
    "SVC_model.fit(X_train, y_train)"
   ]
  },
  {
   "cell_type": "code",
   "execution_count": 44,
   "id": "d043af6d-c6dc-4e40-a943-a330a83e58fb",
   "metadata": {},
   "outputs": [],
   "source": [
    "y_pred = SVC_model.predict(X_test)"
   ]
  },
  {
   "cell_type": "code",
   "execution_count": 45,
   "id": "83746d4e-ddc4-4b6f-9ec4-901ee53af22c",
   "metadata": {},
   "outputs": [
    {
     "name": "stdout",
     "output_type": "stream",
     "text": [
      "0.9333333333333333\n",
      "0.9347089947089947\n",
      "0.9333333333333333\n",
      "0.9333333333333333\n"
     ]
    }
   ],
   "source": [
    "accuracy = accuracy_score(y_test, y_pred)\n",
    "precision = precision_score(y_test, y_pred, average='weighted')\n",
    "recall = recall_score(y_test, y_pred, average='weighted')\n",
    "f1 = f1_score(y_test, y_pred, average='weighted')\n",
    "\n",
    "print(accuracy)\n",
    "print(precision)\n",
    "print(recall)\n",
    "print(f1)"
   ]
  },
  {
   "cell_type": "code",
   "execution_count": 46,
   "id": "a994a9fd-27df-46aa-8093-e1d7652c2d32",
   "metadata": {},
   "outputs": [
    {
     "name": "stdout",
     "output_type": "stream",
     "text": [
      "Fitting 3 folds for each of 32 candidates, totalling 96 fits\n",
      "[CV] END ......................C=0.1, gamma=1, kernel=linear; total time=   0.0s\n",
      "[CV] END ......................C=0.1, gamma=1, kernel=linear; total time=   0.0s\n",
      "[CV] END ......................C=0.1, gamma=1, kernel=linear; total time=   0.0s\n",
      "[CV] END .........................C=0.1, gamma=1, kernel=rbf; total time=   0.0s\n",
      "[CV] END .........................C=0.1, gamma=1, kernel=rbf; total time=   0.0s\n",
      "[CV] END .........................C=0.1, gamma=1, kernel=rbf; total time=   0.0s\n",
      "[CV] END ....................C=0.1, gamma=0.1, kernel=linear; total time=   0.0s\n",
      "[CV] END ....................C=0.1, gamma=0.1, kernel=linear; total time=   0.0s\n",
      "[CV] END ....................C=0.1, gamma=0.1, kernel=linear; total time=   0.0s\n",
      "[CV] END .......................C=0.1, gamma=0.1, kernel=rbf; total time=   0.0s\n",
      "[CV] END .......................C=0.1, gamma=0.1, kernel=rbf; total time=   0.0s\n",
      "[CV] END .......................C=0.1, gamma=0.1, kernel=rbf; total time=   0.0s\n",
      "[CV] END ...................C=0.1, gamma=0.01, kernel=linear; total time=   0.0s\n",
      "[CV] END ...................C=0.1, gamma=0.01, kernel=linear; total time=   0.0s\n",
      "[CV] END ...................C=0.1, gamma=0.01, kernel=linear; total time=   0.0s\n",
      "[CV] END ......................C=0.1, gamma=0.01, kernel=rbf; total time=   0.0s\n",
      "[CV] END ......................C=0.1, gamma=0.01, kernel=rbf; total time=   0.0s\n",
      "[CV] END ......................C=0.1, gamma=0.01, kernel=rbf; total time=   0.0s\n",
      "[CV] END ..................C=0.1, gamma=0.001, kernel=linear; total time=   0.0s\n",
      "[CV] END ..................C=0.1, gamma=0.001, kernel=linear; total time=   0.0s\n",
      "[CV] END ..................C=0.1, gamma=0.001, kernel=linear; total time=   0.0s\n",
      "[CV] END .....................C=0.1, gamma=0.001, kernel=rbf; total time=   0.0s\n",
      "[CV] END .....................C=0.1, gamma=0.001, kernel=rbf; total time=   0.0s\n",
      "[CV] END .....................C=0.1, gamma=0.001, kernel=rbf; total time=   0.0s\n",
      "[CV] END ........................C=2, gamma=1, kernel=linear; total time=   0.0s\n",
      "[CV] END ........................C=2, gamma=1, kernel=linear; total time=   0.0s\n",
      "[CV] END ........................C=2, gamma=1, kernel=linear; total time=   0.0s\n",
      "[CV] END ...........................C=2, gamma=1, kernel=rbf; total time=   0.0s\n",
      "[CV] END ...........................C=2, gamma=1, kernel=rbf; total time=   0.0s\n",
      "[CV] END ...........................C=2, gamma=1, kernel=rbf; total time=   0.0s\n",
      "[CV] END ......................C=2, gamma=0.1, kernel=linear; total time=   0.0s\n",
      "[CV] END ......................C=2, gamma=0.1, kernel=linear; total time=   0.0s\n",
      "[CV] END ......................C=2, gamma=0.1, kernel=linear; total time=   0.0s\n",
      "[CV] END .........................C=2, gamma=0.1, kernel=rbf; total time=   0.0s\n",
      "[CV] END .........................C=2, gamma=0.1, kernel=rbf; total time=   0.0s\n",
      "[CV] END .........................C=2, gamma=0.1, kernel=rbf; total time=   0.0s\n",
      "[CV] END .....................C=2, gamma=0.01, kernel=linear; total time=   0.0s\n",
      "[CV] END .....................C=2, gamma=0.01, kernel=linear; total time=   0.0s\n",
      "[CV] END .....................C=2, gamma=0.01, kernel=linear; total time=   0.0s\n",
      "[CV] END ........................C=2, gamma=0.01, kernel=rbf; total time=   0.0s\n",
      "[CV] END ........................C=2, gamma=0.01, kernel=rbf; total time=   0.0s\n",
      "[CV] END ........................C=2, gamma=0.01, kernel=rbf; total time=   0.0s\n",
      "[CV] END ....................C=2, gamma=0.001, kernel=linear; total time=   0.0s\n",
      "[CV] END ....................C=2, gamma=0.001, kernel=linear; total time=   0.0s\n",
      "[CV] END ....................C=2, gamma=0.001, kernel=linear; total time=   0.0s\n",
      "[CV] END .......................C=2, gamma=0.001, kernel=rbf; total time=   0.0s\n",
      "[CV] END .......................C=2, gamma=0.001, kernel=rbf; total time=   0.0s\n",
      "[CV] END .......................C=2, gamma=0.001, kernel=rbf; total time=   0.0s\n",
      "[CV] END .......................C=20, gamma=1, kernel=linear; total time=   0.0s\n",
      "[CV] END .......................C=20, gamma=1, kernel=linear; total time=   0.0s\n",
      "[CV] END .......................C=20, gamma=1, kernel=linear; total time=   0.0s\n",
      "[CV] END ..........................C=20, gamma=1, kernel=rbf; total time=   0.0s\n",
      "[CV] END ..........................C=20, gamma=1, kernel=rbf; total time=   0.0s\n",
      "[CV] END ..........................C=20, gamma=1, kernel=rbf; total time=   0.0s\n",
      "[CV] END .....................C=20, gamma=0.1, kernel=linear; total time=   0.0s\n",
      "[CV] END .....................C=20, gamma=0.1, kernel=linear; total time=   0.0s\n",
      "[CV] END .....................C=20, gamma=0.1, kernel=linear; total time=   0.0s\n",
      "[CV] END ........................C=20, gamma=0.1, kernel=rbf; total time=   0.0s\n",
      "[CV] END ........................C=20, gamma=0.1, kernel=rbf; total time=   0.0s\n",
      "[CV] END ........................C=20, gamma=0.1, kernel=rbf; total time=   0.0s\n",
      "[CV] END ....................C=20, gamma=0.01, kernel=linear; total time=   0.0s\n",
      "[CV] END ....................C=20, gamma=0.01, kernel=linear; total time=   0.0s\n",
      "[CV] END ....................C=20, gamma=0.01, kernel=linear; total time=   0.0s\n",
      "[CV] END .......................C=20, gamma=0.01, kernel=rbf; total time=   0.0s\n",
      "[CV] END .......................C=20, gamma=0.01, kernel=rbf; total time=   0.0s\n",
      "[CV] END .......................C=20, gamma=0.01, kernel=rbf; total time=   0.0s\n",
      "[CV] END ...................C=20, gamma=0.001, kernel=linear; total time=   0.0s\n",
      "[CV] END ...................C=20, gamma=0.001, kernel=linear; total time=   0.0s\n",
      "[CV] END ...................C=20, gamma=0.001, kernel=linear; total time=   0.0s\n",
      "[CV] END ......................C=20, gamma=0.001, kernel=rbf; total time=   0.0s\n",
      "[CV] END ......................C=20, gamma=0.001, kernel=rbf; total time=   0.0s\n",
      "[CV] END ......................C=20, gamma=0.001, kernel=rbf; total time=   0.0s\n",
      "[CV] END ......................C=110, gamma=1, kernel=linear; total time=   0.0s\n",
      "[CV] END ......................C=110, gamma=1, kernel=linear; total time=   0.0s\n",
      "[CV] END ......................C=110, gamma=1, kernel=linear; total time=   0.0s\n",
      "[CV] END .........................C=110, gamma=1, kernel=rbf; total time=   0.0s\n",
      "[CV] END .........................C=110, gamma=1, kernel=rbf; total time=   0.0s\n",
      "[CV] END .........................C=110, gamma=1, kernel=rbf; total time=   0.0s\n",
      "[CV] END ....................C=110, gamma=0.1, kernel=linear; total time=   0.0s\n",
      "[CV] END ....................C=110, gamma=0.1, kernel=linear; total time=   0.0s\n",
      "[CV] END ....................C=110, gamma=0.1, kernel=linear; total time=   0.0s\n",
      "[CV] END .......................C=110, gamma=0.1, kernel=rbf; total time=   0.0s\n",
      "[CV] END .......................C=110, gamma=0.1, kernel=rbf; total time=   0.0s\n",
      "[CV] END .......................C=110, gamma=0.1, kernel=rbf; total time=   0.0s\n",
      "[CV] END ...................C=110, gamma=0.01, kernel=linear; total time=   0.0s\n",
      "[CV] END ...................C=110, gamma=0.01, kernel=linear; total time=   0.0s\n",
      "[CV] END ...................C=110, gamma=0.01, kernel=linear; total time=   0.0s\n",
      "[CV] END ......................C=110, gamma=0.01, kernel=rbf; total time=   0.0s\n",
      "[CV] END ......................C=110, gamma=0.01, kernel=rbf; total time=   0.0s\n",
      "[CV] END ......................C=110, gamma=0.01, kernel=rbf; total time=   0.0s\n",
      "[CV] END ..................C=110, gamma=0.001, kernel=linear; total time=   0.0s\n",
      "[CV] END ..................C=110, gamma=0.001, kernel=linear; total time=   0.0s\n",
      "[CV] END ..................C=110, gamma=0.001, kernel=linear; total time=   0.0s\n",
      "[CV] END .....................C=110, gamma=0.001, kernel=rbf; total time=   0.0s\n",
      "[CV] END .....................C=110, gamma=0.001, kernel=rbf; total time=   0.0s\n",
      "[CV] END .....................C=110, gamma=0.001, kernel=rbf; total time=   0.0s\n"
     ]
    },
    {
     "data": {
      "text/html": [
       "<style>#sk-container-id-7 {color: black;background-color: white;}#sk-container-id-7 pre{padding: 0;}#sk-container-id-7 div.sk-toggleable {background-color: white;}#sk-container-id-7 label.sk-toggleable__label {cursor: pointer;display: block;width: 100%;margin-bottom: 0;padding: 0.3em;box-sizing: border-box;text-align: center;}#sk-container-id-7 label.sk-toggleable__label-arrow:before {content: \"▸\";float: left;margin-right: 0.25em;color: #696969;}#sk-container-id-7 label.sk-toggleable__label-arrow:hover:before {color: black;}#sk-container-id-7 div.sk-estimator:hover label.sk-toggleable__label-arrow:before {color: black;}#sk-container-id-7 div.sk-toggleable__content {max-height: 0;max-width: 0;overflow: hidden;text-align: left;background-color: #f0f8ff;}#sk-container-id-7 div.sk-toggleable__content pre {margin: 0.2em;color: black;border-radius: 0.25em;background-color: #f0f8ff;}#sk-container-id-7 input.sk-toggleable__control:checked~div.sk-toggleable__content {max-height: 200px;max-width: 100%;overflow: auto;}#sk-container-id-7 input.sk-toggleable__control:checked~label.sk-toggleable__label-arrow:before {content: \"▾\";}#sk-container-id-7 div.sk-estimator input.sk-toggleable__control:checked~label.sk-toggleable__label {background-color: #d4ebff;}#sk-container-id-7 div.sk-label input.sk-toggleable__control:checked~label.sk-toggleable__label {background-color: #d4ebff;}#sk-container-id-7 input.sk-hidden--visually {border: 0;clip: rect(1px 1px 1px 1px);clip: rect(1px, 1px, 1px, 1px);height: 1px;margin: -1px;overflow: hidden;padding: 0;position: absolute;width: 1px;}#sk-container-id-7 div.sk-estimator {font-family: monospace;background-color: #f0f8ff;border: 1px dotted black;border-radius: 0.25em;box-sizing: border-box;margin-bottom: 0.5em;}#sk-container-id-7 div.sk-estimator:hover {background-color: #d4ebff;}#sk-container-id-7 div.sk-parallel-item::after {content: \"\";width: 100%;border-bottom: 1px solid gray;flex-grow: 1;}#sk-container-id-7 div.sk-label:hover label.sk-toggleable__label {background-color: #d4ebff;}#sk-container-id-7 div.sk-serial::before {content: \"\";position: absolute;border-left: 1px solid gray;box-sizing: border-box;top: 0;bottom: 0;left: 50%;z-index: 0;}#sk-container-id-7 div.sk-serial {display: flex;flex-direction: column;align-items: center;background-color: white;padding-right: 0.2em;padding-left: 0.2em;position: relative;}#sk-container-id-7 div.sk-item {position: relative;z-index: 1;}#sk-container-id-7 div.sk-parallel {display: flex;align-items: stretch;justify-content: center;background-color: white;position: relative;}#sk-container-id-7 div.sk-item::before, #sk-container-id-7 div.sk-parallel-item::before {content: \"\";position: absolute;border-left: 1px solid gray;box-sizing: border-box;top: 0;bottom: 0;left: 50%;z-index: -1;}#sk-container-id-7 div.sk-parallel-item {display: flex;flex-direction: column;z-index: 1;position: relative;background-color: white;}#sk-container-id-7 div.sk-parallel-item:first-child::after {align-self: flex-end;width: 50%;}#sk-container-id-7 div.sk-parallel-item:last-child::after {align-self: flex-start;width: 50%;}#sk-container-id-7 div.sk-parallel-item:only-child::after {width: 0;}#sk-container-id-7 div.sk-dashed-wrapped {border: 1px dashed gray;margin: 0 0.4em 0.5em 0.4em;box-sizing: border-box;padding-bottom: 0.4em;background-color: white;}#sk-container-id-7 div.sk-label label {font-family: monospace;font-weight: bold;display: inline-block;line-height: 1.2em;}#sk-container-id-7 div.sk-label-container {text-align: center;}#sk-container-id-7 div.sk-container {/* jupyter's `normalize.less` sets `[hidden] { display: none; }` but bootstrap.min.css set `[hidden] { display: none !important; }` so we also need the `!important` here to be able to override the default hidden behavior on the sphinx rendered scikit-learn.org. See: https://github.com/scikit-learn/scikit-learn/issues/21755 */display: inline-block !important;position: relative;}#sk-container-id-7 div.sk-text-repr-fallback {display: none;}</style><div id=\"sk-container-id-7\" class=\"sk-top-container\"><div class=\"sk-text-repr-fallback\"><pre>GridSearchCV(cv=3, estimator=SVC(),\n",
       "             param_grid={&#x27;C&#x27;: [0.1, 2, 20, 110], &#x27;gamma&#x27;: [1, 0.1, 0.01, 0.001],\n",
       "                         &#x27;kernel&#x27;: [&#x27;linear&#x27;, &#x27;rbf&#x27;]},\n",
       "             verbose=2)</pre><b>In a Jupyter environment, please rerun this cell to show the HTML representation or trust the notebook. <br />On GitHub, the HTML representation is unable to render, please try loading this page with nbviewer.org.</b></div><div class=\"sk-container\" hidden><div class=\"sk-item sk-dashed-wrapped\"><div class=\"sk-label-container\"><div class=\"sk-label sk-toggleable\"><input class=\"sk-toggleable__control sk-hidden--visually\" id=\"sk-estimator-id-11\" type=\"checkbox\" ><label for=\"sk-estimator-id-11\" class=\"sk-toggleable__label sk-toggleable__label-arrow\">GridSearchCV</label><div class=\"sk-toggleable__content\"><pre>GridSearchCV(cv=3, estimator=SVC(),\n",
       "             param_grid={&#x27;C&#x27;: [0.1, 2, 20, 110], &#x27;gamma&#x27;: [1, 0.1, 0.01, 0.001],\n",
       "                         &#x27;kernel&#x27;: [&#x27;linear&#x27;, &#x27;rbf&#x27;]},\n",
       "             verbose=2)</pre></div></div></div><div class=\"sk-parallel\"><div class=\"sk-parallel-item\"><div class=\"sk-item\"><div class=\"sk-label-container\"><div class=\"sk-label sk-toggleable\"><input class=\"sk-toggleable__control sk-hidden--visually\" id=\"sk-estimator-id-12\" type=\"checkbox\" ><label for=\"sk-estimator-id-12\" class=\"sk-toggleable__label sk-toggleable__label-arrow\">estimator: SVC</label><div class=\"sk-toggleable__content\"><pre>SVC()</pre></div></div></div><div class=\"sk-serial\"><div class=\"sk-item\"><div class=\"sk-estimator sk-toggleable\"><input class=\"sk-toggleable__control sk-hidden--visually\" id=\"sk-estimator-id-13\" type=\"checkbox\" ><label for=\"sk-estimator-id-13\" class=\"sk-toggleable__label sk-toggleable__label-arrow\">SVC</label><div class=\"sk-toggleable__content\"><pre>SVC()</pre></div></div></div></div></div></div></div></div></div></div>"
      ],
      "text/plain": [
       "GridSearchCV(cv=3, estimator=SVC(),\n",
       "             param_grid={'C': [0.1, 2, 20, 110], 'gamma': [1, 0.1, 0.01, 0.001],\n",
       "                         'kernel': ['linear', 'rbf']},\n",
       "             verbose=2)"
      ]
     },
     "execution_count": 46,
     "metadata": {},
     "output_type": "execute_result"
    }
   ],
   "source": [
    "# Hyperparameter Tuning\n",
    "params = {\n",
    "    'C': [0.1, 2, 20, 110],\n",
    "    'gamma': [1, 0.1, 0.01, 0.001],\n",
    "    'kernel': ['linear', 'rbf']\n",
    "}\n",
    "\n",
    "GRID = GridSearchCV(SVC_model, param_grid=params, refit=True, verbose=2, cv=3)\n",
    "\n",
    "GRID.fit(X_train, y_train)"
   ]
  },
  {
   "cell_type": "code",
   "execution_count": 47,
   "id": "aea190d4-06aa-47c7-8be0-42a010a09d02",
   "metadata": {},
   "outputs": [
    {
     "data": {
      "text/plain": [
       "{'C': 2, 'gamma': 1, 'kernel': 'linear'}"
      ]
     },
     "execution_count": 47,
     "metadata": {},
     "output_type": "execute_result"
    }
   ],
   "source": [
    "GRID.best_params_"
   ]
  },
  {
   "cell_type": "code",
   "execution_count": 49,
   "id": "6f4cc7d8-deb2-45b0-a7e9-17771dca42e5",
   "metadata": {},
   "outputs": [],
   "source": [
    "SVC_new = SVC(C=2,gamma=1,kernel='linear')"
   ]
  },
  {
   "cell_type": "code",
   "execution_count": 50,
   "id": "61e66ef2-1dcf-4c90-b0b0-824aeb2ae21f",
   "metadata": {},
   "outputs": [
    {
     "data": {
      "text/html": [
       "<style>#sk-container-id-8 {color: black;background-color: white;}#sk-container-id-8 pre{padding: 0;}#sk-container-id-8 div.sk-toggleable {background-color: white;}#sk-container-id-8 label.sk-toggleable__label {cursor: pointer;display: block;width: 100%;margin-bottom: 0;padding: 0.3em;box-sizing: border-box;text-align: center;}#sk-container-id-8 label.sk-toggleable__label-arrow:before {content: \"▸\";float: left;margin-right: 0.25em;color: #696969;}#sk-container-id-8 label.sk-toggleable__label-arrow:hover:before {color: black;}#sk-container-id-8 div.sk-estimator:hover label.sk-toggleable__label-arrow:before {color: black;}#sk-container-id-8 div.sk-toggleable__content {max-height: 0;max-width: 0;overflow: hidden;text-align: left;background-color: #f0f8ff;}#sk-container-id-8 div.sk-toggleable__content pre {margin: 0.2em;color: black;border-radius: 0.25em;background-color: #f0f8ff;}#sk-container-id-8 input.sk-toggleable__control:checked~div.sk-toggleable__content {max-height: 200px;max-width: 100%;overflow: auto;}#sk-container-id-8 input.sk-toggleable__control:checked~label.sk-toggleable__label-arrow:before {content: \"▾\";}#sk-container-id-8 div.sk-estimator input.sk-toggleable__control:checked~label.sk-toggleable__label {background-color: #d4ebff;}#sk-container-id-8 div.sk-label input.sk-toggleable__control:checked~label.sk-toggleable__label {background-color: #d4ebff;}#sk-container-id-8 input.sk-hidden--visually {border: 0;clip: rect(1px 1px 1px 1px);clip: rect(1px, 1px, 1px, 1px);height: 1px;margin: -1px;overflow: hidden;padding: 0;position: absolute;width: 1px;}#sk-container-id-8 div.sk-estimator {font-family: monospace;background-color: #f0f8ff;border: 1px dotted black;border-radius: 0.25em;box-sizing: border-box;margin-bottom: 0.5em;}#sk-container-id-8 div.sk-estimator:hover {background-color: #d4ebff;}#sk-container-id-8 div.sk-parallel-item::after {content: \"\";width: 100%;border-bottom: 1px solid gray;flex-grow: 1;}#sk-container-id-8 div.sk-label:hover label.sk-toggleable__label {background-color: #d4ebff;}#sk-container-id-8 div.sk-serial::before {content: \"\";position: absolute;border-left: 1px solid gray;box-sizing: border-box;top: 0;bottom: 0;left: 50%;z-index: 0;}#sk-container-id-8 div.sk-serial {display: flex;flex-direction: column;align-items: center;background-color: white;padding-right: 0.2em;padding-left: 0.2em;position: relative;}#sk-container-id-8 div.sk-item {position: relative;z-index: 1;}#sk-container-id-8 div.sk-parallel {display: flex;align-items: stretch;justify-content: center;background-color: white;position: relative;}#sk-container-id-8 div.sk-item::before, #sk-container-id-8 div.sk-parallel-item::before {content: \"\";position: absolute;border-left: 1px solid gray;box-sizing: border-box;top: 0;bottom: 0;left: 50%;z-index: -1;}#sk-container-id-8 div.sk-parallel-item {display: flex;flex-direction: column;z-index: 1;position: relative;background-color: white;}#sk-container-id-8 div.sk-parallel-item:first-child::after {align-self: flex-end;width: 50%;}#sk-container-id-8 div.sk-parallel-item:last-child::after {align-self: flex-start;width: 50%;}#sk-container-id-8 div.sk-parallel-item:only-child::after {width: 0;}#sk-container-id-8 div.sk-dashed-wrapped {border: 1px dashed gray;margin: 0 0.4em 0.5em 0.4em;box-sizing: border-box;padding-bottom: 0.4em;background-color: white;}#sk-container-id-8 div.sk-label label {font-family: monospace;font-weight: bold;display: inline-block;line-height: 1.2em;}#sk-container-id-8 div.sk-label-container {text-align: center;}#sk-container-id-8 div.sk-container {/* jupyter's `normalize.less` sets `[hidden] { display: none; }` but bootstrap.min.css set `[hidden] { display: none !important; }` so we also need the `!important` here to be able to override the default hidden behavior on the sphinx rendered scikit-learn.org. See: https://github.com/scikit-learn/scikit-learn/issues/21755 */display: inline-block !important;position: relative;}#sk-container-id-8 div.sk-text-repr-fallback {display: none;}</style><div id=\"sk-container-id-8\" class=\"sk-top-container\"><div class=\"sk-text-repr-fallback\"><pre>SVC(C=2, gamma=1, kernel=&#x27;linear&#x27;)</pre><b>In a Jupyter environment, please rerun this cell to show the HTML representation or trust the notebook. <br />On GitHub, the HTML representation is unable to render, please try loading this page with nbviewer.org.</b></div><div class=\"sk-container\" hidden><div class=\"sk-item\"><div class=\"sk-estimator sk-toggleable\"><input class=\"sk-toggleable__control sk-hidden--visually\" id=\"sk-estimator-id-14\" type=\"checkbox\" checked><label for=\"sk-estimator-id-14\" class=\"sk-toggleable__label sk-toggleable__label-arrow\">SVC</label><div class=\"sk-toggleable__content\"><pre>SVC(C=2, gamma=1, kernel=&#x27;linear&#x27;)</pre></div></div></div></div></div>"
      ],
      "text/plain": [
       "SVC(C=2, gamma=1, kernel='linear')"
      ]
     },
     "execution_count": 50,
     "metadata": {},
     "output_type": "execute_result"
    }
   ],
   "source": [
    "SVC_new.fit(X_train,y_train)"
   ]
  },
  {
   "cell_type": "code",
   "execution_count": 51,
   "id": "9a574809-0551-4eeb-bf8a-70f49fcbc1aa",
   "metadata": {},
   "outputs": [],
   "source": [
    "y_find = SVC_new.predict(X_test)"
   ]
  },
  {
   "cell_type": "code",
   "execution_count": 52,
   "id": "7ae619e8-54a1-42a5-ad41-05305e722511",
   "metadata": {},
   "outputs": [
    {
     "data": {
      "text/plain": [
       "0.9555555555555556"
      ]
     },
     "execution_count": 52,
     "metadata": {},
     "output_type": "execute_result"
    }
   ],
   "source": [
    "accuracy_score(y_test,y_find)"
   ]
  },
  {
   "cell_type": "code",
   "execution_count": 53,
   "id": "23851b5a-a1b7-4c0f-b157-f180a194fbef",
   "metadata": {},
   "outputs": [],
   "source": [
    "# Saving the trained classifier model for future"
   ]
  },
  {
   "cell_type": "code",
   "execution_count": null,
   "id": "8ebbc8dc-8b68-4677-aabf-651d6e93bf42",
   "metadata": {},
   "outputs": [],
   "source": [
    "import pickle\n",
    "\n",
    "with open('SVCmodel.pkl', 'wb') as k:\n",
    "    pickle.dump(SVC_model,k)"
   ]
  },
  {
   "cell_type": "code",
   "execution_count": null,
   "id": "21b83d93-2fb7-4638-ab9f-713bb8c11818",
   "metadata": {},
   "outputs": [],
   "source": []
  }
 ],
 "metadata": {
  "kernelspec": {
   "display_name": "Python 3 (ipykernel)",
   "language": "python",
   "name": "python3"
  },
  "language_info": {
   "codemirror_mode": {
    "name": "ipython",
    "version": 3
   },
   "file_extension": ".py",
   "mimetype": "text/x-python",
   "name": "python",
   "nbconvert_exporter": "python",
   "pygments_lexer": "ipython3",
   "version": "3.10.8"
  }
 },
 "nbformat": 4,
 "nbformat_minor": 5
}
