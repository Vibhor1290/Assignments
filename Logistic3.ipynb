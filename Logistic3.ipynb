{
 "cells": [
  {
   "cell_type": "markdown",
   "id": "3ee1f559-d218-440a-827d-92025ccb04b5",
   "metadata": {},
   "source": [
    "Q1. Explain the concept of precision and recall in the context of classification models."
   ]
  },
  {
   "cell_type": "raw",
   "id": "e3168031-451c-4916-80d5-15bf8b99b0a9",
   "metadata": {},
   "source": [
    "Precision = TP / (TP + FP)\n",
    "\n",
    "It simply means \"Out of all the instances that the model predicted as positive, how many were actually positive?\"\n",
    "\n",
    "Recall = TP / (TP + FN)\n",
    "\n",
    "It means \"Out of all the actual positive instances, how many did the model correctly predict as positive?\""
   ]
  },
  {
   "cell_type": "markdown",
   "id": "f2c0fe95-5d29-447c-ad6b-f72ee0722e8b",
   "metadata": {},
   "source": [
    "Q2. What is the F1 score and how is it calculated? How is it different from precision and recall?"
   ]
  },
  {
   "cell_type": "raw",
   "id": "4716ae3a-9fed-4ced-bdde-f651b78f7eaa",
   "metadata": {},
   "source": [
    "F1 score is combined metric having both precision and recall into a single value thus providing a balanced measure of a model's performance, especially for binary classification problems."
   ]
  },
  {
   "cell_type": "raw",
   "id": "2d4226b0-9504-4201-ba5e-911f2e31c584",
   "metadata": {},
   "source": [
    "F1-Score = (2*Precision*Recall)/(Precision+Recall)\n",
    "\n",
    "1. Precision mainly focuses on accuracy of positive predictions, while recall focuses on ability to capture all positive instances.\n",
    "\n",
    "2. Precision and recall are equally weighted in the F1 score which means that F1 score gives balanced consideration to both precision and recall.\n",
    "\n",
    "3. The F1 score is very useful when dealing with imbalanced datasets."
   ]
  },
  {
   "cell_type": "markdown",
   "id": "77ec3e2c-7998-4118-bcd0-05436f2bbcc6",
   "metadata": {},
   "source": [
    "Q3. What is ROC and AUC, and how are they used to evaluate the performance of classification models?"
   ]
  },
  {
   "cell_type": "raw",
   "id": "e7b28763-8eac-4b43-aa15-642c3d169449",
   "metadata": {},
   "source": [
    "ROC curve and AUC are the evaluation metrics used to calculate performance of classification models especially binary classifiers. They are widely useful when dealing with imbalanced datasets"
   ]
  },
  {
   "cell_type": "raw",
   "id": "c3300349-9ef5-4d13-9563-367db471df8a",
   "metadata": {},
   "source": [
    "ROC curve is a graphical representation between true positive rate and false positive rate at different thresholds values.\n",
    "\n",
    "AUC is simply the area covered under the ROC curve. The value of AUC lies within 0 to 1.\n",
    "\n",
    "Example: If value of AUC is 0.85, it means that the model is perfectly able to distinguish between positive instances and negative instances on all possible thresholds."
   ]
  },
  {
   "cell_type": "markdown",
   "id": "8e185eb2-73f7-462a-8f9b-0eb319c902f7",
   "metadata": {},
   "source": [
    "Q4. How do you choose the best metric to evaluate the performance of a classification model? What is multiclass classification and how is it different from binary classification?"
   ]
  },
  {
   "cell_type": "raw",
   "id": "35787923-e4df-4655-b87b-3a5352abe2e9",
   "metadata": {},
   "source": [
    "To choose the best metric for evaluating the performance of classification model, we have to consider few things:\n",
    "    \n",
    "1. Nature of problem: Identify whether problem involves binary classification or multiclass classification.\n",
    "\n",
    "2. Dataset balance: Check whether classes in dataset are balanced or imbalanced. Imbalanced datasets may require metrics like precision, recall, F1 score, etc.\n",
    "\n",
    "3. Type of Error: Determine which type of error(Type I/Type II) is our main focus. If both are equally important, we can go with precision, recall, F1 score, or ROC."
   ]
  },
  {
   "cell_type": "markdown",
   "id": "9ce4d449-fb2b-4a5d-a132-b6c9c1c8c399",
   "metadata": {},
   "source": [
    "Q5. Explain how logistic regression can be used for multiclass classification."
   ]
  },
  {
   "cell_type": "raw",
   "id": "9b217c43-d206-460f-b44e-84fb38f2c95d",
   "metadata": {},
   "source": [
    "In order to handle multiclass classification using logisitc regression model, we have certain approaches like:\n",
    "\n",
    "Example: We have dataset with 3 different output categories: X,Y and Z. \n",
    "    \n",
    "1. OvR Approach (One V/s Rest:\n",
    "\n",
    "In this approach, we will train 3 separate binary logistic regression models: X v/s rest, Y v/s rest, and Z v/s rest.\n",
    "\n",
    "During prediction, among these three models we will use the model with highest probability to determine the class.\n",
    "\n",
    "2. OvO Approach (One V/s One):\n",
    "\n",
    "In this type of approach, we will train 3 binary logistic regression models for all possible combinations like X v/s Y, Y v/s Z, and X v/s Z.\n",
    "During prediction, we will use voting scheme to select the best classifier in order to determine class with the most votes.\n",
    "\n",
    "3. Softmax Regression Approach:\n",
    "\n",
    "We will train a single logistic regression model with three output nodes (one for each class: X, Y, Z) using the softmax function.\n",
    "During prediction, we will choose the class with highest predicted probability from the softmax output."
   ]
  },
  {
   "cell_type": "markdown",
   "id": "f6af96f2-accb-4f8a-9661-b72c1c187422",
   "metadata": {},
   "source": [
    "Q6. Describe the steps involved in an end-to-end project for multiclass classification."
   ]
  },
  {
   "cell_type": "raw",
   "id": "2e4e578a-b28d-4956-8f66-cc7059e82054",
   "metadata": {},
   "source": [
    "To understand this, lets perform a small pratical code"
   ]
  },
  {
   "cell_type": "code",
   "execution_count": 1,
   "id": "277267b2-b19c-4264-85c4-5a9d5b5912af",
   "metadata": {},
   "outputs": [],
   "source": [
    "import numpy as np\n",
    "from sklearn.datasets import load_iris\n",
    "from sklearn.model_selection import train_test_split\n",
    "from sklearn.preprocessing import StandardScaler\n",
    "from sklearn.svm import SVC\n",
    "from sklearn.metrics import classification_report, confusion_matrix"
   ]
  },
  {
   "cell_type": "code",
   "execution_count": 10,
   "id": "3d5ae576-0f01-4395-867b-7cfcb503c5aa",
   "metadata": {},
   "outputs": [],
   "source": [
    "iris = load_iris()\n",
    "X = iris.data\n",
    "y = iris.target\n",
    "\n",
    "# Split the data into training and testing sets\n",
    "X_train, X_test, y_train, y_test = train_test_split(X, y, test_size=0.3, random_state=35)"
   ]
  },
  {
   "cell_type": "code",
   "execution_count": 11,
   "id": "9890a04e-c092-4ad6-8ac3-8046471fade6",
   "metadata": {},
   "outputs": [],
   "source": [
    "scaler = StandardScaler()\n",
    "X_train_scaled = scaler.fit_transform(X_train)\n",
    "X_test_scaled = scaler.transform(X_test)\n",
    "\n",
    "svm_classifier = SVC(kernel='rbf', C=1.0, gamma='scale', random_state=42)\n",
    "svm_classifier.fit(X_train_scaled, y_train)\n",
    "\n",
    "y_pred = svm_classifier.predict(X_test_scaled)"
   ]
  },
  {
   "cell_type": "code",
   "execution_count": 12,
   "id": "44dc8707-161d-4af0-bd27-7e4c8589f7da",
   "metadata": {},
   "outputs": [
    {
     "name": "stdout",
     "output_type": "stream",
     "text": [
      "[[16  0  0]\n",
      " [ 0 13  1]\n",
      " [ 0  2 13]]\n",
      "              precision    recall  f1-score   support\n",
      "\n",
      "      setosa       1.00      1.00      1.00        16\n",
      "  versicolor       0.87      0.93      0.90        14\n",
      "   virginica       0.93      0.87      0.90        15\n",
      "\n",
      "    accuracy                           0.93        45\n",
      "   macro avg       0.93      0.93      0.93        45\n",
      "weighted avg       0.93      0.93      0.93        45\n",
      "\n"
     ]
    }
   ],
   "source": [
    "print(confusion_matrix(y_test, y_pred))\n",
    "print(classification_report(y_test, y_pred, target_names=iris.target_names))"
   ]
  },
  {
   "cell_type": "raw",
   "id": "d85b3c29-4329-443c-b4ab-9dfbe30ade57",
   "metadata": {},
   "source": [
    "Once we are OK with the model performance, we will deploy it into production environment. To delpoy the model, we will first create a pickle file of the model, setting up an API endpoint, or integrating it into existing systems."
   ]
  },
  {
   "cell_type": "code",
   "execution_count": 13,
   "id": "ba332465-92d8-4c3f-84b6-afe53bf31a34",
   "metadata": {},
   "outputs": [],
   "source": [
    "# Creating a pickle file\n",
    "import pickle\n",
    "with open('model.pkl','wb') as f:\n",
    "    pickle.dump(svm_classifier,f)"
   ]
  },
  {
   "cell_type": "code",
   "execution_count": 15,
   "id": "2bc5f8a5-0ca4-48fb-88ad-fef2151dac14",
   "metadata": {},
   "outputs": [],
   "source": [
    "with open('model.pkl','rb') as g:\n",
    "    k = pickle.load(g)"
   ]
  },
  {
   "cell_type": "code",
   "execution_count": 16,
   "id": "934f6560-ec84-4d82-869a-e898e4fd0c7d",
   "metadata": {},
   "outputs": [
    {
     "data": {
      "text/html": [
       "<style>#sk-container-id-1 {color: black;background-color: white;}#sk-container-id-1 pre{padding: 0;}#sk-container-id-1 div.sk-toggleable {background-color: white;}#sk-container-id-1 label.sk-toggleable__label {cursor: pointer;display: block;width: 100%;margin-bottom: 0;padding: 0.3em;box-sizing: border-box;text-align: center;}#sk-container-id-1 label.sk-toggleable__label-arrow:before {content: \"▸\";float: left;margin-right: 0.25em;color: #696969;}#sk-container-id-1 label.sk-toggleable__label-arrow:hover:before {color: black;}#sk-container-id-1 div.sk-estimator:hover label.sk-toggleable__label-arrow:before {color: black;}#sk-container-id-1 div.sk-toggleable__content {max-height: 0;max-width: 0;overflow: hidden;text-align: left;background-color: #f0f8ff;}#sk-container-id-1 div.sk-toggleable__content pre {margin: 0.2em;color: black;border-radius: 0.25em;background-color: #f0f8ff;}#sk-container-id-1 input.sk-toggleable__control:checked~div.sk-toggleable__content {max-height: 200px;max-width: 100%;overflow: auto;}#sk-container-id-1 input.sk-toggleable__control:checked~label.sk-toggleable__label-arrow:before {content: \"▾\";}#sk-container-id-1 div.sk-estimator input.sk-toggleable__control:checked~label.sk-toggleable__label {background-color: #d4ebff;}#sk-container-id-1 div.sk-label input.sk-toggleable__control:checked~label.sk-toggleable__label {background-color: #d4ebff;}#sk-container-id-1 input.sk-hidden--visually {border: 0;clip: rect(1px 1px 1px 1px);clip: rect(1px, 1px, 1px, 1px);height: 1px;margin: -1px;overflow: hidden;padding: 0;position: absolute;width: 1px;}#sk-container-id-1 div.sk-estimator {font-family: monospace;background-color: #f0f8ff;border: 1px dotted black;border-radius: 0.25em;box-sizing: border-box;margin-bottom: 0.5em;}#sk-container-id-1 div.sk-estimator:hover {background-color: #d4ebff;}#sk-container-id-1 div.sk-parallel-item::after {content: \"\";width: 100%;border-bottom: 1px solid gray;flex-grow: 1;}#sk-container-id-1 div.sk-label:hover label.sk-toggleable__label {background-color: #d4ebff;}#sk-container-id-1 div.sk-serial::before {content: \"\";position: absolute;border-left: 1px solid gray;box-sizing: border-box;top: 0;bottom: 0;left: 50%;z-index: 0;}#sk-container-id-1 div.sk-serial {display: flex;flex-direction: column;align-items: center;background-color: white;padding-right: 0.2em;padding-left: 0.2em;position: relative;}#sk-container-id-1 div.sk-item {position: relative;z-index: 1;}#sk-container-id-1 div.sk-parallel {display: flex;align-items: stretch;justify-content: center;background-color: white;position: relative;}#sk-container-id-1 div.sk-item::before, #sk-container-id-1 div.sk-parallel-item::before {content: \"\";position: absolute;border-left: 1px solid gray;box-sizing: border-box;top: 0;bottom: 0;left: 50%;z-index: -1;}#sk-container-id-1 div.sk-parallel-item {display: flex;flex-direction: column;z-index: 1;position: relative;background-color: white;}#sk-container-id-1 div.sk-parallel-item:first-child::after {align-self: flex-end;width: 50%;}#sk-container-id-1 div.sk-parallel-item:last-child::after {align-self: flex-start;width: 50%;}#sk-container-id-1 div.sk-parallel-item:only-child::after {width: 0;}#sk-container-id-1 div.sk-dashed-wrapped {border: 1px dashed gray;margin: 0 0.4em 0.5em 0.4em;box-sizing: border-box;padding-bottom: 0.4em;background-color: white;}#sk-container-id-1 div.sk-label label {font-family: monospace;font-weight: bold;display: inline-block;line-height: 1.2em;}#sk-container-id-1 div.sk-label-container {text-align: center;}#sk-container-id-1 div.sk-container {/* jupyter's `normalize.less` sets `[hidden] { display: none; }` but bootstrap.min.css set `[hidden] { display: none !important; }` so we also need the `!important` here to be able to override the default hidden behavior on the sphinx rendered scikit-learn.org. See: https://github.com/scikit-learn/scikit-learn/issues/21755 */display: inline-block !important;position: relative;}#sk-container-id-1 div.sk-text-repr-fallback {display: none;}</style><div id=\"sk-container-id-1\" class=\"sk-top-container\"><div class=\"sk-text-repr-fallback\"><pre>SVC(random_state=42)</pre><b>In a Jupyter environment, please rerun this cell to show the HTML representation or trust the notebook. <br />On GitHub, the HTML representation is unable to render, please try loading this page with nbviewer.org.</b></div><div class=\"sk-container\" hidden><div class=\"sk-item\"><div class=\"sk-estimator sk-toggleable\"><input class=\"sk-toggleable__control sk-hidden--visually\" id=\"sk-estimator-id-1\" type=\"checkbox\" checked><label for=\"sk-estimator-id-1\" class=\"sk-toggleable__label sk-toggleable__label-arrow\">SVC</label><div class=\"sk-toggleable__content\"><pre>SVC(random_state=42)</pre></div></div></div></div></div>"
      ],
      "text/plain": [
       "SVC(random_state=42)"
      ]
     },
     "execution_count": 16,
     "metadata": {},
     "output_type": "execute_result"
    }
   ],
   "source": [
    "k"
   ]
  },
  {
   "cell_type": "markdown",
   "id": "87c999e9-fbb6-4dc9-ae84-02226a51917b",
   "metadata": {},
   "source": [
    "Q7. What is model deployment and why is it important?"
   ]
  },
  {
   "cell_type": "raw",
   "id": "5e6122b8-5d09-4a83-92a3-4077758f3772",
   "metadata": {},
   "source": [
    "Model deployment is a process of taking a trained ML model and making it available for use in real-world applications. It involves integrating the model into production environments where it can receive input data, make predictions, and provide outputs.\n",
    "\n",
    "Importance:\n",
    "\n",
    "1. Deploying a ML model allows it to have a solid impact on real-world problems.\n",
    "\n",
    "2. By deploying a model, repetitive tasks can be automated thus reducing manual intervention and improving overall operational efficiency. \n",
    "\n",
    "3. Deployed models enable timely decision-making by providing quick and accurate predictions or insights. "
   ]
  },
  {
   "cell_type": "markdown",
   "id": "5e70d6c7-11d9-4103-bfa9-7f380092a445",
   "metadata": {},
   "source": [
    "Q8. Explain how multi-cloud platforms are used for model deployment."
   ]
  },
  {
   "cell_type": "raw",
   "id": "3a674d62-f86b-4d4d-b6d5-b5abb5a987ea",
   "metadata": {},
   "source": [
    "Step1: Develop and train ML models using tools and services from different cloud providers or other infrastructure.\n",
    "\n",
    "Step2: Then, pack the trained models into containers (such as Docker) for easy portability and consistency across different cloud environments.\n",
    "\n",
    "Step3: Using tools like Kubernetes to manage and deploy containerized models across multiple cloud platforms seamlessly.\n",
    "\n",
    "Step4: Display the deployed models publicly as APIs or endpoints accessible or within private networks for integration with applications, services, and workflows.\n",
    "\n",
    "Step5: Make use of load balancer and other traffic management strategies to for distributing incoming requests efficiently among deployed models and to avoid any congestion.\n",
    "\n",
    "Step6: Ensure regular monitoring is done to track model performance, resource usage, and system health across multi-cloud environments.\n",
    "\n",
    "Step7: Make use of toughest security measures(like encryption, authentication, and access control mechanisms) for both data and models protection."
   ]
  },
  {
   "cell_type": "markdown",
   "id": "ec6012c4-cf82-4986-be3a-8a8853a101bf",
   "metadata": {},
   "source": [
    "Q9. Discuss the benefits and challenges of deploying machine learning models in a multi-cloud environment."
   ]
  },
  {
   "cell_type": "raw",
   "id": "a6409a6e-1024-49aa-9272-97428262f09f",
   "metadata": {},
   "source": [
    "1. Multi Cloud environment allows organizations to choose from multiple cloud service providers depending upon their requirements in terms of cost, performance, geographic location, and specialized services.\n",
    "\n",
    "2. Multi-cloud deployments also increases redundancy and reliability by distributing workloads across different cloud providers which further reduces the risk of downtime due to outages or any uncertain scenario.\n",
    "\n",
    "3. Multi-cloud environments offer data residency options thus allowing organizations to stick to data governance policies, regulatory requirements, and data sovereignty laws.\n",
    "\n",
    "Apart from benefits, there are certain challenges as well:\n",
    "\n",
    "1. Ensuring data consistency, synchronization, and efficient data transfer between different cloud environments can lead to potential higher data transfer costs.\n",
    "\n",
    "2. Multi-cloud environments may introduce security risks, such as data breaches, unauthorized access, and inconsistencies in security policies across cloud providers.\n",
    "\n",
    "3. Managing costs effectively in a multi-cloud environment requires monitoring resource usage, optimizing workloads, avoiding unnecessary redundancy, and ensuring cost predictability."
   ]
  },
  {
   "cell_type": "code",
   "execution_count": null,
   "id": "892b3fa0-0285-4b74-ba39-369e2472be85",
   "metadata": {},
   "outputs": [],
   "source": []
  }
 ],
 "metadata": {
  "kernelspec": {
   "display_name": "Python 3 (ipykernel)",
   "language": "python",
   "name": "python3"
  },
  "language_info": {
   "codemirror_mode": {
    "name": "ipython",
    "version": 3
   },
   "file_extension": ".py",
   "mimetype": "text/x-python",
   "name": "python",
   "nbconvert_exporter": "python",
   "pygments_lexer": "ipython3",
   "version": "3.10.8"
  }
 },
 "nbformat": 4,
 "nbformat_minor": 5
}
