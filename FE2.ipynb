{
 "cells": [
  {
   "cell_type": "markdown",
   "id": "7164954f-221c-4306-abfa-c7f3259396f8",
   "metadata": {},
   "source": [
    "Q1. What is the Filter method in feature selection, and how does it work?"
   ]
  },
  {
   "cell_type": "raw",
   "id": "da588a19-cfa5-46b4-8de8-26a01c4fc55f",
   "metadata": {},
   "source": [
    "The filter method in feature selection is a technique that selects only the important based on statistical measures or scoring metrics. It works by evaluating each feature and assigning scores to them.\n",
    "Then all the features with higher scores are selected for use while the features with lower scores are discarded.\n",
    "\n",
    "For scoring metrics, we use:\n",
    "    \n",
    "    Pearson Correlation,\n",
    "    Chi-Square,\n",
    "    F-test, etc.\n",
    "\n",
    "Along with this, we also set a threshold on the basis on which we decide which feature has to be accepted or rejected."
   ]
  },
  {
   "cell_type": "markdown",
   "id": "c7fb1b1c-c37b-43f2-a8fa-2cb2f9b7c639",
   "metadata": {},
   "source": [
    "Q2. How does the Wrapper method differ from the Filter method in feature selection?"
   ]
  },
  {
   "cell_type": "raw",
   "id": "fdf113cb-62c4-4ffb-8f83-2d697c800581",
   "metadata": {},
   "source": [
    "Evaluation Part: Wrapper methods evaluate feature based on model performance, while Filter methods evaluate features based on scoring metrics.\n",
    "\n",
    "Training Part: Wrapper methods train and test the model multiple times with different feature, while Filter methods do not involve model training during feature selection.\n",
    "\n",
    "Complexity: Wrapper methods are computationally intensive, especially for large datasets or complex models, while Filter methods are computationally efficient.\n",
    "\n",
    "Model Dependency: Wrapper methods are model-dependent, while Filter methods are model-independent."
   ]
  },
  {
   "cell_type": "markdown",
   "id": "d79033df-6b03-456a-9dcb-5fcf5c2803c7",
   "metadata": {},
   "source": [
    "Q3. What are some common techniques used in Embedded feature selection methods?"
   ]
  },
  {
   "cell_type": "raw",
   "id": "121ebdab-9233-46e3-a0f9-a9821f7a1fe0",
   "metadata": {},
   "source": [
    "Lasso Regression\n",
    "\n",
    "ElasticNet regression\n",
    "\n",
    "Ridge Regression\n",
    "\n",
    "Decision Tree\n",
    "\n",
    "Support Vector Machine"
   ]
  },
  {
   "cell_type": "markdown",
   "id": "53eb7260-f297-48e9-9b53-267f9a89e087",
   "metadata": {},
   "source": [
    "Q4. What are some drawbacks of using the Filter method for feature selection?"
   ]
  },
  {
   "cell_type": "raw",
   "id": "3427ebb5-3ba7-45df-a408-7eba2aa8b9df",
   "metadata": {},
   "source": [
    "1. Filter methods are mainly designed for handling linear relationship data. They might face challenges while dealing with non-linear relationships or complex patterns.\n",
    "\n",
    "2. Filter methods may not handle redundant features properly(features that convey similar information.)\n",
    "\n",
    "3. Filter method might select those features that have high correlation or information gain but do not necessarily improve the model's predictive performance."
   ]
  },
  {
   "cell_type": "markdown",
   "id": "e9fe18af-a8da-4f58-841f-ccc0bc46f892",
   "metadata": {},
   "source": [
    "Q5. In which situations would you prefer using the Filter method over the Wrapper method for feature selection?"
   ]
  },
  {
   "cell_type": "raw",
   "id": "27e067ac-8997-4e0a-99dd-087229b202e4",
   "metadata": {},
   "source": [
    "We might consider using Filter method over wrapper method under following condition:\n",
    "    \n",
    "    1. When we deal with large dataset\n",
    "    \n",
    "    2. Computational resources are limited\n",
    "    \n",
    "    3. When we do not want to depend on model for evaluation"
   ]
  },
  {
   "cell_type": "markdown",
   "id": "dfb2e53d-14aa-4698-b782-c2feade7b94d",
   "metadata": {},
   "source": [
    "Q6. In a telecom company, you are working on a project to develop a predictive model for customer churn. You are unsure of which features to include in the model because the dataset contains several different ones. Describe how you would choose the most pertinent attributes for the model using the Filter Method."
   ]
  },
  {
   "cell_type": "raw",
   "id": "a030d901-65b0-4a55-8993-93a4a4980332",
   "metadata": {},
   "source": [
    "Step1: We will at first go through the dataset having number of features. As we are focusing on telecom company, we might focus on important features like customer feedback, average case resolution time, average call hold time, etc.\n",
    "\n",
    "Step2: Once we have the data, we will perform EDA(exploratory Data Analysis) which includes handling missing values, removing duplicate values, checking for outliers, removing any redundant column/field, etc.\n",
    "\n",
    "Step3: We will then go with feature scaling so that all the features are brought down to same range.\n",
    "\n",
    "Step4: We wull now perform feature selection using filter method. For feature selection, we will make use of scoring metrics like Pearson Correlation, Chi-Square, F-test, etc.\n",
    "\n",
    "Step5: After feature selection is done, we will fed this processed data into our model and then evaluate the prediction and accuracy."
   ]
  },
  {
   "cell_type": "markdown",
   "id": "a39d72ee-e712-4551-af3a-122473304c25",
   "metadata": {},
   "source": [
    "Q7. You are working on a project to predict the outcome of a soccer match. You have a large dataset with many features, including player statistics and team rankings. Explain how you would use the Embedded method to select the most relevant features for the model."
   ]
  },
  {
   "cell_type": "code",
   "execution_count": 20,
   "id": "68e0c20e-f0a4-44ed-8cce-30a10314f13c",
   "metadata": {},
   "outputs": [
    {
     "data": {
      "text/html": [
       "<div>\n",
       "<style scoped>\n",
       "    .dataframe tbody tr th:only-of-type {\n",
       "        vertical-align: middle;\n",
       "    }\n",
       "\n",
       "    .dataframe tbody tr th {\n",
       "        vertical-align: top;\n",
       "    }\n",
       "\n",
       "    .dataframe thead th {\n",
       "        text-align: right;\n",
       "    }\n",
       "</style>\n",
       "<table border=\"1\" class=\"dataframe\">\n",
       "  <thead>\n",
       "    <tr style=\"text-align: right;\">\n",
       "      <th></th>\n",
       "      <th>price</th>\n",
       "      <th>revenue</th>\n",
       "      <th>profit</th>\n",
       "      <th>market_cap</th>\n",
       "      <th>dividends</th>\n",
       "      <th>pe_ratio</th>\n",
       "      <th>volume</th>\n",
       "      <th>volatility</th>\n",
       "    </tr>\n",
       "  </thead>\n",
       "  <tbody>\n",
       "    <tr>\n",
       "      <th>0</th>\n",
       "      <td>43.708611</td>\n",
       "      <td>9.698888e+07</td>\n",
       "      <td>3.239776e+05</td>\n",
       "      <td>9.091832e+09</td>\n",
       "      <td>3.210158</td>\n",
       "      <td>18.250200</td>\n",
       "      <td>5.263004e+05</td>\n",
       "      <td>5.279794</td>\n",
       "    </tr>\n",
       "    <tr>\n",
       "      <th>1</th>\n",
       "      <td>95.564288</td>\n",
       "      <td>7.773815e+07</td>\n",
       "      <td>6.367740e+06</td>\n",
       "      <td>2.471663e+09</td>\n",
       "      <td>0.420700</td>\n",
       "      <td>22.329398</td>\n",
       "      <td>5.318233e+06</td>\n",
       "      <td>8.636653</td>\n",
       "    </tr>\n",
       "    <tr>\n",
       "      <th>2</th>\n",
       "      <td>75.879455</td>\n",
       "      <td>9.401040e+07</td>\n",
       "      <td>3.150416e+06</td>\n",
       "      <td>1.534459e+09</td>\n",
       "      <td>0.808144</td>\n",
       "      <td>43.301150</td>\n",
       "      <td>5.410945e+06</td>\n",
       "      <td>6.757590</td>\n",
       "    </tr>\n",
       "    <tr>\n",
       "      <th>3</th>\n",
       "      <td>63.879264</td>\n",
       "      <td>8.958791e+07</td>\n",
       "      <td>5.090621e+06</td>\n",
       "      <td>4.945582e+09</td>\n",
       "      <td>4.492771</td>\n",
       "      <td>19.261490</td>\n",
       "      <td>6.377925e+06</td>\n",
       "      <td>2.047877</td>\n",
       "    </tr>\n",
       "    <tr>\n",
       "      <th>4</th>\n",
       "      <td>24.041678</td>\n",
       "      <td>6.019210e+07</td>\n",
       "      <td>9.076589e+06</td>\n",
       "      <td>9.857939e+09</td>\n",
       "      <td>3.032145</td>\n",
       "      <td>12.627174</td>\n",
       "      <td>7.263652e+06</td>\n",
       "      <td>1.170403</td>\n",
       "    </tr>\n",
       "  </tbody>\n",
       "</table>\n",
       "</div>"
      ],
      "text/plain": [
       "       price       revenue        profit    market_cap  dividends   pe_ratio  \\\n",
       "0  43.708611  9.698888e+07  3.239776e+05  9.091832e+09   3.210158  18.250200   \n",
       "1  95.564288  7.773815e+07  6.367740e+06  2.471663e+09   0.420700  22.329398   \n",
       "2  75.879455  9.401040e+07  3.150416e+06  1.534459e+09   0.808144  43.301150   \n",
       "3  63.879264  8.958791e+07  5.090621e+06  4.945582e+09   4.492771  19.261490   \n",
       "4  24.041678  6.019210e+07  9.076589e+06  9.857939e+09   3.032145  12.627174   \n",
       "\n",
       "         volume  volatility  \n",
       "0  5.263004e+05    5.279794  \n",
       "1  5.318233e+06    8.636653  \n",
       "2  5.410945e+06    6.757590  \n",
       "3  6.377925e+06    2.047877  \n",
       "4  7.263652e+06    1.170403  "
      ]
     },
     "execution_count": 20,
     "metadata": {},
     "output_type": "execute_result"
    }
   ],
   "source": [
    "pd.read_csv('stock_prices_data.csv').head()"
   ]
  },
  {
   "cell_type": "code",
   "execution_count": 5,
   "id": "9a8f5e03-265f-45e4-b6b7-c12fef59cea6",
   "metadata": {},
   "outputs": [
    {
     "name": "stdout",
     "output_type": "stream",
     "text": [
      "Top Selected Features:\n",
      "revenue        2.672867\n",
      "profit         1.981315\n",
      "market_cap     4.248926\n",
      "dividends     -6.495119\n",
      "pe_ratio      -1.875362\n",
      "volume       -11.943089\n",
      "volatility     8.408895\n",
      "dtype: float64\n"
     ]
    }
   ],
   "source": [
    "import pandas as pd\n",
    "from sklearn.model_selection import train_test_split\n",
    "from sklearn.preprocessing import StandardScaler\n",
    "from sklearn.linear_model import Lasso\n",
    "from sklearn.metrics import accuracy_score\n",
    "\n",
    "data = pd.read_csv('stock_prices_data.csv')\n",
    "\n",
    "X = data.drop(columns=['price'])\n",
    "y = data['price']\n",
    "\n",
    "X_train, X_test, y_train, y_test = train_test_split(X, y, test_size=0.2, random_state=42)\n",
    "\n",
    "scaler = StandardScaler()\n",
    "X_train_scaled = scaler.fit_transform(X_train)\n",
    "X_test_scaled = scaler.transform(X_test)\n",
    "\n",
    "lasso = Lasso(alpha=0.01)\n",
    "lasso.fit(X_train_scaled, y_train)\n",
    "\n",
    "feature_importance = pd.Series(lasso.coef_, index=X.columns)\n",
    "top_features = feature_importance[abs(feature_importance) > 0]\n",
    "\n",
    "print(\"Top Selected Features:\")\n",
    "print(top_features)"
   ]
  },
  {
   "cell_type": "markdown",
   "id": "3d6d98f1-7fef-4598-ab92-2f4bc4085794",
   "metadata": {},
   "source": [
    "Q8. You are working on a project to predict the price of a house based on its features, such as size, location, and age. You have a limited number of features, and you want to ensure that you select the most important ones for the model. Explain how you would use the Wrapper method to select the best set of features for the predictor."
   ]
  },
  {
   "cell_type": "code",
   "execution_count": 6,
   "id": "99fc64bc-80bb-4e08-ba3d-b06163e0d581",
   "metadata": {},
   "outputs": [],
   "source": [
    "import numpy as np"
   ]
  },
  {
   "cell_type": "code",
   "execution_count": 9,
   "id": "430f06df-bb3e-4188-ae55-5dacb24c6245",
   "metadata": {},
   "outputs": [],
   "source": [
    "Area = np.random.randint(600,2500,30,int)\n",
    "Roooms = np.random.randint(2,6,30,int)\n",
    "Price = np.random.randint(3500000,17500000,30,int)"
   ]
  },
  {
   "cell_type": "code",
   "execution_count": 10,
   "id": "b867aa36-be08-4d25-92c6-ab6d3e334428",
   "metadata": {},
   "outputs": [],
   "source": [
    "W1 = pd.DataFrame(Area,columns=['Area'])\n",
    "W2 = pd.DataFrame(Roooms,columns=['Rooms'])\n",
    "W3 = pd.DataFrame(Price,columns=['Price'])"
   ]
  },
  {
   "cell_type": "code",
   "execution_count": 11,
   "id": "aa3caf2d-31cc-474d-a187-80d0be565acc",
   "metadata": {},
   "outputs": [],
   "source": [
    "rate = pd.concat([W1,W2],axis=1)"
   ]
  },
  {
   "cell_type": "code",
   "execution_count": 15,
   "id": "1e77f49f-3d15-4d93-9465-f447e6fead1f",
   "metadata": {},
   "outputs": [],
   "source": [
    "properties = pd.concat([rate,W3],axis=1)"
   ]
  },
  {
   "cell_type": "code",
   "execution_count": 16,
   "id": "f794c501-b215-424e-9b7b-0d0320ff2e2e",
   "metadata": {},
   "outputs": [
    {
     "data": {
      "text/html": [
       "<div>\n",
       "<style scoped>\n",
       "    .dataframe tbody tr th:only-of-type {\n",
       "        vertical-align: middle;\n",
       "    }\n",
       "\n",
       "    .dataframe tbody tr th {\n",
       "        vertical-align: top;\n",
       "    }\n",
       "\n",
       "    .dataframe thead th {\n",
       "        text-align: right;\n",
       "    }\n",
       "</style>\n",
       "<table border=\"1\" class=\"dataframe\">\n",
       "  <thead>\n",
       "    <tr style=\"text-align: right;\">\n",
       "      <th></th>\n",
       "      <th>Area</th>\n",
       "      <th>Rooms</th>\n",
       "      <th>Price</th>\n",
       "    </tr>\n",
       "  </thead>\n",
       "  <tbody>\n",
       "    <tr>\n",
       "      <th>0</th>\n",
       "      <td>1664</td>\n",
       "      <td>3</td>\n",
       "      <td>7123110</td>\n",
       "    </tr>\n",
       "    <tr>\n",
       "      <th>1</th>\n",
       "      <td>1007</td>\n",
       "      <td>3</td>\n",
       "      <td>11930543</td>\n",
       "    </tr>\n",
       "    <tr>\n",
       "      <th>2</th>\n",
       "      <td>1820</td>\n",
       "      <td>5</td>\n",
       "      <td>11019385</td>\n",
       "    </tr>\n",
       "    <tr>\n",
       "      <th>3</th>\n",
       "      <td>839</td>\n",
       "      <td>5</td>\n",
       "      <td>9261273</td>\n",
       "    </tr>\n",
       "    <tr>\n",
       "      <th>4</th>\n",
       "      <td>1046</td>\n",
       "      <td>3</td>\n",
       "      <td>6232131</td>\n",
       "    </tr>\n",
       "  </tbody>\n",
       "</table>\n",
       "</div>"
      ],
      "text/plain": [
       "   Area  Rooms     Price\n",
       "0  1664      3   7123110\n",
       "1  1007      3  11930543\n",
       "2  1820      5  11019385\n",
       "3   839      5   9261273\n",
       "4  1046      3   6232131"
      ]
     },
     "execution_count": 16,
     "metadata": {},
     "output_type": "execute_result"
    }
   ],
   "source": [
    "properties.head()"
   ]
  },
  {
   "cell_type": "code",
   "execution_count": 17,
   "id": "7e4f46c0-54db-4f61-98e2-9bc6d6e29d8f",
   "metadata": {},
   "outputs": [],
   "source": [
    "properties.to_csv('property.csv')"
   ]
  },
  {
   "cell_type": "code",
   "execution_count": 19,
   "id": "3e35d1ab-b57f-4dd2-a67d-7c9dea7eb08c",
   "metadata": {},
   "outputs": [
    {
     "name": "stdout",
     "output_type": "stream",
     "text": [
      "Selected Features: Index(['Unnamed: 0', 'Area', 'Rooms'], dtype='object')\n",
      "Mean Squared Error: 19065482036700.31\n"
     ]
    }
   ],
   "source": [
    "from sklearn.model_selection import train_test_split\n",
    "from sklearn.preprocessing import StandardScaler\n",
    "from sklearn.linear_model import LinearRegression\n",
    "from sklearn.feature_selection import RFE\n",
    "from sklearn.metrics import mean_squared_error\n",
    "\n",
    "data = pd.read_csv('property.csv')\n",
    "\n",
    "X = data.drop(columns=['Price'])  # input Features\n",
    "y = data['Price']  # Target variable\n",
    "\n",
    "X_train, X_test, y_train, y_test = train_test_split(X, y, test_size=0.2, random_state=42)\n",
    "\n",
    "scaler = StandardScaler()\n",
    "X_train_scaled = scaler.fit_transform(X_train)\n",
    "X_test_scaled = scaler.transform(X_test)\n",
    "\n",
    "linear = LinearRegression()\n",
    "\n",
    "rfe = RFE(estimator=linear, n_features_to_select=3)\n",
    "rfe.fit(X_train_scaled, y_train)\n",
    "\n",
    "selected_features = X.columns[rfe.support_]\n",
    "\n",
    "lin_final = LinearRegression()\n",
    "lin_final.fit(X_train_scaled[:, rfe.support_], y_train)\n",
    "\n",
    "y_pred = lin_final.predict(X_test_scaled[:, rfe.support_])\n",
    "mse = mean_squared_error(y_test, y_pred)\n",
    "\n",
    "print(f\"Selected Features: {selected_features}\")\n",
    "print(f\"Mean Squared Error: {mse}\")"
   ]
  },
  {
   "cell_type": "code",
   "execution_count": null,
   "id": "9fc0526b-e3da-4e86-93ce-331efc97c983",
   "metadata": {},
   "outputs": [],
   "source": []
  }
 ],
 "metadata": {
  "kernelspec": {
   "display_name": "Python 3 (ipykernel)",
   "language": "python",
   "name": "python3"
  },
  "language_info": {
   "codemirror_mode": {
    "name": "ipython",
    "version": 3
   },
   "file_extension": ".py",
   "mimetype": "text/x-python",
   "name": "python",
   "nbconvert_exporter": "python",
   "pygments_lexer": "ipython3",
   "version": "3.10.8"
  }
 },
 "nbformat": 4,
 "nbformat_minor": 5
}
