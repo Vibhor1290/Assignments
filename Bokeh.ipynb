{
  "nbformat": 4,
  "nbformat_minor": 0,
  "metadata": {
    "colab": {
      "provenance": [],
      "gpuType": "T4",
      "authorship_tag": "ABX9TyPrgXdhnswfkj2KMThT7Fjg",
      "include_colab_link": true
    },
    "kernelspec": {
      "name": "python3",
      "display_name": "Python 3"
    },
    "language_info": {
      "name": "python"
    },
    "accelerator": "GPU"
  },
  "cells": [
    {
      "cell_type": "markdown",
      "metadata": {
        "id": "view-in-github",
        "colab_type": "text"
      },
      "source": [
        "<a href=\"https://colab.research.google.com/github/Vibhor1290/Assignments/blob/main/Bokeh.ipynb\" target=\"_parent\"><img src=\"https://colab.research.google.com/assets/colab-badge.svg\" alt=\"Open In Colab\"/></a>"
      ]
    },
    {
      "cell_type": "code",
      "execution_count": 6,
      "metadata": {
        "id": "8phsH-DLMjyd"
      },
      "outputs": [],
      "source": [
        "# With the help of bokeh, we instantly get an HTML file which contains the output..."
      ]
    },
    {
      "cell_type": "markdown",
      "source": [
        "# Q1. How can you create a Bokeh plot using Python code?"
      ],
      "metadata": {
        "id": "WXulur5_MnAu"
      }
    },
    {
      "cell_type": "code",
      "source": [
        "from bokeh.plotting import figure, output_file, show\n",
        "\n",
        "x = [1, 2, 3, 4, 5]\n",
        "y = [6, 7, 2, 4, 5]\n",
        "\n",
        "output_file(\"lines.html\")\n",
        "\n",
        "p = figure(title=\"SimplePlot\", x_axis_label='x', y_axis_label='y')\n",
        "\n",
        "p.line(x, y, legend_label=\"Temp.\", line_width=2)\n",
        "show(p)"
      ],
      "metadata": {
        "id": "OAlpnyQJMpq_"
      },
      "execution_count": 3,
      "outputs": []
    },
    {
      "cell_type": "markdown",
      "source": [
        "# Q2. What are glyphs in Bokeh, and how can you add them to a Bokeh plot? Explain with an example."
      ],
      "metadata": {
        "id": "MPwfDd-NNOpE"
      }
    },
    {
      "cell_type": "code",
      "source": [
        "# glyphs are visual shapes that represent data in a plot. They can be used to create various plots such as scatter plots, line plots, bar plots, etc."
      ],
      "metadata": {
        "id": "cimw1fUzNBjv"
      },
      "execution_count": 4,
      "outputs": []
    },
    {
      "cell_type": "code",
      "source": [
        "from bokeh.plotting import figure, output_file, show\n",
        "\n",
        "x = [1, 2, 3, 4, 5]\n",
        "y = [6, 7, 2, 4, 5]\n",
        "\n",
        "output_file(\"glyphs.html\")\n",
        "\n",
        "p = figure(title=\"Scatter Plot with Circle Glyph\", x_axis_label='x', y_axis_label='y')\n",
        "\n",
        "p.circle(x, y, size=10, color=\"navy\", alpha=0.5)\n",
        "\n",
        "show(p)"
      ],
      "metadata": {
        "id": "tJGE72_8NgVa"
      },
      "execution_count": 5,
      "outputs": []
    },
    {
      "cell_type": "markdown",
      "source": [
        "# Q3. How can you customize the appearance of a Bokeh plot, including the axes, title, and legend?"
      ],
      "metadata": {
        "id": "U7PzLT5oOs50"
      }
    },
    {
      "cell_type": "code",
      "source": [
        "from bokeh.plotting import figure, output_file, show\n",
        "\n",
        "x = [1, 2, 3, 4, 5, 7, 9, 12, 18]\n",
        "y = [6, 7, 2, 4, 5, 9, 12, 15, 19]\n",
        "\n",
        "output_file(\"modified.html\")\n",
        "\n",
        "p = figure(title=\"CustomisedGraph\", x_axis_label='x_data', y_axis_label='y_data')\n",
        "p.xaxis.major_label_text_color = \"orange\"\n",
        "p.yaxis.major_label_text_font_style = \"bold\"\n",
        "p.xaxis.minor_tick_line_color = None\n",
        "p.yaxis.minor_tick_line_color = \"navy\"\n",
        "p.xaxis.major_tick_line_color = \"green\"\n",
        "p.yaxis.major_tick_line_color = \"red\"\n",
        "p.grid.grid_line_color = \"gray\"\n",
        "p.circle(x, y, legend_label=\"Data\", size=8, color=\"red\", alpha=0.5)\n",
        "p.line(x, y, legend_label=\"Line\", line_width=2, line_color=\"blue\")\n",
        "p.legend.location = \"top_left\"\n",
        "p.background_fill_color = \"lightgray\"\n",
        "p.border_fill_color = \"white\"\n",
        "p.title.text_font = \"times\"\n",
        "p.title.text_font_style = \"italic\"\n",
        "p.title.text_font_size = \"16pt\"\n",
        "p.title.align = \"center\"\n",
        "p.title.background_fill_color = \"orange\"\n",
        "p.title.background_fill_alpha = 0.5\n",
        "\n",
        "show(p)"
      ],
      "metadata": {
        "id": "VZFT_OZdNly8"
      },
      "execution_count": 8,
      "outputs": []
    },
    {
      "cell_type": "code",
      "source": [],
      "metadata": {
        "id": "mpvlgJhmPhPy"
      },
      "execution_count": null,
      "outputs": []
    }
  ]
}