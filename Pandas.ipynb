{
 "cells": [
  {
   "cell_type": "markdown",
   "id": "d138a87a-73af-4617-b8a7-1774fcc21ab3",
   "metadata": {},
   "source": [
    "# Pandas Assignment "
   ]
  },
  {
   "cell_type": "markdown",
   "id": "d4a91ea9-b939-4e97-a146-ce139b50ef3a",
   "metadata": {},
   "source": [
    "Q1. Create a Pandas Series that contains the following data: 4, 8, 15, 16, 23, and 42. Then, print the series."
   ]
  },
  {
   "cell_type": "code",
   "execution_count": 5,
   "id": "fb904811-78ac-4d00-8f1b-42e7de5f8d1f",
   "metadata": {},
   "outputs": [],
   "source": [
    "import pandas as pd"
   ]
  },
  {
   "cell_type": "code",
   "execution_count": 3,
   "id": "2a1a8bee-7de1-45cc-8f9c-fab1c3f0c0f0",
   "metadata": {},
   "outputs": [],
   "source": [
    "table = pd.DataFrame({'score':[4, 8, 15, 16, 23, 42]})"
   ]
  },
  {
   "cell_type": "code",
   "execution_count": 4,
   "id": "a7f81ad7-596e-4e0b-ad9c-c676233b2dd3",
   "metadata": {},
   "outputs": [
    {
     "data": {
      "text/html": [
       "<div>\n",
       "<style scoped>\n",
       "    .dataframe tbody tr th:only-of-type {\n",
       "        vertical-align: middle;\n",
       "    }\n",
       "\n",
       "    .dataframe tbody tr th {\n",
       "        vertical-align: top;\n",
       "    }\n",
       "\n",
       "    .dataframe thead th {\n",
       "        text-align: right;\n",
       "    }\n",
       "</style>\n",
       "<table border=\"1\" class=\"dataframe\">\n",
       "  <thead>\n",
       "    <tr style=\"text-align: right;\">\n",
       "      <th></th>\n",
       "      <th>score</th>\n",
       "    </tr>\n",
       "  </thead>\n",
       "  <tbody>\n",
       "    <tr>\n",
       "      <th>0</th>\n",
       "      <td>4</td>\n",
       "    </tr>\n",
       "    <tr>\n",
       "      <th>1</th>\n",
       "      <td>8</td>\n",
       "    </tr>\n",
       "    <tr>\n",
       "      <th>2</th>\n",
       "      <td>15</td>\n",
       "    </tr>\n",
       "    <tr>\n",
       "      <th>3</th>\n",
       "      <td>16</td>\n",
       "    </tr>\n",
       "    <tr>\n",
       "      <th>4</th>\n",
       "      <td>23</td>\n",
       "    </tr>\n",
       "    <tr>\n",
       "      <th>5</th>\n",
       "      <td>42</td>\n",
       "    </tr>\n",
       "  </tbody>\n",
       "</table>\n",
       "</div>"
      ],
      "text/plain": [
       "   score\n",
       "0      4\n",
       "1      8\n",
       "2     15\n",
       "3     16\n",
       "4     23\n",
       "5     42"
      ]
     },
     "execution_count": 4,
     "metadata": {},
     "output_type": "execute_result"
    }
   ],
   "source": [
    "table"
   ]
  },
  {
   "cell_type": "markdown",
   "id": "827ff361-2cd9-4f4b-8d27-ba7f1a136f67",
   "metadata": {},
   "source": [
    "Q2. Create a variable of list type containing 10 elements in it, and apply pandas.Series function on the\n",
    "variable print it."
   ]
  },
  {
   "cell_type": "code",
   "execution_count": 6,
   "id": "4e3e9526-ba36-4f09-bb77-1d583c0c63e1",
   "metadata": {},
   "outputs": [],
   "source": [
    "data = [1,4,6,7,6,9,11,13,15,18]"
   ]
  },
  {
   "cell_type": "code",
   "execution_count": 8,
   "id": "ba007f95-2939-4faa-9e0e-540ac992b14e",
   "metadata": {},
   "outputs": [],
   "source": [
    "series_data = pd.Series(data)"
   ]
  },
  {
   "cell_type": "code",
   "execution_count": 9,
   "id": "7d94c47f-2ded-4fa1-9d63-ebe0e7e60b0e",
   "metadata": {},
   "outputs": [
    {
     "data": {
      "text/plain": [
       "0     1\n",
       "1     4\n",
       "2     6\n",
       "3     7\n",
       "4     6\n",
       "5     9\n",
       "6    11\n",
       "7    13\n",
       "8    15\n",
       "9    18\n",
       "dtype: int64"
      ]
     },
     "execution_count": 9,
     "metadata": {},
     "output_type": "execute_result"
    }
   ],
   "source": [
    "series_data"
   ]
  },
  {
   "cell_type": "markdown",
   "id": "71d09986-ebcc-4201-8b6f-bbd33b74125a",
   "metadata": {},
   "source": [
    "Q3. Create a Pandas DataFrame that contains the following data:"
   ]
  },
  {
   "cell_type": "raw",
   "id": "a5635729-2503-49af-bbc9-549cce037e7e",
   "metadata": {},
   "source": [
    "Name\n",
    "Alice\n",
    "Bob\n",
    "Claire\n",
    "\n",
    "Age\n",
    "25\n",
    "30\n",
    "27\n",
    "\n",
    "Gender\n",
    "Female\n",
    "Male\n",
    "Female"
   ]
  },
  {
   "cell_type": "code",
   "execution_count": 10,
   "id": "d61144b1-1abe-4c2b-ba0a-8a2b2a55a4f2",
   "metadata": {},
   "outputs": [],
   "source": [
    "Student = pd.DataFrame({\n",
    "    'Name':['Alice','Bob','Claire'],\n",
    "    'Age':[25,30,27],\n",
    "    'Gender':['Female','Male','Female']\n",
    "})"
   ]
  },
  {
   "cell_type": "code",
   "execution_count": 11,
   "id": "11d0c4ae-a0eb-411d-ae22-22a633ead5d3",
   "metadata": {},
   "outputs": [
    {
     "data": {
      "text/html": [
       "<div>\n",
       "<style scoped>\n",
       "    .dataframe tbody tr th:only-of-type {\n",
       "        vertical-align: middle;\n",
       "    }\n",
       "\n",
       "    .dataframe tbody tr th {\n",
       "        vertical-align: top;\n",
       "    }\n",
       "\n",
       "    .dataframe thead th {\n",
       "        text-align: right;\n",
       "    }\n",
       "</style>\n",
       "<table border=\"1\" class=\"dataframe\">\n",
       "  <thead>\n",
       "    <tr style=\"text-align: right;\">\n",
       "      <th></th>\n",
       "      <th>Name</th>\n",
       "      <th>Age</th>\n",
       "      <th>Gender</th>\n",
       "    </tr>\n",
       "  </thead>\n",
       "  <tbody>\n",
       "    <tr>\n",
       "      <th>0</th>\n",
       "      <td>Alice</td>\n",
       "      <td>25</td>\n",
       "      <td>Female</td>\n",
       "    </tr>\n",
       "    <tr>\n",
       "      <th>1</th>\n",
       "      <td>Bob</td>\n",
       "      <td>30</td>\n",
       "      <td>Male</td>\n",
       "    </tr>\n",
       "    <tr>\n",
       "      <th>2</th>\n",
       "      <td>Claire</td>\n",
       "      <td>27</td>\n",
       "      <td>Female</td>\n",
       "    </tr>\n",
       "  </tbody>\n",
       "</table>\n",
       "</div>"
      ],
      "text/plain": [
       "     Name  Age  Gender\n",
       "0   Alice   25  Female\n",
       "1     Bob   30    Male\n",
       "2  Claire   27  Female"
      ]
     },
     "execution_count": 11,
     "metadata": {},
     "output_type": "execute_result"
    }
   ],
   "source": [
    "Student"
   ]
  },
  {
   "cell_type": "markdown",
   "id": "a5275d75-1fff-49eb-b7d3-c01cc35d65c9",
   "metadata": {},
   "source": [
    "Q4. What is ‘DataFrame’ in pandas and how is it different from pandas.series? Explain with an example."
   ]
  },
  {
   "cell_type": "raw",
   "id": "76ee3a7d-b53f-4aa6-af10-571d169f9dff",
   "metadata": {},
   "source": [
    "DataFrame is simply a tabular form of data having rows and columns.\n",
    "\n",
    "On the other hand, series is a structure having data of a particular column within the table.\n",
    "\n",
    "Example: The 'Student' which I created in the previous question is a dataframe, but the data created in question2 is a series having values of a single/specific column"
   ]
  },
  {
   "cell_type": "markdown",
   "id": "7f619c34-a84c-46bb-bf29-e98fb101e590",
   "metadata": {},
   "source": [
    "Q5. What are some common functions you can use to manipulate data in a Pandas DataFrame? Can\n",
    "you give an example of when you might use one of these functions?"
   ]
  },
  {
   "cell_type": "raw",
   "id": "015b3a7b-c517-42d1-a44c-b46b2dc104db",
   "metadata": {},
   "source": [
    "There are a lots of functins we can use in pandas dataframe:\n",
    "    \n",
    "head() and tail(),\n",
    "\n",
    "describe() --- To analyze the statistical measures of numerical columns in dataframe\n",
    "\n",
    "count_values()\n",
    "\n",
    "drop(), dropna(), etc."
   ]
  },
  {
   "cell_type": "markdown",
   "id": "51f16a4d-3ed6-4555-9ee1-18d9be542285",
   "metadata": {},
   "source": [
    "Q6. Which of the following is mutable in nature Series, DataFrame, Panel?"
   ]
  },
  {
   "cell_type": "code",
   "execution_count": 18,
   "id": "c73a114b-3b77-4d66-8dab-d1c81aab05c3",
   "metadata": {},
   "outputs": [
    {
     "data": {
      "text/plain": [
       "11"
      ]
     },
     "execution_count": 18,
     "metadata": {},
     "output_type": "execute_result"
    }
   ],
   "source": [
    "series_data[6]"
   ]
  },
  {
   "cell_type": "code",
   "execution_count": 19,
   "id": "542f40db-1765-46b4-85bb-8f6198595940",
   "metadata": {},
   "outputs": [],
   "source": [
    "series_data[6] = 20"
   ]
  },
  {
   "cell_type": "code",
   "execution_count": 20,
   "id": "507a2a24-31f2-4400-8a3a-b87e5f3fef48",
   "metadata": {},
   "outputs": [
    {
     "data": {
      "text/plain": [
       "0     1\n",
       "1     4\n",
       "2     6\n",
       "3     7\n",
       "4     6\n",
       "5     9\n",
       "6    20\n",
       "7    13\n",
       "8    15\n",
       "9    18\n",
       "dtype: int64"
      ]
     },
     "execution_count": 20,
     "metadata": {},
     "output_type": "execute_result"
    }
   ],
   "source": [
    "series_data"
   ]
  },
  {
   "cell_type": "raw",
   "id": "34785aba-edae-4c91-91ba-539c758873cb",
   "metadata": {},
   "source": [
    "In python, Series and Dataframe are mutable while Panel is non-mutable..."
   ]
  },
  {
   "cell_type": "markdown",
   "id": "3240592f-b3b3-4def-85b7-1011cd798d5d",
   "metadata": {},
   "source": [
    "Q7. Create a DataFrame using multiple Series. Explain with an example."
   ]
  },
  {
   "cell_type": "code",
   "execution_count": 21,
   "id": "0096ff8b-3ded-440d-ad5e-fd2e586de1d9",
   "metadata": {},
   "outputs": [],
   "source": [
    "maths = [23,53,61,42,25]\n",
    "english = [44,76,53,82,52]\n",
    "science = [45,86,74,71,59]"
   ]
  },
  {
   "cell_type": "code",
   "execution_count": 22,
   "id": "e3ab791e-3427-45c2-9ffd-eec9ddc8da1c",
   "metadata": {},
   "outputs": [],
   "source": [
    "S1 = pd.Series(maths)\n",
    "S2 = pd.Series(english)\n",
    "S3 = pd.Series(science)"
   ]
  },
  {
   "cell_type": "code",
   "execution_count": 25,
   "id": "730f0252-3134-43c0-aa47-e372c9a23d8a",
   "metadata": {},
   "outputs": [],
   "source": [
    "Record = pd.DataFrame({\n",
    "    'Marks1':S1,\n",
    "    'Marks2':S2,\n",
    "    'Marks3':S3\n",
    "})"
   ]
  },
  {
   "cell_type": "code",
   "execution_count": 26,
   "id": "a9ebb88d-bd1e-4a33-a88f-6b318bd4ec77",
   "metadata": {},
   "outputs": [
    {
     "data": {
      "text/html": [
       "<div>\n",
       "<style scoped>\n",
       "    .dataframe tbody tr th:only-of-type {\n",
       "        vertical-align: middle;\n",
       "    }\n",
       "\n",
       "    .dataframe tbody tr th {\n",
       "        vertical-align: top;\n",
       "    }\n",
       "\n",
       "    .dataframe thead th {\n",
       "        text-align: right;\n",
       "    }\n",
       "</style>\n",
       "<table border=\"1\" class=\"dataframe\">\n",
       "  <thead>\n",
       "    <tr style=\"text-align: right;\">\n",
       "      <th></th>\n",
       "      <th>Marks1</th>\n",
       "      <th>Marks2</th>\n",
       "      <th>Marks3</th>\n",
       "    </tr>\n",
       "  </thead>\n",
       "  <tbody>\n",
       "    <tr>\n",
       "      <th>0</th>\n",
       "      <td>23</td>\n",
       "      <td>44</td>\n",
       "      <td>45</td>\n",
       "    </tr>\n",
       "    <tr>\n",
       "      <th>1</th>\n",
       "      <td>53</td>\n",
       "      <td>76</td>\n",
       "      <td>86</td>\n",
       "    </tr>\n",
       "    <tr>\n",
       "      <th>2</th>\n",
       "      <td>61</td>\n",
       "      <td>53</td>\n",
       "      <td>74</td>\n",
       "    </tr>\n",
       "    <tr>\n",
       "      <th>3</th>\n",
       "      <td>42</td>\n",
       "      <td>82</td>\n",
       "      <td>71</td>\n",
       "    </tr>\n",
       "    <tr>\n",
       "      <th>4</th>\n",
       "      <td>25</td>\n",
       "      <td>52</td>\n",
       "      <td>59</td>\n",
       "    </tr>\n",
       "  </tbody>\n",
       "</table>\n",
       "</div>"
      ],
      "text/plain": [
       "   Marks1  Marks2  Marks3\n",
       "0      23      44      45\n",
       "1      53      76      86\n",
       "2      61      53      74\n",
       "3      42      82      71\n",
       "4      25      52      59"
      ]
     },
     "execution_count": 26,
     "metadata": {},
     "output_type": "execute_result"
    }
   ],
   "source": [
    "Record"
   ]
  },
  {
   "cell_type": "code",
   "execution_count": null,
   "id": "a5522886-5bf0-4799-97be-a3d613c639ed",
   "metadata": {},
   "outputs": [],
   "source": []
  }
 ],
 "metadata": {
  "kernelspec": {
   "display_name": "Python 3 (ipykernel)",
   "language": "python",
   "name": "python3"
  },
  "language_info": {
   "codemirror_mode": {
    "name": "ipython",
    "version": 3
   },
   "file_extension": ".py",
   "mimetype": "text/x-python",
   "name": "python",
   "nbconvert_exporter": "python",
   "pygments_lexer": "ipython3",
   "version": "3.10.8"
  }
 },
 "nbformat": 4,
 "nbformat_minor": 5
}
