{
 "cells": [
  {
   "cell_type": "markdown",
   "id": "2c655a2e-4dc7-47e8-b52b-d9fd2407038b",
   "metadata": {},
   "source": [
    "# Statistics Advance-7"
   ]
  },
  {
   "cell_type": "markdown",
   "id": "ee8cafb8-d362-4037-896e-eb466502ad6b",
   "metadata": {},
   "source": [
    "Q1. Write a Python function that takes in two arrays of data and calculates the F-value for a variance ratio test. The function should return the F-value and the corresponding p-value for the test."
   ]
  },
  {
   "cell_type": "code",
   "execution_count": 1,
   "id": "fbc9b0b5-a84f-4c90-9c24-f51e9c5929e5",
   "metadata": {},
   "outputs": [],
   "source": [
    "import numpy as np\n",
    "from scipy.stats import f\n",
    "\n",
    "def f_value(data1, data2):\n",
    "    var1 = np.var(data1, ddof=1)\n",
    "    var2 = np.var(data2, ddof=1)\n",
    "    \n",
    "    f_value = var1 / var2 if var1 > var2 else var2 / var1\n",
    "\n",
    "    df1 = len(data1) - 1\n",
    "    df2 = len(data2) - 1\n",
    "\n",
    "    p_value = 1 - f.cdf(f_value, df1, df2)\n",
    "\n",
    "    return f_value, p_value"
   ]
  },
  {
   "cell_type": "code",
   "execution_count": 2,
   "id": "0a81d540-e634-49b5-9839-b96bb3961415",
   "metadata": {},
   "outputs": [
    {
     "name": "stdout",
     "output_type": "stream",
     "text": [
      "F-value: 4.0\n",
      "p-value: 0.10399999999999998\n"
     ]
    }
   ],
   "source": [
    "array1 = np.array([1, 2, 3, 4, 5])\n",
    "array2 = np.array([2, 4, 6, 8, 10])\n",
    "f_value, p_value = f_value(array1, array2)\n",
    "print(\"F-value:\", f_value)\n",
    "print(\"p-value:\", p_value)"
   ]
  },
  {
   "cell_type": "markdown",
   "id": "53775441-8767-407b-a44a-f8596cbbbf4b",
   "metadata": {},
   "source": [
    "Q2. Given a significance level of 0.05 and the degrees of freedom for the numerator and denominator of an F-distribution, write a Python function that returns the critical F-value for a two-tailed test."
   ]
  },
  {
   "cell_type": "code",
   "execution_count": 3,
   "id": "bf8baa27-3e15-49ca-bf8b-c10ce0d8d47e",
   "metadata": {},
   "outputs": [],
   "source": [
    "from scipy.stats import f\n",
    "\n",
    "def crit_f_value(alpha, dfnum, dfden):\n",
    "    critical_f_value = f.ppf(1 - alpha/2, dfnum, dfden)\n",
    "    return critical_f_value"
   ]
  },
  {
   "cell_type": "code",
   "execution_count": 4,
   "id": "be2f100a-683c-44b7-ac35-ba0b481570ea",
   "metadata": {},
   "outputs": [
    {
     "name": "stdout",
     "output_type": "stream",
     "text": [
      "Critical F-value: 4.825621493405406\n"
     ]
    }
   ],
   "source": [
    "alpha = 0.05\n",
    "dfn = 3\n",
    "dfd = 10\n",
    "critical_f = crit_f_value(alpha, dfn, dfd)\n",
    "print(\"Critical F-value:\", critical_f)"
   ]
  },
  {
   "cell_type": "markdown",
   "id": "fb7ae115-c90a-4bf4-81d5-07c2ac280e49",
   "metadata": {},
   "source": [
    "Q3. Write a Python program that generates random samples from two normal distributions with known variances and uses an F-test to determine if the variances are equal. The program should output the F-value, degrees of freedom, and p-value for the test."
   ]
  },
  {
   "cell_type": "code",
   "execution_count": 5,
   "id": "f4bf88ec-645e-44dc-a74e-9887969e80a4",
   "metadata": {},
   "outputs": [],
   "source": [
    "import numpy as np\n",
    "from scipy.stats import f\n",
    "\n",
    "def equal_var(set1, set2):\n",
    "    var1 = np.var(set1, ddof=1)\n",
    "    var2 = np.var(set2, ddof=1)\n",
    "\n",
    "    dfnum = len(set1) - 1\n",
    "    dfden = len(set2) - 1\n",
    "\n",
    "    f_value = var1 / var2 if var1 > var2 else var2 / var1\n",
    "\n",
    "    p_value = 1 - f.cdf(f_value, dfnum, dfden)\n",
    "\n",
    "    return f_value, dfnum, dfden, p_value"
   ]
  },
  {
   "cell_type": "code",
   "execution_count": 6,
   "id": "ecb6da71-5900-48ee-863d-575677b8bb5a",
   "metadata": {},
   "outputs": [
    {
     "name": "stdout",
     "output_type": "stream",
     "text": [
      "F-value: 1.0702949631678575\n",
      "Degrees of freedom (numerator): 29\n",
      "Degrees of freedom (denominator): 29\n",
      "p-value: 0.42805366689208624\n"
     ]
    }
   ],
   "source": [
    "np.random.seed(42)\n",
    "S1 = np.random.normal(loc=0, scale=1, size=30)\n",
    "S2 = np.random.normal(loc=0, scale=1, size=30)\n",
    "\n",
    "f_value, dfn, dfd, p_value = equal_var(S1, S2)\n",
    "\n",
    "print(\"F-value:\", f_value)\n",
    "print(\"Degrees of freedom (numerator):\", dfn)\n",
    "print(\"Degrees of freedom (denominator):\", dfd)\n",
    "print(\"p-value:\", p_value)"
   ]
  },
  {
   "cell_type": "markdown",
   "id": "05c722a1-d1f6-45c7-8064-c9f0db3e0c7c",
   "metadata": {},
   "source": [
    "Q4.The variances of two populations are known to be 10 and 15. A sample of 12 observations is taken from each population. Conduct an F-test at the 5% significance level to determine if the variances are significantly different."
   ]
  },
  {
   "cell_type": "code",
   "execution_count": 9,
   "id": "e5f38fd1-9b21-4e96-8550-72f74073e555",
   "metadata": {},
   "outputs": [],
   "source": [
    "# Null Hypothesis: Variances are equal\n",
    "\n",
    "#Alternative Hypothesis: Variances are not equal\n",
    "\n",
    "from scipy.stats import f"
   ]
  },
  {
   "cell_type": "code",
   "execution_count": 11,
   "id": "40c233b7-7412-44c0-84bc-f1d26468f2bc",
   "metadata": {},
   "outputs": [
    {
     "name": "stdout",
     "output_type": "stream",
     "text": [
      "Failed to reject the null hypo\n"
     ]
    }
   ],
   "source": [
    "alpha = 0.05\n",
    "var1 = 10\n",
    "var2 = 15\n",
    "sample1 = 12\n",
    "sample2 = 12\n",
    "\n",
    "f_value = var1 / var2\n",
    "\n",
    "dfn = sample1 - 1\n",
    "dfd = sample2 - 1\n",
    "\n",
    "crit_value = f.ppf(1 - alpha/2, dfn, dfd)\n",
    "\n",
    "if f_value > crit_value:\n",
    "    print(\"Reject the null hypo\")\n",
    "else:\n",
    "    print(\"Failed to reject the null hypo\")"
   ]
  },
  {
   "cell_type": "markdown",
   "id": "e11ffc25-820a-4d00-b371-dbd6a787847b",
   "metadata": {},
   "source": [
    "Q5. A manufacturer claims that the variance of the diameter of a certain product is 0.005. A sample of 25 products is taken, and the sample variance is found to be 0.006. Conduct an F-test at the 1% significance level to determine if the claim is justified."
   ]
  },
  {
   "cell_type": "code",
   "execution_count": 12,
   "id": "cbba0a35-b6be-4eeb-82ae-61825dd7e5bd",
   "metadata": {},
   "outputs": [],
   "source": [
    "# Null Hypothesis: The variance of diameter of product is 0.005\n",
    "\n",
    "#Alternative Hypothesis: The variance of diameter of product is not 0.005"
   ]
  },
  {
   "cell_type": "code",
   "execution_count": 14,
   "id": "0c851962-d22b-4266-a3d5-5498efb18c5c",
   "metadata": {},
   "outputs": [
    {
     "name": "stdout",
     "output_type": "stream",
     "text": [
      "Fail to reject the null hypo\n"
     ]
    }
   ],
   "source": [
    "sample_size = 25\n",
    "sample_var = 0.006\n",
    "claimed_var = 0.005\n",
    "sig_level = 0.01\n",
    "\n",
    "f_val = sample_var/claimed_var\n",
    "\n",
    "dfn = sample_size - 1\n",
    "dfd = sample_size - 1\n",
    "\n",
    "critical_value = f.ppf(1 - sig_level/2, dfn, dfd)\n",
    "\n",
    "if f_val > critical_value or f_val < 1 / critical_value:\n",
    "    print(\"Reject the null hypo\")\n",
    "else:\n",
    "    print(\"Fail to reject the null hypo\")"
   ]
  },
  {
   "cell_type": "markdown",
   "id": "a3601e67-4db0-49fe-a8df-bd9a3e062efd",
   "metadata": {},
   "source": [
    "Q6. Write a Python function that takes in the degrees of freedom for the numerator and denominator of an F-distribution and calculates the mean and variance of the distribution. The function should return the mean and variance as a tuple."
   ]
  },
  {
   "cell_type": "code",
   "execution_count": 15,
   "id": "089cf054-d30c-47be-ac02-a0cd8fb1f33a",
   "metadata": {},
   "outputs": [],
   "source": [
    "def combine(dfnum, dfden):\n",
    "    if dfden > 2:\n",
    "        mean = dfden / (dfden - 2)\n",
    "    else:\n",
    "        mean = float('inf')\n",
    "\n",
    "    if dfden > 4:\n",
    "        var = (2 * (dfden ** 2) * (dfnum + dfden - 2)) / (dfnum * (dfden - 2) ** 2 * (dfden - 4))\n",
    "    else:\n",
    "        var = float('inf')\n",
    "\n",
    "    return mean, var"
   ]
  },
  {
   "cell_type": "code",
   "execution_count": 17,
   "id": "cc0c16ed-c967-46ec-82d3-d5f3fb14f904",
   "metadata": {},
   "outputs": [
    {
     "name": "stdout",
     "output_type": "stream",
     "text": [
      "Mean of F-distribution: 1.25\n",
      "Variance of F-distribution: 1.9097222222222223\n"
     ]
    }
   ],
   "source": [
    "d1 = 3\n",
    "d2 = 10\n",
    "mean_value, var = combine(d1,d2)\n",
    "print(\"Mean of F-distribution:\", mean_value)\n",
    "print(\"Variance of F-distribution:\", var)"
   ]
  },
  {
   "cell_type": "markdown",
   "id": "91c58e67-6955-45a8-8c29-bb6b056e7137",
   "metadata": {},
   "source": [
    "Q7. A random sample of 10 measurements is taken from a normal population with unknown variance. The sample variance is found to be 25. Another random sample of 15 measurements is taken from another normal population with unknown variance, and the sample variance is found to be 20. Conduct an F-test at the 10% significance level to determine if the variances are significantly different."
   ]
  },
  {
   "cell_type": "code",
   "execution_count": 20,
   "id": "daf93d6d-5344-4725-8ca8-cc191f2cc23f",
   "metadata": {},
   "outputs": [],
   "source": [
    "# Null hypo: Variances are significantly different\n",
    "\n",
    "# Alt hypo: Variances are not significantly different"
   ]
  },
  {
   "cell_type": "code",
   "execution_count": 22,
   "id": "c9e34dc1-bd39-481c-adc2-a4b17bda69c8",
   "metadata": {},
   "outputs": [
    {
     "name": "stdout",
     "output_type": "stream",
     "text": [
      "Fail to reject the null hypo\n"
     ]
    }
   ],
   "source": [
    "from scipy.stats import f\n",
    "\n",
    "n1 = 10\n",
    "var1 = 25\n",
    "\n",
    "n2 = 15\n",
    "var2 = 20\n",
    "\n",
    "sig = 0.1\n",
    "\n",
    "f_value = var1 / var2\n",
    "\n",
    "dfn = n1 - 1\n",
    "dfd = n2 - 1\n",
    "\n",
    "crit_val = f.ppf(1 - sig/2, dfn, dfd)\n",
    "\n",
    "if f_value > crit_val:\n",
    "    print(\"Reject the null hypo\")\n",
    "else:\n",
    "    print(\"Fail to reject the null hypo\")"
   ]
  },
  {
   "cell_type": "markdown",
   "id": "15a75433-2e34-4293-bc7a-12b019fa5856",
   "metadata": {},
   "source": [
    "Q8. The following data represent the waiting times in minutes at two different restaurants on a Saturday night: Restaurant A: 24, 25, 28, 23, 22, 20, 27; Restaurant B: 31, 33, 35, 30, 32, 36. Conduct an F-test at the 5% significance level to determine if the variances are significantly different."
   ]
  },
  {
   "cell_type": "code",
   "execution_count": 31,
   "id": "df27a403-f25b-4db8-b0be-d354fdef008b",
   "metadata": {},
   "outputs": [],
   "source": [
    "# Null hypo: Variances are significantly different\n",
    "\n",
    "# Alt hypo: Variances are not significantly different"
   ]
  },
  {
   "cell_type": "code",
   "execution_count": 30,
   "id": "8b2d6f94-f2d0-46d9-9a02-9068a6931232",
   "metadata": {},
   "outputs": [
    {
     "name": "stdout",
     "output_type": "stream",
     "text": [
      "Fail to reject null hypo\n"
     ]
    }
   ],
   "source": [
    "import numpy as np\n",
    "from scipy.stats import f\n",
    "\n",
    "restro1 = np.array([24, 25, 28, 23, 22, 20, 27])\n",
    "restro2 = np.array([31, 33, 35, 30, 32, 36])\n",
    "\n",
    "\n",
    "var1 = np.var(restro1, ddof=1)\n",
    "var2 = np.var(restro2, ddof=1)\n",
    "\n",
    "f_test = var1 / var2\n",
    "\n",
    "dfn = len(restro1) - 1\n",
    "dfd = len(restro2) - 1\n",
    "\n",
    "alpha = 0.05\n",
    "\n",
    "critical_val = f.ppf(1 - alpha/2, dfn, dfd)\n",
    "\n",
    "if f_test > critical_val:\n",
    "    print(\"Reject the null hypo\")\n",
    "else:\n",
    "    print(\"Fail to reject null hypo\")"
   ]
  },
  {
   "cell_type": "markdown",
   "id": "64d0d00f-38ab-4677-8646-e3acdeae21bf",
   "metadata": {},
   "source": [
    "Q9. The following data represent the test scores of two groups of students: Group A: 80, 85, 90, 92, 87, 83; Group B: 75, 78, 82, 79, 81, 84. Conduct an F-test at the 1% significance level to determine if the variances are significantly different."
   ]
  },
  {
   "cell_type": "code",
   "execution_count": 32,
   "id": "7fc656de-9827-498f-83e5-2815bf235306",
   "metadata": {},
   "outputs": [],
   "source": [
    "# Null hypo: Variances are significantly different\n",
    "\n",
    "# Alt hypo: Variances are not significantly different"
   ]
  },
  {
   "cell_type": "code",
   "execution_count": 33,
   "id": "1e84b3d0-a920-45fd-bf15-eaf34f68dccc",
   "metadata": {},
   "outputs": [
    {
     "name": "stdout",
     "output_type": "stream",
     "text": [
      "Fail to reject the null hypo\n"
     ]
    }
   ],
   "source": [
    "import numpy as np\n",
    "from scipy.stats import f\n",
    "\n",
    "groupA = np.array([80, 85, 90, 92, 87, 83])\n",
    "groupB = np.array([ 75, 78, 82, 79, 81, 84])\n",
    "\n",
    "varA = np.var(groupA, ddof=1)\n",
    "varB = np.var(groupB, ddof=1)\n",
    "\n",
    "f_val = varA/varB\n",
    "\n",
    "dfn = len(groupA) - 1\n",
    "dfd = len(groupB) - 1\n",
    "\n",
    "alpha = 0.01\n",
    "\n",
    "critical_point = f.ppf(1 - alpha/2, dfn, dfd)\n",
    "\n",
    "# Compare F-statistic with critical F-value\n",
    "if f_val > critical_point:\n",
    "    print(\"Reject the null hypo\")\n",
    "else:\n",
    "    print(\"Fail to reject the null hypo\")"
   ]
  },
  {
   "cell_type": "code",
   "execution_count": null,
   "id": "f4f9874c-156e-4b65-9968-418c8d1a29e0",
   "metadata": {},
   "outputs": [],
   "source": []
  }
 ],
 "metadata": {
  "kernelspec": {
   "display_name": "Python 3 (ipykernel)",
   "language": "python",
   "name": "python3"
  },
  "language_info": {
   "codemirror_mode": {
    "name": "ipython",
    "version": 3
   },
   "file_extension": ".py",
   "mimetype": "text/x-python",
   "name": "python",
   "nbconvert_exporter": "python",
   "pygments_lexer": "ipython3",
   "version": "3.10.8"
  }
 },
 "nbformat": 4,
 "nbformat_minor": 5
}
