{
 "cells": [
  {
   "cell_type": "markdown",
   "id": "eaab98d4-5b34-484b-83fa-c7ea9da1dd18",
   "metadata": {},
   "source": [
    "Q1. What are the different types of clustering algorithms, and how do they differ in terms of their approach and underlying assumptions?"
   ]
  },
  {
   "cell_type": "raw",
   "id": "188367c9-cb25-4a88-97e6-8756403df6b8",
   "metadata": {},
   "source": [
    "Hierarchial Clustering:\n",
    "    \n",
    "    Hierarchical clustering is a connectivity-based clustering model that groups data points together which are are close to each other based on their similarity or distance. The assumption is that all the data points close to each other are more similar or related than data points that are farther apart.\n",
    "    \n",
    "K means clustering:\n",
    "    \n",
    "    This algorithm assigns data points to one of the K clusters depending on their distance from the center of the clusters. It starts by randomly assigning the clusters centroid in the space.\n",
    "    Then each data point is assigned to one of the cluster based on its distance from centroid of the cluster. After this, new cluster centroids are assigned. This process runs iteratively until it finds good cluster.\n",
    "    \n",
    "Centroid-based clustering:\n",
    "\n",
    "    This is another ML technique which focuses on partitioning a dataset into groups of similar data points, known as clusters. This technique uses centroids(center of each cluster) to minimize the sum of the distances between the data points and their respective parent cluster centroids. K means is a widely used centroid-based clustering algorithm."
   ]
  },
  {
   "cell_type": "markdown",
   "id": "6ad4d4c0-4e1e-4724-abbb-c9504ee49083",
   "metadata": {},
   "source": [
    "Q2.What is K-means clustering, and how does it work?"
   ]
  },
  {
   "cell_type": "raw",
   "id": "d65f9aac-e9bb-4f18-bf4c-e5011fb061e8",
   "metadata": {},
   "source": [
    "The goal of K Means clustering is to divide the dataset points into a number of groups so that the data points within each group are more comparable to one another and different from the data points within the other groups. It is essentially a grouping of things based on how similar and different they are to one another. \n",
    "\n",
    "The algorithm works as follows:  \n",
    "\n",
    "1. Initially, we randomly initialize k points, called means or cluster centroids.\n",
    "\n",
    "2. We categorize each item to its closest mean and then we update the mean coordinates, which are the averages of the items categorized in that cluster so far.\n",
    "\n",
    "3. We repeat the process for a given number of iterations and at the end we have our clusters."
   ]
  },
  {
   "cell_type": "code",
   "execution_count": 6,
   "id": "f9a1b767-80de-494c-a046-c0f44f7834f7",
   "metadata": {},
   "outputs": [
    {
     "data": {
      "image/png": "[encoded data removed]",
      "text/plain": [
       "<Figure size 640x480 with 1 Axes>"
      ]
     },
     "metadata": {},
     "output_type": "display_data"
    }
   ],
   "source": [
    "# Example:\n",
    "    \n",
    "import numpy as np\n",
    "import matplotlib.pyplot as plt\n",
    "from sklearn.datasets import make_blobs \n",
    "\n",
    "X,y = make_blobs(n_samples = 1500,n_features = 3,centers = 2,random_state = 42)\n",
    "fig = plt.figure(0)\n",
    "plt.grid(True)\n",
    "plt.scatter(X[:,0],X[:,1])\n",
    "plt.show()"
   ]
  },
  {
   "cell_type": "markdown",
   "id": "8928d200-0fc8-45fa-8fd5-fd852a694cde",
   "metadata": {},
   "source": [
    "Q3. What are some advantages and limitations of K-means clustering compared to other clustering techniques?"
   ]
  },
  {
   "cell_type": "raw",
   "id": "67bc0902-ae77-4e53-b02f-f4f4b2bfc9f8",
   "metadata": {},
   "source": [
    "Advatanges:\n",
    "    \n",
    "    1. This algorithm is easy to understand and implement.\n",
    "    \n",
    "    2. It is efficient, robust, and flexible.\n",
    "    \n",
    "    3. If data sets are distinct and spherical clusters, then we get best results.\n",
    "    \n",
    "Disadvantages:\n",
    "    \n",
    "    1. This algorithm needs prior specification for the number of cluster centers i.e value of K.\n",
    "    \n",
    "    2. It might not perform well with very large dataset due to huge computational time."
   ]
  },
  {
   "cell_type": "markdown",
   "id": "73677871-df90-4527-899b-a5ac39315463",
   "metadata": {},
   "source": [
    "Q4. How do you determine the optimal number of clusters in K-means clustering, and what are some common methods for doing so?"
   ]
  },
  {
   "cell_type": "raw",
   "id": "55c7960c-d735-4954-a394-4047c72e5897",
   "metadata": {},
   "source": [
    "1. Elbow Mthod: \n",
    "\n",
    "In this method, we plot a graph between Within Cluster Sum of Squares and value of K. If we observe this plot, we see a reduce in the distribution. At the same time, we observe a point from where the graph bends all of a sudden. At the point, we check the corresponding value of K. This gives an optimal value.\n",
    "\n",
    "2. Silhouette score for different k values:\n",
    "\n",
    "The silhouette score measures how similar an object is to its own cluster compared to other clusters. It ranges from -1 to 1 with higher values indicating better clustering.\n",
    "At the end, we select that value of K which maximizes the silhouette score.\n",
    "\n",
    "3. Gap Statistics:\n",
    "\n",
    "This method compares WCSS of the clustering algorithm to a reference distribution generated by random data. And then, we calculate the gap statistic for different K values and choose the best value of K."
   ]
  },
  {
   "cell_type": "markdown",
   "id": "a968828b-fc81-4786-9001-559d352c798c",
   "metadata": {},
   "source": [
    "Q5. What are some applications of K-means clustering in real-world scenarios, and how has it been used to solve specific problems?"
   ]
  },
  {
   "cell_type": "raw",
   "id": "5b2f716e-9520-4cdb-821b-fe0266dac49f",
   "metadata": {},
   "source": [
    "1. Retail business uses K-means clustering to segregate the customers on the basis of their purchasing behavior, demographics, or preferences. This helps a business to achieve targeted marketing, personalized recommendations, and optimizing product offerings.\n",
    "\n",
    "2. K-means clustering can be used in recommendation systems where our aim is to group the users or items based on their similarities among characteristics. This helps in content-based recommendation and improving the accuracy of recommendations in e-commerce platforms or streaming services.\n",
    "\n",
    "3. This is also useful in medical imaging for identifying tumors, satellite imagery for land cover classification, and in video processing for object tracking.\n",
    "\n",
    "4. K-means clustering can be applied to detect anomalies or outliers in data by simply clustering normal data points and then any data points that do not fit well into any of the cluster will be marked as anomalies."
   ]
  },
  {
   "cell_type": "markdown",
   "id": "75f9c8df-a4e5-4151-ad56-ba5835c42da8",
   "metadata": {},
   "source": [
    "Q6. How do you interpret the output of a K-means clustering algorithm, and what insights can you derive from the resulting clusters?"
   ]
  },
  {
   "cell_type": "raw",
   "id": "060993c6-3069-4d29-89d7-166f9ad5f6f4",
   "metadata": {},
   "source": [
    "The output of K-Means include cluster centers, which represent the mean or centroid of each cluster.\n",
    "\n",
    "Interpretation:\n",
    "\n",
    "We compare the values of each feature in the cluster centers to understand the attributes or behaviors associated with each cluster.\n",
    "\n",
    "Also, we analyze the distribution of data points across clusters to understand how the data is segregated and which data points are grouped together based on similarities.\n",
    "\n",
    "Larger clusters will indicate more common patterns while small clusters will show outliers or distinct subgroups.\n",
    "\n",
    "If the clusters are well-separated, we can conclude there is clear distinctions between different groups of data points. On the other hand, if we get overlapping clusters we might achieve similarities or ambiguity in the data.\n",
    "\n",
    "Insights:\n",
    "\n",
    "1. We can discover patterns, trends, or recurring themes in the data that are captured by different clusters.\n",
    "\n",
    "2. Identification of outliers or anomalies can be done by observing the output and then we can remove those outliers to make our model more accurate."
   ]
  },
  {
   "cell_type": "markdown",
   "id": "60a3206e-3007-4b52-9723-293958739dcc",
   "metadata": {},
   "source": [
    "Q7. What are some common challenges in implementing K-means clustering, and how can you address them?"
   ]
  },
  {
   "cell_type": "raw",
   "id": "827fd501-9b6d-4a4c-9fbd-42ab389eb9e1",
   "metadata": {},
   "source": [
    "1. K-means clustering is sensitive to the initial placement of centroids, which can result in suboptimal solutions or convergence to local minima. Therefore, we have to decide where to place the intital centroids. To do so, we use techniques like K-means++ initialization which intelligently selects initial centroids to improve convergence and reduce sensitivity to initialization. \n",
    "\n",
    "2. Selecting the optimal number of clusters (K) in intial phase can be subjective and challenging as it might cause either underfitting or overfitting. To overcome this challenge, we can use methods like elbow method, silhouette score, or gap statistics. \n",
    "\n",
    "3. Presence of outliers in our data can seriously affect the clustering process by impacting the position of centroids and distorting cluster boundaries. To handle this problem, we can perform pre-processing techniques like outlier detection and removal or using robust clustering algorithms that are less sensitive to outliers, such as K-medoids (PAM) clustering."
   ]
  },
  {
   "cell_type": "code",
   "execution_count": null,
   "id": "e612e195-e132-4ebe-9aab-537c3a690eb3",
   "metadata": {},
   "outputs": [],
   "source": []
  }
 ],
 "metadata": {
  "kernelspec": {
   "display_name": "Python 3 (ipykernel)",
   "language": "python",
   "name": "python3"
  },
  "language_info": {
   "codemirror_mode": {
    "name": "ipython",
    "version": 3
   },
   "file_extension": ".py",
   "mimetype": "text/x-python",
   "name": "python",
   "nbconvert_exporter": "python",
   "pygments_lexer": "ipython3",
   "version": "3.10.8"
  }
 },
 "nbformat": 4,
 "nbformat_minor": 5
}
