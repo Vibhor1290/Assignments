{
 "cells": [
  {
   "cell_type": "markdown",
   "id": "3ec67623-7e39-4931-af58-39db7820cc75",
   "metadata": {},
   "source": [
    "Q1. What is the purpose of grid search cv in machine learning, and how does it work?"
   ]
  },
  {
   "cell_type": "raw",
   "id": "7c250dd4-a3c5-4307-972d-330f13deede0",
   "metadata": {},
   "source": [
    "Grid Search CV is a cross validation technique used to get the best from our model. This technique evaluates the model with all the possible available parameters that we can use and out of it, it provides us with the best combination of parameters that gives the highest accuarcy from the model."
   ]
  },
  {
   "cell_type": "code",
   "execution_count": 1,
   "id": "d3a3e276-bace-47d4-a7ed-6c1e345b3305",
   "metadata": {},
   "outputs": [],
   "source": [
    "# Lets see an example how it works"
   ]
  },
  {
   "cell_type": "markdown",
   "id": "9e08b8dc-589b-47d5-92d0-29f59d51482a",
   "metadata": {},
   "source": [
    "we will create a logistic regression model and then we will apply GridSearchCV to find the best parameters for the model."
   ]
  },
  {
   "cell_type": "code",
   "execution_count": 1,
   "id": "fefee753-523d-4a41-a867-57ca41531b6c",
   "metadata": {},
   "outputs": [],
   "source": [
    "import numpy as np\n",
    "from sklearn.model_selection import GridSearchCV\n",
    "from sklearn.linear_model import LogisticRegression\n",
    "from sklearn.datasets import load_iris\n",
    "from sklearn.model_selection import train_test_split\n",
    "import warnings\n",
    "warnings.filterwarnings('ignore')\n",
    "\n",
    "data = load_iris()\n",
    "X = data.data\n",
    "y = data.target\n",
    "\n",
    "X_train, X_test, y_train, y_test = train_test_split(X, y, test_size=0.2, random_state=42)\n",
    "\n",
    "param_grid = {\n",
    "    'penalty': ['l1', 'l2', 'elasticnet', 'none'],\n",
    "    'C': [1,2,5,8],\n",
    "    'solver': ['lbfgs', 'liblinear', 'saga'],\n",
    "    'max_iter': [100, 200, 300]\n",
    "}\n",
    "\n",
    "log_reg = LogisticRegression()\n",
    "\n",
    "grid_search = GridSearchCV(estimator=log_reg, param_grid=param_grid, cv=3, verbose=1)"
   ]
  },
  {
   "cell_type": "code",
   "execution_count": 2,
   "id": "45740d22-d2c2-4269-b8b3-c65a7289c9b3",
   "metadata": {},
   "outputs": [
    {
     "name": "stdout",
     "output_type": "stream",
     "text": [
      "Fitting 3 folds for each of 144 candidates, totalling 432 fits\n"
     ]
    },
    {
     "data": {
      "text/html": [
       "<style>#sk-container-id-1 {color: black;background-color: white;}#sk-container-id-1 pre{padding: 0;}#sk-container-id-1 div.sk-toggleable {background-color: white;}#sk-container-id-1 label.sk-toggleable__label {cursor: pointer;display: block;width: 100%;margin-bottom: 0;padding: 0.3em;box-sizing: border-box;text-align: center;}#sk-container-id-1 label.sk-toggleable__label-arrow:before {content: \"▸\";float: left;margin-right: 0.25em;color: #696969;}#sk-container-id-1 label.sk-toggleable__label-arrow:hover:before {color: black;}#sk-container-id-1 div.sk-estimator:hover label.sk-toggleable__label-arrow:before {color: black;}#sk-container-id-1 div.sk-toggleable__content {max-height: 0;max-width: 0;overflow: hidden;text-align: left;background-color: #f0f8ff;}#sk-container-id-1 div.sk-toggleable__content pre {margin: 0.2em;color: black;border-radius: 0.25em;background-color: #f0f8ff;}#sk-container-id-1 input.sk-toggleable__control:checked~div.sk-toggleable__content {max-height: 200px;max-width: 100%;overflow: auto;}#sk-container-id-1 input.sk-toggleable__control:checked~label.sk-toggleable__label-arrow:before {content: \"▾\";}#sk-container-id-1 div.sk-estimator input.sk-toggleable__control:checked~label.sk-toggleable__label {background-color: #d4ebff;}#sk-container-id-1 div.sk-label input.sk-toggleable__control:checked~label.sk-toggleable__label {background-color: #d4ebff;}#sk-container-id-1 input.sk-hidden--visually {border: 0;clip: rect(1px 1px 1px 1px);clip: rect(1px, 1px, 1px, 1px);height: 1px;margin: -1px;overflow: hidden;padding: 0;position: absolute;width: 1px;}#sk-container-id-1 div.sk-estimator {font-family: monospace;background-color: #f0f8ff;border: 1px dotted black;border-radius: 0.25em;box-sizing: border-box;margin-bottom: 0.5em;}#sk-container-id-1 div.sk-estimator:hover {background-color: #d4ebff;}#sk-container-id-1 div.sk-parallel-item::after {content: \"\";width: 100%;border-bottom: 1px solid gray;flex-grow: 1;}#sk-container-id-1 div.sk-label:hover label.sk-toggleable__label {background-color: #d4ebff;}#sk-container-id-1 div.sk-serial::before {content: \"\";position: absolute;border-left: 1px solid gray;box-sizing: border-box;top: 0;bottom: 0;left: 50%;z-index: 0;}#sk-container-id-1 div.sk-serial {display: flex;flex-direction: column;align-items: center;background-color: white;padding-right: 0.2em;padding-left: 0.2em;position: relative;}#sk-container-id-1 div.sk-item {position: relative;z-index: 1;}#sk-container-id-1 div.sk-parallel {display: flex;align-items: stretch;justify-content: center;background-color: white;position: relative;}#sk-container-id-1 div.sk-item::before, #sk-container-id-1 div.sk-parallel-item::before {content: \"\";position: absolute;border-left: 1px solid gray;box-sizing: border-box;top: 0;bottom: 0;left: 50%;z-index: -1;}#sk-container-id-1 div.sk-parallel-item {display: flex;flex-direction: column;z-index: 1;position: relative;background-color: white;}#sk-container-id-1 div.sk-parallel-item:first-child::after {align-self: flex-end;width: 50%;}#sk-container-id-1 div.sk-parallel-item:last-child::after {align-self: flex-start;width: 50%;}#sk-container-id-1 div.sk-parallel-item:only-child::after {width: 0;}#sk-container-id-1 div.sk-dashed-wrapped {border: 1px dashed gray;margin: 0 0.4em 0.5em 0.4em;box-sizing: border-box;padding-bottom: 0.4em;background-color: white;}#sk-container-id-1 div.sk-label label {font-family: monospace;font-weight: bold;display: inline-block;line-height: 1.2em;}#sk-container-id-1 div.sk-label-container {text-align: center;}#sk-container-id-1 div.sk-container {/* jupyter's `normalize.less` sets `[hidden] { display: none; }` but bootstrap.min.css set `[hidden] { display: none !important; }` so we also need the `!important` here to be able to override the default hidden behavior on the sphinx rendered scikit-learn.org. See: https://github.com/scikit-learn/scikit-learn/issues/21755 */display: inline-block !important;position: relative;}#sk-container-id-1 div.sk-text-repr-fallback {display: none;}</style><div id=\"sk-container-id-1\" class=\"sk-top-container\"><div class=\"sk-text-repr-fallback\"><pre>GridSearchCV(cv=3, estimator=LogisticRegression(),\n",
       "             param_grid={&#x27;C&#x27;: [1, 2, 5, 8], &#x27;max_iter&#x27;: [100, 200, 300],\n",
       "                         &#x27;penalty&#x27;: [&#x27;l1&#x27;, &#x27;l2&#x27;, &#x27;elasticnet&#x27;, &#x27;none&#x27;],\n",
       "                         &#x27;solver&#x27;: [&#x27;lbfgs&#x27;, &#x27;liblinear&#x27;, &#x27;saga&#x27;]},\n",
       "             verbose=1)</pre><b>In a Jupyter environment, please rerun this cell to show the HTML representation or trust the notebook. <br />On GitHub, the HTML representation is unable to render, please try loading this page with nbviewer.org.</b></div><div class=\"sk-container\" hidden><div class=\"sk-item sk-dashed-wrapped\"><div class=\"sk-label-container\"><div class=\"sk-label sk-toggleable\"><input class=\"sk-toggleable__control sk-hidden--visually\" id=\"sk-estimator-id-1\" type=\"checkbox\" ><label for=\"sk-estimator-id-1\" class=\"sk-toggleable__label sk-toggleable__label-arrow\">GridSearchCV</label><div class=\"sk-toggleable__content\"><pre>GridSearchCV(cv=3, estimator=LogisticRegression(),\n",
       "             param_grid={&#x27;C&#x27;: [1, 2, 5, 8], &#x27;max_iter&#x27;: [100, 200, 300],\n",
       "                         &#x27;penalty&#x27;: [&#x27;l1&#x27;, &#x27;l2&#x27;, &#x27;elasticnet&#x27;, &#x27;none&#x27;],\n",
       "                         &#x27;solver&#x27;: [&#x27;lbfgs&#x27;, &#x27;liblinear&#x27;, &#x27;saga&#x27;]},\n",
       "             verbose=1)</pre></div></div></div><div class=\"sk-parallel\"><div class=\"sk-parallel-item\"><div class=\"sk-item\"><div class=\"sk-label-container\"><div class=\"sk-label sk-toggleable\"><input class=\"sk-toggleable__control sk-hidden--visually\" id=\"sk-estimator-id-2\" type=\"checkbox\" ><label for=\"sk-estimator-id-2\" class=\"sk-toggleable__label sk-toggleable__label-arrow\">estimator: LogisticRegression</label><div class=\"sk-toggleable__content\"><pre>LogisticRegression()</pre></div></div></div><div class=\"sk-serial\"><div class=\"sk-item\"><div class=\"sk-estimator sk-toggleable\"><input class=\"sk-toggleable__control sk-hidden--visually\" id=\"sk-estimator-id-3\" type=\"checkbox\" ><label for=\"sk-estimator-id-3\" class=\"sk-toggleable__label sk-toggleable__label-arrow\">LogisticRegression</label><div class=\"sk-toggleable__content\"><pre>LogisticRegression()</pre></div></div></div></div></div></div></div></div></div></div>"
      ],
      "text/plain": [
       "GridSearchCV(cv=3, estimator=LogisticRegression(),\n",
       "             param_grid={'C': [1, 2, 5, 8], 'max_iter': [100, 200, 300],\n",
       "                         'penalty': ['l1', 'l2', 'elasticnet', 'none'],\n",
       "                         'solver': ['lbfgs', 'liblinear', 'saga']},\n",
       "             verbose=1)"
      ]
     },
     "execution_count": 2,
     "metadata": {},
     "output_type": "execute_result"
    }
   ],
   "source": [
    "grid_search.fit(X_train, y_train)"
   ]
  },
  {
   "cell_type": "code",
   "execution_count": 3,
   "id": "e4e117c5-e3a0-4da2-b8e3-4e83e2a1f127",
   "metadata": {},
   "outputs": [
    {
     "data": {
      "text/plain": [
       "{'C': 1, 'max_iter': 300, 'penalty': 'l1', 'solver': 'saga'}"
      ]
     },
     "execution_count": 3,
     "metadata": {},
     "output_type": "execute_result"
    }
   ],
   "source": [
    "grid_search.best_params_"
   ]
  },
  {
   "cell_type": "raw",
   "id": "7624e608-e623-45db-bd3e-28be1275a3bb",
   "metadata": {},
   "source": [
    "Here, we get the best parameters combination for our model"
   ]
  },
  {
   "cell_type": "markdown",
   "id": "7ce1d313-ed0a-4b9d-bc39-273f85574f5d",
   "metadata": {},
   "source": [
    "Q2. Describe the difference between grid search cv and randomize search cv, and when might you choose one over the other?"
   ]
  },
  {
   "cell_type": "raw",
   "id": "112d1b29-44f0-4e6d-b036-884898898c86",
   "metadata": {},
   "source": [
    "Grid Search CV evaluates all possible combinations of hyperparameter values specified in a grid. Or in simple words, what all parameters we provide to grid search CV, it will execute all those parameters in all possible combinations and then give us the best combination.\n",
    "\n",
    "Advantage:\n",
    "\n",
    "1. It executes all possible parameters hence ensure best accuracy.\n",
    "2. Suitable for small amount of dataset.\n",
    "\n",
    "Disadvantages:\n",
    "\n",
    "1. Can be slow if the grid/data is large."
   ]
  },
  {
   "cell_type": "raw",
   "id": "8fb15df1-b2b3-487a-8ed4-144b4ebd2230",
   "metadata": {},
   "source": [
    "Randomized Search CV executes a given number of candidates from a parameter space with a specified distribution. In simple terms, it evaluates fixed number of random combinations from the hyperparameter space.\n",
    "\n",
    "Advantage:\n",
    "\n",
    "1. More efficient for large hyperparameter tuning.\n",
    "\n",
    "Disadvantages:\n",
    "\n",
    "1. It might not give us an optimal result as it does not execute all the available possibilities."
   ]
  },
  {
   "cell_type": "markdown",
   "id": "87c2f17c-784f-4a89-a6fd-a776562fed83",
   "metadata": {},
   "source": [
    "Q3. What is data leakage, and why is it a problem in machine learning? Provide an example."
   ]
  },
  {
   "cell_type": "raw",
   "id": "24d87b88-07ea-48e5-974f-85a22a916ccc",
   "metadata": {},
   "source": [
    "Data leakage is a problem which occurs when external information is being used to create the model. This external information might not be available during the prediction time due to which we get unfair results. Because of this, we might encounter problems like:\n",
    "\n",
    "1. Over fitting\n",
    "2. High amount of errors in performance metrices (precision, recall, etc)\n",
    "3. Deployment issue"
   ]
  },
  {
   "cell_type": "raw",
   "id": "8c28c8ad-40c6-441d-be96-787e41f77c2c",
   "metadata": {},
   "source": [
    "Let suppose we have credit card fraud detection system dataset with following features:\n",
    "\n",
    "Transaction value\n",
    "Transaction time\n",
    "Location\n",
    "Whether the transaction fraud or not (target feature)\n",
    "\n",
    "Now, we have an additional feature in dataset: is_fraud(This feature indicates whether a transaction is fraudulent)\n",
    "\n",
    "If this feature is included in both training and testing datasets, our model can easily learn to predict fraud by directly using this feature.\n",
    "But, in a real-world we dont have this information at the time of prediction.\n",
    "\n",
    "This condition will lead to data leakage."
   ]
  },
  {
   "cell_type": "markdown",
   "id": "93e18a35-d893-4bf2-a429-9e6ffa09ea02",
   "metadata": {},
   "source": [
    "Q4. How can you prevent data leakage when building a machine learning model?"
   ]
  },
  {
   "cell_type": "raw",
   "id": "db9779c0-e557-4773-a710-adc70f67d59d",
   "metadata": {},
   "source": [
    "1. Make sure that any feature used in training the model is also available at prediction time.\n",
    "\n",
    "2. Try to properly split the data into training and testing before performing any preprocessing steps.\n",
    "\n",
    "3. Always be careful when dealing with time-series data to make sure that future data does not affect past predictions.\n",
    "\n",
    "4. Always cross-check the feature engineering steps to ensure no information from the target leaks into the features."
   ]
  },
  {
   "cell_type": "markdown",
   "id": "d95923b7-477f-4372-995b-462a2004206a",
   "metadata": {},
   "source": [
    "Q5. What is a confusion matrix, and what does it tell you about the performance of a classification model?"
   ]
  },
  {
   "cell_type": "raw",
   "id": "4e985cda-cf77-4189-bd49-6894499d9b43",
   "metadata": {},
   "source": [
    "A confusion matrix is used to evaluate the performance of a classification model mainly for binary and multiclass classification problems. The matrix compares the actual target values with the predicted values by the ML model."
   ]
  },
  {
   "cell_type": "raw",
   "id": "68b39638-cf5c-43d6-a78c-1155f9138a00",
   "metadata": {},
   "source": [
    "In this table, we have four values: True Positive(TP), True Negative(TN), False Positive(FP) and False Negative(FN)."
   ]
  },
  {
   "cell_type": "raw",
   "id": "e6a8ab43-ea97-4989-9990-c7fee13358f6",
   "metadata": {},
   "source": [
    "From this table, we can easily calculate: Precision, Recall and Accuracy.\n",
    "\n",
    "Precision = TP/(TP + FP)\n",
    "\n",
    "Recall = TP/(TP + FN)\n",
    "\n",
    "Accuracy = (TP + TN)/(TP + FP + TN + FN))"
   ]
  },
  {
   "cell_type": "markdown",
   "id": "24a7fc11-5ecf-4434-89fa-fd7eaecf44be",
   "metadata": {},
   "source": [
    "Q6. Explain the difference between precision and recall in the context of a confusion matrix."
   ]
  },
  {
   "cell_type": "markdown",
   "id": "642f84ea-6725-4c4b-830f-93c69c1f0edb",
   "metadata": {},
   "source": [
    "Precision = TP/(TP + FP) # It is simply the proportion of true positive predictions out of all positive predictions\n",
    "\n",
    "Recall = TP/(TP + FN) # It is the proportion of true positive predictions out of all actual positives"
   ]
  },
  {
   "cell_type": "markdown",
   "id": "64b29df6-5424-4d18-ae14-568180c85b51",
   "metadata": {},
   "source": [
    "Q7. How can you interpret a confusion matrix to determine which types of errors your model is making?"
   ]
  },
  {
   "cell_type": "raw",
   "id": "39dca524-8348-4f1b-beb5-190def70f66d",
   "metadata": {},
   "source": [
    "Usually, we have 2 types of error. Type I and Type II.\n",
    "\n",
    "In Type I error, the model predicted an output as positive but in actual, it was negative.\n",
    "Example: I detected a person as thief and sent him to court but in real life, he was an innocent person.\n",
    "\n",
    "In type II error, the model predicted an output as negative but in actual, it was positive.\n",
    "Example: I diagnosed a person with no disease but in actual, he was suffering from malaria.\n",
    "\n",
    "Hence, a high false positive or false negative rate might indicate that a model is very sensitive and has a low threshold for predicting the positive/negative class."
   ]
  },
  {
   "cell_type": "markdown",
   "id": "4c3ad0d5-e4bc-4fa3-a330-2f8496123551",
   "metadata": {},
   "source": [
    "Q8. What are some common metrics that can be derived from a confusion matrix, and how are they calculated?"
   ]
  },
  {
   "cell_type": "raw",
   "id": "dca5405c-72c4-4456-95f0-7636b2c96ef9",
   "metadata": {},
   "source": [
    "True Positive(TP): Counts the number of instances where model correctly predicted positive class.\n",
    "    \n",
    "True Negative(TN): Counts the number of instances where model correctly predicted negative class.\n",
    "    \n",
    "False Positive(FP): Counts the number of instances where model incorrectly predicted positive class.\n",
    "    \n",
    "False Negative(FN): Counts the number of instances where model incorrectly predicted negative class.\n",
    "    \n",
    "Precision = TP/(TP + FP)\n",
    "\n",
    "Recall = TP/(TP + FN)\n",
    "\n",
    "Accuracy = (TP + TN)/(TP + FP + TN + FN))\n",
    "\n",
    "F1-Score = 2*Precision*Recall/(Precision + Recall)"
   ]
  },
  {
   "cell_type": "markdown",
   "id": "4830ba87-5769-41be-8a2e-f8c8066e3d77",
   "metadata": {},
   "source": [
    "Q9. What is the relationship between the accuracy of a model and the values in its confusion matrix?"
   ]
  },
  {
   "cell_type": "raw",
   "id": "907da150-7cdc-483e-9e4d-3072f79794bb",
   "metadata": {},
   "source": [
    "Accuracy = (TP+TN)/(TP+TN+FP+FN)\n",
    "\n",
    "If TP + TN is high, the accuracy will be high (there will be more correct predictions)\n",
    "\n",
    "If FP + FN is high, the accuracy will decrease (there will be more incorrect predictions)"
   ]
  },
  {
   "cell_type": "markdown",
   "id": "64819330-b914-408f-ad14-1921f7240952",
   "metadata": {},
   "source": [
    "Q10. How can you use a confusion matrix to identify potential biases or limitations in your machine learning model?"
   ]
  },
  {
   "cell_type": "raw",
   "id": "b0b8aa21-340d-4e03-a042-28068c30a41f",
   "metadata": {},
   "source": [
    "1. If there is a significant difference between number of TP/TN and FP/FN values, it leads to an imbalance in class category. This usually occurs when one class is much more prevalent than the other within a dataset.\n",
    "\n",
    "2. If we oberve high TN value but Low TP value, it means that model is good at predicting negatives but struggles with positives. Similarly, if we have high TP but low TN, meaning model is good at predicting positive but struggles with negative.\n",
    "\n",
    "3. If both TP and TN are high, it leads to overfitting. On the other hand, if both TP and TN are low, it leads to underfitting."
   ]
  },
  {
   "cell_type": "code",
   "execution_count": null,
   "id": "648c967e-90a0-4d90-a2ae-e28208c1f57b",
   "metadata": {},
   "outputs": [],
   "source": []
  }
 ],
 "metadata": {
  "kernelspec": {
   "display_name": "Python 3 (ipykernel)",
   "language": "python",
   "name": "python3"
  },
  "language_info": {
   "codemirror_mode": {
    "name": "ipython",
    "version": 3
   },
   "file_extension": ".py",
   "mimetype": "text/x-python",
   "name": "python",
   "nbconvert_exporter": "python",
   "pygments_lexer": "ipython3",
   "version": "3.10.8"
  }
 },
 "nbformat": 4,
 "nbformat_minor": 5
}
