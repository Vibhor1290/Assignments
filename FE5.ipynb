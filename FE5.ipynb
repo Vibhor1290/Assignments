{
 "cells": [
  {
   "cell_type": "markdown",
   "id": "943e3619-fb32-4d2c-9a17-bdb0b8abb927",
   "metadata": {},
   "source": [
    "Q1. What is the difference between Ordinal Encoding and Label Encoding? Provide an example of when you\n",
    "might choose one over the other."
   ]
  },
  {
   "cell_type": "raw",
   "id": "aca772ca-928d-4b1f-80ef-7014474a01f8",
   "metadata": {},
   "source": [
    "Ordinal encoding is used when the categorical variables are following a hierarchy.\n",
    "\n",
    "Label encoding is used when the categorical variables do not have any hierarchy."
   ]
  },
  {
   "cell_type": "raw",
   "id": "01fc68ad-f30e-4b17-a16e-b87b67f5c216",
   "metadata": {},
   "source": [
    "We can use Ordinal Encoding over label encoding when there is a clear ranking between the categories and is is very important for the prediction task.\n",
    "\n",
    "Example: Suppose we have categories like associate, manager, senior manager and Vice President. Here, we can clearly observe the hierarchy and we can use ranking according to the designation. "
   ]
  },
  {
   "cell_type": "raw",
   "id": "0b9f4ee3-93ed-4e4d-8182-54d2e330cafb",
   "metadata": {},
   "source": [
    "We can go with Label Encoding when the categorical variables have no meaningful order or hierarchy.\n",
    "\n",
    "Example: When we have categories like gender, brand names or product categories, label encoding is appropriate as it simply allots labels without any order."
   ]
  },
  {
   "cell_type": "markdown",
   "id": "7721d4c9-4039-4452-9d76-1b9cc9e841a7",
   "metadata": {},
   "source": [
    "Q2. Explain how Target Guided Ordinal Encoding works and provide an example of when you might use it in a machine learning project."
   ]
  },
  {
   "cell_type": "markdown",
   "id": "3f0842e8-555b-46b3-8077-fa2c0a460049",
   "metadata": {},
   "source": [
    "___Step1: Calculate the central tendency of target Variable for Each Category___"
   ]
  },
  {
   "cell_type": "raw",
   "id": "7cd8a0b4-504f-45fb-a85a-26b3874ba650",
   "metadata": {},
   "source": [
    "For each category in the categorical variable, we will calculate the mean/median of target variable (dependent variable).\n",
    "\n",
    "This step involves grouping of data by the categorical variable and then aggregating target variable using the mean/median function."
   ]
  },
  {
   "cell_type": "markdown",
   "id": "b1ea6ca5-8183-4209-812f-ec0601594f0e",
   "metadata": {},
   "source": [
    "___Step2: Order Categories Based on Mean or Median Values___"
   ]
  },
  {
   "cell_type": "raw",
   "id": "70ed47d5-d824-49f9-85db-66b710182bd6",
   "metadata": {},
   "source": [
    "We will now sort the categories based on their mean/median values of the target variable.\n",
    "\n",
    "Now, we are going to assign ordinal labels to the categories based on their order, where categories with lower mean/median values get lower labels and those with higher mean/median values get higher labels."
   ]
  },
  {
   "cell_type": "markdown",
   "id": "0074be71-9ea0-454c-a3be-deac522a1936",
   "metadata": {},
   "source": [
    "___Step3: Encode Categorical Variable Using Ordinal Labels___"
   ]
  },
  {
   "cell_type": "raw",
   "id": "9ee9c713-d876-47da-ab9f-424f7ee89138",
   "metadata": {},
   "source": [
    "Atlast, we will replace the original categorical variable with the ordinal labels assigned based on the order of mean/median of the target variable.\n",
    "\n",
    "This encoding technique mainly focuses into the relationship between the categorical variable and the target variable, therefore making it more informative for predictive."
   ]
  },
  {
   "cell_type": "markdown",
   "id": "f320e3ab-d8e9-49fb-bbe1-d06b243e555b",
   "metadata": {},
   "source": [
    "Q3. Define covariance and explain why it is important in statistical analysis. How is covariance calculated?"
   ]
  },
  {
   "cell_type": "raw",
   "id": "20d242e6-0c62-41ca-bea7-92d7bf5bb47c",
   "metadata": {},
   "source": [
    "In simple words, it is a measure of linear relationship between two variables. It also tells us whether the relation is positive or negative.\n",
    "\n",
    "Lets say we have two variables, X and Y. Now, the formula of Co-Variance:\n",
    "\n",
    " Cov(X,Y) = sigma(i=1,i=n) [(Xi - X_mean)(Yi - Y_mean)]/(n-1)\n",
    " \n",
    " where: Xi and Yi are individual data points,\n",
    "        X_mean and Y_mean are mean of X and Y,\n",
    "        n is the number of observations"
   ]
  },
  {
   "cell_type": "raw",
   "id": "a3ddaa56-42f2-4afc-b852-a29c141550ce",
   "metadata": {},
   "source": [
    "The relation can be either positive or negative: \n",
    "    \n",
    "Positive: When both the variables increase or decrease together\n",
    "\n",
    "Negative: When one increases, other decreases and vice-versa."
   ]
  },
  {
   "cell_type": "markdown",
   "id": "c332c170-e470-49b6-a97e-ece68fd77a40",
   "metadata": {},
   "source": [
    "Q4. For a dataset with the following categorical variables: Color (red, green, blue), Size (small, medium, large), and Material (wood, metal, plastic), perform label encoding using Python's scikit-learn library. Show your code and explain the output."
   ]
  },
  {
   "cell_type": "code",
   "execution_count": 1,
   "id": "28058e89-2b32-4fc1-bf92-a285bbb6cc08",
   "metadata": {},
   "outputs": [],
   "source": [
    "import pandas as pd"
   ]
  },
  {
   "cell_type": "code",
   "execution_count": 2,
   "id": "69a369fd-e58f-42aa-9329-197086e747d6",
   "metadata": {},
   "outputs": [],
   "source": [
    "Check = pd.DataFrame({\n",
    "    'Color':['red', 'green', 'blue'],\n",
    "    'Size':['small', 'medium', 'large'],\n",
    "    'Material':['wood', 'metal', 'plastic']\n",
    "})"
   ]
  },
  {
   "cell_type": "code",
   "execution_count": 3,
   "id": "a081e1a3-c731-41a4-b4a8-db97beea8509",
   "metadata": {},
   "outputs": [
    {
     "data": {
      "text/html": [
       "<div>\n",
       "<style scoped>\n",
       "    .dataframe tbody tr th:only-of-type {\n",
       "        vertical-align: middle;\n",
       "    }\n",
       "\n",
       "    .dataframe tbody tr th {\n",
       "        vertical-align: top;\n",
       "    }\n",
       "\n",
       "    .dataframe thead th {\n",
       "        text-align: right;\n",
       "    }\n",
       "</style>\n",
       "<table border=\"1\" class=\"dataframe\">\n",
       "  <thead>\n",
       "    <tr style=\"text-align: right;\">\n",
       "      <th></th>\n",
       "      <th>Color</th>\n",
       "      <th>Size</th>\n",
       "      <th>Material</th>\n",
       "    </tr>\n",
       "  </thead>\n",
       "  <tbody>\n",
       "    <tr>\n",
       "      <th>0</th>\n",
       "      <td>red</td>\n",
       "      <td>small</td>\n",
       "      <td>wood</td>\n",
       "    </tr>\n",
       "    <tr>\n",
       "      <th>1</th>\n",
       "      <td>green</td>\n",
       "      <td>medium</td>\n",
       "      <td>metal</td>\n",
       "    </tr>\n",
       "    <tr>\n",
       "      <th>2</th>\n",
       "      <td>blue</td>\n",
       "      <td>large</td>\n",
       "      <td>plastic</td>\n",
       "    </tr>\n",
       "  </tbody>\n",
       "</table>\n",
       "</div>"
      ],
      "text/plain": [
       "   Color    Size Material\n",
       "0    red   small     wood\n",
       "1  green  medium    metal\n",
       "2   blue   large  plastic"
      ]
     },
     "execution_count": 3,
     "metadata": {},
     "output_type": "execute_result"
    }
   ],
   "source": [
    "Check"
   ]
  },
  {
   "cell_type": "code",
   "execution_count": 4,
   "id": "2f94b5b6-c509-4e47-a414-2ebe562e36ac",
   "metadata": {},
   "outputs": [],
   "source": [
    "from sklearn.preprocessing import LabelEncoder\n",
    "label = LabelEncoder()"
   ]
  },
  {
   "cell_type": "code",
   "execution_count": 7,
   "id": "a95f5319-94b1-4ef4-a2e9-f3372e81fc74",
   "metadata": {},
   "outputs": [],
   "source": [
    "for col in Check.columns:\n",
    "    if Check[col].dtype == 'object':\n",
    "        Check[col + '_encoded'] = label.fit_transform(Check[col])"
   ]
  },
  {
   "cell_type": "code",
   "execution_count": 8,
   "id": "4215393e-dc3a-4ab1-8528-e035b3254a7f",
   "metadata": {},
   "outputs": [
    {
     "name": "stdout",
     "output_type": "stream",
     "text": [
      "   Color    Size Material  Color_encoded  Size_encoded  Material_encoded\n",
      "0    red   small     wood              2             2                 2\n",
      "1  green  medium    metal              1             1                 0\n",
      "2   blue   large  plastic              0             0                 1\n"
     ]
    }
   ],
   "source": [
    "print(Check)"
   ]
  },
  {
   "cell_type": "markdown",
   "id": "7ca03786-74c7-4235-ba96-3d6e29f13c8c",
   "metadata": {},
   "source": [
    "Q6. You are working on a machine learning project with a dataset containing several categorical variables, including \"Gender\" (Male/Female), \"Education Level\" (High School/Bachelor's/Master's/PhD), and \"Employment Status\" (Unemployed/Part-Time/Full-Time). Which encoding method would you use for each variable, and why?"
   ]
  },
  {
   "cell_type": "raw",
   "id": "fa8a0a6a-dd96-4be7-8c2a-d6b4cd0320cb",
   "metadata": {},
   "source": [
    "Gender (Male/Female):\n",
    "For this feature, we will go with Binary Encoding. We will assign 0 for Male and 1 for Female. As there are only two categories, it will reduce redundancy and computational complexity.\n",
    "\n",
    "Education Level (High School/Bachelor's/Master's/PhD):\n",
    "We will apply Ordinal Encoding here as these categories follow a hierarchy. Here, we will assign 0 for High School, 1 for Bachelors, 2 for Masters, and 3 for PhD.\n",
    "\n",
    "Employment Status (Unemployed/Part-Time/Full-Time):\n",
    "Just like the education level, we will again create binary columns for each employment category. For example, Unemployed would be [1, 0, 0], Part-Time would be [0, 1, 0], and Full-Time would be [0, 0, 1]. This method allows the model to read each category independently."
   ]
  },
  {
   "cell_type": "markdown",
   "id": "0f47e44c-86e8-4239-bd8f-5c6eb3cc3e44",
   "metadata": {},
   "source": [
    "Q7. You are analyzing a dataset with two continuous variables, \"Temperature\" and \"Humidity\", and two categorical variables, \"Weather Condition\" (Sunny/Cloudy/Rainy) and \"Wind Direction\" (North/South/East/West). Calculate the covariance between each pair of variables and interpret the results."
   ]
  },
  {
   "cell_type": "code",
   "execution_count": 12,
   "id": "31069f66-8d80-4a64-8b1b-a2ae836a586e",
   "metadata": {},
   "outputs": [],
   "source": [
    "import numpy as np"
   ]
  },
  {
   "cell_type": "code",
   "execution_count": 9,
   "id": "9e7ccee7-1c72-4947-84c2-1a6c812c29cc",
   "metadata": {},
   "outputs": [],
   "source": [
    "forecast = pd.DataFrame({\n",
    "    'Temperature':[23,56,21,63,24,43,16,35,22,32,42,26],\n",
    "    'Humidity':[3.5,5.3,6.4,8.1,4.3,3.2,9.2,3.1,2.4,7.3,2.9,0.4],\n",
    "    'Weather':['Sunny','Rainy','Rainy','Cloudy','Sunny','Sunny','Cloudy','Rainy','Rainy','Sunny','Cloudy','Rainy'],\n",
    "    'Wind':['N','E','S','E','N','W','W','E','S','W','N','E']\n",
    "})"
   ]
  },
  {
   "cell_type": "code",
   "execution_count": 11,
   "id": "f784ddf0-ac5b-4a22-9508-2acc2c16da29",
   "metadata": {},
   "outputs": [
    {
     "data": {
      "text/html": [
       "<div>\n",
       "<style scoped>\n",
       "    .dataframe tbody tr th:only-of-type {\n",
       "        vertical-align: middle;\n",
       "    }\n",
       "\n",
       "    .dataframe tbody tr th {\n",
       "        vertical-align: top;\n",
       "    }\n",
       "\n",
       "    .dataframe thead th {\n",
       "        text-align: right;\n",
       "    }\n",
       "</style>\n",
       "<table border=\"1\" class=\"dataframe\">\n",
       "  <thead>\n",
       "    <tr style=\"text-align: right;\">\n",
       "      <th></th>\n",
       "      <th>Temperature</th>\n",
       "      <th>Humidity</th>\n",
       "      <th>Weather</th>\n",
       "      <th>Wind</th>\n",
       "    </tr>\n",
       "  </thead>\n",
       "  <tbody>\n",
       "    <tr>\n",
       "      <th>0</th>\n",
       "      <td>23</td>\n",
       "      <td>3.5</td>\n",
       "      <td>Sunny</td>\n",
       "      <td>N</td>\n",
       "    </tr>\n",
       "    <tr>\n",
       "      <th>1</th>\n",
       "      <td>56</td>\n",
       "      <td>5.3</td>\n",
       "      <td>Rainy</td>\n",
       "      <td>E</td>\n",
       "    </tr>\n",
       "    <tr>\n",
       "      <th>2</th>\n",
       "      <td>21</td>\n",
       "      <td>6.4</td>\n",
       "      <td>Rainy</td>\n",
       "      <td>S</td>\n",
       "    </tr>\n",
       "    <tr>\n",
       "      <th>3</th>\n",
       "      <td>63</td>\n",
       "      <td>8.1</td>\n",
       "      <td>Cloudy</td>\n",
       "      <td>E</td>\n",
       "    </tr>\n",
       "    <tr>\n",
       "      <th>4</th>\n",
       "      <td>24</td>\n",
       "      <td>4.3</td>\n",
       "      <td>Sunny</td>\n",
       "      <td>N</td>\n",
       "    </tr>\n",
       "  </tbody>\n",
       "</table>\n",
       "</div>"
      ],
      "text/plain": [
       "   Temperature  Humidity Weather Wind\n",
       "0           23       3.5   Sunny    N\n",
       "1           56       5.3   Rainy    E\n",
       "2           21       6.4   Rainy    S\n",
       "3           63       8.1  Cloudy    E\n",
       "4           24       4.3   Sunny    N"
      ]
     },
     "execution_count": 11,
     "metadata": {},
     "output_type": "execute_result"
    }
   ],
   "source": [
    "forecast.head()"
   ]
  },
  {
   "cell_type": "code",
   "execution_count": 13,
   "id": "2264fd2c-0755-426b-8217-38ac01193d64",
   "metadata": {},
   "outputs": [
    {
     "data": {
      "text/plain": [
       "array([[217.71969697,   4.825     ],\n",
       "       [  4.825     ,   6.84022727]])"
      ]
     },
     "execution_count": 13,
     "metadata": {},
     "output_type": "execute_result"
    }
   ],
   "source": [
    "np.cov(forecast['Temperature'],forecast['Humidity'])"
   ]
  },
  {
   "cell_type": "raw",
   "id": "4a2e35d6-7ed9-4a93-9f04-9af7990e4547",
   "metadata": {},
   "source": [
    "Here, we can apply covariance only between temperature and humidity because only these 2 columns have continuous data. The rest of the columns have categorical data."
   ]
  },
  {
   "cell_type": "markdown",
   "id": "e8563a4b-9282-4f46-be98-ad38e5b5efbf",
   "metadata": {},
   "source": [
    "CONCLUSION: From the above results, we can say that there is a tendency for humidity to increase as temperature increases."
   ]
  },
  {
   "cell_type": "code",
   "execution_count": null,
   "id": "4f7ef308-a590-421d-a656-fcec0fe3eabc",
   "metadata": {},
   "outputs": [],
   "source": []
  }
 ],
 "metadata": {
  "kernelspec": {
   "display_name": "Python 3 (ipykernel)",
   "language": "python",
   "name": "python3"
  },
  "language_info": {
   "codemirror_mode": {
    "name": "ipython",
    "version": 3
   },
   "file_extension": ".py",
   "mimetype": "text/x-python",
   "name": "python",
   "nbconvert_exporter": "python",
   "pygments_lexer": "ipython3",
   "version": "3.10.8"
  }
 },
 "nbformat": 4,
 "nbformat_minor": 5
}
