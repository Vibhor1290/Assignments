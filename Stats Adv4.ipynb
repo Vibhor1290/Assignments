{
 "cells": [
  {
   "cell_type": "markdown",
   "id": "0a6f60d7-3615-4748-96f0-ed669e8b1a82",
   "metadata": {},
   "source": [
    "# Statistics Advance-4"
   ]
  },
  {
   "cell_type": "markdown",
   "id": "e4c8c315-5e17-45c8-9050-38a3cda29134",
   "metadata": {},
   "source": [
    "Q1: What is the difference between a t-test and a z-test? Provide an example scenario where you would\n",
    "use each type of test."
   ]
  },
  {
   "cell_type": "raw",
   "id": "6b119437-82bc-4c1c-bd06-f3b18834b34b",
   "metadata": {},
   "source": [
    "The main difference is the sample size that we deal with. If sample size is small (less than 30), we go with T-test otherwise we proceed with Z-test.\n",
    "\n",
    "Also, if the population standard deviation is unknown, we go with T-test else, we go with Z-test"
   ]
  },
  {
   "cell_type": "raw",
   "id": "afb6fee8-1ac5-49af-b1e7-c2cf1940f6be",
   "metadata": {},
   "source": [
    "Example: We have a sample of 30 units and population standard deviation is not given, we will use T-test however the sample size is 30."
   ]
  },
  {
   "cell_type": "markdown",
   "id": "0156365c-486c-47ef-adca-aab56324d68b",
   "metadata": {},
   "source": [
    "Q2: Differentiate between one-tailed and two-tailed tests."
   ]
  },
  {
   "cell_type": "raw",
   "id": "39bdcd9b-edfe-4059-96b8-a591b730c19a",
   "metadata": {},
   "source": [
    "One tailed test is used when we have to find out the result based on one sided condition only. On the other hand, two-tailed test is used for handling two sided conditions.\n",
    "\n",
    "Example:\n",
    "    \n",
    "    Null hypo: Student will pass the exam.\n",
    "\n",
    "    Alt hypo: Student will not pass the exam.\n",
    "\n",
    "In this case, we have only two choices, either student will pass or fail which represents one sided test. In simple words, we have only one scenario for the alternate hypothesis\n",
    "\n",
    "\n",
    "    Null hypo: Student has scored exactly 500 marks in CAT\n",
    "    \n",
    "    Alternate hypo: Student has not scored exactly 500 marks in CAT\n",
    "    \n",
    "In this case, there are two conditions appearing in alternate hypothesis, either student has score more than 500 or less than 500 which represents two-tailed test. "
   ]
  },
  {
   "cell_type": "markdown",
   "id": "6dc8f009-643c-4651-8cbd-17f37c0dfad2",
   "metadata": {},
   "source": [
    "Q3: Explain the concept of Type 1 and Type 2 errors in hypothesis testing. Provide an example scenario for each type of error."
   ]
  },
  {
   "cell_type": "raw",
   "id": "8696e0fc-b653-4f56-958d-9afb80a6f287",
   "metadata": {},
   "source": [
    "Type I error occurs when a true null hypothesis is incorrectly rejected (false positive).\n",
    "\n",
    "Example: I rejected a person assuming him as a thief. But actually, he was innocent. \n",
    "\n",
    "Type II error happens when a false null hypothesis isn’t rejected (false negative).\n",
    "\n",
    "Example: I accepted a transaction as genuine but in actual, it was fake."
   ]
  },
  {
   "cell_type": "markdown",
   "id": "56d90db3-bc44-42e8-81b5-212f7dd4f339",
   "metadata": {},
   "source": [
    "Q4: Explain Bayes's theorem with an example."
   ]
  },
  {
   "cell_type": "raw",
   "id": "418cc351-c260-43fe-bfd7-93d9dfc1de30",
   "metadata": {},
   "source": [
    "Bayes theorem is used to determine the conditional probability of event A provided that event B has already occurred."
   ]
  },
  {
   "cell_type": "code",
   "execution_count": null,
   "id": "79ef2b20-1a88-4400-8e4e-2cc8cbcd84ee",
   "metadata": {},
   "outputs": [],
   "source": [
    "Example: A bag has 5 blue and 5 red marbles. The probability of drawing a blue ball will be:\n",
    "    \n",
    "    P(blue) = 5/10 = 0.5\n",
    "    \n",
    "Now, I will draw one more ball from the bag and this time, the probability of drawing a red ball will be:\n",
    "    \n",
    "    P(red|first was blue) = 5/9 "
   ]
  },
  {
   "cell_type": "markdown",
   "id": "27acbebc-60f9-40fb-a1a3-8053092068d8",
   "metadata": {},
   "source": [
    "Q5: What is a confidence interval? How to calculate the confidence interval, explain with an example."
   ]
  },
  {
   "cell_type": "raw",
   "id": "346523d6-e23d-48fe-85ac-8284c66cc581",
   "metadata": {},
   "source": [
    "Confidence interval is a range within which mean value of the population will lie.\n",
    "\n",
    "Whenever we calculate the sample mean, we assume that the population mean will almost be equal to the sample mean. But it is not always true. To overcome this problem, we generate a range within which we assume that the mean of population will lie."
   ]
  },
  {
   "cell_type": "raw",
   "id": "95be93d6-a5bf-4427-9474-9ffd9fd74239",
   "metadata": {},
   "source": [
    "To find out this range or interval, we use the below formula:\n",
    "    \n",
    "    CI = sample_mean +/- ME(Margin of Error)"
   ]
  },
  {
   "cell_type": "markdown",
   "id": "c7d042e9-1d21-411b-863d-f002fc1655e5",
   "metadata": {},
   "source": [
    "Q6. Use Bayes Theorem to calculate probability of an event occurring given prior knowledge of the event's probability and new evidence. Provide a sample problem and solution."
   ]
  },
  {
   "cell_type": "raw",
   "id": "b4e8498f-3ab5-4898-b4d0-9f14b6ffb962",
   "metadata": {},
   "source": [
    "Problem:\n",
    "\n",
    "A medical test is used to detect a rare disease. The disease affects 1% of the population \n",
    "(𝑃(𝐷)=0.01\n",
    "\n",
    "The test has the following characteristics:\n",
    " \n",
    "If person has the disease, the test correctly identifies it 99% of the time P(T|D) = 0.99\n",
    "\n",
    "If person does not have the disease, the test correctly identifies it 95% of the time P(T|D') = 0.95, where D' is the event of not having disease.\n",
    "\n",
    "Now, a person tests positive. What is the probability that the person actually has the disease, P(T|D)?"
   ]
  },
  {
   "cell_type": "raw",
   "id": "377e268c-3cde-4c35-b7e3-86e94d4dbe8c",
   "metadata": {},
   "source": [
    "# P(D|T) = P(T|D)*P(D)/P(T)\n",
    "\n",
    "P(D) = 0.01\n",
    "P(D') = 0.99\n",
    "P(T|D) = 0.99\n",
    "P(T|D') = 0.05\n",
    "  \n",
    "# Now, P(T) = P(T∣D)*P(D)+P(T∣D′)*P(D′)\n",
    "  \n",
    "P(T) = 0.99⋅0.01+0.05⋅0.99\n",
    "P(T) = 0.0594\n",
    "\n",
    "So, P(D|T) = P(T|D)*P(D)/P(T)\n",
    "    P(D|T) = 0.167 [approx]\n",
    "    \n",
    "Hence, the probability that the person actually has disease provided that they tested positive is approximately 16.7%."
   ]
  },
  {
   "cell_type": "markdown",
   "id": "fb7d0673-f30d-411d-8b13-ba3782505699",
   "metadata": {},
   "source": [
    "Q7. Calculate the 95% confidence interval for a sample of data with a mean of 50 and a standard deviation of 5. Interpret the results."
   ]
  },
  {
   "cell_type": "code",
   "execution_count": 2,
   "id": "9e770b42-de20-444d-a6b0-1db9c8788c26",
   "metadata": {},
   "outputs": [],
   "source": [
    "import numpy as np"
   ]
  },
  {
   "cell_type": "code",
   "execution_count": 6,
   "id": "27f01ba8-5b2a-41ab-81fc-586aee85b2f1",
   "metadata": {},
   "outputs": [
    {
     "name": "stdout",
     "output_type": "stream",
     "text": [
      "[48.450483946517494, 51.549516053482506]\n"
     ]
    }
   ],
   "source": [
    "mean = 50\n",
    "std = 5\n",
    "CI = 0.95\n",
    "N = 40\n",
    "\n",
    "# For 95% confidence interval, we have:\n",
    "\n",
    "Z = 1.96\n",
    "\n",
    "lower_value = mean - Z*(std/np.sqrt(N))\n",
    "\n",
    "upper_value = mean + Z*(std/np.sqrt(N))\n",
    "\n",
    "print([lower_value,upper_value])"
   ]
  },
  {
   "cell_type": "markdown",
   "id": "e9c899e3-ecba-4a28-8341-5cb7ee0bf906",
   "metadata": {},
   "source": [
    "Q8. What is the margin of error in a confidence interval? How does sample size affect the margin of error? Provide an example of a scenario where a larger sample size would result in a smaller margin of error."
   ]
  },
  {
   "cell_type": "raw",
   "id": "07b493d7-edc4-4c7c-ad09-b480abf1dc15",
   "metadata": {},
   "source": [
    "Margin of error represents the range within which the true population parameter is likely to fall.\n",
    "\n",
    "ME = Z*(std_dev/sqrt(N))\n",
    "\n",
    "From the above formula, we observe that ME is inversely proportional to sample size. As the sample size increases, the margin of error decreases.\n",
    "\n",
    "With increase in sample size, we get more precise and accurate results."
   ]
  },
  {
   "cell_type": "markdown",
   "id": "47d5bdc6-13b1-488b-8719-baec9c874c51",
   "metadata": {},
   "source": [
    "Q9. Calculate the z-score for a data point with a value of 75, a population mean of 70, and a population standard deviation of 5. Interpret the results."
   ]
  },
  {
   "cell_type": "code",
   "execution_count": 12,
   "id": "dd94ee6a-6dc6-48b3-a73c-651710df68a5",
   "metadata": {},
   "outputs": [
    {
     "name": "stdout",
     "output_type": "stream",
     "text": [
      "1.0\n",
      "Z-score of 1 suggests that our data point is relatively close to the mean, and is just 1 standard deviation above the mean value.\n"
     ]
    }
   ],
   "source": [
    "X = 75\n",
    "mean = 70\n",
    "std_dev = 5\n",
    "\n",
    "Z_score = (X - mean)/std_dev\n",
    "print(Z_score)\n",
    "print('Z-score of 1 suggests that our data point is relatively close to the mean, and is just 1 standard deviation above the mean value.')"
   ]
  },
  {
   "cell_type": "markdown",
   "id": "56fba2f5-ff28-4a8c-a82d-aac04c6767a2",
   "metadata": {},
   "source": [
    "Q10. In a study of the effectiveness of a new weight loss drug, a sample of 50 participants lost an average of 6 pounds with a standard deviation of 2.5 pounds. Conduct a hypothesis test to determine if the drug is significantly effective at a 95% confidence level using a t-test."
   ]
  },
  {
   "cell_type": "code",
   "execution_count": 15,
   "id": "52b94682-a349-4288-b482-fbd43eaf3eed",
   "metadata": {},
   "outputs": [],
   "source": [
    "N = 50\n",
    "sample_mean = 6\n",
    "hypo_mean = 0\n",
    "std_dev = 2.5\n",
    "CI = 0.95\n",
    "significance = 0.05\n",
    "dof = 49\n",
    "\n",
    "# Null hypo: The new weight loss drug is not significantly effective.\n",
    "\n",
    "# Alternate hypo: The new weight loss drug is significantly effective.\n",
    "\n",
    "t = (sample_mean - hypo_mean)/(std_dev/np.sqrt(N))\n",
    "\n",
    "# From T-table, we will look for critical T-value using dof as 49 and significance of 0.05 which comes out to be:\n",
    "\n",
    "t_value = 2.0096"
   ]
  },
  {
   "cell_type": "code",
   "execution_count": 16,
   "id": "79459069-a88f-42ef-b159-e63423f94225",
   "metadata": {},
   "outputs": [
    {
     "name": "stdout",
     "output_type": "stream",
     "text": [
      "failed to reject null hypo\n"
     ]
    }
   ],
   "source": [
    "if t > t_value:\n",
    "    print('failed to reject null hypo')\n",
    "else:\n",
    "    print('reject null hypo')"
   ]
  },
  {
   "cell_type": "markdown",
   "id": "e3abcd79-63ae-4d96-a4f4-d3956aa6c298",
   "metadata": {},
   "source": [
    "Q11. In a survey of 500 people, 65% reported being satisfied with their current job. Calculate the 95% confidence interval for the true proportion of people who are satisfied with their job."
   ]
  },
  {
   "cell_type": "code",
   "execution_count": 19,
   "id": "dbd8660e-479d-4215-9f11-5ffc51ecf5de",
   "metadata": {},
   "outputs": [
    {
     "name": "stdout",
     "output_type": "stream",
     "text": [
      "[0.608191771144905, 0.6918082288550951]\n"
     ]
    }
   ],
   "source": [
    "N = 500\n",
    "CI = 0.95\n",
    "signi = 0.05\n",
    "proportion_sample = 0.65 # people who liked the job\n",
    "\n",
    "# For 95% confidence interval, the value of Z_score will be:\n",
    "Z = 1.96\n",
    "\n",
    "lower_range = proportion_sample - Z*np.sqrt((proportion_sample*(1-proportion_sample))/N)\n",
    "upper_range = proportion_sample + Z*np.sqrt((proportion_sample*(1-proportion_sample))/N)\n",
    "print([lower_range,upper_range])"
   ]
  },
  {
   "cell_type": "markdown",
   "id": "c4c1a18a-f021-44ff-b71c-833b05515cd3",
   "metadata": {},
   "source": [
    "Q12. A researcher is testing the effectiveness of two different teaching methods on student performance. Sample A has a mean score of 85 with a standard deviation of 6, while sample B has a mean score of 82 with a standard deviation of 5. Conduct a hypothesis test to determine if the two teaching methods have a significant difference in student performance using a t-test with a significance level of 0.01."
   ]
  },
  {
   "cell_type": "code",
   "execution_count": 26,
   "id": "8dd135d3-c325-4b84-b328-c18ac66e5dad",
   "metadata": {},
   "outputs": [],
   "source": [
    "Sample_A_mean = 85\n",
    "std_dev_A = 6\n",
    "\n",
    "Sample_B_mean = 82\n",
    "std_dev_B = 5\n",
    "\n",
    "significance = 0.01\n",
    "\n",
    "# Here, we are using T-test. Lets assume:\n",
    "N1 = 20\n",
    "N2 = 25\n",
    "\n",
    "dof = (N1-1) + (N2-1)\n",
    "# Null hypothesis: There is no significant difference in student performance between the two teaching methods\n",
    "\n",
    "# Alternative hypothesis: There is a significant difference in student performance between the two teaching methods"
   ]
  },
  {
   "cell_type": "code",
   "execution_count": 35,
   "id": "9a7f8c60-a3b6-45c1-b573-168ba0760cc9",
   "metadata": {},
   "outputs": [
    {
     "name": "stdout",
     "output_type": "stream",
     "text": [
      "1.7928429140015905\n",
      "43\n",
      "2.6951\n"
     ]
    }
   ],
   "source": [
    "t2 = (Sample_A_mean - Sample_B_mean)/np.sqrt((std_dev_A**2/N1 + std_dev_B**2/N2))\n",
    "\n",
    "# Using dof as 43 and significance as 0.01, we got the critical value as:\n",
    "t_crit = 2.6951\n",
    "print(t2)\n",
    "print(dof)\n",
    "print(t_crit)"
   ]
  },
  {
   "cell_type": "code",
   "execution_count": 36,
   "id": "4fb82db8-01c7-4bb6-82d7-cde5626f99f4",
   "metadata": {},
   "outputs": [
    {
     "name": "stdout",
     "output_type": "stream",
     "text": [
      "reject null hypo\n"
     ]
    }
   ],
   "source": [
    "if t2 > t_crit:\n",
    "    print('failed to reject null hypo')\n",
    "else:\n",
    "    print('reject null hypo')"
   ]
  },
  {
   "cell_type": "markdown",
   "id": "d12dd2d7-3b32-4464-9eb7-ae14ebce01e1",
   "metadata": {},
   "source": [
    "Q13. A population has a mean of 60 and a standard deviation of 8. A sample of 50 observations has a mean of 65. Calculate the 90% confidence interval for the true population mean."
   ]
  },
  {
   "cell_type": "code",
   "execution_count": 39,
   "id": "e4739761-8927-4a4c-9cae-a449cf329a7a",
   "metadata": {},
   "outputs": [],
   "source": [
    "pop_mean = 60\n",
    "std_dev = 8\n",
    "n = 50\n",
    "sample_mean = 65\n",
    "significance = 0.10\n",
    "Z = 1.645 # Calculated using T-table"
   ]
  },
  {
   "cell_type": "code",
   "execution_count": 40,
   "id": "771fe725-2e43-41ff-8b51-2479ee2747a2",
   "metadata": {},
   "outputs": [
    {
     "name": "stdout",
     "output_type": "stream",
     "text": [
      "[63.13889495191701, 66.86110504808299]\n"
     ]
    }
   ],
   "source": [
    "lower_part = sample_mean - Z*(std_dev/np.sqrt(n))\n",
    "upper_part = sample_mean + Z*(std_dev/np.sqrt(n))\n",
    "print([lower_part,upper_part])"
   ]
  },
  {
   "cell_type": "markdown",
   "id": "8606ed1f-9ac3-4beb-98b7-aff27e311e32",
   "metadata": {},
   "source": [
    "Q14. In a study of the effects of caffeine on reaction time, a sample of 30 participants had an average reaction time of 0.25 seconds with a standard deviation of 0.05 seconds. Conduct a hypothesis test to determine if the caffeine has a significant effect on reaction time at a 90% confidence level using a t-test."
   ]
  },
  {
   "cell_type": "code",
   "execution_count": 48,
   "id": "578a7c88-46be-44aa-a834-a92748bb5853",
   "metadata": {},
   "outputs": [],
   "source": [
    "n = 30\n",
    "sample_mean = 0.25\n",
    "std_dev = 0.05\n",
    "CI = 0.9\n",
    "signi = 0.1\n",
    "DOF = 29"
   ]
  },
  {
   "cell_type": "code",
   "execution_count": 46,
   "id": "5905b206-4702-4f6d-a1ce-703b49572b15",
   "metadata": {},
   "outputs": [],
   "source": [
    "# Null hypo: caffeine has no significant effect on reaction time\n",
    "\n",
    "# Alternate hypo: caffeine has significant effect on reaction time"
   ]
  },
  {
   "cell_type": "code",
   "execution_count": 49,
   "id": "af9d8c84-da7c-443d-b7d7-e81c7024df34",
   "metadata": {},
   "outputs": [],
   "source": [
    "#Usinf dof and significance value, we got t value as:\n",
    "\n",
    "t3 = 1.699   "
   ]
  },
  {
   "cell_type": "code",
   "execution_count": 50,
   "id": "056f95c7-c78c-4489-92b7-5ef7c77e35ad",
   "metadata": {},
   "outputs": [
    {
     "name": "stdout",
     "output_type": "stream",
     "text": [
      "0.0\n"
     ]
    }
   ],
   "source": [
    "# Now, calculate the T-score:\n",
    "\n",
    "T_score = (sample_mean - 0.25)/(std_dev/np.sqrt(30))\n",
    "print(T_score)"
   ]
  },
  {
   "cell_type": "code",
   "execution_count": 51,
   "id": "777e3acd-ebc5-4171-808f-4f02339bc5d5",
   "metadata": {},
   "outputs": [
    {
     "name": "stdout",
     "output_type": "stream",
     "text": [
      "fail to reject null hypo\n"
     ]
    }
   ],
   "source": [
    "if T_score < t3:\n",
    "    print('fail to reject null hypo')\n",
    "else:\n",
    "    print('reject null hypo')"
   ]
  },
  {
   "cell_type": "code",
   "execution_count": null,
   "id": "6a14a3ec-f2c9-4001-b2b6-f947ebe61cd3",
   "metadata": {},
   "outputs": [],
   "source": []
  }
 ],
 "metadata": {
  "kernelspec": {
   "display_name": "Python 3 (ipykernel)",
   "language": "python",
   "name": "python3"
  },
  "language_info": {
   "codemirror_mode": {
    "name": "ipython",
    "version": 3
   },
   "file_extension": ".py",
   "mimetype": "text/x-python",
   "name": "python",
   "nbconvert_exporter": "python",
   "pygments_lexer": "ipython3",
   "version": "3.10.8"
  }
 },
 "nbformat": 4,
 "nbformat_minor": 5
}
