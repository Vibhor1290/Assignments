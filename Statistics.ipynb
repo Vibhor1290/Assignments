{
 "cells": [
  {
   "cell_type": "markdown",
   "id": "52d48e33-8cad-4100-b958-007adc6ebe43",
   "metadata": {},
   "source": [
    "# Statistics"
   ]
  },
  {
   "cell_type": "markdown",
   "id": "7576cdc4-1723-4a04-a6dc-28f56a5e6a1c",
   "metadata": {},
   "source": [
    "Q1. What is Statistics?\n",
    "Q2. Define the different types of statistics and give an example of when each type might be used."
   ]
  },
  {
   "cell_type": "raw",
   "id": "0f34f09d-4aac-4264-87cb-ec1657601e41",
   "metadata": {},
   "source": [
    "It is a branch of mathematics that deals with numbers and their various perspectives in pratical and industrial applications."
   ]
  },
  {
   "cell_type": "raw",
   "id": "4ceae451-1c30-457e-ac71-2acf084d06b8",
   "metadata": {},
   "source": [
    "There are 2 types of Statistics:\n",
    "    \n",
    "Descriptive\n",
    "\n",
    "Inferential"
   ]
  },
  {
   "cell_type": "raw",
   "id": "41d9705e-546d-44b5-98a2-acf98aad462e",
   "metadata": {},
   "source": [
    "Descriptive statistics is used when we have certain amount of data and we analyze its characteristics using mathematical concepts like mean, std dev, grpahs, etc.\n",
    "\n",
    "Inferential statistics is used when we take out sample data from a large population and analyze the sample data to find out the or predict the nature of the entire population."
   ]
  },
  {
   "cell_type": "markdown",
   "id": "3f43a51d-11c5-41f4-8cf2-fa0097bbe8ba",
   "metadata": {},
   "source": [
    "Q3. What are the different types of data and how do they differ from each other? Provide an example of\n",
    "each type of data."
   ]
  },
  {
   "cell_type": "markdown",
   "id": "e73fcef8-3b9a-4947-87fd-c789e6428384",
   "metadata": {},
   "source": [
    "There are 2 types of data:\n",
    "    \n",
    "Qualitative (data which cannot be measured in numerical terms)\n",
    "\n",
    "Quantitative (data which can be measured in numerical terms)\n",
    "\n",
    "Under qualitative feature, we consider categorical data and under quantitative, we consider continuous data..."
   ]
  },
  {
   "cell_type": "raw",
   "id": "fefb6b4b-b222-464a-9e32-194cedaae508",
   "metadata": {},
   "source": [
    "Ex: Categorical data like True/False, Pass/Fail, High/Low, etc.\n",
    "\n",
    "Continuous data like marks of student, sales in HR department, etc."
   ]
  },
  {
   "cell_type": "markdown",
   "id": "2f7f1b2e-613f-42aa-a810-146186996a1f",
   "metadata": {},
   "source": [
    "Q4. Categorise the following datasets with respect to quantitative and qualitative data types:"
   ]
  },
  {
   "cell_type": "markdown",
   "id": "db46f6fb-f819-4861-a7e1-812f2fbb8ee5",
   "metadata": {},
   "source": [
    "(i) Grading in exam: A+, A, B+, B, C+, C, D, E\n",
    "\n",
    "Answer: Quantitative\n",
    "    \n",
    "(ii) Colour of mangoes: yellow, green, orange, red\n",
    "\n",
    "Answer: Qualitative\n",
    "\n",
    "(iii) Height data of a class: [178.9, 179, 179.5, 176, 177.2, 178.3, 175.8,...]\n",
    "\n",
    "Answer: Quantitative\n",
    "    \n",
    "(iv) Number of mangoes exported by a farm: [500, 600, 478, 672, ...]\n",
    "\n",
    "Answer: Quantitative"
   ]
  },
  {
   "cell_type": "markdown",
   "id": "3e5c6071-8465-4e1e-ae38-9e17e7bc2e4c",
   "metadata": {},
   "source": [
    "Q5. Explain the concept of levels of measurement and give an example of a variable for each level."
   ]
  },
  {
   "cell_type": "raw",
   "id": "c90c24e1-2baf-4e0c-b042-613b4e438515",
   "metadata": {},
   "source": [
    "Under the level of measurement, we have 4 concepts:\n",
    "    \n",
    "Nominal Scale: This type of data can only be categorized (EXAMPLE: Car brands, Gender,etc.)\n",
    "\n",
    "Ordinal Scale: This data can be categorized and ranked (EXAMPLE: Feedback rating, etc.)\n",
    "\n",
    "Interval Scale: This data can be categorized, ranked, and evenly spaced (EXAMPLE: Exam score, temperature range, etc.)\n",
    "\n",
    "Ratio Scale: This data can be categorized, ranked, evenly spaced, and has a natural zero (EXAMPLE: height, weight, etc.)"
   ]
  },
  {
   "cell_type": "markdown",
   "id": "8d60e629-fbd4-4457-9126-795bc5917cd1",
   "metadata": {},
   "source": [
    "Q6. Why is it important to understand the level of measurement when analyzing data? Provide an\n",
    "example to illustrate your answer."
   ]
  },
  {
   "cell_type": "raw",
   "id": "7edb6d8a-94b5-419c-bc25-c4980a80e6fd",
   "metadata": {},
   "source": [
    "It is very important to understand the level of measurement because we deal with numerous types of data that support different nature. According to its nature, we have to select best fit method to classify the data and find out the meaningful information from it."
   ]
  },
  {
   "cell_type": "raw",
   "id": "e55baaec-69f4-4c06-a2ff-6614199a5ead",
   "metadata": {},
   "source": [
    "Ex: If we are analyzing the sales report in HR department, we are dealing with continuous data and we know that we cannot apply qualitative staistics here as it will not fit our model. Moreover, it will give us wrong predictions."
   ]
  },
  {
   "cell_type": "markdown",
   "id": "c60b7ded-b8e8-41ae-8316-ea49a58999e5",
   "metadata": {},
   "source": [
    "Q7. How nominal data type is different from ordinal data type."
   ]
  },
  {
   "cell_type": "raw",
   "id": "8ad08191-779e-4faf-8294-bc59b1654054",
   "metadata": {},
   "source": [
    "Nominal data can only be categorized while Ordinal data can be categorized as well as ranked."
   ]
  },
  {
   "cell_type": "raw",
   "id": "45d27305-1e5e-4da5-b29a-392f829dcf54",
   "metadata": {},
   "source": [
    "Ex: Under nominal data, we have categories like different breed of dogs. Here, each breed can be categorized but we cannot rank any specific breed as superior or inferior than the other.\n",
    "\n",
    "Under ordinal data, we have categories like different living status of people like rich, poor, average, etc. Here, we can categorize these status. At the same time, we can also rank them.\n",
    "Lets say, we can conclude that rich is greater than average and average is greater than poor."
   ]
  },
  {
   "cell_type": "markdown",
   "id": "0219fd21-917a-4115-a173-fde8ab646000",
   "metadata": {},
   "source": [
    "Q8. Which type of plot can be used to display data in terms of range?"
   ]
  },
  {
   "cell_type": "markdown",
   "id": "8778424c-6d4d-41f5-a25c-9e8b4a0884b9",
   "metadata": {},
   "source": [
    "Histogram"
   ]
  },
  {
   "cell_type": "markdown",
   "id": "adc9cd39-57dc-427f-8b13-7f1928862690",
   "metadata": {},
   "source": [
    "Q9. Describe the difference between descriptive and inferential statistics. Give an example of each\n",
    "type of statistics and explain how they are used."
   ]
  },
  {
   "cell_type": "markdown",
   "id": "7b108e16-8b52-46c5-ac16-c96d06645e9a",
   "metadata": {},
   "source": [
    "**Already discussed in first question...**"
   ]
  },
  {
   "cell_type": "markdown",
   "id": "ca28fa50-6b42-4e4f-9f12-9cd65f52f5c5",
   "metadata": {},
   "source": [
    "Q10. What are some common measures of central tendency and variability used in statistics? Explain\n",
    "how each measure can be used to describe a dataset."
   ]
  },
  {
   "cell_type": "raw",
   "id": "53d1a0f4-8460-4be6-8d3e-1aeef7665ccb",
   "metadata": {},
   "source": [
    "Measure of Central Tendency:\n",
    "    \n",
    "MEAN (Used to find the average value within a large dataset)\n",
    "\n",
    "MEDIAN (used to find out the outliers)\n",
    "\n",
    "MODE (used to find the frequently occuring data)\n",
    "\n",
    "Variability:\n",
    "\n",
    "Standard Deviation (Used to find how much a specific data point is deviated from the actual mean value)\n",
    "\n",
    "Variance (Shows the spreadness of data from the mean)"
   ]
  },
  {
   "cell_type": "markdown",
   "id": "30efe867-59a4-4c64-9525-c2d548aaf587",
   "metadata": {},
   "source": [
    "Lets see a simple example. We will create a dataframe and find out these values:"
   ]
  },
  {
   "cell_type": "code",
   "execution_count": 2,
   "id": "747a0b27-6634-4097-bf65-f4b727aeab0d",
   "metadata": {},
   "outputs": [],
   "source": [
    "import pandas as pd"
   ]
  },
  {
   "cell_type": "code",
   "execution_count": 5,
   "id": "0bbfd7b9-2433-4380-9f71-6999f1dc7ca7",
   "metadata": {},
   "outputs": [],
   "source": [
    "Marks = pd.DataFrame({\n",
    "    'Marks1':[4,7,9,34,2,12],\n",
    "    'Marks2':[12,9,3,16,23,16],\n",
    "    'Marks3':[20,14,8,16,9,24]\n",
    "})"
   ]
  },
  {
   "cell_type": "code",
   "execution_count": 6,
   "id": "c914cdba-c62c-46cd-bfcc-1e7932985093",
   "metadata": {},
   "outputs": [
    {
     "data": {
      "text/html": [
       "<div>\n",
       "<style scoped>\n",
       "    .dataframe tbody tr th:only-of-type {\n",
       "        vertical-align: middle;\n",
       "    }\n",
       "\n",
       "    .dataframe tbody tr th {\n",
       "        vertical-align: top;\n",
       "    }\n",
       "\n",
       "    .dataframe thead th {\n",
       "        text-align: right;\n",
       "    }\n",
       "</style>\n",
       "<table border=\"1\" class=\"dataframe\">\n",
       "  <thead>\n",
       "    <tr style=\"text-align: right;\">\n",
       "      <th></th>\n",
       "      <th>Marks1</th>\n",
       "      <th>Marks2</th>\n",
       "      <th>Marks3</th>\n",
       "    </tr>\n",
       "  </thead>\n",
       "  <tbody>\n",
       "    <tr>\n",
       "      <th>0</th>\n",
       "      <td>4</td>\n",
       "      <td>12</td>\n",
       "      <td>20</td>\n",
       "    </tr>\n",
       "    <tr>\n",
       "      <th>1</th>\n",
       "      <td>7</td>\n",
       "      <td>9</td>\n",
       "      <td>14</td>\n",
       "    </tr>\n",
       "    <tr>\n",
       "      <th>2</th>\n",
       "      <td>9</td>\n",
       "      <td>3</td>\n",
       "      <td>8</td>\n",
       "    </tr>\n",
       "    <tr>\n",
       "      <th>3</th>\n",
       "      <td>34</td>\n",
       "      <td>16</td>\n",
       "      <td>16</td>\n",
       "    </tr>\n",
       "    <tr>\n",
       "      <th>4</th>\n",
       "      <td>2</td>\n",
       "      <td>23</td>\n",
       "      <td>9</td>\n",
       "    </tr>\n",
       "    <tr>\n",
       "      <th>5</th>\n",
       "      <td>12</td>\n",
       "      <td>16</td>\n",
       "      <td>24</td>\n",
       "    </tr>\n",
       "  </tbody>\n",
       "</table>\n",
       "</div>"
      ],
      "text/plain": [
       "   Marks1  Marks2  Marks3\n",
       "0       4      12      20\n",
       "1       7       9      14\n",
       "2       9       3       8\n",
       "3      34      16      16\n",
       "4       2      23       9\n",
       "5      12      16      24"
      ]
     },
     "execution_count": 6,
     "metadata": {},
     "output_type": "execute_result"
    }
   ],
   "source": [
    "Marks"
   ]
  },
  {
   "cell_type": "code",
   "execution_count": 7,
   "id": "8234cd47-98d5-4ed5-982e-50a72be6e3a0",
   "metadata": {},
   "outputs": [
    {
     "data": {
      "text/plain": [
       "11.333333333333334"
      ]
     },
     "execution_count": 7,
     "metadata": {},
     "output_type": "execute_result"
    }
   ],
   "source": [
    "Marks['Marks1'].mean()"
   ]
  },
  {
   "cell_type": "code",
   "execution_count": 8,
   "id": "60901894-dd94-462e-a721-98a230343780",
   "metadata": {},
   "outputs": [
    {
     "data": {
      "text/plain": [
       "14.0"
      ]
     },
     "execution_count": 8,
     "metadata": {},
     "output_type": "execute_result"
    }
   ],
   "source": [
    "Marks['Marks2'].median()"
   ]
  },
  {
   "cell_type": "code",
   "execution_count": 9,
   "id": "50fed809-06ac-4005-b3b6-77ad4c8408ce",
   "metadata": {},
   "outputs": [
    {
     "data": {
      "text/plain": [
       "0     2\n",
       "1     4\n",
       "2     7\n",
       "3     9\n",
       "4    12\n",
       "5    34\n",
       "Name: Marks1, dtype: int64"
      ]
     },
     "execution_count": 9,
     "metadata": {},
     "output_type": "execute_result"
    }
   ],
   "source": [
    "Marks['Marks1'].mode()"
   ]
  },
  {
   "cell_type": "code",
   "execution_count": 11,
   "id": "2e09f0e8-e9bc-4e97-8dfd-185be78178e2",
   "metadata": {},
   "outputs": [
    {
     "data": {
      "text/plain": [
       "11.656185768366367"
      ]
     },
     "execution_count": 11,
     "metadata": {},
     "output_type": "execute_result"
    }
   ],
   "source": [
    "Marks['Marks1'].std()"
   ]
  },
  {
   "cell_type": "code",
   "execution_count": 12,
   "id": "4ec1f3ac-cc5c-440b-8dc8-bcb3a08c9470",
   "metadata": {},
   "outputs": [
    {
     "data": {
      "text/plain": [
       "135.86666666666665"
      ]
     },
     "execution_count": 12,
     "metadata": {},
     "output_type": "execute_result"
    }
   ],
   "source": [
    "Marks['Marks1'].var()"
   ]
  },
  {
   "cell_type": "code",
   "execution_count": 14,
   "id": "c89678d0-5cf4-47a5-bd43-cc005568cfed",
   "metadata": {},
   "outputs": [
    {
     "data": {
      "text/plain": [
       "<bound method Series.cov of 0     4\n",
       "1     7\n",
       "2     9\n",
       "3    34\n",
       "4     2\n",
       "5    12\n",
       "Name: Marks1, dtype: int64>"
      ]
     },
     "execution_count": 14,
     "metadata": {},
     "output_type": "execute_result"
    }
   ],
   "source": [
    "Marks['Marks1'].cov"
   ]
  },
  {
   "cell_type": "code",
   "execution_count": null,
   "id": "373872fd-6189-4c11-94d2-28a436daa0b3",
   "metadata": {},
   "outputs": [],
   "source": []
  }
 ],
 "metadata": {
  "kernelspec": {
   "display_name": "Python 3 (ipykernel)",
   "language": "python",
   "name": "python3"
  },
  "language_info": {
   "codemirror_mode": {
    "name": "ipython",
    "version": 3
   },
   "file_extension": ".py",
   "mimetype": "text/x-python",
   "name": "python",
   "nbconvert_exporter": "python",
   "pygments_lexer": "ipython3",
   "version": "3.10.8"
  }
 },
 "nbformat": 4,
 "nbformat_minor": 5
}
