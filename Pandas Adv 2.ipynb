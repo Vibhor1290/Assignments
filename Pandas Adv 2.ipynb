{
 "cells": [
  {
   "cell_type": "markdown",
   "id": "a1c480cf-6b99-47a4-b59b-cbb8014199a8",
   "metadata": {},
   "source": [
    "# Pandas Advance-2"
   ]
  },
  {
   "cell_type": "code",
   "execution_count": 1,
   "id": "868edc64-ab88-4c95-be94-cca2024a772f",
   "metadata": {},
   "outputs": [],
   "source": [
    "# Consider following code to answer further questions:\n",
    "\n",
    "import pandas as pd\n",
    "\n",
    "course_name = ['Data Science', 'Machine Learning', 'Big Data', 'Data Engineer']\n",
    "\n",
    "time_period = [12,8,6,14]\n",
    "\n",
    "df = pd.DataFrame(data = {'course_name':course_name, 'duration':time_period})"
   ]
  },
  {
   "cell_type": "code",
   "execution_count": 2,
   "id": "95366cae-5be9-496f-8b87-6783d06f2a04",
   "metadata": {},
   "outputs": [
    {
     "data": {
      "text/html": [
       "<div>\n",
       "<style scoped>\n",
       "    .dataframe tbody tr th:only-of-type {\n",
       "        vertical-align: middle;\n",
       "    }\n",
       "\n",
       "    .dataframe tbody tr th {\n",
       "        vertical-align: top;\n",
       "    }\n",
       "\n",
       "    .dataframe thead th {\n",
       "        text-align: right;\n",
       "    }\n",
       "</style>\n",
       "<table border=\"1\" class=\"dataframe\">\n",
       "  <thead>\n",
       "    <tr style=\"text-align: right;\">\n",
       "      <th></th>\n",
       "      <th>course_name</th>\n",
       "      <th>duration</th>\n",
       "    </tr>\n",
       "  </thead>\n",
       "  <tbody>\n",
       "    <tr>\n",
       "      <th>0</th>\n",
       "      <td>Data Science</td>\n",
       "      <td>12</td>\n",
       "    </tr>\n",
       "    <tr>\n",
       "      <th>1</th>\n",
       "      <td>Machine Learning</td>\n",
       "      <td>8</td>\n",
       "    </tr>\n",
       "    <tr>\n",
       "      <th>2</th>\n",
       "      <td>Big Data</td>\n",
       "      <td>6</td>\n",
       "    </tr>\n",
       "    <tr>\n",
       "      <th>3</th>\n",
       "      <td>Data Engineer</td>\n",
       "      <td>14</td>\n",
       "    </tr>\n",
       "  </tbody>\n",
       "</table>\n",
       "</div>"
      ],
      "text/plain": [
       "        course_name  duration\n",
       "0      Data Science        12\n",
       "1  Machine Learning         8\n",
       "2          Big Data         6\n",
       "3     Data Engineer        14"
      ]
     },
     "execution_count": 2,
     "metadata": {},
     "output_type": "execute_result"
    }
   ],
   "source": [
    "df"
   ]
  },
  {
   "cell_type": "markdown",
   "id": "7d1de6ea-8eba-43f5-9d8e-03d03835d9d8",
   "metadata": {},
   "source": [
    "Q1. Write a code to print the data present in the second row of the dataframe, df."
   ]
  },
  {
   "cell_type": "code",
   "execution_count": 3,
   "id": "39150949-3716-4f91-b4ab-f99348875bcb",
   "metadata": {},
   "outputs": [
    {
     "data": {
      "text/html": [
       "<div>\n",
       "<style scoped>\n",
       "    .dataframe tbody tr th:only-of-type {\n",
       "        vertical-align: middle;\n",
       "    }\n",
       "\n",
       "    .dataframe tbody tr th {\n",
       "        vertical-align: top;\n",
       "    }\n",
       "\n",
       "    .dataframe thead th {\n",
       "        text-align: right;\n",
       "    }\n",
       "</style>\n",
       "<table border=\"1\" class=\"dataframe\">\n",
       "  <thead>\n",
       "    <tr style=\"text-align: right;\">\n",
       "      <th></th>\n",
       "      <th>course_name</th>\n",
       "      <th>duration</th>\n",
       "    </tr>\n",
       "  </thead>\n",
       "  <tbody>\n",
       "    <tr>\n",
       "      <th>1</th>\n",
       "      <td>Machine Learning</td>\n",
       "      <td>8</td>\n",
       "    </tr>\n",
       "  </tbody>\n",
       "</table>\n",
       "</div>"
      ],
      "text/plain": [
       "        course_name  duration\n",
       "1  Machine Learning         8"
      ]
     },
     "execution_count": 3,
     "metadata": {},
     "output_type": "execute_result"
    }
   ],
   "source": [
    "df.iloc[1:2,:2]"
   ]
  },
  {
   "cell_type": "markdown",
   "id": "0857c0a6-12ce-4745-90ad-0da1c13ed8d4",
   "metadata": {},
   "source": [
    "Q2. What is the difference between the functions loc and iloc in pandas.DataFrame?"
   ]
  },
  {
   "cell_type": "code",
   "execution_count": 4,
   "id": "26a719d6-a4da-4901-8258-a0a370abf66b",
   "metadata": {},
   "outputs": [
    {
     "data": {
      "text/html": [
       "<div>\n",
       "<style scoped>\n",
       "    .dataframe tbody tr th:only-of-type {\n",
       "        vertical-align: middle;\n",
       "    }\n",
       "\n",
       "    .dataframe tbody tr th {\n",
       "        vertical-align: top;\n",
       "    }\n",
       "\n",
       "    .dataframe thead th {\n",
       "        text-align: right;\n",
       "    }\n",
       "</style>\n",
       "<table border=\"1\" class=\"dataframe\">\n",
       "  <thead>\n",
       "    <tr style=\"text-align: right;\">\n",
       "      <th></th>\n",
       "      <th>duration</th>\n",
       "    </tr>\n",
       "  </thead>\n",
       "  <tbody>\n",
       "    <tr>\n",
       "      <th>0</th>\n",
       "      <td>12</td>\n",
       "    </tr>\n",
       "    <tr>\n",
       "      <th>1</th>\n",
       "      <td>8</td>\n",
       "    </tr>\n",
       "    <tr>\n",
       "      <th>2</th>\n",
       "      <td>6</td>\n",
       "    </tr>\n",
       "    <tr>\n",
       "      <th>3</th>\n",
       "      <td>14</td>\n",
       "    </tr>\n",
       "  </tbody>\n",
       "</table>\n",
       "</div>"
      ],
      "text/plain": [
       "   duration\n",
       "0        12\n",
       "1         8\n",
       "2         6\n",
       "3        14"
      ]
     },
     "execution_count": 4,
     "metadata": {},
     "output_type": "execute_result"
    }
   ],
   "source": [
    "df.loc[0:3,['duration']]"
   ]
  },
  {
   "cell_type": "code",
   "execution_count": 5,
   "id": "39f3dfe8-11fa-42c1-8ff2-212bfd6651d4",
   "metadata": {},
   "outputs": [
    {
     "data": {
      "text/html": [
       "<div>\n",
       "<style scoped>\n",
       "    .dataframe tbody tr th:only-of-type {\n",
       "        vertical-align: middle;\n",
       "    }\n",
       "\n",
       "    .dataframe tbody tr th {\n",
       "        vertical-align: top;\n",
       "    }\n",
       "\n",
       "    .dataframe thead th {\n",
       "        text-align: right;\n",
       "    }\n",
       "</style>\n",
       "<table border=\"1\" class=\"dataframe\">\n",
       "  <thead>\n",
       "    <tr style=\"text-align: right;\">\n",
       "      <th></th>\n",
       "      <th>course_name</th>\n",
       "      <th>duration</th>\n",
       "    </tr>\n",
       "  </thead>\n",
       "  <tbody>\n",
       "    <tr>\n",
       "      <th>0</th>\n",
       "      <td>Data Science</td>\n",
       "      <td>12</td>\n",
       "    </tr>\n",
       "    <tr>\n",
       "      <th>1</th>\n",
       "      <td>Machine Learning</td>\n",
       "      <td>8</td>\n",
       "    </tr>\n",
       "    <tr>\n",
       "      <th>2</th>\n",
       "      <td>Big Data</td>\n",
       "      <td>6</td>\n",
       "    </tr>\n",
       "  </tbody>\n",
       "</table>\n",
       "</div>"
      ],
      "text/plain": [
       "        course_name  duration\n",
       "0      Data Science        12\n",
       "1  Machine Learning         8\n",
       "2          Big Data         6"
      ]
     },
     "execution_count": 5,
     "metadata": {},
     "output_type": "execute_result"
    }
   ],
   "source": [
    "df.iloc[0:3,:]"
   ]
  },
  {
   "cell_type": "markdown",
   "id": "ba7bbf30-a872-4be5-b043-9420134e92a6",
   "metadata": {},
   "source": [
    "In loc(), we pass the name of the row/column that we want to select from the entire table.\n",
    "\n",
    "While in iloc(), we have to simply give the index value for respective row and column that we want to select."
   ]
  },
  {
   "cell_type": "markdown",
   "id": "6b08cda9-21ff-412f-a82a-71a4444b7c3d",
   "metadata": {},
   "source": [
    "Q3. Reindex the given dataframe using a variable, reindex = [3,0,1,2] and store it in the variable, new_df \n",
    "then find the output for both new_df.loc[2] and new_df.iloc[2]."
   ]
  },
  {
   "cell_type": "raw",
   "id": "7f7ad489-628b-42f5-aad7-641d6f05165e",
   "metadata": {},
   "source": [
    "We will take the previous df for performing reindex...."
   ]
  },
  {
   "cell_type": "code",
   "execution_count": 6,
   "id": "1b9f5721-bde7-4e36-bee1-9c75818086f6",
   "metadata": {},
   "outputs": [
    {
     "data": {
      "text/html": [
       "<div>\n",
       "<style scoped>\n",
       "    .dataframe tbody tr th:only-of-type {\n",
       "        vertical-align: middle;\n",
       "    }\n",
       "\n",
       "    .dataframe tbody tr th {\n",
       "        vertical-align: top;\n",
       "    }\n",
       "\n",
       "    .dataframe thead th {\n",
       "        text-align: right;\n",
       "    }\n",
       "</style>\n",
       "<table border=\"1\" class=\"dataframe\">\n",
       "  <thead>\n",
       "    <tr style=\"text-align: right;\">\n",
       "      <th></th>\n",
       "      <th>course_name</th>\n",
       "      <th>duration</th>\n",
       "    </tr>\n",
       "  </thead>\n",
       "  <tbody>\n",
       "    <tr>\n",
       "      <th>0</th>\n",
       "      <td>Data Science</td>\n",
       "      <td>12</td>\n",
       "    </tr>\n",
       "    <tr>\n",
       "      <th>1</th>\n",
       "      <td>Machine Learning</td>\n",
       "      <td>8</td>\n",
       "    </tr>\n",
       "    <tr>\n",
       "      <th>2</th>\n",
       "      <td>Big Data</td>\n",
       "      <td>6</td>\n",
       "    </tr>\n",
       "    <tr>\n",
       "      <th>3</th>\n",
       "      <td>Data Engineer</td>\n",
       "      <td>14</td>\n",
       "    </tr>\n",
       "  </tbody>\n",
       "</table>\n",
       "</div>"
      ],
      "text/plain": [
       "        course_name  duration\n",
       "0      Data Science        12\n",
       "1  Machine Learning         8\n",
       "2          Big Data         6\n",
       "3     Data Engineer        14"
      ]
     },
     "execution_count": 6,
     "metadata": {},
     "output_type": "execute_result"
    }
   ],
   "source": [
    "df"
   ]
  },
  {
   "cell_type": "raw",
   "id": "b2f68c33-fc84-4504-b7c7-78001c545a56",
   "metadata": {},
   "source": [
    "We will re-index the df in order 3,0,1,2 and save it as a new df...."
   ]
  },
  {
   "cell_type": "code",
   "execution_count": 8,
   "id": "5ea22b5f-ce89-4e39-a855-ca4eab9bed7b",
   "metadata": {},
   "outputs": [],
   "source": [
    "df_new = df.reindex(index=[3,0,1,2])"
   ]
  },
  {
   "cell_type": "code",
   "execution_count": 10,
   "id": "2eb6123e-50e2-4a69-8839-ca2fe06519ff",
   "metadata": {},
   "outputs": [
    {
     "data": {
      "text/html": [
       "<div>\n",
       "<style scoped>\n",
       "    .dataframe tbody tr th:only-of-type {\n",
       "        vertical-align: middle;\n",
       "    }\n",
       "\n",
       "    .dataframe tbody tr th {\n",
       "        vertical-align: top;\n",
       "    }\n",
       "\n",
       "    .dataframe thead th {\n",
       "        text-align: right;\n",
       "    }\n",
       "</style>\n",
       "<table border=\"1\" class=\"dataframe\">\n",
       "  <thead>\n",
       "    <tr style=\"text-align: right;\">\n",
       "      <th></th>\n",
       "      <th>course_name</th>\n",
       "      <th>duration</th>\n",
       "    </tr>\n",
       "  </thead>\n",
       "  <tbody>\n",
       "    <tr>\n",
       "      <th>3</th>\n",
       "      <td>Data Engineer</td>\n",
       "      <td>14</td>\n",
       "    </tr>\n",
       "    <tr>\n",
       "      <th>0</th>\n",
       "      <td>Data Science</td>\n",
       "      <td>12</td>\n",
       "    </tr>\n",
       "    <tr>\n",
       "      <th>1</th>\n",
       "      <td>Machine Learning</td>\n",
       "      <td>8</td>\n",
       "    </tr>\n",
       "    <tr>\n",
       "      <th>2</th>\n",
       "      <td>Big Data</td>\n",
       "      <td>6</td>\n",
       "    </tr>\n",
       "  </tbody>\n",
       "</table>\n",
       "</div>"
      ],
      "text/plain": [
       "        course_name  duration\n",
       "3     Data Engineer        14\n",
       "0      Data Science        12\n",
       "1  Machine Learning         8\n",
       "2          Big Data         6"
      ]
     },
     "execution_count": 10,
     "metadata": {},
     "output_type": "execute_result"
    }
   ],
   "source": [
    "df_new"
   ]
  },
  {
   "cell_type": "code",
   "execution_count": 11,
   "id": "c034c5d1-da31-4e15-9f10-e44e4cdfe027",
   "metadata": {},
   "outputs": [
    {
     "data": {
      "text/plain": [
       "course_name    Big Data\n",
       "duration              6\n",
       "Name: 2, dtype: object"
      ]
     },
     "execution_count": 11,
     "metadata": {},
     "output_type": "execute_result"
    }
   ],
   "source": [
    "df_new.loc[2]"
   ]
  },
  {
   "cell_type": "code",
   "execution_count": 12,
   "id": "27f903e8-458f-4e65-85d2-075e93f5988d",
   "metadata": {},
   "outputs": [
    {
     "data": {
      "text/plain": [
       "course_name    Machine Learning\n",
       "duration                      8\n",
       "Name: 1, dtype: object"
      ]
     },
     "execution_count": 12,
     "metadata": {},
     "output_type": "execute_result"
    }
   ],
   "source": [
    "df_new.iloc[2]"
   ]
  },
  {
   "cell_type": "raw",
   "id": "1c5df198-035d-4c33-a1e6-3ac012150f64",
   "metadata": {},
   "source": [
    "In first code, we got the output as per the index number that we gave as input...\n",
    "\n",
    "In second code, we got the output as per the by default index number for the table"
   ]
  },
  {
   "cell_type": "code",
   "execution_count": 13,
   "id": "0a6c1727-4e82-4184-8c1e-5c195c4c0b50",
   "metadata": {},
   "outputs": [],
   "source": [
    "import pandas as pd\n",
    "\n",
    "import numpy as np\n",
    "\n",
    "columns = ['column_1', 'column_2', 'column_3', 'column_4', 'column_5', 'column_6']\n",
    "\n",
    "indices = [1,2,3,4,5,6]\n",
    "\n",
    "#Creating a dataframe:\n",
    "\n",
    "df1 = pd.DataFrame(np.random.rand(6,6), columns = columns, index = indices)"
   ]
  },
  {
   "cell_type": "code",
   "execution_count": 14,
   "id": "ff2f157b-66bb-4a33-a0dd-cc1e2f89a590",
   "metadata": {},
   "outputs": [
    {
     "data": {
      "text/html": [
       "<div>\n",
       "<style scoped>\n",
       "    .dataframe tbody tr th:only-of-type {\n",
       "        vertical-align: middle;\n",
       "    }\n",
       "\n",
       "    .dataframe tbody tr th {\n",
       "        vertical-align: top;\n",
       "    }\n",
       "\n",
       "    .dataframe thead th {\n",
       "        text-align: right;\n",
       "    }\n",
       "</style>\n",
       "<table border=\"1\" class=\"dataframe\">\n",
       "  <thead>\n",
       "    <tr style=\"text-align: right;\">\n",
       "      <th></th>\n",
       "      <th>column_1</th>\n",
       "      <th>column_2</th>\n",
       "      <th>column_3</th>\n",
       "      <th>column_4</th>\n",
       "      <th>column_5</th>\n",
       "      <th>column_6</th>\n",
       "    </tr>\n",
       "  </thead>\n",
       "  <tbody>\n",
       "    <tr>\n",
       "      <th>1</th>\n",
       "      <td>0.066475</td>\n",
       "      <td>0.758995</td>\n",
       "      <td>0.795326</td>\n",
       "      <td>0.768832</td>\n",
       "      <td>0.964859</td>\n",
       "      <td>0.151535</td>\n",
       "    </tr>\n",
       "    <tr>\n",
       "      <th>2</th>\n",
       "      <td>0.142829</td>\n",
       "      <td>0.103923</td>\n",
       "      <td>0.680501</td>\n",
       "      <td>0.902699</td>\n",
       "      <td>0.261866</td>\n",
       "      <td>0.001665</td>\n",
       "    </tr>\n",
       "    <tr>\n",
       "      <th>3</th>\n",
       "      <td>0.760025</td>\n",
       "      <td>0.577788</td>\n",
       "      <td>0.752758</td>\n",
       "      <td>0.805293</td>\n",
       "      <td>0.798327</td>\n",
       "      <td>0.983030</td>\n",
       "    </tr>\n",
       "    <tr>\n",
       "      <th>4</th>\n",
       "      <td>0.505345</td>\n",
       "      <td>0.800476</td>\n",
       "      <td>0.275800</td>\n",
       "      <td>0.687766</td>\n",
       "      <td>0.881631</td>\n",
       "      <td>0.938325</td>\n",
       "    </tr>\n",
       "    <tr>\n",
       "      <th>5</th>\n",
       "      <td>0.275602</td>\n",
       "      <td>0.270904</td>\n",
       "      <td>0.831038</td>\n",
       "      <td>0.425218</td>\n",
       "      <td>0.016065</td>\n",
       "      <td>0.459775</td>\n",
       "    </tr>\n",
       "    <tr>\n",
       "      <th>6</th>\n",
       "      <td>0.501007</td>\n",
       "      <td>0.248895</td>\n",
       "      <td>0.260749</td>\n",
       "      <td>0.153643</td>\n",
       "      <td>0.651618</td>\n",
       "      <td>0.739209</td>\n",
       "    </tr>\n",
       "  </tbody>\n",
       "</table>\n",
       "</div>"
      ],
      "text/plain": [
       "   column_1  column_2  column_3  column_4  column_5  column_6\n",
       "1  0.066475  0.758995  0.795326  0.768832  0.964859  0.151535\n",
       "2  0.142829  0.103923  0.680501  0.902699  0.261866  0.001665\n",
       "3  0.760025  0.577788  0.752758  0.805293  0.798327  0.983030\n",
       "4  0.505345  0.800476  0.275800  0.687766  0.881631  0.938325\n",
       "5  0.275602  0.270904  0.831038  0.425218  0.016065  0.459775\n",
       "6  0.501007  0.248895  0.260749  0.153643  0.651618  0.739209"
      ]
     },
     "execution_count": 14,
     "metadata": {},
     "output_type": "execute_result"
    }
   ],
   "source": [
    "df1"
   ]
  },
  {
   "cell_type": "code",
   "execution_count": 15,
   "id": "ea881bea-03c6-4c05-b5e0-20348e576fe4",
   "metadata": {},
   "outputs": [],
   "source": [
    "# Mean of each and every column in the dataframe"
   ]
  },
  {
   "cell_type": "code",
   "execution_count": 16,
   "id": "16954148-c768-4407-8e60-b9f9bd28399c",
   "metadata": {},
   "outputs": [
    {
     "data": {
      "text/html": [
       "<div>\n",
       "<style scoped>\n",
       "    .dataframe tbody tr th:only-of-type {\n",
       "        vertical-align: middle;\n",
       "    }\n",
       "\n",
       "    .dataframe tbody tr th {\n",
       "        vertical-align: top;\n",
       "    }\n",
       "\n",
       "    .dataframe thead th {\n",
       "        text-align: right;\n",
       "    }\n",
       "</style>\n",
       "<table border=\"1\" class=\"dataframe\">\n",
       "  <thead>\n",
       "    <tr style=\"text-align: right;\">\n",
       "      <th></th>\n",
       "      <th>column_1</th>\n",
       "      <th>column_2</th>\n",
       "      <th>column_3</th>\n",
       "      <th>column_4</th>\n",
       "      <th>column_5</th>\n",
       "      <th>column_6</th>\n",
       "    </tr>\n",
       "  </thead>\n",
       "  <tbody>\n",
       "    <tr>\n",
       "      <th>count</th>\n",
       "      <td>6.000000</td>\n",
       "      <td>6.000000</td>\n",
       "      <td>6.000000</td>\n",
       "      <td>6.000000</td>\n",
       "      <td>6.000000</td>\n",
       "      <td>6.000000</td>\n",
       "    </tr>\n",
       "    <tr>\n",
       "      <th>mean</th>\n",
       "      <td>0.375214</td>\n",
       "      <td>0.460163</td>\n",
       "      <td>0.599362</td>\n",
       "      <td>0.623908</td>\n",
       "      <td>0.595728</td>\n",
       "      <td>0.545590</td>\n",
       "    </tr>\n",
       "    <tr>\n",
       "      <th>std</th>\n",
       "      <td>0.260800</td>\n",
       "      <td>0.291996</td>\n",
       "      <td>0.261358</td>\n",
       "      <td>0.281543</td>\n",
       "      <td>0.376733</td>\n",
       "      <td>0.410263</td>\n",
       "    </tr>\n",
       "    <tr>\n",
       "      <th>min</th>\n",
       "      <td>0.066475</td>\n",
       "      <td>0.103923</td>\n",
       "      <td>0.260749</td>\n",
       "      <td>0.153643</td>\n",
       "      <td>0.016065</td>\n",
       "      <td>0.001665</td>\n",
       "    </tr>\n",
       "    <tr>\n",
       "      <th>25%</th>\n",
       "      <td>0.176023</td>\n",
       "      <td>0.254397</td>\n",
       "      <td>0.376975</td>\n",
       "      <td>0.490855</td>\n",
       "      <td>0.359304</td>\n",
       "      <td>0.228595</td>\n",
       "    </tr>\n",
       "    <tr>\n",
       "      <th>50%</th>\n",
       "      <td>0.388305</td>\n",
       "      <td>0.424346</td>\n",
       "      <td>0.716630</td>\n",
       "      <td>0.728299</td>\n",
       "      <td>0.724972</td>\n",
       "      <td>0.599492</td>\n",
       "    </tr>\n",
       "    <tr>\n",
       "      <th>75%</th>\n",
       "      <td>0.504261</td>\n",
       "      <td>0.713693</td>\n",
       "      <td>0.784684</td>\n",
       "      <td>0.796178</td>\n",
       "      <td>0.860805</td>\n",
       "      <td>0.888546</td>\n",
       "    </tr>\n",
       "    <tr>\n",
       "      <th>max</th>\n",
       "      <td>0.760025</td>\n",
       "      <td>0.800476</td>\n",
       "      <td>0.831038</td>\n",
       "      <td>0.902699</td>\n",
       "      <td>0.964859</td>\n",
       "      <td>0.983030</td>\n",
       "    </tr>\n",
       "  </tbody>\n",
       "</table>\n",
       "</div>"
      ],
      "text/plain": [
       "       column_1  column_2  column_3  column_4  column_5  column_6\n",
       "count  6.000000  6.000000  6.000000  6.000000  6.000000  6.000000\n",
       "mean   0.375214  0.460163  0.599362  0.623908  0.595728  0.545590\n",
       "std    0.260800  0.291996  0.261358  0.281543  0.376733  0.410263\n",
       "min    0.066475  0.103923  0.260749  0.153643  0.016065  0.001665\n",
       "25%    0.176023  0.254397  0.376975  0.490855  0.359304  0.228595\n",
       "50%    0.388305  0.424346  0.716630  0.728299  0.724972  0.599492\n",
       "75%    0.504261  0.713693  0.784684  0.796178  0.860805  0.888546\n",
       "max    0.760025  0.800476  0.831038  0.902699  0.964859  0.983030"
      ]
     },
     "execution_count": 16,
     "metadata": {},
     "output_type": "execute_result"
    }
   ],
   "source": [
    "df1.describe()"
   ]
  },
  {
   "cell_type": "code",
   "execution_count": 19,
   "id": "742b8edd-d170-4eb0-8bb9-a18b1759a4d9",
   "metadata": {},
   "outputs": [
    {
     "data": {
      "text/plain": [
       "0.2919964032722546"
      ]
     },
     "execution_count": 19,
     "metadata": {},
     "output_type": "execute_result"
    }
   ],
   "source": [
    "# Standard deviation of column_2\n",
    "df1['column_2'].std()"
   ]
  },
  {
   "cell_type": "markdown",
   "id": "932932a6-8b47-4793-95b7-80661276570b",
   "metadata": {},
   "source": [
    "Q5. Replace the data present in the second row of column, ‘column_2’ by a string variable then find the \n",
    "mean of column, column_2."
   ]
  },
  {
   "cell_type": "code",
   "execution_count": 21,
   "id": "c2254ac5-87f1-42b5-950f-557a68cff46e",
   "metadata": {},
   "outputs": [
    {
     "data": {
      "text/html": [
       "<div>\n",
       "<style scoped>\n",
       "    .dataframe tbody tr th:only-of-type {\n",
       "        vertical-align: middle;\n",
       "    }\n",
       "\n",
       "    .dataframe tbody tr th {\n",
       "        vertical-align: top;\n",
       "    }\n",
       "\n",
       "    .dataframe thead th {\n",
       "        text-align: right;\n",
       "    }\n",
       "</style>\n",
       "<table border=\"1\" class=\"dataframe\">\n",
       "  <thead>\n",
       "    <tr style=\"text-align: right;\">\n",
       "      <th></th>\n",
       "      <th>column_1</th>\n",
       "      <th>column_2</th>\n",
       "      <th>column_3</th>\n",
       "      <th>column_4</th>\n",
       "      <th>column_5</th>\n",
       "      <th>column_6</th>\n",
       "    </tr>\n",
       "  </thead>\n",
       "  <tbody>\n",
       "    <tr>\n",
       "      <th>1</th>\n",
       "      <td>0.066475</td>\n",
       "      <td>0.758995</td>\n",
       "      <td>0.795326</td>\n",
       "      <td>0.768832</td>\n",
       "      <td>0.964859</td>\n",
       "      <td>0.151535</td>\n",
       "    </tr>\n",
       "    <tr>\n",
       "      <th>2</th>\n",
       "      <td>0.142829</td>\n",
       "      <td>0.103923</td>\n",
       "      <td>0.680501</td>\n",
       "      <td>0.902699</td>\n",
       "      <td>0.261866</td>\n",
       "      <td>0.001665</td>\n",
       "    </tr>\n",
       "    <tr>\n",
       "      <th>3</th>\n",
       "      <td>0.760025</td>\n",
       "      <td>0.577788</td>\n",
       "      <td>0.752758</td>\n",
       "      <td>0.805293</td>\n",
       "      <td>0.798327</td>\n",
       "      <td>0.983030</td>\n",
       "    </tr>\n",
       "    <tr>\n",
       "      <th>4</th>\n",
       "      <td>0.505345</td>\n",
       "      <td>0.800476</td>\n",
       "      <td>0.275800</td>\n",
       "      <td>0.687766</td>\n",
       "      <td>0.881631</td>\n",
       "      <td>0.938325</td>\n",
       "    </tr>\n",
       "    <tr>\n",
       "      <th>5</th>\n",
       "      <td>0.275602</td>\n",
       "      <td>0.270904</td>\n",
       "      <td>0.831038</td>\n",
       "      <td>0.425218</td>\n",
       "      <td>0.016065</td>\n",
       "      <td>0.459775</td>\n",
       "    </tr>\n",
       "    <tr>\n",
       "      <th>6</th>\n",
       "      <td>0.501007</td>\n",
       "      <td>0.248895</td>\n",
       "      <td>0.260749</td>\n",
       "      <td>0.153643</td>\n",
       "      <td>0.651618</td>\n",
       "      <td>0.739209</td>\n",
       "    </tr>\n",
       "  </tbody>\n",
       "</table>\n",
       "</div>"
      ],
      "text/plain": [
       "   column_1  column_2  column_3  column_4  column_5  column_6\n",
       "1  0.066475  0.758995  0.795326  0.768832  0.964859  0.151535\n",
       "2  0.142829  0.103923  0.680501  0.902699  0.261866  0.001665\n",
       "3  0.760025  0.577788  0.752758  0.805293  0.798327  0.983030\n",
       "4  0.505345  0.800476  0.275800  0.687766  0.881631  0.938325\n",
       "5  0.275602  0.270904  0.831038  0.425218  0.016065  0.459775\n",
       "6  0.501007  0.248895  0.260749  0.153643  0.651618  0.739209"
      ]
     },
     "execution_count": 21,
     "metadata": {},
     "output_type": "execute_result"
    }
   ],
   "source": [
    "df1"
   ]
  },
  {
   "cell_type": "code",
   "execution_count": 22,
   "id": "d9df5429-9058-4927-a757-229d4513f0a7",
   "metadata": {},
   "outputs": [
    {
     "data": {
      "text/html": [
       "<div>\n",
       "<style scoped>\n",
       "    .dataframe tbody tr th:only-of-type {\n",
       "        vertical-align: middle;\n",
       "    }\n",
       "\n",
       "    .dataframe tbody tr th {\n",
       "        vertical-align: top;\n",
       "    }\n",
       "\n",
       "    .dataframe thead th {\n",
       "        text-align: right;\n",
       "    }\n",
       "</style>\n",
       "<table border=\"1\" class=\"dataframe\">\n",
       "  <thead>\n",
       "    <tr style=\"text-align: right;\">\n",
       "      <th></th>\n",
       "      <th>column_2</th>\n",
       "    </tr>\n",
       "  </thead>\n",
       "  <tbody>\n",
       "    <tr>\n",
       "      <th>2</th>\n",
       "      <td>0.103923</td>\n",
       "    </tr>\n",
       "  </tbody>\n",
       "</table>\n",
       "</div>"
      ],
      "text/plain": [
       "   column_2\n",
       "2  0.103923"
      ]
     },
     "execution_count": 22,
     "metadata": {},
     "output_type": "execute_result"
    }
   ],
   "source": [
    "df1.iloc[1:2,1:2]"
   ]
  },
  {
   "cell_type": "code",
   "execution_count": 23,
   "id": "39017d6c-d8b9-4afe-86c2-0fd1cc88caff",
   "metadata": {},
   "outputs": [],
   "source": [
    "df1.iloc[1:2,1:2] = 0.45"
   ]
  },
  {
   "cell_type": "code",
   "execution_count": 24,
   "id": "70c1537a-888e-4b5f-8d04-0646a40c1b81",
   "metadata": {},
   "outputs": [
    {
     "data": {
      "text/html": [
       "<div>\n",
       "<style scoped>\n",
       "    .dataframe tbody tr th:only-of-type {\n",
       "        vertical-align: middle;\n",
       "    }\n",
       "\n",
       "    .dataframe tbody tr th {\n",
       "        vertical-align: top;\n",
       "    }\n",
       "\n",
       "    .dataframe thead th {\n",
       "        text-align: right;\n",
       "    }\n",
       "</style>\n",
       "<table border=\"1\" class=\"dataframe\">\n",
       "  <thead>\n",
       "    <tr style=\"text-align: right;\">\n",
       "      <th></th>\n",
       "      <th>column_1</th>\n",
       "      <th>column_2</th>\n",
       "      <th>column_3</th>\n",
       "      <th>column_4</th>\n",
       "      <th>column_5</th>\n",
       "      <th>column_6</th>\n",
       "    </tr>\n",
       "  </thead>\n",
       "  <tbody>\n",
       "    <tr>\n",
       "      <th>1</th>\n",
       "      <td>0.066475</td>\n",
       "      <td>0.758995</td>\n",
       "      <td>0.795326</td>\n",
       "      <td>0.768832</td>\n",
       "      <td>0.964859</td>\n",
       "      <td>0.151535</td>\n",
       "    </tr>\n",
       "    <tr>\n",
       "      <th>2</th>\n",
       "      <td>0.142829</td>\n",
       "      <td>0.450000</td>\n",
       "      <td>0.680501</td>\n",
       "      <td>0.902699</td>\n",
       "      <td>0.261866</td>\n",
       "      <td>0.001665</td>\n",
       "    </tr>\n",
       "    <tr>\n",
       "      <th>3</th>\n",
       "      <td>0.760025</td>\n",
       "      <td>0.577788</td>\n",
       "      <td>0.752758</td>\n",
       "      <td>0.805293</td>\n",
       "      <td>0.798327</td>\n",
       "      <td>0.983030</td>\n",
       "    </tr>\n",
       "    <tr>\n",
       "      <th>4</th>\n",
       "      <td>0.505345</td>\n",
       "      <td>0.800476</td>\n",
       "      <td>0.275800</td>\n",
       "      <td>0.687766</td>\n",
       "      <td>0.881631</td>\n",
       "      <td>0.938325</td>\n",
       "    </tr>\n",
       "    <tr>\n",
       "      <th>5</th>\n",
       "      <td>0.275602</td>\n",
       "      <td>0.270904</td>\n",
       "      <td>0.831038</td>\n",
       "      <td>0.425218</td>\n",
       "      <td>0.016065</td>\n",
       "      <td>0.459775</td>\n",
       "    </tr>\n",
       "    <tr>\n",
       "      <th>6</th>\n",
       "      <td>0.501007</td>\n",
       "      <td>0.248895</td>\n",
       "      <td>0.260749</td>\n",
       "      <td>0.153643</td>\n",
       "      <td>0.651618</td>\n",
       "      <td>0.739209</td>\n",
       "    </tr>\n",
       "  </tbody>\n",
       "</table>\n",
       "</div>"
      ],
      "text/plain": [
       "   column_1  column_2  column_3  column_4  column_5  column_6\n",
       "1  0.066475  0.758995  0.795326  0.768832  0.964859  0.151535\n",
       "2  0.142829  0.450000  0.680501  0.902699  0.261866  0.001665\n",
       "3  0.760025  0.577788  0.752758  0.805293  0.798327  0.983030\n",
       "4  0.505345  0.800476  0.275800  0.687766  0.881631  0.938325\n",
       "5  0.275602  0.270904  0.831038  0.425218  0.016065  0.459775\n",
       "6  0.501007  0.248895  0.260749  0.153643  0.651618  0.739209"
      ]
     },
     "execution_count": 24,
     "metadata": {},
     "output_type": "execute_result"
    }
   ],
   "source": [
    "df1"
   ]
  },
  {
   "cell_type": "code",
   "execution_count": 26,
   "id": "3ef2380a-c123-4239-8637-478b45034753",
   "metadata": {},
   "outputs": [
    {
     "data": {
      "text/plain": [
       "0.5178429213068215"
      ]
     },
     "execution_count": 26,
     "metadata": {},
     "output_type": "execute_result"
    }
   ],
   "source": [
    "# Mean of column_2\n",
    "df1['column_2'].mean()"
   ]
  },
  {
   "cell_type": "markdown",
   "id": "4a418446-06a5-47e1-9a32-aefd85f79d48",
   "metadata": {},
   "source": [
    "Q6. What do you understand about the windows function in pandas and list the types of windows \n",
    "functions?"
   ]
  },
  {
   "cell_type": "raw",
   "id": "994c367d-131f-428c-94b9-23eaba972428",
   "metadata": {},
   "source": [
    "Windows function is used to calcute the moving average of the data. There are 3 tyes of windows function:\n",
    "    \n",
    "Simple moving average\n",
    "\n",
    "Cumulative moving average\n",
    "\n",
    "Exponential weighted moving average"
   ]
  },
  {
   "cell_type": "markdown",
   "id": "344faf50-daf5-4e50-8608-b77efbb9647b",
   "metadata": {},
   "source": [
    "Q7. Write a code to print only the current month and year at the time of answering this question."
   ]
  },
  {
   "cell_type": "code",
   "execution_count": 28,
   "id": "f8441ba7-25b8-4e6d-a5b9-552cdce3d45f",
   "metadata": {},
   "outputs": [
    {
     "name": "stdout",
     "output_type": "stream",
     "text": [
      "Current month and year: June 2024\n"
     ]
    }
   ],
   "source": [
    "from datetime import datetime\n",
    "\n",
    "current_date = datetime.now()\n",
    "current_month = current_date.strftime(\"%B\")\n",
    "current_year = current_date.year\n",
    "\n",
    "print(\"Current month and year:\", current_month, current_year)"
   ]
  },
  {
   "cell_type": "markdown",
   "id": "20bf18d8-e338-475f-b527-665d301deb0a",
   "metadata": {},
   "source": [
    "Q8. Write a Python program that takes in two dates as input (in the format YYYY-MM-DD) and \n",
    "calculates the difference between them in days, hours, and minutes using Pandas time delta. The \n",
    "program should prompt the user to enter the dates and display the result."
   ]
  },
  {
   "cell_type": "code",
   "execution_count": 30,
   "id": "6ab6f639-e9da-4cd7-8f1d-f23b48e3f6ed",
   "metadata": {},
   "outputs": [
    {
     "name": "stdin",
     "output_type": "stream",
     "text": [
      "Enter the start date (YYYY-MM-DD):  2024-04-11\n",
      "Enter the end date (YYYY-MM-DD):  2024-07-24\n"
     ]
    },
    {
     "name": "stdout",
     "output_type": "stream",
     "text": [
      "Difference between the dates:\n",
      "Days: 104\n",
      "Hours: 0\n",
      "Minutes: 0\n"
     ]
    }
   ],
   "source": [
    "def difference(start, end):\n",
    "    start = pd.to_datetime(start)\n",
    "    end = pd.to_datetime(end)\n",
    "    \n",
    "    time_difference = end - start\n",
    "    \n",
    "    days = time_difference.days\n",
    "    hours = time_difference.seconds // 3600\n",
    "    minutes = (time_difference.seconds % 3600) // 60\n",
    "    return days, hours, minutes\n",
    "\n",
    "start_date_input = input(\"Enter the start date (YYYY-MM-DD): \")\n",
    "end_date_input = input(\"Enter the end date (YYYY-MM-DD): \")\n",
    "\n",
    "# Calculate the difference between the dates\n",
    "days_diff, hours_diff, minutes_diff = difference(start_date_input, end_date_input)\n",
    "\n",
    "# Display the result\n",
    "print(\"Difference between the dates:\")\n",
    "print(\"Days:\", days_diff)\n",
    "print(\"Hours:\", hours_diff)\n",
    "print(\"Minutes:\", minutes_diff)"
   ]
  },
  {
   "cell_type": "markdown",
   "id": "05d5c306-e12a-4732-ab09-09819d7fb2a1",
   "metadata": {},
   "source": [
    "Q11. You are given a CSV file containing student data that includes the student ID and their test score. Write \n",
    "a Python program that reads the CSV file, calculates the mean, median, and mode of the test scores, and \n",
    "displays the results in a table."
   ]
  },
  {
   "cell_type": "code",
   "execution_count": null,
   "id": "952c1ea3-32be-4e09-b5f2-00294c89ff70",
   "metadata": {},
   "outputs": [],
   "source": [
    "import pandas as pd\n",
    "\n",
    "# Prompt user to enter csv file path\n",
    "file_path = input(\"Enter the file path of the CSV file containing the student data: \")\n",
    "\n",
    "# Read CSV file into DataFrame\n",
    "df = pd.read_csv(file_path)\n",
    "\n",
    "# Calculate mean, median, and mode of test scores\n",
    "mean_score = df['Test Score'].mean()\n",
    "median_score = df['Test Score'].median()\n",
    "mode_score = df['Test Score'].mode()[0]\n",
    "\n",
    "# Display the results in a table\n",
    "results = pd.DataFrame({\n",
    "    'Statistic': ['Mean', 'Median', 'Mode'],\n",
    "    'Test Score': [mean_score, median_score, mode_score]\n",
    "})\n",
    "\n",
    "print(\"Results:\")\n",
    "print(results)"
   ]
  },
  {
   "cell_type": "code",
   "execution_count": null,
   "id": "c54e93e2-8243-4718-b17f-cf8c5bdabd45",
   "metadata": {},
   "outputs": [],
   "source": []
  }
 ],
 "metadata": {
  "kernelspec": {
   "display_name": "Python 3 (ipykernel)",
   "language": "python",
   "name": "python3"
  },
  "language_info": {
   "codemirror_mode": {
    "name": "ipython",
    "version": 3
   },
   "file_extension": ".py",
   "mimetype": "text/x-python",
   "name": "python",
   "nbconvert_exporter": "python",
   "pygments_lexer": "ipython3",
   "version": "3.10.8"
  }
 },
 "nbformat": 4,
 "nbformat_minor": 5
}
