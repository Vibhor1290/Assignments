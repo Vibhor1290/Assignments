{
 "cells": [
  {
   "cell_type": "markdown",
   "id": "a75fb2b1-fb77-4018-8833-f335bafee6f0",
   "metadata": {},
   "source": [
    "# Statistics Advance-1"
   ]
  },
  {
   "cell_type": "markdown",
   "id": "b080e359-687c-4dfb-abf3-f9d1c5c68a30",
   "metadata": {},
   "source": [
    "Q1. What is the Probability density function?"
   ]
  },
  {
   "cell_type": "raw",
   "id": "b248472a-f0bc-48de-aad3-23053fbf6e29",
   "metadata": {},
   "source": [
    "Probability density function (PDF) is a function that shows us the probability of occurrence of a datapoint within a specific range/interval. PDF is used when we have continuous data. As the name suggests, the value of PDF lies between 0 to 1."
   ]
  },
  {
   "cell_type": "markdown",
   "id": "ebf6ff66-20b9-49a7-b2a2-1c8ed46b8fad",
   "metadata": {},
   "source": [
    "Q2. What are the types of Probability distribution?"
   ]
  },
  {
   "cell_type": "raw",
   "id": "76f19ec9-51de-4811-81e1-33304f6f587b",
   "metadata": {},
   "source": [
    "There are mainly 5 types of distribution:\n",
    "    \n",
    "1. Binomial Distribution\n",
    "\n",
    "2. Bernoulli Distribution\n",
    "\n",
    "3. Poisson Distribution\n",
    "\n",
    "4. Gaussian Distribution\n",
    "\n",
    "5. Uniform Distribution"
   ]
  },
  {
   "cell_type": "markdown",
   "id": "15dee4ab-94fc-4e12-9c84-23ed68d37116",
   "metadata": {},
   "source": [
    "Q3. Write a Python function to calculate the probability density function of a normal distribution with\n",
    "given mean and standard deviation at a given point."
   ]
  },
  {
   "cell_type": "code",
   "execution_count": 3,
   "id": "96e53094-d4d0-49e2-9316-b06d364ae07c",
   "metadata": {},
   "outputs": [
    {
     "name": "stdout",
     "output_type": "stream",
     "text": [
      "PDF at x = 1 : 0.24197072451914337\n"
     ]
    }
   ],
   "source": [
    "import math\n",
    "\n",
    "def normal_dist(x, mean, std_dev):\n",
    "    exp = -((x - mean) ** 2) / (2 * std_dev ** 2)\n",
    "    coef = 1 / (math.sqrt(2 * math.pi) * std_dev)\n",
    "    return coef * math.exp(exp)\n",
    "\n",
    "mean = 0\n",
    "std_dev = 1\n",
    "x = 1\n",
    "pdf_value = normal_dist(x, mean, std_dev)\n",
    "print(\"PDF at x =\", x, \":\", pdf_value)"
   ]
  },
  {
   "cell_type": "markdown",
   "id": "e3a427ee-ab5b-47da-8598-49dc9946acfb",
   "metadata": {},
   "source": [
    "Q4. What are the properties of Binomial distribution? Give two examples of events where binomial\n",
    "distribution can be applied."
   ]
  },
  {
   "cell_type": "raw",
   "id": "3c125352-994f-4343-8361-0d9f368b5b5e",
   "metadata": {},
   "source": [
    "Binomial distribution works for discrete data (binary data).\n",
    "\n",
    "Due to discrete data, we use PMF (Probability Mass Function)\n",
    "\n",
    "Ex: Forecasting whether it will rain or not, Prediction whether match will be played or not. "
   ]
  },
  {
   "cell_type": "markdown",
   "id": "b283af5d-6a9e-4b2f-bb3c-029621f38e6c",
   "metadata": {},
   "source": [
    "Q5. Generate a random sample of size 1000 from a binomial distribution with probability of success 0.4\n",
    "and plot a histogram of the results using matplotlib."
   ]
  },
  {
   "cell_type": "code",
   "execution_count": 9,
   "id": "02baf486-c1c1-474e-8a51-4f967c07ff80",
   "metadata": {},
   "outputs": [],
   "source": [
    "import numpy as np\n",
    "import matplotlib.pyplot as plt"
   ]
  },
  {
   "cell_type": "code",
   "execution_count": 10,
   "id": "a31ec164-e624-40e5-bf11-1c425cd58079",
   "metadata": {},
   "outputs": [],
   "source": [
    "bino_dist = np.random.binomial(1,0.4,1000)"
   ]
  },
  {
   "cell_type": "code",
   "execution_count": 11,
   "id": "b5da6718-2a09-4a13-a807-c1176a1735bf",
   "metadata": {},
   "outputs": [
    {
     "data": {
      "text/plain": [
       "1000"
      ]
     },
     "execution_count": 11,
     "metadata": {},
     "output_type": "execute_result"
    }
   ],
   "source": [
    "len(bino_dist)"
   ]
  },
  {
   "cell_type": "code",
   "execution_count": 12,
   "id": "13d09482-e3cd-40cc-b597-19e841c782f8",
   "metadata": {},
   "outputs": [
    {
     "data": {
      "image/png": "[encoded data removed]",
      "text/plain": [
       "<Figure size 640x480 with 1 Axes>"
      ]
     },
     "metadata": {},
     "output_type": "display_data"
    }
   ],
   "source": [
    "plt.hist(bino_dist, bins=2, color='skyblue', edgecolor='black')\n",
    "plt.title('Histogram of Binomial Distribution')\n",
    "plt.xlabel('Outcome')\n",
    "plt.ylabel('Frequency')\n",
    "plt.xticks([0, 1], ['Failure', 'Success'])\n",
    "plt.show()"
   ]
  },
  {
   "cell_type": "markdown",
   "id": "33e31797-c195-411c-b397-4e3ddd414c75",
   "metadata": {},
   "source": [
    "Q6. Write a Python function to calculate the cumulative distribution function of a Poisson distribution\n",
    "with given mean at a given point."
   ]
  },
  {
   "cell_type": "code",
   "execution_count": 14,
   "id": "049e784e-097f-4d4d-9fe2-c704c2208879",
   "metadata": {},
   "outputs": [
    {
     "name": "stdout",
     "output_type": "stream",
     "text": [
      "CDF at k = 5 : 0.9160820579686966\n"
     ]
    }
   ],
   "source": [
    "import math\n",
    "\n",
    "def poisson(k, mean):\n",
    "    cdf = 0\n",
    "    for i in range(k + 1):\n",
    "        cdf += math.exp(-mean) * (mean ** i) / math.factorial(i)\n",
    "    return cdf\n",
    "\n",
    "mean = 3\n",
    "point = 5\n",
    "cdf_value = poisson(point, mean)\n",
    "print(\"CDF at k =\", point, \":\", cdf_value)"
   ]
  },
  {
   "cell_type": "markdown",
   "id": "9283f6c8-0fa5-4c69-9f4a-2484e39f9ba7",
   "metadata": {},
   "source": [
    "Q7. How Binomial distribution different from Poisson distribution?"
   ]
  },
  {
   "cell_type": "raw",
   "id": "39633e95-962d-44a9-9133-be9b52a6a970",
   "metadata": {},
   "source": [
    "Binomial distribution describes number of success in a fixed number of independent trials, where each trial has a constant probability of success.\n",
    "\n",
    "Example: Tossing a coin 100 times and representing head as success. Here, N=100 and p(head) = 0.5 \n",
    "\n",
    "Poisson Distribution describes number of events occurring within a fixed time interval, provided that events occurs independently at a constant rate.\n",
    "\n",
    "Example: Number of patients coming to hospital every hour"
   ]
  },
  {
   "cell_type": "markdown",
   "id": "7a837873-3613-4142-ad73-d38f358ad911",
   "metadata": {},
   "source": [
    "Q8. Generate a random sample of size 1000 from a Poisson distribution with mean 5 and calculate the\n",
    "sample mean and variance."
   ]
  },
  {
   "cell_type": "code",
   "execution_count": 15,
   "id": "5364a959-16c2-4de5-bcef-14e5f9e3640e",
   "metadata": {},
   "outputs": [],
   "source": [
    "dist = np.random.poisson(lam=5,size=1000)"
   ]
  },
  {
   "cell_type": "code",
   "execution_count": 16,
   "id": "6decec06-42ec-47a8-bb5f-5a750341f9cb",
   "metadata": {},
   "outputs": [
    {
     "data": {
      "text/plain": [
       "4.884"
      ]
     },
     "execution_count": 16,
     "metadata": {},
     "output_type": "execute_result"
    }
   ],
   "source": [
    "dist.mean()"
   ]
  },
  {
   "cell_type": "code",
   "execution_count": 17,
   "id": "6d747abc-09a1-49dc-9150-95d05b7a1775",
   "metadata": {},
   "outputs": [
    {
     "data": {
      "text/plain": [
       "4.824544"
      ]
     },
     "execution_count": 17,
     "metadata": {},
     "output_type": "execute_result"
    }
   ],
   "source": [
    "dist.var()"
   ]
  },
  {
   "cell_type": "markdown",
   "id": "a7ec73b2-ac1c-4880-a17d-e1ca952bb328",
   "metadata": {},
   "source": [
    "Q9. How mean and variance are related in Binomial distribution and Poisson distribution?"
   ]
  },
  {
   "cell_type": "raw",
   "id": "9b62de07-bd6b-4300-adf4-3f1fdd54ebe6",
   "metadata": {},
   "source": [
    "Binomial Distribution:\n",
    "\n",
    "    mean = np\n",
    "    var = npq\n",
    "    \n",
    "Poisson Distribution:\n",
    "    \n",
    "    mean = lambda*t\n",
    "    var = lambda*t"
   ]
  },
  {
   "cell_type": "markdown",
   "id": "3bd9f363-4d5b-491b-9fd4-8a0ac1492279",
   "metadata": {},
   "source": [
    "Q10. In normal distribution with respect to mean position, where does the least frequent data appear?"
   ]
  },
  {
   "cell_type": "raw",
   "id": "8b4bc881-e3af-4026-8d4b-648193e34911",
   "metadata": {},
   "source": [
    "As we know we have a symmetric curve in normal distribution which means most of the data is present near the mean value. Any such value which is least frequent will be obviously located farthest from the mean. So, least frequent values will always be away from the mean."
   ]
  },
  {
   "cell_type": "code",
   "execution_count": null,
   "id": "af49c148-552d-4bee-9327-da58bfcb3959",
   "metadata": {},
   "outputs": [],
   "source": []
  }
 ],
 "metadata": {
  "kernelspec": {
   "display_name": "Python 3 (ipykernel)",
   "language": "python",
   "name": "python3"
  },
  "language_info": {
   "codemirror_mode": {
    "name": "ipython",
    "version": 3
   },
   "file_extension": ".py",
   "mimetype": "text/x-python",
   "name": "python",
   "nbconvert_exporter": "python",
   "pygments_lexer": "ipython3",
   "version": "3.10.8"
  }
 },
 "nbformat": 4,
 "nbformat_minor": 5
}
